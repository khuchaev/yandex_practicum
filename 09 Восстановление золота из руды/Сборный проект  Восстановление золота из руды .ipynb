{
 "cells": [
  {
   "cell_type": "markdown",
   "metadata": {
    "toc": true
   },
   "source": [
    "<h1>Содержание<span class=\"tocSkip\"></span></h1>\n",
    "<div class=\"toc\"><ul class=\"toc-item\"><li><span><a href=\"#Подготовка-данных\" data-toc-modified-id=\"Подготовка-данных-1\"><span class=\"toc-item-num\">1&nbsp;&nbsp;</span>Подготовка данных</a></span><ul class=\"toc-item\"><li><span><a href=\"#Проверка-эффективности-обогащения\" data-toc-modified-id=\"Проверка-эффективности-обогащения-1.1\"><span class=\"toc-item-num\">1.1&nbsp;&nbsp;</span>Проверка эффективности обогащения</a></span></li><li><span><a href=\"#Обработка-данных\" data-toc-modified-id=\"Обработка-данных-1.2\"><span class=\"toc-item-num\">1.2&nbsp;&nbsp;</span>Обработка данных</a></span></li><li><span><a href=\"#Заполнение-пропусков\" data-toc-modified-id=\"Заполнение-пропусков-1.3\"><span class=\"toc-item-num\">1.3&nbsp;&nbsp;</span>Заполнение пропусков</a></span></li><li><span><a href=\"#Вывод\" data-toc-modified-id=\"Вывод-1.4\"><span class=\"toc-item-num\">1.4&nbsp;&nbsp;</span>Вывод</a></span></li></ul></li><li><span><a href=\"#Анализ-данных\" data-toc-modified-id=\"Анализ-данных-2\"><span class=\"toc-item-num\">2&nbsp;&nbsp;</span>Анализ данных</a></span><ul class=\"toc-item\"><li><span><a href=\"#Изменение-концентрация-металлов-(Au,-Ag,-Pb)-на-различных-этапах\" data-toc-modified-id=\"Изменение-концентрация-металлов-(Au,-Ag,-Pb)-на-различных-этапах-2.1\"><span class=\"toc-item-num\">2.1&nbsp;&nbsp;</span>Изменение концентрация металлов (Au, Ag, Pb) на различных этапах</a></span></li><li><span><a href=\"#Сравнение-распределения-размеров-гранул-исходного-сырья-на-обучающей-и-тестовой-выборке\" data-toc-modified-id=\"Сравнение-распределения-размеров-гранул-исходного-сырья-на-обучающей-и-тестовой-выборке-2.2\"><span class=\"toc-item-num\">2.2&nbsp;&nbsp;</span>Сравнение распределения размеров гранул исходного сырья на обучающей и тестовой выборке</a></span></li><li><span><a href=\"#Исследование-суммарной-концентрации-металлов-на-разных-стадиях\" data-toc-modified-id=\"Исследование-суммарной-концентрации-металлов-на-разных-стадиях-2.3\"><span class=\"toc-item-num\">2.3&nbsp;&nbsp;</span>Исследование суммарной концентрации металлов на разных стадиях</a></span></li><li><span><a href=\"#Вывод\" data-toc-modified-id=\"Вывод-2.4\"><span class=\"toc-item-num\">2.4&nbsp;&nbsp;</span>Вывод</a></span></li></ul></li><li><span><a href=\"#Модель\" data-toc-modified-id=\"Модель-3\"><span class=\"toc-item-num\">3&nbsp;&nbsp;</span>Модель</a></span><ul class=\"toc-item\"><li><span><a href=\"#Подготовка-выборок\" data-toc-modified-id=\"Подготовка-выборок-3.1\"><span class=\"toc-item-num\">3.1&nbsp;&nbsp;</span>Подготовка выборок</a></span></li><li><span><a href=\"#Напишим-функции-для-вычисления-итоговой-sMAPE.\" data-toc-modified-id=\"Напишим-функции-для-вычисления-итоговой-sMAPE.-3.2\"><span class=\"toc-item-num\">3.2&nbsp;&nbsp;</span>Напишим функции для вычисления итоговой sMAPE.</a></span></li><li><span><a href=\"#Модель-дерева-решений\" data-toc-modified-id=\"Модель-дерева-решений-3.3\"><span class=\"toc-item-num\">3.3&nbsp;&nbsp;</span>Модель дерева решений</a></span></li><li><span><a href=\"#Модель-случайного-леса\" data-toc-modified-id=\"Модель-случайного-леса-3.4\"><span class=\"toc-item-num\">3.4&nbsp;&nbsp;</span>Модель случайного леса</a></span></li><li><span><a href=\"#Линейная-регрессия\" data-toc-modified-id=\"Линейная-регрессия-3.5\"><span class=\"toc-item-num\">3.5&nbsp;&nbsp;</span>Линейная регрессия</a></span></li><li><span><a href=\"#Проверка-лучшей-модели\" data-toc-modified-id=\"Проверка-лучшей-модели-3.6\"><span class=\"toc-item-num\">3.6&nbsp;&nbsp;</span>Проверка лучшей модели</a></span></li><li><span><a href=\"#Проверка-модели-на-адекватность\" data-toc-modified-id=\"Проверка-модели-на-адекватность-3.7\"><span class=\"toc-item-num\">3.7&nbsp;&nbsp;</span>Проверка модели на адекватность</a></span></li></ul></li><li><span><a href=\"#Заключение\" data-toc-modified-id=\"Заключение-4\"><span class=\"toc-item-num\">4&nbsp;&nbsp;</span>Заключение</a></span></li><li><span><a href=\"#Чек-лист-готовности-проекта\" data-toc-modified-id=\"Чек-лист-готовности-проекта-5\"><span class=\"toc-item-num\">5&nbsp;&nbsp;</span>Чек-лист готовности проекта</a></span></li></ul></div>"
   ]
  },
  {
   "cell_type": "markdown",
   "metadata": {},
   "source": [
    "# Восстановление золота из руды"
   ]
  },
  {
   "cell_type": "markdown",
   "metadata": {},
   "source": [
    "Подготовьте прототип модели машинного обучения для «Цифры». Компания разрабатывает решения для эффективной работы промышленных предприятий.\n",
    "\n",
    "Модель должна предсказать коэффициент восстановления золота из золотосодержащей руды. Используйте данные с параметрами добычи и очистки. \n",
    "\n",
    "Модель поможет оптимизировать производство, чтобы не запускать предприятие с убыточными характеристиками.\n",
    "\n",
    "Вам нужно:\n",
    "\n",
    "1. Подготовить данные;\n",
    "2. Провести исследовательский анализ данных;\n",
    "3. Построить и обучить модель.\n",
    "\n",
    "Чтобы выполнить проект, обращайтесь к библиотекам *pandas*, *matplotlib* и *sklearn.* Вам поможет их документация."
   ]
  },
  {
   "cell_type": "markdown",
   "metadata": {},
   "source": [
    "## Подготовка данных"
   ]
  },
  {
   "cell_type": "code",
   "execution_count": 66,
   "metadata": {},
   "outputs": [],
   "source": [
    "# импортируем библиотеки\n",
    "import pandas as pd\n",
    "import numpy as np\n",
    "import matplotlib.pyplot as plt\n",
    "from sklearn.linear_model import LinearRegression\n",
    "from sklearn.tree import DecisionTreeRegressor\n",
    "from sklearn.ensemble import RandomForestRegressor\n",
    "from sklearn.preprocessing import StandardScaler\n",
    "from sklearn.dummy import DummyRegressor\n",
    "from sklearn.metrics import (make_scorer,\n",
    "                             mean_absolute_error)\n",
    "from sklearn.model_selection import (cross_val_score,\n",
    "                                     GridSearchCV)"
   ]
  },
  {
   "cell_type": "code",
   "execution_count": 67,
   "metadata": {},
   "outputs": [],
   "source": [
    "# Сохраним данные\n",
    "data_train = pd.read_csv('/datasets/gold_industry_train.csv')\n",
    "data_test = pd.read_csv('/datasets/gold_industry_test.csv')\n",
    "data_full = pd.read_csv('/datasets/gold_industry_full.csv')\n",
    "data = [data_train, data_test, data_full]"
   ]
  },
  {
   "cell_type": "code",
   "execution_count": 68,
   "metadata": {},
   "outputs": [],
   "source": [
    "# Созадим функцию для анализа таблиц\n",
    "def analysis(data):\n",
    "    print(100*'-')\n",
    "    print('Общая информамия:')\n",
    "    print(data.info())\n",
    "    \n",
    "    print('Первые 5 строк')\n",
    "    display(data.head(5))\n",
    "    \n",
    "    print('Количество пропусков')\n",
    "    print(data.isnull().sum())\n",
    "    \n",
    "    print('Количество дубликатов:')\n",
    "    display(data.duplicated().sum())\n",
    "    \n",
    "    print('Статистические данные')\n",
    "    display(data.describe())\n",
    "    "
   ]
  },
  {
   "cell_type": "code",
   "execution_count": 69,
   "metadata": {},
   "outputs": [
    {
     "name": "stdout",
     "output_type": "stream",
     "text": [
      "----------------------------------------------------------------------------------------------------\n",
      "Общая информамия:\n",
      "<class 'pandas.core.frame.DataFrame'>\n",
      "RangeIndex: 14579 entries, 0 to 14578\n",
      "Data columns (total 87 columns):\n",
      " #   Column                                              Non-Null Count  Dtype  \n",
      "---  ------                                              --------------  -----  \n",
      " 0   date                                                14579 non-null  object \n",
      " 1   rougher.input.feed_au                               14579 non-null  float64\n",
      " 2   rougher.input.feed_ag                               14579 non-null  float64\n",
      " 3   rougher.input.feed_pb                               14507 non-null  float64\n",
      " 4   rougher.input.feed_sol                              14502 non-null  float64\n",
      " 5   rougher.input.feed_rate                             14572 non-null  float64\n",
      " 6   rougher.input.feed_size                             14478 non-null  float64\n",
      " 7   rougher.input.floatbank10_sulfate                   14548 non-null  float64\n",
      " 8   rougher.input.floatbank10_xanthate                  14572 non-null  float64\n",
      " 9   rougher.state.floatbank10_a_air                     14579 non-null  float64\n",
      " 10  rougher.state.floatbank10_a_level                   14579 non-null  float64\n",
      " 11  rougher.state.floatbank10_b_air                     14579 non-null  float64\n",
      " 12  rougher.state.floatbank10_b_level                   14579 non-null  float64\n",
      " 13  rougher.state.floatbank10_c_air                     14579 non-null  float64\n",
      " 14  rougher.state.floatbank10_c_level                   14579 non-null  float64\n",
      " 15  rougher.state.floatbank10_d_air                     14579 non-null  float64\n",
      " 16  rougher.state.floatbank10_d_level                   14579 non-null  float64\n",
      " 17  rougher.state.floatbank10_e_air                     14150 non-null  float64\n",
      " 18  rougher.state.floatbank10_e_level                   14579 non-null  float64\n",
      " 19  rougher.state.floatbank10_f_air                     14579 non-null  float64\n",
      " 20  rougher.state.floatbank10_f_level                   14579 non-null  float64\n",
      " 21  rougher.input.floatbank11_sulfate                   14543 non-null  float64\n",
      " 22  rougher.input.floatbank11_xanthate                  14172 non-null  float64\n",
      " 23  rougher.calculation.sulfate_to_au_concentrate       14578 non-null  float64\n",
      " 24  rougher.calculation.floatbank10_sulfate_to_au_feed  14578 non-null  float64\n",
      " 25  rougher.calculation.floatbank11_sulfate_to_au_feed  14578 non-null  float64\n",
      " 26  rougher.calculation.au_pb_ratio                     14579 non-null  float64\n",
      " 27  rougher.output.concentrate_au                       14579 non-null  float64\n",
      " 28  rougher.output.concentrate_ag                       14579 non-null  float64\n",
      " 29  rougher.output.concentrate_pb                       14579 non-null  float64\n",
      " 30  rougher.output.concentrate_sol                      14561 non-null  float64\n",
      " 31  rougher.output.recovery                             14579 non-null  float64\n",
      " 32  rougher.output.tail_au                              14579 non-null  float64\n",
      " 33  rougher.output.tail_ag                              14578 non-null  float64\n",
      " 34  rougher.output.tail_pb                              14579 non-null  float64\n",
      " 35  rougher.output.tail_sol                             14579 non-null  float64\n",
      " 36  primary_cleaner.input.sulfate                       14556 non-null  float64\n",
      " 37  primary_cleaner.input.depressant                    14551 non-null  float64\n",
      " 38  primary_cleaner.input.feed_size                     14579 non-null  float64\n",
      " 39  primary_cleaner.input.xanthate                      14518 non-null  float64\n",
      " 40  primary_cleaner.state.floatbank8_a_air              14576 non-null  float64\n",
      " 41  primary_cleaner.state.floatbank8_a_level            14579 non-null  float64\n",
      " 42  primary_cleaner.state.floatbank8_b_air              14576 non-null  float64\n",
      " 43  primary_cleaner.state.floatbank8_b_level            14579 non-null  float64\n",
      " 44  primary_cleaner.state.floatbank8_c_air              14579 non-null  float64\n",
      " 45  primary_cleaner.state.floatbank8_c_level            14579 non-null  float64\n",
      " 46  primary_cleaner.state.floatbank8_d_air              14578 non-null  float64\n",
      " 47  primary_cleaner.state.floatbank8_d_level            14579 non-null  float64\n",
      " 48  primary_cleaner.output.concentrate_au               14579 non-null  float64\n",
      " 49  primary_cleaner.output.concentrate_ag               14579 non-null  float64\n",
      " 50  primary_cleaner.output.concentrate_pb               14491 non-null  float64\n",
      " 51  primary_cleaner.output.concentrate_sol              14314 non-null  float64\n",
      " 52  primary_cleaner.output.tail_au                      14579 non-null  float64\n",
      " 53  primary_cleaner.output.tail_ag                      14575 non-null  float64\n",
      " 54  primary_cleaner.output.tail_pb                      14573 non-null  float64\n",
      " 55  primary_cleaner.output.tail_sol                     14534 non-null  float64\n",
      " 56  secondary_cleaner.state.floatbank2_a_air            14485 non-null  float64\n",
      " 57  secondary_cleaner.state.floatbank2_a_level          14579 non-null  float64\n",
      " 58  secondary_cleaner.state.floatbank2_b_air            14557 non-null  float64\n",
      " 59  secondary_cleaner.state.floatbank2_b_level          14579 non-null  float64\n",
      " 60  secondary_cleaner.state.floatbank3_a_air            14567 non-null  float64\n",
      " 61  secondary_cleaner.state.floatbank3_a_level          14579 non-null  float64\n",
      " 62  secondary_cleaner.state.floatbank3_b_air            14579 non-null  float64\n",
      " 63  secondary_cleaner.state.floatbank3_b_level          14579 non-null  float64\n",
      " 64  secondary_cleaner.state.floatbank4_a_air            14574 non-null  float64\n",
      " 65  secondary_cleaner.state.floatbank4_a_level          14579 non-null  float64\n",
      " 66  secondary_cleaner.state.floatbank4_b_air            14579 non-null  float64\n",
      " 67  secondary_cleaner.state.floatbank4_b_level          14579 non-null  float64\n",
      " 68  secondary_cleaner.state.floatbank5_a_air            14579 non-null  float64\n",
      " 69  secondary_cleaner.state.floatbank5_a_level          14579 non-null  float64\n",
      " 70  secondary_cleaner.state.floatbank5_b_air            14579 non-null  float64\n",
      " 71  secondary_cleaner.state.floatbank5_b_level          14579 non-null  float64\n",
      " 72  secondary_cleaner.state.floatbank6_a_air            14578 non-null  float64\n",
      " 73  secondary_cleaner.state.floatbank6_a_level          14579 non-null  float64\n",
      " 74  secondary_cleaner.output.tail_au                    14579 non-null  float64\n",
      " 75  secondary_cleaner.output.tail_ag                    14578 non-null  float64\n",
      " 76  secondary_cleaner.output.tail_pb                    14575 non-null  float64\n",
      " 77  secondary_cleaner.output.tail_sol                   13659 non-null  float64\n",
      " 78  final.output.concentrate_au                         14579 non-null  float64\n",
      " 79  final.output.concentrate_ag                         14578 non-null  float64\n",
      " 80  final.output.concentrate_pb                         14578 non-null  float64\n",
      " 81  final.output.concentrate_sol                        14387 non-null  float64\n",
      " 82  final.output.recovery                               14579 non-null  float64\n",
      " 83  final.output.tail_au                                14579 non-null  float64\n",
      " 84  final.output.tail_ag                                14578 non-null  float64\n",
      " 85  final.output.tail_pb                                14504 non-null  float64\n",
      " 86  final.output.tail_sol                               14574 non-null  float64\n",
      "dtypes: float64(86), object(1)\n",
      "memory usage: 9.7+ MB\n",
      "None\n",
      "Первые 5 строк\n"
     ]
    },
    {
     "data": {
      "text/html": [
       "<div>\n",
       "<style scoped>\n",
       "    .dataframe tbody tr th:only-of-type {\n",
       "        vertical-align: middle;\n",
       "    }\n",
       "\n",
       "    .dataframe tbody tr th {\n",
       "        vertical-align: top;\n",
       "    }\n",
       "\n",
       "    .dataframe thead th {\n",
       "        text-align: right;\n",
       "    }\n",
       "</style>\n",
       "<table border=\"1\" class=\"dataframe\">\n",
       "  <thead>\n",
       "    <tr style=\"text-align: right;\">\n",
       "      <th></th>\n",
       "      <th>date</th>\n",
       "      <th>rougher.input.feed_au</th>\n",
       "      <th>rougher.input.feed_ag</th>\n",
       "      <th>rougher.input.feed_pb</th>\n",
       "      <th>rougher.input.feed_sol</th>\n",
       "      <th>rougher.input.feed_rate</th>\n",
       "      <th>rougher.input.feed_size</th>\n",
       "      <th>rougher.input.floatbank10_sulfate</th>\n",
       "      <th>rougher.input.floatbank10_xanthate</th>\n",
       "      <th>rougher.state.floatbank10_a_air</th>\n",
       "      <th>...</th>\n",
       "      <th>secondary_cleaner.output.tail_sol</th>\n",
       "      <th>final.output.concentrate_au</th>\n",
       "      <th>final.output.concentrate_ag</th>\n",
       "      <th>final.output.concentrate_pb</th>\n",
       "      <th>final.output.concentrate_sol</th>\n",
       "      <th>final.output.recovery</th>\n",
       "      <th>final.output.tail_au</th>\n",
       "      <th>final.output.tail_ag</th>\n",
       "      <th>final.output.tail_pb</th>\n",
       "      <th>final.output.tail_sol</th>\n",
       "    </tr>\n",
       "  </thead>\n",
       "  <tbody>\n",
       "    <tr>\n",
       "      <th>0</th>\n",
       "      <td>2016-01-15 00:00:00</td>\n",
       "      <td>6.486150</td>\n",
       "      <td>6.100378</td>\n",
       "      <td>2.284912</td>\n",
       "      <td>36.808594</td>\n",
       "      <td>523.546326</td>\n",
       "      <td>55.486599</td>\n",
       "      <td>11.986616</td>\n",
       "      <td>6.007990</td>\n",
       "      <td>999.706909</td>\n",
       "      <td>...</td>\n",
       "      <td>8.764648</td>\n",
       "      <td>42.192020</td>\n",
       "      <td>6.055403</td>\n",
       "      <td>9.889648</td>\n",
       "      <td>5.507324</td>\n",
       "      <td>70.541216</td>\n",
       "      <td>2.143149</td>\n",
       "      <td>10.411962</td>\n",
       "      <td>0.895447</td>\n",
       "      <td>16.904297</td>\n",
       "    </tr>\n",
       "    <tr>\n",
       "      <th>1</th>\n",
       "      <td>2016-01-15 01:00:00</td>\n",
       "      <td>6.478583</td>\n",
       "      <td>6.161113</td>\n",
       "      <td>2.266033</td>\n",
       "      <td>35.753385</td>\n",
       "      <td>525.290581</td>\n",
       "      <td>57.278666</td>\n",
       "      <td>11.971193</td>\n",
       "      <td>6.005766</td>\n",
       "      <td>1000.286398</td>\n",
       "      <td>...</td>\n",
       "      <td>9.001494</td>\n",
       "      <td>42.701629</td>\n",
       "      <td>6.029369</td>\n",
       "      <td>9.968944</td>\n",
       "      <td>5.257781</td>\n",
       "      <td>69.266198</td>\n",
       "      <td>2.224930</td>\n",
       "      <td>10.462676</td>\n",
       "      <td>0.927452</td>\n",
       "      <td>16.634514</td>\n",
       "    </tr>\n",
       "    <tr>\n",
       "      <th>2</th>\n",
       "      <td>2016-01-15 02:00:00</td>\n",
       "      <td>6.362222</td>\n",
       "      <td>6.116455</td>\n",
       "      <td>2.159622</td>\n",
       "      <td>35.971630</td>\n",
       "      <td>530.026610</td>\n",
       "      <td>57.510649</td>\n",
       "      <td>11.920603</td>\n",
       "      <td>6.197377</td>\n",
       "      <td>999.719565</td>\n",
       "      <td>...</td>\n",
       "      <td>8.842896</td>\n",
       "      <td>42.657501</td>\n",
       "      <td>6.055926</td>\n",
       "      <td>10.213995</td>\n",
       "      <td>5.383759</td>\n",
       "      <td>68.116445</td>\n",
       "      <td>2.257889</td>\n",
       "      <td>10.507046</td>\n",
       "      <td>0.953716</td>\n",
       "      <td>16.208849</td>\n",
       "    </tr>\n",
       "    <tr>\n",
       "      <th>3</th>\n",
       "      <td>2016-01-15 03:00:00</td>\n",
       "      <td>6.118189</td>\n",
       "      <td>6.043309</td>\n",
       "      <td>2.037807</td>\n",
       "      <td>36.862241</td>\n",
       "      <td>542.590390</td>\n",
       "      <td>57.792734</td>\n",
       "      <td>11.630094</td>\n",
       "      <td>6.203177</td>\n",
       "      <td>999.814770</td>\n",
       "      <td>...</td>\n",
       "      <td>9.122857</td>\n",
       "      <td>42.689819</td>\n",
       "      <td>6.047977</td>\n",
       "      <td>9.977019</td>\n",
       "      <td>4.858634</td>\n",
       "      <td>68.347543</td>\n",
       "      <td>2.146849</td>\n",
       "      <td>10.422762</td>\n",
       "      <td>0.883763</td>\n",
       "      <td>16.532835</td>\n",
       "    </tr>\n",
       "    <tr>\n",
       "      <th>4</th>\n",
       "      <td>2016-01-15 04:00:00</td>\n",
       "      <td>5.663707</td>\n",
       "      <td>6.060915</td>\n",
       "      <td>1.786875</td>\n",
       "      <td>34.347666</td>\n",
       "      <td>540.531893</td>\n",
       "      <td>56.047189</td>\n",
       "      <td>10.957755</td>\n",
       "      <td>6.198826</td>\n",
       "      <td>999.678690</td>\n",
       "      <td>...</td>\n",
       "      <td>8.871028</td>\n",
       "      <td>42.774141</td>\n",
       "      <td>6.148599</td>\n",
       "      <td>10.142511</td>\n",
       "      <td>4.939416</td>\n",
       "      <td>66.927016</td>\n",
       "      <td>2.055292</td>\n",
       "      <td>10.360302</td>\n",
       "      <td>0.792826</td>\n",
       "      <td>16.525686</td>\n",
       "    </tr>\n",
       "  </tbody>\n",
       "</table>\n",
       "<p>5 rows × 87 columns</p>\n",
       "</div>"
      ],
      "text/plain": [
       "                  date  rougher.input.feed_au  rougher.input.feed_ag  \\\n",
       "0  2016-01-15 00:00:00               6.486150               6.100378   \n",
       "1  2016-01-15 01:00:00               6.478583               6.161113   \n",
       "2  2016-01-15 02:00:00               6.362222               6.116455   \n",
       "3  2016-01-15 03:00:00               6.118189               6.043309   \n",
       "4  2016-01-15 04:00:00               5.663707               6.060915   \n",
       "\n",
       "   rougher.input.feed_pb  rougher.input.feed_sol  rougher.input.feed_rate  \\\n",
       "0               2.284912               36.808594               523.546326   \n",
       "1               2.266033               35.753385               525.290581   \n",
       "2               2.159622               35.971630               530.026610   \n",
       "3               2.037807               36.862241               542.590390   \n",
       "4               1.786875               34.347666               540.531893   \n",
       "\n",
       "   rougher.input.feed_size  rougher.input.floatbank10_sulfate  \\\n",
       "0                55.486599                          11.986616   \n",
       "1                57.278666                          11.971193   \n",
       "2                57.510649                          11.920603   \n",
       "3                57.792734                          11.630094   \n",
       "4                56.047189                          10.957755   \n",
       "\n",
       "   rougher.input.floatbank10_xanthate  rougher.state.floatbank10_a_air  ...  \\\n",
       "0                            6.007990                       999.706909  ...   \n",
       "1                            6.005766                      1000.286398  ...   \n",
       "2                            6.197377                       999.719565  ...   \n",
       "3                            6.203177                       999.814770  ...   \n",
       "4                            6.198826                       999.678690  ...   \n",
       "\n",
       "   secondary_cleaner.output.tail_sol  final.output.concentrate_au  \\\n",
       "0                           8.764648                    42.192020   \n",
       "1                           9.001494                    42.701629   \n",
       "2                           8.842896                    42.657501   \n",
       "3                           9.122857                    42.689819   \n",
       "4                           8.871028                    42.774141   \n",
       "\n",
       "   final.output.concentrate_ag  final.output.concentrate_pb  \\\n",
       "0                     6.055403                     9.889648   \n",
       "1                     6.029369                     9.968944   \n",
       "2                     6.055926                    10.213995   \n",
       "3                     6.047977                     9.977019   \n",
       "4                     6.148599                    10.142511   \n",
       "\n",
       "   final.output.concentrate_sol  final.output.recovery  final.output.tail_au  \\\n",
       "0                      5.507324              70.541216              2.143149   \n",
       "1                      5.257781              69.266198              2.224930   \n",
       "2                      5.383759              68.116445              2.257889   \n",
       "3                      4.858634              68.347543              2.146849   \n",
       "4                      4.939416              66.927016              2.055292   \n",
       "\n",
       "   final.output.tail_ag  final.output.tail_pb  final.output.tail_sol  \n",
       "0             10.411962              0.895447              16.904297  \n",
       "1             10.462676              0.927452              16.634514  \n",
       "2             10.507046              0.953716              16.208849  \n",
       "3             10.422762              0.883763              16.532835  \n",
       "4             10.360302              0.792826              16.525686  \n",
       "\n",
       "[5 rows x 87 columns]"
      ]
     },
     "metadata": {},
     "output_type": "display_data"
    },
    {
     "name": "stdout",
     "output_type": "stream",
     "text": [
      "Количество пропусков\n",
      "date                       0\n",
      "rougher.input.feed_au      0\n",
      "rougher.input.feed_ag      0\n",
      "rougher.input.feed_pb     72\n",
      "rougher.input.feed_sol    77\n",
      "                          ..\n",
      "final.output.recovery      0\n",
      "final.output.tail_au       0\n",
      "final.output.tail_ag       1\n",
      "final.output.tail_pb      75\n",
      "final.output.tail_sol      5\n",
      "Length: 87, dtype: int64\n",
      "Количество дубликатов:\n"
     ]
    },
    {
     "data": {
      "text/plain": [
       "0"
      ]
     },
     "metadata": {},
     "output_type": "display_data"
    },
    {
     "name": "stdout",
     "output_type": "stream",
     "text": [
      "Статистические данные\n"
     ]
    },
    {
     "data": {
      "text/html": [
       "<div>\n",
       "<style scoped>\n",
       "    .dataframe tbody tr th:only-of-type {\n",
       "        vertical-align: middle;\n",
       "    }\n",
       "\n",
       "    .dataframe tbody tr th {\n",
       "        vertical-align: top;\n",
       "    }\n",
       "\n",
       "    .dataframe thead th {\n",
       "        text-align: right;\n",
       "    }\n",
       "</style>\n",
       "<table border=\"1\" class=\"dataframe\">\n",
       "  <thead>\n",
       "    <tr style=\"text-align: right;\">\n",
       "      <th></th>\n",
       "      <th>rougher.input.feed_au</th>\n",
       "      <th>rougher.input.feed_ag</th>\n",
       "      <th>rougher.input.feed_pb</th>\n",
       "      <th>rougher.input.feed_sol</th>\n",
       "      <th>rougher.input.feed_rate</th>\n",
       "      <th>rougher.input.feed_size</th>\n",
       "      <th>rougher.input.floatbank10_sulfate</th>\n",
       "      <th>rougher.input.floatbank10_xanthate</th>\n",
       "      <th>rougher.state.floatbank10_a_air</th>\n",
       "      <th>rougher.state.floatbank10_a_level</th>\n",
       "      <th>...</th>\n",
       "      <th>secondary_cleaner.output.tail_sol</th>\n",
       "      <th>final.output.concentrate_au</th>\n",
       "      <th>final.output.concentrate_ag</th>\n",
       "      <th>final.output.concentrate_pb</th>\n",
       "      <th>final.output.concentrate_sol</th>\n",
       "      <th>final.output.recovery</th>\n",
       "      <th>final.output.tail_au</th>\n",
       "      <th>final.output.tail_ag</th>\n",
       "      <th>final.output.tail_pb</th>\n",
       "      <th>final.output.tail_sol</th>\n",
       "    </tr>\n",
       "  </thead>\n",
       "  <tbody>\n",
       "    <tr>\n",
       "      <th>count</th>\n",
       "      <td>14579.000000</td>\n",
       "      <td>14579.000000</td>\n",
       "      <td>14507.000000</td>\n",
       "      <td>14502.000000</td>\n",
       "      <td>14572.000000</td>\n",
       "      <td>14478.000000</td>\n",
       "      <td>14548.000000</td>\n",
       "      <td>14572.000000</td>\n",
       "      <td>14579.000000</td>\n",
       "      <td>14579.000000</td>\n",
       "      <td>...</td>\n",
       "      <td>13659.000000</td>\n",
       "      <td>14579.000000</td>\n",
       "      <td>14578.000000</td>\n",
       "      <td>14578.000000</td>\n",
       "      <td>14387.000000</td>\n",
       "      <td>14579.000000</td>\n",
       "      <td>14579.000000</td>\n",
       "      <td>14578.000000</td>\n",
       "      <td>14504.000000</td>\n",
       "      <td>14574.000000</td>\n",
       "    </tr>\n",
       "    <tr>\n",
       "      <th>mean</th>\n",
       "      <td>8.352941</td>\n",
       "      <td>8.877460</td>\n",
       "      <td>3.604221</td>\n",
       "      <td>36.561420</td>\n",
       "      <td>474.332784</td>\n",
       "      <td>58.922712</td>\n",
       "      <td>12.427399</td>\n",
       "      <td>5.994854</td>\n",
       "      <td>1104.208278</td>\n",
       "      <td>-379.367166</td>\n",
       "      <td>...</td>\n",
       "      <td>7.111347</td>\n",
       "      <td>43.979499</td>\n",
       "      <td>5.192145</td>\n",
       "      <td>9.923809</td>\n",
       "      <td>9.566676</td>\n",
       "      <td>66.759066</td>\n",
       "      <td>3.087939</td>\n",
       "      <td>9.731972</td>\n",
       "      <td>2.719985</td>\n",
       "      <td>10.612745</td>\n",
       "    </tr>\n",
       "    <tr>\n",
       "      <th>std</th>\n",
       "      <td>1.934376</td>\n",
       "      <td>1.922536</td>\n",
       "      <td>1.056063</td>\n",
       "      <td>5.209823</td>\n",
       "      <td>108.503552</td>\n",
       "      <td>22.407410</td>\n",
       "      <td>3.428939</td>\n",
       "      <td>1.152873</td>\n",
       "      <td>162.235606</td>\n",
       "      <td>94.652311</td>\n",
       "      <td>...</td>\n",
       "      <td>3.909951</td>\n",
       "      <td>5.471437</td>\n",
       "      <td>1.388014</td>\n",
       "      <td>1.706976</td>\n",
       "      <td>2.805654</td>\n",
       "      <td>10.619709</td>\n",
       "      <td>0.915187</td>\n",
       "      <td>2.358143</td>\n",
       "      <td>0.958929</td>\n",
       "      <td>2.871075</td>\n",
       "    </tr>\n",
       "    <tr>\n",
       "      <th>min</th>\n",
       "      <td>0.010000</td>\n",
       "      <td>0.010000</td>\n",
       "      <td>0.010000</td>\n",
       "      <td>0.010000</td>\n",
       "      <td>0.002986</td>\n",
       "      <td>0.049194</td>\n",
       "      <td>0.001083</td>\n",
       "      <td>0.000568</td>\n",
       "      <td>-0.042069</td>\n",
       "      <td>-657.949759</td>\n",
       "      <td>...</td>\n",
       "      <td>0.000000</td>\n",
       "      <td>0.000000</td>\n",
       "      <td>0.000000</td>\n",
       "      <td>0.000000</td>\n",
       "      <td>0.000000</td>\n",
       "      <td>0.000000</td>\n",
       "      <td>0.000000</td>\n",
       "      <td>0.000000</td>\n",
       "      <td>0.000000</td>\n",
       "      <td>0.000000</td>\n",
       "    </tr>\n",
       "    <tr>\n",
       "      <th>25%</th>\n",
       "      <td>6.932996</td>\n",
       "      <td>7.341922</td>\n",
       "      <td>2.880490</td>\n",
       "      <td>34.093951</td>\n",
       "      <td>411.048483</td>\n",
       "      <td>47.278490</td>\n",
       "      <td>10.002832</td>\n",
       "      <td>5.304167</td>\n",
       "      <td>999.644856</td>\n",
       "      <td>-499.861797</td>\n",
       "      <td>...</td>\n",
       "      <td>3.784897</td>\n",
       "      <td>43.345906</td>\n",
       "      <td>4.283347</td>\n",
       "      <td>9.103183</td>\n",
       "      <td>7.860030</td>\n",
       "      <td>63.114596</td>\n",
       "      <td>2.505287</td>\n",
       "      <td>8.088928</td>\n",
       "      <td>2.036512</td>\n",
       "      <td>9.013412</td>\n",
       "    </tr>\n",
       "    <tr>\n",
       "      <th>50%</th>\n",
       "      <td>8.225284</td>\n",
       "      <td>8.715859</td>\n",
       "      <td>3.532399</td>\n",
       "      <td>37.097511</td>\n",
       "      <td>498.187968</td>\n",
       "      <td>54.361187</td>\n",
       "      <td>12.003320</td>\n",
       "      <td>6.003053</td>\n",
       "      <td>1000.982624</td>\n",
       "      <td>-300.314199</td>\n",
       "      <td>...</td>\n",
       "      <td>7.629968</td>\n",
       "      <td>44.975014</td>\n",
       "      <td>5.118647</td>\n",
       "      <td>10.046455</td>\n",
       "      <td>9.301970</td>\n",
       "      <td>67.962788</td>\n",
       "      <td>3.029238</td>\n",
       "      <td>9.818512</td>\n",
       "      <td>2.774847</td>\n",
       "      <td>10.670515</td>\n",
       "    </tr>\n",
       "    <tr>\n",
       "      <th>75%</th>\n",
       "      <td>9.832210</td>\n",
       "      <td>10.255843</td>\n",
       "      <td>4.257282</td>\n",
       "      <td>39.899799</td>\n",
       "      <td>549.586552</td>\n",
       "      <td>64.464926</td>\n",
       "      <td>14.929903</td>\n",
       "      <td>6.796632</td>\n",
       "      <td>1292.663971</td>\n",
       "      <td>-299.989315</td>\n",
       "      <td>...</td>\n",
       "      <td>10.367050</td>\n",
       "      <td>46.275153</td>\n",
       "      <td>5.925380</td>\n",
       "      <td>10.981203</td>\n",
       "      <td>11.001573</td>\n",
       "      <td>72.598187</td>\n",
       "      <td>3.614098</td>\n",
       "      <td>11.169187</td>\n",
       "      <td>3.353845</td>\n",
       "      <td>12.130827</td>\n",
       "    </tr>\n",
       "    <tr>\n",
       "      <th>max</th>\n",
       "      <td>13.731330</td>\n",
       "      <td>14.596026</td>\n",
       "      <td>7.052325</td>\n",
       "      <td>53.475325</td>\n",
       "      <td>717.508837</td>\n",
       "      <td>484.967466</td>\n",
       "      <td>36.118275</td>\n",
       "      <td>9.703448</td>\n",
       "      <td>1512.299531</td>\n",
       "      <td>-273.776101</td>\n",
       "      <td>...</td>\n",
       "      <td>26.000772</td>\n",
       "      <td>52.756638</td>\n",
       "      <td>16.001945</td>\n",
       "      <td>16.705297</td>\n",
       "      <td>19.423912</td>\n",
       "      <td>100.000000</td>\n",
       "      <td>8.245022</td>\n",
       "      <td>19.552149</td>\n",
       "      <td>5.804178</td>\n",
       "      <td>22.317730</td>\n",
       "    </tr>\n",
       "  </tbody>\n",
       "</table>\n",
       "<p>8 rows × 86 columns</p>\n",
       "</div>"
      ],
      "text/plain": [
       "       rougher.input.feed_au  rougher.input.feed_ag  rougher.input.feed_pb  \\\n",
       "count           14579.000000           14579.000000           14507.000000   \n",
       "mean                8.352941               8.877460               3.604221   \n",
       "std                 1.934376               1.922536               1.056063   \n",
       "min                 0.010000               0.010000               0.010000   \n",
       "25%                 6.932996               7.341922               2.880490   \n",
       "50%                 8.225284               8.715859               3.532399   \n",
       "75%                 9.832210              10.255843               4.257282   \n",
       "max                13.731330              14.596026               7.052325   \n",
       "\n",
       "       rougher.input.feed_sol  rougher.input.feed_rate  \\\n",
       "count            14502.000000             14572.000000   \n",
       "mean                36.561420               474.332784   \n",
       "std                  5.209823               108.503552   \n",
       "min                  0.010000                 0.002986   \n",
       "25%                 34.093951               411.048483   \n",
       "50%                 37.097511               498.187968   \n",
       "75%                 39.899799               549.586552   \n",
       "max                 53.475325               717.508837   \n",
       "\n",
       "       rougher.input.feed_size  rougher.input.floatbank10_sulfate  \\\n",
       "count             14478.000000                       14548.000000   \n",
       "mean                 58.922712                          12.427399   \n",
       "std                  22.407410                           3.428939   \n",
       "min                   0.049194                           0.001083   \n",
       "25%                  47.278490                          10.002832   \n",
       "50%                  54.361187                          12.003320   \n",
       "75%                  64.464926                          14.929903   \n",
       "max                 484.967466                          36.118275   \n",
       "\n",
       "       rougher.input.floatbank10_xanthate  rougher.state.floatbank10_a_air  \\\n",
       "count                        14572.000000                     14579.000000   \n",
       "mean                             5.994854                      1104.208278   \n",
       "std                              1.152873                       162.235606   \n",
       "min                              0.000568                        -0.042069   \n",
       "25%                              5.304167                       999.644856   \n",
       "50%                              6.003053                      1000.982624   \n",
       "75%                              6.796632                      1292.663971   \n",
       "max                              9.703448                      1512.299531   \n",
       "\n",
       "       rougher.state.floatbank10_a_level  ...  \\\n",
       "count                       14579.000000  ...   \n",
       "mean                         -379.367166  ...   \n",
       "std                            94.652311  ...   \n",
       "min                          -657.949759  ...   \n",
       "25%                          -499.861797  ...   \n",
       "50%                          -300.314199  ...   \n",
       "75%                          -299.989315  ...   \n",
       "max                          -273.776101  ...   \n",
       "\n",
       "       secondary_cleaner.output.tail_sol  final.output.concentrate_au  \\\n",
       "count                       13659.000000                 14579.000000   \n",
       "mean                            7.111347                    43.979499   \n",
       "std                             3.909951                     5.471437   \n",
       "min                             0.000000                     0.000000   \n",
       "25%                             3.784897                    43.345906   \n",
       "50%                             7.629968                    44.975014   \n",
       "75%                            10.367050                    46.275153   \n",
       "max                            26.000772                    52.756638   \n",
       "\n",
       "       final.output.concentrate_ag  final.output.concentrate_pb  \\\n",
       "count                 14578.000000                 14578.000000   \n",
       "mean                      5.192145                     9.923809   \n",
       "std                       1.388014                     1.706976   \n",
       "min                       0.000000                     0.000000   \n",
       "25%                       4.283347                     9.103183   \n",
       "50%                       5.118647                    10.046455   \n",
       "75%                       5.925380                    10.981203   \n",
       "max                      16.001945                    16.705297   \n",
       "\n",
       "       final.output.concentrate_sol  final.output.recovery  \\\n",
       "count                  14387.000000           14579.000000   \n",
       "mean                       9.566676              66.759066   \n",
       "std                        2.805654              10.619709   \n",
       "min                        0.000000               0.000000   \n",
       "25%                        7.860030              63.114596   \n",
       "50%                        9.301970              67.962788   \n",
       "75%                       11.001573              72.598187   \n",
       "max                       19.423912             100.000000   \n",
       "\n",
       "       final.output.tail_au  final.output.tail_ag  final.output.tail_pb  \\\n",
       "count          14579.000000          14578.000000          14504.000000   \n",
       "mean               3.087939              9.731972              2.719985   \n",
       "std                0.915187              2.358143              0.958929   \n",
       "min                0.000000              0.000000              0.000000   \n",
       "25%                2.505287              8.088928              2.036512   \n",
       "50%                3.029238              9.818512              2.774847   \n",
       "75%                3.614098             11.169187              3.353845   \n",
       "max                8.245022             19.552149              5.804178   \n",
       "\n",
       "       final.output.tail_sol  \n",
       "count           14574.000000  \n",
       "mean               10.612745  \n",
       "std                 2.871075  \n",
       "min                 0.000000  \n",
       "25%                 9.013412  \n",
       "50%                10.670515  \n",
       "75%                12.130827  \n",
       "max                22.317730  \n",
       "\n",
       "[8 rows x 86 columns]"
      ]
     },
     "metadata": {},
     "output_type": "display_data"
    },
    {
     "name": "stdout",
     "output_type": "stream",
     "text": [
      "----------------------------------------------------------------------------------------------------\n",
      "Общая информамия:\n",
      "<class 'pandas.core.frame.DataFrame'>\n",
      "RangeIndex: 4860 entries, 0 to 4859\n",
      "Data columns (total 53 columns):\n",
      " #   Column                                      Non-Null Count  Dtype  \n",
      "---  ------                                      --------------  -----  \n",
      " 0   date                                        4860 non-null   object \n",
      " 1   rougher.input.feed_au                       4860 non-null   float64\n",
      " 2   rougher.input.feed_ag                       4860 non-null   float64\n",
      " 3   rougher.input.feed_pb                       4832 non-null   float64\n",
      " 4   rougher.input.feed_sol                      4838 non-null   float64\n",
      " 5   rougher.input.feed_rate                     4856 non-null   float64\n",
      " 6   rougher.input.feed_size                     4816 non-null   float64\n",
      " 7   rougher.input.floatbank10_sulfate           4857 non-null   float64\n",
      " 8   rougher.input.floatbank10_xanthate          4859 non-null   float64\n",
      " 9   rougher.state.floatbank10_a_air             4859 non-null   float64\n",
      " 10  rougher.state.floatbank10_a_level           4859 non-null   float64\n",
      " 11  rougher.state.floatbank10_b_air             4859 non-null   float64\n",
      " 12  rougher.state.floatbank10_b_level           4859 non-null   float64\n",
      " 13  rougher.state.floatbank10_c_air             4859 non-null   float64\n",
      " 14  rougher.state.floatbank10_c_level           4859 non-null   float64\n",
      " 15  rougher.state.floatbank10_d_air             4860 non-null   float64\n",
      " 16  rougher.state.floatbank10_d_level           4860 non-null   float64\n",
      " 17  rougher.state.floatbank10_e_air             4853 non-null   float64\n",
      " 18  rougher.state.floatbank10_e_level           4860 non-null   float64\n",
      " 19  rougher.state.floatbank10_f_air             4860 non-null   float64\n",
      " 20  rougher.state.floatbank10_f_level           4860 non-null   float64\n",
      " 21  rougher.input.floatbank11_sulfate           4852 non-null   float64\n",
      " 22  rougher.input.floatbank11_xanthate          4814 non-null   float64\n",
      " 23  primary_cleaner.input.sulfate               4859 non-null   float64\n",
      " 24  primary_cleaner.input.depressant            4851 non-null   float64\n",
      " 25  primary_cleaner.input.feed_size             4860 non-null   float64\n",
      " 26  primary_cleaner.input.xanthate              4817 non-null   float64\n",
      " 27  primary_cleaner.state.floatbank8_a_air      4859 non-null   float64\n",
      " 28  primary_cleaner.state.floatbank8_a_level    4859 non-null   float64\n",
      " 29  primary_cleaner.state.floatbank8_b_air      4859 non-null   float64\n",
      " 30  primary_cleaner.state.floatbank8_b_level    4859 non-null   float64\n",
      " 31  primary_cleaner.state.floatbank8_c_air      4858 non-null   float64\n",
      " 32  primary_cleaner.state.floatbank8_c_level    4859 non-null   float64\n",
      " 33  primary_cleaner.state.floatbank8_d_air      4858 non-null   float64\n",
      " 34  primary_cleaner.state.floatbank8_d_level    4859 non-null   float64\n",
      " 35  secondary_cleaner.state.floatbank2_a_air    4734 non-null   float64\n",
      " 36  secondary_cleaner.state.floatbank2_a_level  4859 non-null   float64\n",
      " 37  secondary_cleaner.state.floatbank2_b_air    4859 non-null   float64\n",
      " 38  secondary_cleaner.state.floatbank2_b_level  4859 non-null   float64\n",
      " 39  secondary_cleaner.state.floatbank3_a_air    4859 non-null   float64\n",
      " 40  secondary_cleaner.state.floatbank3_a_level  4859 non-null   float64\n",
      " 41  secondary_cleaner.state.floatbank3_b_air    4859 non-null   float64\n",
      " 42  secondary_cleaner.state.floatbank3_b_level  4859 non-null   float64\n",
      " 43  secondary_cleaner.state.floatbank4_a_air    4859 non-null   float64\n",
      " 44  secondary_cleaner.state.floatbank4_a_level  4859 non-null   float64\n",
      " 45  secondary_cleaner.state.floatbank4_b_air    4859 non-null   float64\n",
      " 46  secondary_cleaner.state.floatbank4_b_level  4859 non-null   float64\n",
      " 47  secondary_cleaner.state.floatbank5_a_air    4859 non-null   float64\n",
      " 48  secondary_cleaner.state.floatbank5_a_level  4859 non-null   float64\n",
      " 49  secondary_cleaner.state.floatbank5_b_air    4859 non-null   float64\n",
      " 50  secondary_cleaner.state.floatbank5_b_level  4859 non-null   float64\n",
      " 51  secondary_cleaner.state.floatbank6_a_air    4859 non-null   float64\n",
      " 52  secondary_cleaner.state.floatbank6_a_level  4859 non-null   float64\n",
      "dtypes: float64(52), object(1)\n",
      "memory usage: 2.0+ MB\n",
      "None\n",
      "Первые 5 строк\n"
     ]
    },
    {
     "data": {
      "text/html": [
       "<div>\n",
       "<style scoped>\n",
       "    .dataframe tbody tr th:only-of-type {\n",
       "        vertical-align: middle;\n",
       "    }\n",
       "\n",
       "    .dataframe tbody tr th {\n",
       "        vertical-align: top;\n",
       "    }\n",
       "\n",
       "    .dataframe thead th {\n",
       "        text-align: right;\n",
       "    }\n",
       "</style>\n",
       "<table border=\"1\" class=\"dataframe\">\n",
       "  <thead>\n",
       "    <tr style=\"text-align: right;\">\n",
       "      <th></th>\n",
       "      <th>date</th>\n",
       "      <th>rougher.input.feed_au</th>\n",
       "      <th>rougher.input.feed_ag</th>\n",
       "      <th>rougher.input.feed_pb</th>\n",
       "      <th>rougher.input.feed_sol</th>\n",
       "      <th>rougher.input.feed_rate</th>\n",
       "      <th>rougher.input.feed_size</th>\n",
       "      <th>rougher.input.floatbank10_sulfate</th>\n",
       "      <th>rougher.input.floatbank10_xanthate</th>\n",
       "      <th>rougher.state.floatbank10_a_air</th>\n",
       "      <th>...</th>\n",
       "      <th>secondary_cleaner.state.floatbank4_a_air</th>\n",
       "      <th>secondary_cleaner.state.floatbank4_a_level</th>\n",
       "      <th>secondary_cleaner.state.floatbank4_b_air</th>\n",
       "      <th>secondary_cleaner.state.floatbank4_b_level</th>\n",
       "      <th>secondary_cleaner.state.floatbank5_a_air</th>\n",
       "      <th>secondary_cleaner.state.floatbank5_a_level</th>\n",
       "      <th>secondary_cleaner.state.floatbank5_b_air</th>\n",
       "      <th>secondary_cleaner.state.floatbank5_b_level</th>\n",
       "      <th>secondary_cleaner.state.floatbank6_a_air</th>\n",
       "      <th>secondary_cleaner.state.floatbank6_a_level</th>\n",
       "    </tr>\n",
       "  </thead>\n",
       "  <tbody>\n",
       "    <tr>\n",
       "      <th>0</th>\n",
       "      <td>2017-12-09 14:59:59</td>\n",
       "      <td>4.365491</td>\n",
       "      <td>6.158718</td>\n",
       "      <td>3.875727</td>\n",
       "      <td>39.135119</td>\n",
       "      <td>555.820208</td>\n",
       "      <td>94.544358</td>\n",
       "      <td>6.146982</td>\n",
       "      <td>9.308612</td>\n",
       "      <td>1196.238112</td>\n",
       "      <td>...</td>\n",
       "      <td>23.018622</td>\n",
       "      <td>-500.492702</td>\n",
       "      <td>20.020205</td>\n",
       "      <td>-500.220296</td>\n",
       "      <td>17.963512</td>\n",
       "      <td>-499.939490</td>\n",
       "      <td>12.990306</td>\n",
       "      <td>-500.080993</td>\n",
       "      <td>19.990336</td>\n",
       "      <td>-499.191575</td>\n",
       "    </tr>\n",
       "    <tr>\n",
       "      <th>1</th>\n",
       "      <td>2017-12-09 15:59:59</td>\n",
       "      <td>4.362781</td>\n",
       "      <td>6.048130</td>\n",
       "      <td>3.902537</td>\n",
       "      <td>39.713906</td>\n",
       "      <td>544.731687</td>\n",
       "      <td>123.742430</td>\n",
       "      <td>6.210119</td>\n",
       "      <td>9.297709</td>\n",
       "      <td>1201.904177</td>\n",
       "      <td>...</td>\n",
       "      <td>23.024963</td>\n",
       "      <td>-501.153409</td>\n",
       "      <td>20.054122</td>\n",
       "      <td>-500.314711</td>\n",
       "      <td>17.979515</td>\n",
       "      <td>-499.272871</td>\n",
       "      <td>12.992404</td>\n",
       "      <td>-499.976268</td>\n",
       "      <td>20.013986</td>\n",
       "      <td>-500.625471</td>\n",
       "    </tr>\n",
       "    <tr>\n",
       "      <th>2</th>\n",
       "      <td>2017-12-09 16:59:59</td>\n",
       "      <td>5.081681</td>\n",
       "      <td>6.082745</td>\n",
       "      <td>4.564078</td>\n",
       "      <td>37.208683</td>\n",
       "      <td>558.155110</td>\n",
       "      <td>82.610855</td>\n",
       "      <td>7.363824</td>\n",
       "      <td>9.003562</td>\n",
       "      <td>1200.826926</td>\n",
       "      <td>...</td>\n",
       "      <td>22.993827</td>\n",
       "      <td>-501.559663</td>\n",
       "      <td>20.029144</td>\n",
       "      <td>-500.000662</td>\n",
       "      <td>18.012723</td>\n",
       "      <td>-500.024764</td>\n",
       "      <td>13.016445</td>\n",
       "      <td>-500.058432</td>\n",
       "      <td>19.973767</td>\n",
       "      <td>-501.394155</td>\n",
       "    </tr>\n",
       "    <tr>\n",
       "      <th>3</th>\n",
       "      <td>2017-12-09 17:59:59</td>\n",
       "      <td>5.145949</td>\n",
       "      <td>6.084374</td>\n",
       "      <td>4.768124</td>\n",
       "      <td>36.808874</td>\n",
       "      <td>539.713765</td>\n",
       "      <td>77.984784</td>\n",
       "      <td>6.927072</td>\n",
       "      <td>8.955597</td>\n",
       "      <td>1199.292489</td>\n",
       "      <td>...</td>\n",
       "      <td>23.032807</td>\n",
       "      <td>-501.287889</td>\n",
       "      <td>19.977466</td>\n",
       "      <td>-500.159903</td>\n",
       "      <td>17.980463</td>\n",
       "      <td>-500.504602</td>\n",
       "      <td>12.949071</td>\n",
       "      <td>-500.009937</td>\n",
       "      <td>20.010332</td>\n",
       "      <td>-508.337973</td>\n",
       "    </tr>\n",
       "    <tr>\n",
       "      <th>4</th>\n",
       "      <td>2017-12-09 18:59:59</td>\n",
       "      <td>5.735249</td>\n",
       "      <td>6.165220</td>\n",
       "      <td>4.512346</td>\n",
       "      <td>37.810642</td>\n",
       "      <td>558.713584</td>\n",
       "      <td>86.434874</td>\n",
       "      <td>7.823471</td>\n",
       "      <td>7.490356</td>\n",
       "      <td>1198.005449</td>\n",
       "      <td>...</td>\n",
       "      <td>23.001911</td>\n",
       "      <td>-499.947838</td>\n",
       "      <td>20.023735</td>\n",
       "      <td>-499.713680</td>\n",
       "      <td>17.990955</td>\n",
       "      <td>-500.334769</td>\n",
       "      <td>13.007523</td>\n",
       "      <td>-499.968459</td>\n",
       "      <td>19.995999</td>\n",
       "      <td>-499.788805</td>\n",
       "    </tr>\n",
       "  </tbody>\n",
       "</table>\n",
       "<p>5 rows × 53 columns</p>\n",
       "</div>"
      ],
      "text/plain": [
       "                  date  rougher.input.feed_au  rougher.input.feed_ag  \\\n",
       "0  2017-12-09 14:59:59               4.365491               6.158718   \n",
       "1  2017-12-09 15:59:59               4.362781               6.048130   \n",
       "2  2017-12-09 16:59:59               5.081681               6.082745   \n",
       "3  2017-12-09 17:59:59               5.145949               6.084374   \n",
       "4  2017-12-09 18:59:59               5.735249               6.165220   \n",
       "\n",
       "   rougher.input.feed_pb  rougher.input.feed_sol  rougher.input.feed_rate  \\\n",
       "0               3.875727               39.135119               555.820208   \n",
       "1               3.902537               39.713906               544.731687   \n",
       "2               4.564078               37.208683               558.155110   \n",
       "3               4.768124               36.808874               539.713765   \n",
       "4               4.512346               37.810642               558.713584   \n",
       "\n",
       "   rougher.input.feed_size  rougher.input.floatbank10_sulfate  \\\n",
       "0                94.544358                           6.146982   \n",
       "1               123.742430                           6.210119   \n",
       "2                82.610855                           7.363824   \n",
       "3                77.984784                           6.927072   \n",
       "4                86.434874                           7.823471   \n",
       "\n",
       "   rougher.input.floatbank10_xanthate  rougher.state.floatbank10_a_air  ...  \\\n",
       "0                            9.308612                      1196.238112  ...   \n",
       "1                            9.297709                      1201.904177  ...   \n",
       "2                            9.003562                      1200.826926  ...   \n",
       "3                            8.955597                      1199.292489  ...   \n",
       "4                            7.490356                      1198.005449  ...   \n",
       "\n",
       "   secondary_cleaner.state.floatbank4_a_air  \\\n",
       "0                                 23.018622   \n",
       "1                                 23.024963   \n",
       "2                                 22.993827   \n",
       "3                                 23.032807   \n",
       "4                                 23.001911   \n",
       "\n",
       "   secondary_cleaner.state.floatbank4_a_level  \\\n",
       "0                                 -500.492702   \n",
       "1                                 -501.153409   \n",
       "2                                 -501.559663   \n",
       "3                                 -501.287889   \n",
       "4                                 -499.947838   \n",
       "\n",
       "   secondary_cleaner.state.floatbank4_b_air  \\\n",
       "0                                 20.020205   \n",
       "1                                 20.054122   \n",
       "2                                 20.029144   \n",
       "3                                 19.977466   \n",
       "4                                 20.023735   \n",
       "\n",
       "   secondary_cleaner.state.floatbank4_b_level  \\\n",
       "0                                 -500.220296   \n",
       "1                                 -500.314711   \n",
       "2                                 -500.000662   \n",
       "3                                 -500.159903   \n",
       "4                                 -499.713680   \n",
       "\n",
       "   secondary_cleaner.state.floatbank5_a_air  \\\n",
       "0                                 17.963512   \n",
       "1                                 17.979515   \n",
       "2                                 18.012723   \n",
       "3                                 17.980463   \n",
       "4                                 17.990955   \n",
       "\n",
       "   secondary_cleaner.state.floatbank5_a_level  \\\n",
       "0                                 -499.939490   \n",
       "1                                 -499.272871   \n",
       "2                                 -500.024764   \n",
       "3                                 -500.504602   \n",
       "4                                 -500.334769   \n",
       "\n",
       "   secondary_cleaner.state.floatbank5_b_air  \\\n",
       "0                                 12.990306   \n",
       "1                                 12.992404   \n",
       "2                                 13.016445   \n",
       "3                                 12.949071   \n",
       "4                                 13.007523   \n",
       "\n",
       "   secondary_cleaner.state.floatbank5_b_level  \\\n",
       "0                                 -500.080993   \n",
       "1                                 -499.976268   \n",
       "2                                 -500.058432   \n",
       "3                                 -500.009937   \n",
       "4                                 -499.968459   \n",
       "\n",
       "   secondary_cleaner.state.floatbank6_a_air  \\\n",
       "0                                 19.990336   \n",
       "1                                 20.013986   \n",
       "2                                 19.973767   \n",
       "3                                 20.010332   \n",
       "4                                 19.995999   \n",
       "\n",
       "   secondary_cleaner.state.floatbank6_a_level  \n",
       "0                                 -499.191575  \n",
       "1                                 -500.625471  \n",
       "2                                 -501.394155  \n",
       "3                                 -508.337973  \n",
       "4                                 -499.788805  \n",
       "\n",
       "[5 rows x 53 columns]"
      ]
     },
     "metadata": {},
     "output_type": "display_data"
    },
    {
     "name": "stdout",
     "output_type": "stream",
     "text": [
      "Количество пропусков\n",
      "date                                            0\n",
      "rougher.input.feed_au                           0\n",
      "rougher.input.feed_ag                           0\n",
      "rougher.input.feed_pb                          28\n",
      "rougher.input.feed_sol                         22\n",
      "rougher.input.feed_rate                         4\n",
      "rougher.input.feed_size                        44\n",
      "rougher.input.floatbank10_sulfate               3\n",
      "rougher.input.floatbank10_xanthate              1\n",
      "rougher.state.floatbank10_a_air                 1\n",
      "rougher.state.floatbank10_a_level               1\n",
      "rougher.state.floatbank10_b_air                 1\n",
      "rougher.state.floatbank10_b_level               1\n",
      "rougher.state.floatbank10_c_air                 1\n",
      "rougher.state.floatbank10_c_level               1\n",
      "rougher.state.floatbank10_d_air                 0\n",
      "rougher.state.floatbank10_d_level               0\n",
      "rougher.state.floatbank10_e_air                 7\n",
      "rougher.state.floatbank10_e_level               0\n",
      "rougher.state.floatbank10_f_air                 0\n",
      "rougher.state.floatbank10_f_level               0\n",
      "rougher.input.floatbank11_sulfate               8\n",
      "rougher.input.floatbank11_xanthate             46\n",
      "primary_cleaner.input.sulfate                   1\n",
      "primary_cleaner.input.depressant                9\n",
      "primary_cleaner.input.feed_size                 0\n",
      "primary_cleaner.input.xanthate                 43\n",
      "primary_cleaner.state.floatbank8_a_air          1\n",
      "primary_cleaner.state.floatbank8_a_level        1\n",
      "primary_cleaner.state.floatbank8_b_air          1\n",
      "primary_cleaner.state.floatbank8_b_level        1\n",
      "primary_cleaner.state.floatbank8_c_air          2\n",
      "primary_cleaner.state.floatbank8_c_level        1\n",
      "primary_cleaner.state.floatbank8_d_air          2\n",
      "primary_cleaner.state.floatbank8_d_level        1\n",
      "secondary_cleaner.state.floatbank2_a_air      126\n",
      "secondary_cleaner.state.floatbank2_a_level      1\n",
      "secondary_cleaner.state.floatbank2_b_air        1\n",
      "secondary_cleaner.state.floatbank2_b_level      1\n",
      "secondary_cleaner.state.floatbank3_a_air        1\n",
      "secondary_cleaner.state.floatbank3_a_level      1\n",
      "secondary_cleaner.state.floatbank3_b_air        1\n",
      "secondary_cleaner.state.floatbank3_b_level      1\n",
      "secondary_cleaner.state.floatbank4_a_air        1\n",
      "secondary_cleaner.state.floatbank4_a_level      1\n",
      "secondary_cleaner.state.floatbank4_b_air        1\n",
      "secondary_cleaner.state.floatbank4_b_level      1\n",
      "secondary_cleaner.state.floatbank5_a_air        1\n",
      "secondary_cleaner.state.floatbank5_a_level      1\n",
      "secondary_cleaner.state.floatbank5_b_air        1\n",
      "secondary_cleaner.state.floatbank5_b_level      1\n",
      "secondary_cleaner.state.floatbank6_a_air        1\n",
      "secondary_cleaner.state.floatbank6_a_level      1\n",
      "dtype: int64\n",
      "Количество дубликатов:\n"
     ]
    },
    {
     "data": {
      "text/plain": [
       "0"
      ]
     },
     "metadata": {},
     "output_type": "display_data"
    },
    {
     "name": "stdout",
     "output_type": "stream",
     "text": [
      "Статистические данные\n"
     ]
    },
    {
     "data": {
      "text/html": [
       "<div>\n",
       "<style scoped>\n",
       "    .dataframe tbody tr th:only-of-type {\n",
       "        vertical-align: middle;\n",
       "    }\n",
       "\n",
       "    .dataframe tbody tr th {\n",
       "        vertical-align: top;\n",
       "    }\n",
       "\n",
       "    .dataframe thead th {\n",
       "        text-align: right;\n",
       "    }\n",
       "</style>\n",
       "<table border=\"1\" class=\"dataframe\">\n",
       "  <thead>\n",
       "    <tr style=\"text-align: right;\">\n",
       "      <th></th>\n",
       "      <th>rougher.input.feed_au</th>\n",
       "      <th>rougher.input.feed_ag</th>\n",
       "      <th>rougher.input.feed_pb</th>\n",
       "      <th>rougher.input.feed_sol</th>\n",
       "      <th>rougher.input.feed_rate</th>\n",
       "      <th>rougher.input.feed_size</th>\n",
       "      <th>rougher.input.floatbank10_sulfate</th>\n",
       "      <th>rougher.input.floatbank10_xanthate</th>\n",
       "      <th>rougher.state.floatbank10_a_air</th>\n",
       "      <th>rougher.state.floatbank10_a_level</th>\n",
       "      <th>...</th>\n",
       "      <th>secondary_cleaner.state.floatbank4_a_air</th>\n",
       "      <th>secondary_cleaner.state.floatbank4_a_level</th>\n",
       "      <th>secondary_cleaner.state.floatbank4_b_air</th>\n",
       "      <th>secondary_cleaner.state.floatbank4_b_level</th>\n",
       "      <th>secondary_cleaner.state.floatbank5_a_air</th>\n",
       "      <th>secondary_cleaner.state.floatbank5_a_level</th>\n",
       "      <th>secondary_cleaner.state.floatbank5_b_air</th>\n",
       "      <th>secondary_cleaner.state.floatbank5_b_level</th>\n",
       "      <th>secondary_cleaner.state.floatbank6_a_air</th>\n",
       "      <th>secondary_cleaner.state.floatbank6_a_level</th>\n",
       "    </tr>\n",
       "  </thead>\n",
       "  <tbody>\n",
       "    <tr>\n",
       "      <th>count</th>\n",
       "      <td>4860.000000</td>\n",
       "      <td>4860.000000</td>\n",
       "      <td>4832.000000</td>\n",
       "      <td>4838.000000</td>\n",
       "      <td>4856.000000</td>\n",
       "      <td>4816.000000</td>\n",
       "      <td>4857.000000</td>\n",
       "      <td>4859.000000</td>\n",
       "      <td>4859.000000</td>\n",
       "      <td>4859.000000</td>\n",
       "      <td>...</td>\n",
       "      <td>4.859000e+03</td>\n",
       "      <td>4859.000000</td>\n",
       "      <td>4.859000e+03</td>\n",
       "      <td>4859.000000</td>\n",
       "      <td>4859.000000</td>\n",
       "      <td>4859.000000</td>\n",
       "      <td>4859.000000</td>\n",
       "      <td>4859.000000</td>\n",
       "      <td>4859.000000</td>\n",
       "      <td>4859.000000</td>\n",
       "    </tr>\n",
       "    <tr>\n",
       "      <th>mean</th>\n",
       "      <td>8.005584</td>\n",
       "      <td>8.547348</td>\n",
       "      <td>3.579662</td>\n",
       "      <td>37.095864</td>\n",
       "      <td>490.285103</td>\n",
       "      <td>59.113400</td>\n",
       "      <td>12.055735</td>\n",
       "      <td>6.101308</td>\n",
       "      <td>1108.635895</td>\n",
       "      <td>-368.340127</td>\n",
       "      <td>...</td>\n",
       "      <td>1.985770e+01</td>\n",
       "      <td>-488.665140</td>\n",
       "      <td>1.557025e+01</td>\n",
       "      <td>-464.176507</td>\n",
       "      <td>16.594103</td>\n",
       "      <td>-490.815250</td>\n",
       "      <td>12.945971</td>\n",
       "      <td>-489.583564</td>\n",
       "      <td>19.053888</td>\n",
       "      <td>-504.678924</td>\n",
       "    </tr>\n",
       "    <tr>\n",
       "      <th>std</th>\n",
       "      <td>1.993590</td>\n",
       "      <td>1.958601</td>\n",
       "      <td>1.029377</td>\n",
       "      <td>4.926284</td>\n",
       "      <td>94.371623</td>\n",
       "      <td>19.125122</td>\n",
       "      <td>3.407642</td>\n",
       "      <td>1.042754</td>\n",
       "      <td>156.493143</td>\n",
       "      <td>91.155929</td>\n",
       "      <td>...</td>\n",
       "      <td>5.913105e+00</td>\n",
       "      <td>44.392714</td>\n",
       "      <td>4.927361e+00</td>\n",
       "      <td>65.706994</td>\n",
       "      <td>5.724305</td>\n",
       "      <td>32.258443</td>\n",
       "      <td>5.533176</td>\n",
       "      <td>37.084609</td>\n",
       "      <td>5.548996</td>\n",
       "      <td>38.690186</td>\n",
       "    </tr>\n",
       "    <tr>\n",
       "      <th>min</th>\n",
       "      <td>0.010000</td>\n",
       "      <td>0.010000</td>\n",
       "      <td>0.010000</td>\n",
       "      <td>0.010000</td>\n",
       "      <td>0.012786</td>\n",
       "      <td>0.046369</td>\n",
       "      <td>0.018907</td>\n",
       "      <td>0.015783</td>\n",
       "      <td>300.792494</td>\n",
       "      <td>-600.568138</td>\n",
       "      <td>...</td>\n",
       "      <td>1.079872e-16</td>\n",
       "      <td>-799.704969</td>\n",
       "      <td>2.489718e-17</td>\n",
       "      <td>-799.860767</td>\n",
       "      <td>-0.371498</td>\n",
       "      <td>-797.142475</td>\n",
       "      <td>1.358469</td>\n",
       "      <td>-800.006180</td>\n",
       "      <td>0.160386</td>\n",
       "      <td>-809.734800</td>\n",
       "    </tr>\n",
       "    <tr>\n",
       "      <th>25%</th>\n",
       "      <td>6.574363</td>\n",
       "      <td>6.975898</td>\n",
       "      <td>2.903612</td>\n",
       "      <td>34.510841</td>\n",
       "      <td>434.099695</td>\n",
       "      <td>47.596984</td>\n",
       "      <td>9.890429</td>\n",
       "      <td>5.499808</td>\n",
       "      <td>999.715729</td>\n",
       "      <td>-499.731972</td>\n",
       "      <td>...</td>\n",
       "      <td>1.501123e+01</td>\n",
       "      <td>-500.704004</td>\n",
       "      <td>1.202172e+01</td>\n",
       "      <td>-500.196517</td>\n",
       "      <td>11.073822</td>\n",
       "      <td>-500.483564</td>\n",
       "      <td>9.011890</td>\n",
       "      <td>-500.129913</td>\n",
       "      <td>14.963953</td>\n",
       "      <td>-500.668501</td>\n",
       "    </tr>\n",
       "    <tr>\n",
       "      <th>50%</th>\n",
       "      <td>7.812923</td>\n",
       "      <td>8.179714</td>\n",
       "      <td>3.540772</td>\n",
       "      <td>37.499761</td>\n",
       "      <td>502.118742</td>\n",
       "      <td>55.509481</td>\n",
       "      <td>11.997859</td>\n",
       "      <td>6.099805</td>\n",
       "      <td>1001.414798</td>\n",
       "      <td>-300.181367</td>\n",
       "      <td>...</td>\n",
       "      <td>1.996807e+01</td>\n",
       "      <td>-499.892919</td>\n",
       "      <td>1.501240e+01</td>\n",
       "      <td>-499.540776</td>\n",
       "      <td>16.631195</td>\n",
       "      <td>-499.873136</td>\n",
       "      <td>11.999417</td>\n",
       "      <td>-499.955304</td>\n",
       "      <td>19.960006</td>\n",
       "      <td>-500.033769</td>\n",
       "    </tr>\n",
       "    <tr>\n",
       "      <th>75%</th>\n",
       "      <td>9.556589</td>\n",
       "      <td>10.084339</td>\n",
       "      <td>4.199847</td>\n",
       "      <td>40.461315</td>\n",
       "      <td>555.596563</td>\n",
       "      <td>66.661547</td>\n",
       "      <td>14.496072</td>\n",
       "      <td>6.802101</td>\n",
       "      <td>1202.837565</td>\n",
       "      <td>-299.961547</td>\n",
       "      <td>...</td>\n",
       "      <td>2.498900e+01</td>\n",
       "      <td>-498.652030</td>\n",
       "      <td>1.999949e+01</td>\n",
       "      <td>-400.302329</td>\n",
       "      <td>19.983191</td>\n",
       "      <td>-498.852815</td>\n",
       "      <td>15.004198</td>\n",
       "      <td>-499.643776</td>\n",
       "      <td>24.974583</td>\n",
       "      <td>-499.460134</td>\n",
       "    </tr>\n",
       "    <tr>\n",
       "      <th>max</th>\n",
       "      <td>13.417156</td>\n",
       "      <td>14.533698</td>\n",
       "      <td>7.142594</td>\n",
       "      <td>53.477742</td>\n",
       "      <td>702.523396</td>\n",
       "      <td>363.989699</td>\n",
       "      <td>30.010759</td>\n",
       "      <td>9.396928</td>\n",
       "      <td>1521.980372</td>\n",
       "      <td>-281.039299</td>\n",
       "      <td>...</td>\n",
       "      <td>3.008450e+01</td>\n",
       "      <td>-383.373053</td>\n",
       "      <td>2.398898e+01</td>\n",
       "      <td>-114.250832</td>\n",
       "      <td>33.215996</td>\n",
       "      <td>-288.963521</td>\n",
       "      <td>24.177106</td>\n",
       "      <td>-141.934397</td>\n",
       "      <td>32.028529</td>\n",
       "      <td>-104.427459</td>\n",
       "    </tr>\n",
       "  </tbody>\n",
       "</table>\n",
       "<p>8 rows × 52 columns</p>\n",
       "</div>"
      ],
      "text/plain": [
       "       rougher.input.feed_au  rougher.input.feed_ag  rougher.input.feed_pb  \\\n",
       "count            4860.000000            4860.000000            4832.000000   \n",
       "mean                8.005584               8.547348               3.579662   \n",
       "std                 1.993590               1.958601               1.029377   \n",
       "min                 0.010000               0.010000               0.010000   \n",
       "25%                 6.574363               6.975898               2.903612   \n",
       "50%                 7.812923               8.179714               3.540772   \n",
       "75%                 9.556589              10.084339               4.199847   \n",
       "max                13.417156              14.533698               7.142594   \n",
       "\n",
       "       rougher.input.feed_sol  rougher.input.feed_rate  \\\n",
       "count             4838.000000              4856.000000   \n",
       "mean                37.095864               490.285103   \n",
       "std                  4.926284                94.371623   \n",
       "min                  0.010000                 0.012786   \n",
       "25%                 34.510841               434.099695   \n",
       "50%                 37.499761               502.118742   \n",
       "75%                 40.461315               555.596563   \n",
       "max                 53.477742               702.523396   \n",
       "\n",
       "       rougher.input.feed_size  rougher.input.floatbank10_sulfate  \\\n",
       "count              4816.000000                        4857.000000   \n",
       "mean                 59.113400                          12.055735   \n",
       "std                  19.125122                           3.407642   \n",
       "min                   0.046369                           0.018907   \n",
       "25%                  47.596984                           9.890429   \n",
       "50%                  55.509481                          11.997859   \n",
       "75%                  66.661547                          14.496072   \n",
       "max                 363.989699                          30.010759   \n",
       "\n",
       "       rougher.input.floatbank10_xanthate  rougher.state.floatbank10_a_air  \\\n",
       "count                         4859.000000                      4859.000000   \n",
       "mean                             6.101308                      1108.635895   \n",
       "std                              1.042754                       156.493143   \n",
       "min                              0.015783                       300.792494   \n",
       "25%                              5.499808                       999.715729   \n",
       "50%                              6.099805                      1001.414798   \n",
       "75%                              6.802101                      1202.837565   \n",
       "max                              9.396928                      1521.980372   \n",
       "\n",
       "       rougher.state.floatbank10_a_level  ...  \\\n",
       "count                        4859.000000  ...   \n",
       "mean                         -368.340127  ...   \n",
       "std                            91.155929  ...   \n",
       "min                          -600.568138  ...   \n",
       "25%                          -499.731972  ...   \n",
       "50%                          -300.181367  ...   \n",
       "75%                          -299.961547  ...   \n",
       "max                          -281.039299  ...   \n",
       "\n",
       "       secondary_cleaner.state.floatbank4_a_air  \\\n",
       "count                              4.859000e+03   \n",
       "mean                               1.985770e+01   \n",
       "std                                5.913105e+00   \n",
       "min                                1.079872e-16   \n",
       "25%                                1.501123e+01   \n",
       "50%                                1.996807e+01   \n",
       "75%                                2.498900e+01   \n",
       "max                                3.008450e+01   \n",
       "\n",
       "       secondary_cleaner.state.floatbank4_a_level  \\\n",
       "count                                 4859.000000   \n",
       "mean                                  -488.665140   \n",
       "std                                     44.392714   \n",
       "min                                   -799.704969   \n",
       "25%                                   -500.704004   \n",
       "50%                                   -499.892919   \n",
       "75%                                   -498.652030   \n",
       "max                                   -383.373053   \n",
       "\n",
       "       secondary_cleaner.state.floatbank4_b_air  \\\n",
       "count                              4.859000e+03   \n",
       "mean                               1.557025e+01   \n",
       "std                                4.927361e+00   \n",
       "min                                2.489718e-17   \n",
       "25%                                1.202172e+01   \n",
       "50%                                1.501240e+01   \n",
       "75%                                1.999949e+01   \n",
       "max                                2.398898e+01   \n",
       "\n",
       "       secondary_cleaner.state.floatbank4_b_level  \\\n",
       "count                                 4859.000000   \n",
       "mean                                  -464.176507   \n",
       "std                                     65.706994   \n",
       "min                                   -799.860767   \n",
       "25%                                   -500.196517   \n",
       "50%                                   -499.540776   \n",
       "75%                                   -400.302329   \n",
       "max                                   -114.250832   \n",
       "\n",
       "       secondary_cleaner.state.floatbank5_a_air  \\\n",
       "count                               4859.000000   \n",
       "mean                                  16.594103   \n",
       "std                                    5.724305   \n",
       "min                                   -0.371498   \n",
       "25%                                   11.073822   \n",
       "50%                                   16.631195   \n",
       "75%                                   19.983191   \n",
       "max                                   33.215996   \n",
       "\n",
       "       secondary_cleaner.state.floatbank5_a_level  \\\n",
       "count                                 4859.000000   \n",
       "mean                                  -490.815250   \n",
       "std                                     32.258443   \n",
       "min                                   -797.142475   \n",
       "25%                                   -500.483564   \n",
       "50%                                   -499.873136   \n",
       "75%                                   -498.852815   \n",
       "max                                   -288.963521   \n",
       "\n",
       "       secondary_cleaner.state.floatbank5_b_air  \\\n",
       "count                               4859.000000   \n",
       "mean                                  12.945971   \n",
       "std                                    5.533176   \n",
       "min                                    1.358469   \n",
       "25%                                    9.011890   \n",
       "50%                                   11.999417   \n",
       "75%                                   15.004198   \n",
       "max                                   24.177106   \n",
       "\n",
       "       secondary_cleaner.state.floatbank5_b_level  \\\n",
       "count                                 4859.000000   \n",
       "mean                                  -489.583564   \n",
       "std                                     37.084609   \n",
       "min                                   -800.006180   \n",
       "25%                                   -500.129913   \n",
       "50%                                   -499.955304   \n",
       "75%                                   -499.643776   \n",
       "max                                   -141.934397   \n",
       "\n",
       "       secondary_cleaner.state.floatbank6_a_air  \\\n",
       "count                               4859.000000   \n",
       "mean                                  19.053888   \n",
       "std                                    5.548996   \n",
       "min                                    0.160386   \n",
       "25%                                   14.963953   \n",
       "50%                                   19.960006   \n",
       "75%                                   24.974583   \n",
       "max                                   32.028529   \n",
       "\n",
       "       secondary_cleaner.state.floatbank6_a_level  \n",
       "count                                 4859.000000  \n",
       "mean                                  -504.678924  \n",
       "std                                     38.690186  \n",
       "min                                   -809.734800  \n",
       "25%                                   -500.668501  \n",
       "50%                                   -500.033769  \n",
       "75%                                   -499.460134  \n",
       "max                                   -104.427459  \n",
       "\n",
       "[8 rows x 52 columns]"
      ]
     },
     "metadata": {},
     "output_type": "display_data"
    },
    {
     "name": "stdout",
     "output_type": "stream",
     "text": [
      "----------------------------------------------------------------------------------------------------\n",
      "Общая информамия:\n",
      "<class 'pandas.core.frame.DataFrame'>\n",
      "RangeIndex: 19439 entries, 0 to 19438\n",
      "Data columns (total 87 columns):\n",
      " #   Column                                              Non-Null Count  Dtype  \n",
      "---  ------                                              --------------  -----  \n",
      " 0   date                                                19439 non-null  object \n",
      " 1   rougher.input.feed_au                               19439 non-null  float64\n",
      " 2   rougher.input.feed_ag                               19439 non-null  float64\n",
      " 3   rougher.input.feed_pb                               19339 non-null  float64\n",
      " 4   rougher.input.feed_sol                              19340 non-null  float64\n",
      " 5   rougher.input.feed_rate                             19428 non-null  float64\n",
      " 6   rougher.input.feed_size                             19294 non-null  float64\n",
      " 7   rougher.input.floatbank10_sulfate                   19405 non-null  float64\n",
      " 8   rougher.input.floatbank10_xanthate                  19431 non-null  float64\n",
      " 9   rougher.state.floatbank10_a_air                     19438 non-null  float64\n",
      " 10  rougher.state.floatbank10_a_level                   19438 non-null  float64\n",
      " 11  rougher.state.floatbank10_b_air                     19438 non-null  float64\n",
      " 12  rougher.state.floatbank10_b_level                   19438 non-null  float64\n",
      " 13  rougher.state.floatbank10_c_air                     19438 non-null  float64\n",
      " 14  rougher.state.floatbank10_c_level                   19438 non-null  float64\n",
      " 15  rougher.state.floatbank10_d_air                     19439 non-null  float64\n",
      " 16  rougher.state.floatbank10_d_level                   19439 non-null  float64\n",
      " 17  rougher.state.floatbank10_e_air                     19003 non-null  float64\n",
      " 18  rougher.state.floatbank10_e_level                   19439 non-null  float64\n",
      " 19  rougher.state.floatbank10_f_air                     19439 non-null  float64\n",
      " 20  rougher.state.floatbank10_f_level                   19439 non-null  float64\n",
      " 21  rougher.input.floatbank11_sulfate                   19395 non-null  float64\n",
      " 22  rougher.input.floatbank11_xanthate                  18986 non-null  float64\n",
      " 23  rougher.calculation.sulfate_to_au_concentrate       19437 non-null  float64\n",
      " 24  rougher.calculation.floatbank10_sulfate_to_au_feed  19437 non-null  float64\n",
      " 25  rougher.calculation.floatbank11_sulfate_to_au_feed  19437 non-null  float64\n",
      " 26  rougher.calculation.au_pb_ratio                     19439 non-null  float64\n",
      " 27  rougher.output.concentrate_au                       19439 non-null  float64\n",
      " 28  rougher.output.concentrate_ag                       19439 non-null  float64\n",
      " 29  rougher.output.concentrate_pb                       19439 non-null  float64\n",
      " 30  rougher.output.concentrate_sol                      19416 non-null  float64\n",
      " 31  rougher.output.recovery                             19439 non-null  float64\n",
      " 32  rougher.output.tail_au                              19439 non-null  float64\n",
      " 33  rougher.output.tail_ag                              19438 non-null  float64\n",
      " 34  rougher.output.tail_pb                              19439 non-null  float64\n",
      " 35  rougher.output.tail_sol                             19439 non-null  float64\n",
      " 36  primary_cleaner.input.sulfate                       19415 non-null  float64\n",
      " 37  primary_cleaner.input.depressant                    19402 non-null  float64\n",
      " 38  primary_cleaner.input.feed_size                     19439 non-null  float64\n",
      " 39  primary_cleaner.input.xanthate                      19335 non-null  float64\n",
      " 40  primary_cleaner.state.floatbank8_a_air              19435 non-null  float64\n",
      " 41  primary_cleaner.state.floatbank8_a_level            19438 non-null  float64\n",
      " 42  primary_cleaner.state.floatbank8_b_air              19435 non-null  float64\n",
      " 43  primary_cleaner.state.floatbank8_b_level            19438 non-null  float64\n",
      " 44  primary_cleaner.state.floatbank8_c_air              19437 non-null  float64\n",
      " 45  primary_cleaner.state.floatbank8_c_level            19438 non-null  float64\n",
      " 46  primary_cleaner.state.floatbank8_d_air              19436 non-null  float64\n",
      " 47  primary_cleaner.state.floatbank8_d_level            19438 non-null  float64\n",
      " 48  primary_cleaner.output.concentrate_au               19439 non-null  float64\n",
      " 49  primary_cleaner.output.concentrate_ag               19439 non-null  float64\n",
      " 50  primary_cleaner.output.concentrate_pb               19323 non-null  float64\n",
      " 51  primary_cleaner.output.concentrate_sol              19069 non-null  float64\n",
      " 52  primary_cleaner.output.tail_au                      19439 non-null  float64\n",
      " 53  primary_cleaner.output.tail_ag                      19435 non-null  float64\n",
      " 54  primary_cleaner.output.tail_pb                      19418 non-null  float64\n",
      " 55  primary_cleaner.output.tail_sol                     19377 non-null  float64\n",
      " 56  secondary_cleaner.state.floatbank2_a_air            19219 non-null  float64\n",
      " 57  secondary_cleaner.state.floatbank2_a_level          19438 non-null  float64\n",
      " 58  secondary_cleaner.state.floatbank2_b_air            19416 non-null  float64\n",
      " 59  secondary_cleaner.state.floatbank2_b_level          19438 non-null  float64\n",
      " 60  secondary_cleaner.state.floatbank3_a_air            19426 non-null  float64\n",
      " 61  secondary_cleaner.state.floatbank3_a_level          19438 non-null  float64\n",
      " 62  secondary_cleaner.state.floatbank3_b_air            19438 non-null  float64\n",
      " 63  secondary_cleaner.state.floatbank3_b_level          19438 non-null  float64\n",
      " 64  secondary_cleaner.state.floatbank4_a_air            19433 non-null  float64\n",
      " 65  secondary_cleaner.state.floatbank4_a_level          19438 non-null  float64\n",
      " 66  secondary_cleaner.state.floatbank4_b_air            19438 non-null  float64\n",
      " 67  secondary_cleaner.state.floatbank4_b_level          19438 non-null  float64\n",
      " 68  secondary_cleaner.state.floatbank5_a_air            19438 non-null  float64\n",
      " 69  secondary_cleaner.state.floatbank5_a_level          19438 non-null  float64\n",
      " 70  secondary_cleaner.state.floatbank5_b_air            19438 non-null  float64\n",
      " 71  secondary_cleaner.state.floatbank5_b_level          19438 non-null  float64\n",
      " 72  secondary_cleaner.state.floatbank6_a_air            19437 non-null  float64\n",
      " 73  secondary_cleaner.state.floatbank6_a_level          19438 non-null  float64\n",
      " 74  secondary_cleaner.output.tail_au                    19439 non-null  float64\n",
      " 75  secondary_cleaner.output.tail_ag                    19437 non-null  float64\n",
      " 76  secondary_cleaner.output.tail_pb                    19427 non-null  float64\n",
      " 77  secondary_cleaner.output.tail_sol                   17691 non-null  float64\n",
      " 78  final.output.concentrate_au                         19439 non-null  float64\n",
      " 79  final.output.concentrate_ag                         19438 non-null  float64\n",
      " 80  final.output.concentrate_pb                         19438 non-null  float64\n",
      " 81  final.output.concentrate_sol                        19228 non-null  float64\n",
      " 82  final.output.recovery                               19439 non-null  float64\n",
      " 83  final.output.tail_au                                19439 non-null  float64\n",
      " 84  final.output.tail_ag                                19438 non-null  float64\n",
      " 85  final.output.tail_pb                                19338 non-null  float64\n",
      " 86  final.output.tail_sol                               19433 non-null  float64\n",
      "dtypes: float64(86), object(1)\n",
      "memory usage: 12.9+ MB\n",
      "None\n",
      "Первые 5 строк\n"
     ]
    },
    {
     "data": {
      "text/html": [
       "<div>\n",
       "<style scoped>\n",
       "    .dataframe tbody tr th:only-of-type {\n",
       "        vertical-align: middle;\n",
       "    }\n",
       "\n",
       "    .dataframe tbody tr th {\n",
       "        vertical-align: top;\n",
       "    }\n",
       "\n",
       "    .dataframe thead th {\n",
       "        text-align: right;\n",
       "    }\n",
       "</style>\n",
       "<table border=\"1\" class=\"dataframe\">\n",
       "  <thead>\n",
       "    <tr style=\"text-align: right;\">\n",
       "      <th></th>\n",
       "      <th>date</th>\n",
       "      <th>rougher.input.feed_au</th>\n",
       "      <th>rougher.input.feed_ag</th>\n",
       "      <th>rougher.input.feed_pb</th>\n",
       "      <th>rougher.input.feed_sol</th>\n",
       "      <th>rougher.input.feed_rate</th>\n",
       "      <th>rougher.input.feed_size</th>\n",
       "      <th>rougher.input.floatbank10_sulfate</th>\n",
       "      <th>rougher.input.floatbank10_xanthate</th>\n",
       "      <th>rougher.state.floatbank10_a_air</th>\n",
       "      <th>...</th>\n",
       "      <th>secondary_cleaner.output.tail_sol</th>\n",
       "      <th>final.output.concentrate_au</th>\n",
       "      <th>final.output.concentrate_ag</th>\n",
       "      <th>final.output.concentrate_pb</th>\n",
       "      <th>final.output.concentrate_sol</th>\n",
       "      <th>final.output.recovery</th>\n",
       "      <th>final.output.tail_au</th>\n",
       "      <th>final.output.tail_ag</th>\n",
       "      <th>final.output.tail_pb</th>\n",
       "      <th>final.output.tail_sol</th>\n",
       "    </tr>\n",
       "  </thead>\n",
       "  <tbody>\n",
       "    <tr>\n",
       "      <th>0</th>\n",
       "      <td>2016-01-15 00:00:00</td>\n",
       "      <td>6.486150</td>\n",
       "      <td>6.100378</td>\n",
       "      <td>2.284912</td>\n",
       "      <td>36.808594</td>\n",
       "      <td>523.546326</td>\n",
       "      <td>55.486599</td>\n",
       "      <td>11.986616</td>\n",
       "      <td>6.007990</td>\n",
       "      <td>999.706909</td>\n",
       "      <td>...</td>\n",
       "      <td>8.764648</td>\n",
       "      <td>42.192020</td>\n",
       "      <td>6.055403</td>\n",
       "      <td>9.889648</td>\n",
       "      <td>5.507324</td>\n",
       "      <td>70.541216</td>\n",
       "      <td>2.143149</td>\n",
       "      <td>10.411962</td>\n",
       "      <td>0.895447</td>\n",
       "      <td>16.904297</td>\n",
       "    </tr>\n",
       "    <tr>\n",
       "      <th>1</th>\n",
       "      <td>2016-01-15 01:00:00</td>\n",
       "      <td>6.478583</td>\n",
       "      <td>6.161113</td>\n",
       "      <td>2.266033</td>\n",
       "      <td>35.753385</td>\n",
       "      <td>525.290581</td>\n",
       "      <td>57.278666</td>\n",
       "      <td>11.971193</td>\n",
       "      <td>6.005766</td>\n",
       "      <td>1000.286398</td>\n",
       "      <td>...</td>\n",
       "      <td>9.001494</td>\n",
       "      <td>42.701629</td>\n",
       "      <td>6.029369</td>\n",
       "      <td>9.968944</td>\n",
       "      <td>5.257781</td>\n",
       "      <td>69.266198</td>\n",
       "      <td>2.224930</td>\n",
       "      <td>10.462676</td>\n",
       "      <td>0.927452</td>\n",
       "      <td>16.634514</td>\n",
       "    </tr>\n",
       "    <tr>\n",
       "      <th>2</th>\n",
       "      <td>2016-01-15 02:00:00</td>\n",
       "      <td>6.362222</td>\n",
       "      <td>6.116455</td>\n",
       "      <td>2.159622</td>\n",
       "      <td>35.971630</td>\n",
       "      <td>530.026610</td>\n",
       "      <td>57.510649</td>\n",
       "      <td>11.920603</td>\n",
       "      <td>6.197377</td>\n",
       "      <td>999.719565</td>\n",
       "      <td>...</td>\n",
       "      <td>8.842896</td>\n",
       "      <td>42.657501</td>\n",
       "      <td>6.055926</td>\n",
       "      <td>10.213995</td>\n",
       "      <td>5.383759</td>\n",
       "      <td>68.116445</td>\n",
       "      <td>2.257889</td>\n",
       "      <td>10.507046</td>\n",
       "      <td>0.953716</td>\n",
       "      <td>16.208849</td>\n",
       "    </tr>\n",
       "    <tr>\n",
       "      <th>3</th>\n",
       "      <td>2016-01-15 03:00:00</td>\n",
       "      <td>6.118189</td>\n",
       "      <td>6.043309</td>\n",
       "      <td>2.037807</td>\n",
       "      <td>36.862241</td>\n",
       "      <td>542.590390</td>\n",
       "      <td>57.792734</td>\n",
       "      <td>11.630094</td>\n",
       "      <td>6.203177</td>\n",
       "      <td>999.814770</td>\n",
       "      <td>...</td>\n",
       "      <td>9.122857</td>\n",
       "      <td>42.689819</td>\n",
       "      <td>6.047977</td>\n",
       "      <td>9.977019</td>\n",
       "      <td>4.858634</td>\n",
       "      <td>68.347543</td>\n",
       "      <td>2.146849</td>\n",
       "      <td>10.422762</td>\n",
       "      <td>0.883763</td>\n",
       "      <td>16.532835</td>\n",
       "    </tr>\n",
       "    <tr>\n",
       "      <th>4</th>\n",
       "      <td>2016-01-15 04:00:00</td>\n",
       "      <td>5.663707</td>\n",
       "      <td>6.060915</td>\n",
       "      <td>1.786875</td>\n",
       "      <td>34.347666</td>\n",
       "      <td>540.531893</td>\n",
       "      <td>56.047189</td>\n",
       "      <td>10.957755</td>\n",
       "      <td>6.198826</td>\n",
       "      <td>999.678690</td>\n",
       "      <td>...</td>\n",
       "      <td>8.871028</td>\n",
       "      <td>42.774141</td>\n",
       "      <td>6.148599</td>\n",
       "      <td>10.142511</td>\n",
       "      <td>4.939416</td>\n",
       "      <td>66.927016</td>\n",
       "      <td>2.055292</td>\n",
       "      <td>10.360302</td>\n",
       "      <td>0.792826</td>\n",
       "      <td>16.525686</td>\n",
       "    </tr>\n",
       "  </tbody>\n",
       "</table>\n",
       "<p>5 rows × 87 columns</p>\n",
       "</div>"
      ],
      "text/plain": [
       "                  date  rougher.input.feed_au  rougher.input.feed_ag  \\\n",
       "0  2016-01-15 00:00:00               6.486150               6.100378   \n",
       "1  2016-01-15 01:00:00               6.478583               6.161113   \n",
       "2  2016-01-15 02:00:00               6.362222               6.116455   \n",
       "3  2016-01-15 03:00:00               6.118189               6.043309   \n",
       "4  2016-01-15 04:00:00               5.663707               6.060915   \n",
       "\n",
       "   rougher.input.feed_pb  rougher.input.feed_sol  rougher.input.feed_rate  \\\n",
       "0               2.284912               36.808594               523.546326   \n",
       "1               2.266033               35.753385               525.290581   \n",
       "2               2.159622               35.971630               530.026610   \n",
       "3               2.037807               36.862241               542.590390   \n",
       "4               1.786875               34.347666               540.531893   \n",
       "\n",
       "   rougher.input.feed_size  rougher.input.floatbank10_sulfate  \\\n",
       "0                55.486599                          11.986616   \n",
       "1                57.278666                          11.971193   \n",
       "2                57.510649                          11.920603   \n",
       "3                57.792734                          11.630094   \n",
       "4                56.047189                          10.957755   \n",
       "\n",
       "   rougher.input.floatbank10_xanthate  rougher.state.floatbank10_a_air  ...  \\\n",
       "0                            6.007990                       999.706909  ...   \n",
       "1                            6.005766                      1000.286398  ...   \n",
       "2                            6.197377                       999.719565  ...   \n",
       "3                            6.203177                       999.814770  ...   \n",
       "4                            6.198826                       999.678690  ...   \n",
       "\n",
       "   secondary_cleaner.output.tail_sol  final.output.concentrate_au  \\\n",
       "0                           8.764648                    42.192020   \n",
       "1                           9.001494                    42.701629   \n",
       "2                           8.842896                    42.657501   \n",
       "3                           9.122857                    42.689819   \n",
       "4                           8.871028                    42.774141   \n",
       "\n",
       "   final.output.concentrate_ag  final.output.concentrate_pb  \\\n",
       "0                     6.055403                     9.889648   \n",
       "1                     6.029369                     9.968944   \n",
       "2                     6.055926                    10.213995   \n",
       "3                     6.047977                     9.977019   \n",
       "4                     6.148599                    10.142511   \n",
       "\n",
       "   final.output.concentrate_sol  final.output.recovery  final.output.tail_au  \\\n",
       "0                      5.507324              70.541216              2.143149   \n",
       "1                      5.257781              69.266198              2.224930   \n",
       "2                      5.383759              68.116445              2.257889   \n",
       "3                      4.858634              68.347543              2.146849   \n",
       "4                      4.939416              66.927016              2.055292   \n",
       "\n",
       "   final.output.tail_ag  final.output.tail_pb  final.output.tail_sol  \n",
       "0             10.411962              0.895447              16.904297  \n",
       "1             10.462676              0.927452              16.634514  \n",
       "2             10.507046              0.953716              16.208849  \n",
       "3             10.422762              0.883763              16.532835  \n",
       "4             10.360302              0.792826              16.525686  \n",
       "\n",
       "[5 rows x 87 columns]"
      ]
     },
     "metadata": {},
     "output_type": "display_data"
    },
    {
     "name": "stdout",
     "output_type": "stream",
     "text": [
      "Количество пропусков\n",
      "date                        0\n",
      "rougher.input.feed_au       0\n",
      "rougher.input.feed_ag       0\n",
      "rougher.input.feed_pb     100\n",
      "rougher.input.feed_sol     99\n",
      "                         ... \n",
      "final.output.recovery       0\n",
      "final.output.tail_au        0\n",
      "final.output.tail_ag        1\n",
      "final.output.tail_pb      101\n",
      "final.output.tail_sol       6\n",
      "Length: 87, dtype: int64\n",
      "Количество дубликатов:\n"
     ]
    },
    {
     "data": {
      "text/plain": [
       "0"
      ]
     },
     "metadata": {},
     "output_type": "display_data"
    },
    {
     "name": "stdout",
     "output_type": "stream",
     "text": [
      "Статистические данные\n"
     ]
    },
    {
     "data": {
      "text/html": [
       "<div>\n",
       "<style scoped>\n",
       "    .dataframe tbody tr th:only-of-type {\n",
       "        vertical-align: middle;\n",
       "    }\n",
       "\n",
       "    .dataframe tbody tr th {\n",
       "        vertical-align: top;\n",
       "    }\n",
       "\n",
       "    .dataframe thead th {\n",
       "        text-align: right;\n",
       "    }\n",
       "</style>\n",
       "<table border=\"1\" class=\"dataframe\">\n",
       "  <thead>\n",
       "    <tr style=\"text-align: right;\">\n",
       "      <th></th>\n",
       "      <th>rougher.input.feed_au</th>\n",
       "      <th>rougher.input.feed_ag</th>\n",
       "      <th>rougher.input.feed_pb</th>\n",
       "      <th>rougher.input.feed_sol</th>\n",
       "      <th>rougher.input.feed_rate</th>\n",
       "      <th>rougher.input.feed_size</th>\n",
       "      <th>rougher.input.floatbank10_sulfate</th>\n",
       "      <th>rougher.input.floatbank10_xanthate</th>\n",
       "      <th>rougher.state.floatbank10_a_air</th>\n",
       "      <th>rougher.state.floatbank10_a_level</th>\n",
       "      <th>...</th>\n",
       "      <th>secondary_cleaner.output.tail_sol</th>\n",
       "      <th>final.output.concentrate_au</th>\n",
       "      <th>final.output.concentrate_ag</th>\n",
       "      <th>final.output.concentrate_pb</th>\n",
       "      <th>final.output.concentrate_sol</th>\n",
       "      <th>final.output.recovery</th>\n",
       "      <th>final.output.tail_au</th>\n",
       "      <th>final.output.tail_ag</th>\n",
       "      <th>final.output.tail_pb</th>\n",
       "      <th>final.output.tail_sol</th>\n",
       "    </tr>\n",
       "  </thead>\n",
       "  <tbody>\n",
       "    <tr>\n",
       "      <th>count</th>\n",
       "      <td>19439.000000</td>\n",
       "      <td>19439.000000</td>\n",
       "      <td>19339.000000</td>\n",
       "      <td>19340.000000</td>\n",
       "      <td>19428.000000</td>\n",
       "      <td>19294.000000</td>\n",
       "      <td>19405.000000</td>\n",
       "      <td>19431.000000</td>\n",
       "      <td>19438.000000</td>\n",
       "      <td>19438.000000</td>\n",
       "      <td>...</td>\n",
       "      <td>17691.000000</td>\n",
       "      <td>19439.000000</td>\n",
       "      <td>19438.000000</td>\n",
       "      <td>19438.000000</td>\n",
       "      <td>19228.000000</td>\n",
       "      <td>19439.000000</td>\n",
       "      <td>19439.000000</td>\n",
       "      <td>19438.000000</td>\n",
       "      <td>19338.000000</td>\n",
       "      <td>19433.000000</td>\n",
       "    </tr>\n",
       "    <tr>\n",
       "      <th>mean</th>\n",
       "      <td>8.266097</td>\n",
       "      <td>8.794927</td>\n",
       "      <td>3.598085</td>\n",
       "      <td>36.695114</td>\n",
       "      <td>478.320042</td>\n",
       "      <td>58.970310</td>\n",
       "      <td>12.334373</td>\n",
       "      <td>6.021474</td>\n",
       "      <td>1105.315068</td>\n",
       "      <td>-376.610690</td>\n",
       "      <td>...</td>\n",
       "      <td>7.167247</td>\n",
       "      <td>44.076513</td>\n",
       "      <td>5.168470</td>\n",
       "      <td>9.978895</td>\n",
       "      <td>9.501224</td>\n",
       "      <td>67.050208</td>\n",
       "      <td>3.042467</td>\n",
       "      <td>9.688589</td>\n",
       "      <td>2.705795</td>\n",
       "      <td>10.583728</td>\n",
       "    </tr>\n",
       "    <tr>\n",
       "      <th>std</th>\n",
       "      <td>1.955092</td>\n",
       "      <td>1.936847</td>\n",
       "      <td>1.049486</td>\n",
       "      <td>5.145445</td>\n",
       "      <td>105.373758</td>\n",
       "      <td>21.634478</td>\n",
       "      <td>3.427317</td>\n",
       "      <td>1.127263</td>\n",
       "      <td>160.826798</td>\n",
       "      <td>93.909667</td>\n",
       "      <td>...</td>\n",
       "      <td>3.916079</td>\n",
       "      <td>5.129784</td>\n",
       "      <td>1.372348</td>\n",
       "      <td>1.669240</td>\n",
       "      <td>2.787537</td>\n",
       "      <td>10.125840</td>\n",
       "      <td>0.922808</td>\n",
       "      <td>2.328642</td>\n",
       "      <td>0.949077</td>\n",
       "      <td>2.868782</td>\n",
       "    </tr>\n",
       "    <tr>\n",
       "      <th>min</th>\n",
       "      <td>0.010000</td>\n",
       "      <td>0.010000</td>\n",
       "      <td>0.010000</td>\n",
       "      <td>0.010000</td>\n",
       "      <td>0.002986</td>\n",
       "      <td>0.046369</td>\n",
       "      <td>0.001083</td>\n",
       "      <td>0.000568</td>\n",
       "      <td>-0.042069</td>\n",
       "      <td>-657.949759</td>\n",
       "      <td>...</td>\n",
       "      <td>0.000000</td>\n",
       "      <td>0.000000</td>\n",
       "      <td>0.000000</td>\n",
       "      <td>0.000000</td>\n",
       "      <td>0.000000</td>\n",
       "      <td>0.000000</td>\n",
       "      <td>0.000000</td>\n",
       "      <td>0.000000</td>\n",
       "      <td>0.000000</td>\n",
       "      <td>0.000000</td>\n",
       "    </tr>\n",
       "    <tr>\n",
       "      <th>25%</th>\n",
       "      <td>6.854384</td>\n",
       "      <td>7.237967</td>\n",
       "      <td>2.887280</td>\n",
       "      <td>34.207799</td>\n",
       "      <td>416.525453</td>\n",
       "      <td>47.435103</td>\n",
       "      <td>10.000362</td>\n",
       "      <td>5.398678</td>\n",
       "      <td>999.661867</td>\n",
       "      <td>-499.835165</td>\n",
       "      <td>...</td>\n",
       "      <td>3.845475</td>\n",
       "      <td>43.402215</td>\n",
       "      <td>4.251240</td>\n",
       "      <td>9.137262</td>\n",
       "      <td>7.722820</td>\n",
       "      <td>63.299712</td>\n",
       "      <td>2.461138</td>\n",
       "      <td>8.062878</td>\n",
       "      <td>2.040119</td>\n",
       "      <td>8.938947</td>\n",
       "    </tr>\n",
       "    <tr>\n",
       "      <th>50%</th>\n",
       "      <td>8.125839</td>\n",
       "      <td>8.593574</td>\n",
       "      <td>3.534895</td>\n",
       "      <td>37.202650</td>\n",
       "      <td>499.416120</td>\n",
       "      <td>54.610197</td>\n",
       "      <td>12.001174</td>\n",
       "      <td>6.008273</td>\n",
       "      <td>1001.072890</td>\n",
       "      <td>-300.263994</td>\n",
       "      <td>...</td>\n",
       "      <td>7.685827</td>\n",
       "      <td>45.011244</td>\n",
       "      <td>5.066094</td>\n",
       "      <td>10.102433</td>\n",
       "      <td>9.218961</td>\n",
       "      <td>68.172738</td>\n",
       "      <td>2.984909</td>\n",
       "      <td>9.743623</td>\n",
       "      <td>2.748730</td>\n",
       "      <td>10.622456</td>\n",
       "    </tr>\n",
       "    <tr>\n",
       "      <th>75%</th>\n",
       "      <td>9.769917</td>\n",
       "      <td>10.213771</td>\n",
       "      <td>4.244161</td>\n",
       "      <td>40.039133</td>\n",
       "      <td>550.172183</td>\n",
       "      <td>65.023044</td>\n",
       "      <td>14.716595</td>\n",
       "      <td>6.798051</td>\n",
       "      <td>1205.620588</td>\n",
       "      <td>-299.981998</td>\n",
       "      <td>...</td>\n",
       "      <td>10.411296</td>\n",
       "      <td>46.275313</td>\n",
       "      <td>5.895527</td>\n",
       "      <td>11.035769</td>\n",
       "      <td>10.947813</td>\n",
       "      <td>72.686642</td>\n",
       "      <td>3.571351</td>\n",
       "      <td>11.134294</td>\n",
       "      <td>3.333216</td>\n",
       "      <td>12.104271</td>\n",
       "    </tr>\n",
       "    <tr>\n",
       "      <th>max</th>\n",
       "      <td>13.731330</td>\n",
       "      <td>14.596026</td>\n",
       "      <td>7.142594</td>\n",
       "      <td>53.477742</td>\n",
       "      <td>717.508837</td>\n",
       "      <td>484.967466</td>\n",
       "      <td>36.118275</td>\n",
       "      <td>9.703448</td>\n",
       "      <td>1521.980372</td>\n",
       "      <td>-273.776101</td>\n",
       "      <td>...</td>\n",
       "      <td>26.000772</td>\n",
       "      <td>52.756638</td>\n",
       "      <td>16.001945</td>\n",
       "      <td>17.031899</td>\n",
       "      <td>19.615720</td>\n",
       "      <td>100.000000</td>\n",
       "      <td>8.245022</td>\n",
       "      <td>19.552149</td>\n",
       "      <td>5.804178</td>\n",
       "      <td>22.317730</td>\n",
       "    </tr>\n",
       "  </tbody>\n",
       "</table>\n",
       "<p>8 rows × 86 columns</p>\n",
       "</div>"
      ],
      "text/plain": [
       "       rougher.input.feed_au  rougher.input.feed_ag  rougher.input.feed_pb  \\\n",
       "count           19439.000000           19439.000000           19339.000000   \n",
       "mean                8.266097               8.794927               3.598085   \n",
       "std                 1.955092               1.936847               1.049486   \n",
       "min                 0.010000               0.010000               0.010000   \n",
       "25%                 6.854384               7.237967               2.887280   \n",
       "50%                 8.125839               8.593574               3.534895   \n",
       "75%                 9.769917              10.213771               4.244161   \n",
       "max                13.731330              14.596026               7.142594   \n",
       "\n",
       "       rougher.input.feed_sol  rougher.input.feed_rate  \\\n",
       "count            19340.000000             19428.000000   \n",
       "mean                36.695114               478.320042   \n",
       "std                  5.145445               105.373758   \n",
       "min                  0.010000                 0.002986   \n",
       "25%                 34.207799               416.525453   \n",
       "50%                 37.202650               499.416120   \n",
       "75%                 40.039133               550.172183   \n",
       "max                 53.477742               717.508837   \n",
       "\n",
       "       rougher.input.feed_size  rougher.input.floatbank10_sulfate  \\\n",
       "count             19294.000000                       19405.000000   \n",
       "mean                 58.970310                          12.334373   \n",
       "std                  21.634478                           3.427317   \n",
       "min                   0.046369                           0.001083   \n",
       "25%                  47.435103                          10.000362   \n",
       "50%                  54.610197                          12.001174   \n",
       "75%                  65.023044                          14.716595   \n",
       "max                 484.967466                          36.118275   \n",
       "\n",
       "       rougher.input.floatbank10_xanthate  rougher.state.floatbank10_a_air  \\\n",
       "count                        19431.000000                     19438.000000   \n",
       "mean                             6.021474                      1105.315068   \n",
       "std                              1.127263                       160.826798   \n",
       "min                              0.000568                        -0.042069   \n",
       "25%                              5.398678                       999.661867   \n",
       "50%                              6.008273                      1001.072890   \n",
       "75%                              6.798051                      1205.620588   \n",
       "max                              9.703448                      1521.980372   \n",
       "\n",
       "       rougher.state.floatbank10_a_level  ...  \\\n",
       "count                       19438.000000  ...   \n",
       "mean                         -376.610690  ...   \n",
       "std                            93.909667  ...   \n",
       "min                          -657.949759  ...   \n",
       "25%                          -499.835165  ...   \n",
       "50%                          -300.263994  ...   \n",
       "75%                          -299.981998  ...   \n",
       "max                          -273.776101  ...   \n",
       "\n",
       "       secondary_cleaner.output.tail_sol  final.output.concentrate_au  \\\n",
       "count                       17691.000000                 19439.000000   \n",
       "mean                            7.167247                    44.076513   \n",
       "std                             3.916079                     5.129784   \n",
       "min                             0.000000                     0.000000   \n",
       "25%                             3.845475                    43.402215   \n",
       "50%                             7.685827                    45.011244   \n",
       "75%                            10.411296                    46.275313   \n",
       "max                            26.000772                    52.756638   \n",
       "\n",
       "       final.output.concentrate_ag  final.output.concentrate_pb  \\\n",
       "count                 19438.000000                 19438.000000   \n",
       "mean                      5.168470                     9.978895   \n",
       "std                       1.372348                     1.669240   \n",
       "min                       0.000000                     0.000000   \n",
       "25%                       4.251240                     9.137262   \n",
       "50%                       5.066094                    10.102433   \n",
       "75%                       5.895527                    11.035769   \n",
       "max                      16.001945                    17.031899   \n",
       "\n",
       "       final.output.concentrate_sol  final.output.recovery  \\\n",
       "count                  19228.000000           19439.000000   \n",
       "mean                       9.501224              67.050208   \n",
       "std                        2.787537              10.125840   \n",
       "min                        0.000000               0.000000   \n",
       "25%                        7.722820              63.299712   \n",
       "50%                        9.218961              68.172738   \n",
       "75%                       10.947813              72.686642   \n",
       "max                       19.615720             100.000000   \n",
       "\n",
       "       final.output.tail_au  final.output.tail_ag  final.output.tail_pb  \\\n",
       "count          19439.000000          19438.000000          19338.000000   \n",
       "mean               3.042467              9.688589              2.705795   \n",
       "std                0.922808              2.328642              0.949077   \n",
       "min                0.000000              0.000000              0.000000   \n",
       "25%                2.461138              8.062878              2.040119   \n",
       "50%                2.984909              9.743623              2.748730   \n",
       "75%                3.571351             11.134294              3.333216   \n",
       "max                8.245022             19.552149              5.804178   \n",
       "\n",
       "       final.output.tail_sol  \n",
       "count           19433.000000  \n",
       "mean               10.583728  \n",
       "std                 2.868782  \n",
       "min                 0.000000  \n",
       "25%                 8.938947  \n",
       "50%                10.622456  \n",
       "75%                12.104271  \n",
       "max                22.317730  \n",
       "\n",
       "[8 rows x 86 columns]"
      ]
     },
     "metadata": {},
     "output_type": "display_data"
    }
   ],
   "source": [
    "for i in data:\n",
    "    analysis(i)"
   ]
  },
  {
   "cell_type": "markdown",
   "metadata": {},
   "source": [
    "Проанализировав общую картину по таблицам мы видим, что объем данных весьма внушительный. Имеется большое количество признаков и в них также присутвуют пропуски. Дубликаты отсутвуют, но при этом по статическим данным тяжело дать какую-либо определенную оценку. Разберем значения стобцов:"
   ]
  },
  {
   "cell_type": "markdown",
   "metadata": {},
   "source": [
    "**Технологический процесс**\n",
    "\n",
    "Rougher feed — исходное сырье\n",
    "\n",
    "Rougher additions (или reagent additions) — флотационные реагенты: Xanthate, Sulphate, Depressant\n",
    "\n",
    "Xanthate — ксантогенат (промотер, или активатор флотации);\n",
    "\n",
    "Sulphate — сульфат (на данном производстве сульфид натрия);\n",
    "\n",
    "Depressant — депрессант (силикат натрия).\n",
    "\n",
    "Rougher process (англ. «грубый процесс») — флотация\n",
    "\n",
    "Rougher tails — отвальные хвосты\n",
    "\n",
    "Float banks — флотационная установка\n",
    "\n",
    "Cleaner process — очистка\n",
    "\n",
    "\n",
    "Rougher Au — черновой концентрат золота\n",
    "\n",
    "Final Au — финальный концентрат золота\n",
    "\n",
    "**Параметры этапов**\n",
    "\n",
    "air amount — объём воздуха\n",
    "\n",
    "fluid levels — уровень жидкости\n",
    "\n",
    "feed size — размер гранул сырья\n",
    "\n",
    "feed rate — скорость подачи\n",
    "\n",
    "**Наименование признаков\n",
    "Наименование признаков должно быть такое:**\n",
    "\n",
    "[этап].[тип_параметра].[название_параметра]\n",
    "\n",
    "Пример: rougher.input.feed_ag\n",
    "\n",
    "**Возможные значения для блока [этап]:**\n",
    "\n",
    "\n",
    "rougher — флотация\n",
    "\n",
    "primary_cleaner — первичная очистка\n",
    "\n",
    "secondary_cleaner — вторичная очистка\n",
    "\n",
    "final — финальные характеристики\n",
    "\n",
    "**Возможные значения для блока [тип_параметра]:**\n",
    "\n",
    "input — параметры сырья\n",
    "\n",
    "output — параметры продукта\n",
    "\n",
    "state — параметры, характеризующие текущее состояние этапа\n",
    "\n",
    "calculation — расчётные характеристики"
   ]
  },
  {
   "cell_type": "markdown",
   "metadata": {},
   "source": [
    "### Проверка эффективности обогащения"
   ]
  },
  {
   "cell_type": "markdown",
   "metadata": {},
   "source": [
    "Эффективность обогащения рассчитывается по формуле\n",
    "\n",
    "Recovery = (C * (F - T)) / (F * (C - T)) * 100\n",
    "\n",
    "где: C — доля золота в концентрате после флотации/очистки;\n",
    "F — доля золота в сырье/концентрате до флотации/очистки;\n",
    "T — доля золота в отвальных хвостах после флотации/очистки.\n",
    "\n",
    "Создадим функцию recovery, которая получает на вход строку из данных и извлекает из нее значения трех колонок: rougher.input.feed_au, rougher.output.concentrate_au и rougher.output.tail_au"
   ]
  },
  {
   "cell_type": "code",
   "execution_count": 70,
   "metadata": {},
   "outputs": [],
   "source": [
    "# Создание функции\n",
    "def recovery(c, f, t):\n",
    "    return (c*(f-t))/(f*(c-t))*100"
   ]
  },
  {
   "cell_type": "code",
   "execution_count": 71,
   "metadata": {},
   "outputs": [
    {
     "name": "stdout",
     "output_type": "stream",
     "text": [
      "Средняя абсолютная ошибка равна 9.83758577644259e-15\n"
     ]
    }
   ],
   "source": [
    "rec_train = recovery(data_train['rougher.output.concentrate_au'], data_train['rougher.input.feed_au'], data_train['rougher.output.tail_au'])\n",
    "\n",
    "# Рассчет МАЕ\n",
    "MAE = mean_absolute_error(data_train[\"rougher.output.recovery\"], rec_train)\n",
    "print('Средняя абсолютная ошибка равна', MAE)"
   ]
  },
  {
   "cell_type": "markdown",
   "metadata": {},
   "source": [
    "**Вывод:** Средняя абсолютная ошибку практически равна нулю, по этой причине можно считать, что эффективность обогащения рассчитаная верна"
   ]
  },
  {
   "cell_type": "markdown",
   "metadata": {},
   "source": [
    "### Обработка данных"
   ]
  },
  {
   "cell_type": "markdown",
   "metadata": {},
   "source": [
    "Т.к. количество столбцов в тестовой выборке отличается от обучающей и полной, то найдем список отсутвующих столбцов."
   ]
  },
  {
   "cell_type": "code",
   "execution_count": 72,
   "metadata": {},
   "outputs": [
    {
     "name": "stdout",
     "output_type": "stream",
     "text": [
      "['rougher.calculation.sulfate_to_au_concentrate', 'rougher.calculation.floatbank10_sulfate_to_au_feed', 'rougher.calculation.floatbank11_sulfate_to_au_feed', 'rougher.calculation.au_pb_ratio', 'rougher.output.concentrate_au', 'rougher.output.concentrate_ag', 'rougher.output.concentrate_pb', 'rougher.output.concentrate_sol', 'rougher.output.recovery', 'rougher.output.tail_au', 'rougher.output.tail_ag', 'rougher.output.tail_pb', 'rougher.output.tail_sol', 'primary_cleaner.output.concentrate_au', 'primary_cleaner.output.concentrate_ag', 'primary_cleaner.output.concentrate_pb', 'primary_cleaner.output.concentrate_sol', 'primary_cleaner.output.tail_au', 'primary_cleaner.output.tail_ag', 'primary_cleaner.output.tail_pb', 'primary_cleaner.output.tail_sol', 'secondary_cleaner.output.tail_au', 'secondary_cleaner.output.tail_ag', 'secondary_cleaner.output.tail_pb', 'secondary_cleaner.output.tail_sol', 'final.output.concentrate_au', 'final.output.concentrate_ag', 'final.output.concentrate_pb', 'final.output.concentrate_sol', 'final.output.recovery', 'final.output.tail_au', 'final.output.tail_ag', 'final.output.tail_pb', 'final.output.tail_sol']\n",
      "Количество пропусков: 34\n"
     ]
    }
   ],
   "source": [
    "miss_columns = [i for i in data_train.columns if i not in data_test.columns]\n",
    "print(miss_columns)\n",
    "print('Количество пропусков:', len(miss_columns))"
   ]
  },
  {
   "cell_type": "markdown",
   "metadata": {},
   "source": [
    "Как видно в тестовой выборке отсутствуют 34 параметра. Это может быть связана, что данные показатели рассчитываютя/замеряются значительно позже. Также в тестовой выборке отсутствуют два целевых признака - final.output.recovery, rougher.output.recovery. Их необходимо найти из  полных данных и добавить их учитывая даты."
   ]
  },
  {
   "cell_type": "code",
   "execution_count": 73,
   "metadata": {
    "scrolled": true
   },
   "outputs": [
    {
     "name": "stdout",
     "output_type": "stream",
     "text": [
      "Количество пропусков: 32\n"
     ]
    }
   ],
   "source": [
    "data_test = data_test.merge(data_full[['date', 'final.output.recovery', 'rougher.output.recovery']], on='date', how='left')\n",
    "# Проверка \n",
    "miss_columns = [i for i in data_train.columns if i not in data_test.columns]\n",
    "print('Количество пропусков:', len(miss_columns))"
   ]
  },
  {
   "cell_type": "markdown",
   "metadata": {},
   "source": [
    "### Заполнение пропусков"
   ]
  },
  {
   "cell_type": "code",
   "execution_count": 74,
   "metadata": {
    "scrolled": true
   },
   "outputs": [
    {
     "name": "stdout",
     "output_type": "stream",
     "text": [
      "Количество пропусков в обучаюущей выборке: 3050\n",
      "Количество пропущенных значений в тестовой выборке: 375\n",
      "Количество пропущенных значений в исходных данных: 4481\n"
     ]
    }
   ],
   "source": [
    "# Проверим на количетсво пропусков\n",
    "print('Количество пропусков в обучаюущей выборке:', data_train.isnull().sum().sum())\n",
    "print('Количество пропущенных значений в тестовой выборке:', data_test.isnull().sum().sum())\n",
    "print('Количество пропущенных значений в исходных данных:', data_full.isnull().sum().sum())"
   ]
  },
  {
   "cell_type": "markdown",
   "metadata": {},
   "source": [
    "Как видно, у нас имеется большое количество пропущенных значений, удалить их не имеет смысла, т.к. они пригодятся для обучения модели. Нам нет необходимости заменять пропуски медианным значением, т.к. в исходном задании нас предупредили, что соседние значения не сильно отличаются. По этой причине заполним пропуски соседними значениями."
   ]
  },
  {
   "cell_type": "code",
   "execution_count": 75,
   "metadata": {},
   "outputs": [],
   "source": [
    "data_full = data_full.fillna(method='ffill')\n",
    "data_train = data_train.fillna(method='ffill')\n",
    "data_test = data_test.fillna(method='ffill')"
   ]
  },
  {
   "cell_type": "code",
   "execution_count": 76,
   "metadata": {},
   "outputs": [
    {
     "name": "stdout",
     "output_type": "stream",
     "text": [
      "Количество пропусков в обучаюущей выборке: 0\n",
      "Количество пропущенных значений в тестовой выборке: 0\n",
      "Количество пропущенных значений в исходных данных: 0\n"
     ]
    }
   ],
   "source": [
    "# Проверка\n",
    "print('Количество пропусков в обучаюущей выборке:', data_train.isnull().sum().sum())\n",
    "print('Количество пропущенных значений в тестовой выборке:', data_test.isnull().sum().sum())\n",
    "print('Количество пропущенных значений в исходных данных:', data_full.isnull().sum().sum())"
   ]
  },
  {
   "cell_type": "markdown",
   "metadata": {},
   "source": [
    "### Вывод"
   ]
  },
  {
   "cell_type": "markdown",
   "metadata": {},
   "source": [
    "В ходе анализа были изучены и расмотрены 3 датасета, были проанализированы общие характеристики таблиц, а также проверены на отсутствие пропусков и дубликатов. Была доработана тестовая выборка для задач машинного обучения, а пропуски в данных были заполнены соседними значениями. Также произведена проверка рассчета эфиктивности обогащения recovery."
   ]
  },
  {
   "cell_type": "markdown",
   "metadata": {},
   "source": [
    "## Анализ данных"
   ]
  },
  {
   "cell_type": "markdown",
   "metadata": {},
   "source": [
    "### Изменение концентрация металлов (Au, Ag, Pb) на различных этапах"
   ]
  },
  {
   "cell_type": "code",
   "execution_count": 77,
   "metadata": {},
   "outputs": [],
   "source": [
    "# Создадим списко элементов\n",
    "metal=['au', 'ag', 'pb'] "
   ]
  },
  {
   "cell_type": "code",
   "execution_count": 78,
   "metadata": {},
   "outputs": [
    {
     "data": {
      "image/png": "[encoded data removed]",
      "text/plain": [
       "<Figure size 1080x360 with 1 Axes>"
      ]
     },
     "metadata": {
      "needs_background": "light"
     },
     "output_type": "display_data"
    },
    {
     "data": {
      "image/png": "[encoded data removed]",
      "text/plain": [
       "<Figure size 1080x360 with 1 Axes>"
      ]
     },
     "metadata": {
      "needs_background": "light"
     },
     "output_type": "display_data"
    },
    {
     "data": {
      "image/png": "[encoded data removed]",
      "text/plain": [
       "<Figure size 1080x360 with 1 Axes>"
      ]
     },
     "metadata": {
      "needs_background": "light"
     },
     "output_type": "display_data"
    }
   ],
   "source": [
    "# Зададим цикл с построением гистрограмм \n",
    "for met in metal:\n",
    "    plt.figure(figsize=(15,5))\n",
    "    data_full['rougher.input.feed_'+met].hist(bins=50, label='До флотации', alpha=0.5)\n",
    "    data_full['rougher.output.concentrate_'+met].hist(bins=50, label='После флотация', alpha=0.7)\n",
    "    data_full['primary_cleaner.output.concentrate_'+met].hist(bins=50, label='После первичной очистки', alpha=0.7)\n",
    "    data_full['final.output.concentrate_'+met].hist(bins=50, label='После вторичной очистка', alpha=0.7)\n",
    "    plt.legend()\n",
    "    plt.xlabel('Концентрация '+met)\n",
    "    plt.ylabel('Количество')\n",
    "    plt.show()"
   ]
  },
  {
   "cell_type": "markdown",
   "metadata": {},
   "source": [
    "**Вывод:** Анализиуря состав на различных этапах мы видим, что содержания золота в смеси после каждого этапа становится все больше. Концентрация серебра на каждом этапе не однозначно меняется, макссимальная концентрация достигается на этапе флотации. Свинец с каждым этапом увеличивается, макссимальная концентрация приходится на этап вторичной очистки.\n",
    "Концентрация металлов в остаточной золе логично будет уменьшаться, т.к. из смеси после каждого этапа выделяется определенное количетсво элементов.\n",
    "Единственный момент , который вызывает сомнение это скопления нулевых значений для каждого элемента. Для более точной работы моделей машинного обучения лучше избавится от данных значений."
   ]
  },
  {
   "cell_type": "code",
   "execution_count": 79,
   "metadata": {},
   "outputs": [],
   "source": [
    "# Зададим список стадий\n",
    "stadies=['rougher.output', 'primary_cleaner.output', 'final.output']\n",
    "\n",
    "# Перезапишем датасеты с учетом нулевых значений\n",
    "for st in stadies:\n",
    "    data_train = data_train[(data_train[st+'.concentrate_au'] != 0) &\n",
    "                    (data_train[st+'.concentrate_ag'] != 0) &\n",
    "                    (data_train[st+'.concentrate_pb'] != 0)]\n",
    "    \n",
    "for st in stadies:\n",
    "    data_full = data_full[(data_full[st+'.concentrate_au'] != 0) &\n",
    "                    (data_full[st+'.concentrate_ag'] != 0) &\n",
    "                    (data_full[st+'.concentrate_pb'] != 0)]\n"
   ]
  },
  {
   "cell_type": "markdown",
   "metadata": {},
   "source": [
    "### Сравнение распределения размеров гранул исходного сырья на обучающей и тестовой выборке"
   ]
  },
  {
   "cell_type": "code",
   "execution_count": 80,
   "metadata": {},
   "outputs": [
    {
     "data": {
      "image/png": "[encoded data removed]",
      "text/plain": [
       "<Figure size 1080x360 with 1 Axes>"
      ]
     },
     "metadata": {
      "needs_background": "light"
     },
     "output_type": "display_data"
    },
    {
     "data": {
      "image/png": "[encoded data removed]",
      "text/plain": [
       "<Figure size 1080x360 with 1 Axes>"
      ]
     },
     "metadata": {
      "needs_background": "light"
     },
     "output_type": "display_data"
    }
   ],
   "source": [
    "stad = [ 'rougher.input', 'primary_cleaner.input']\n",
    "for st in stad:\n",
    "    plt.figure(figsize=(15,5))\n",
    "    data_train[st+'.feed_size'].hist(bins=100, label='data_train, '+st, alpha=0.5, density=True)\n",
    "    data_test[st+'.feed_size'].hist(bins=100, label='data_test, '+st, alpha=0.5, density=True)\n",
    "    plt.title('Распределение размеров гранул после '+st)\n",
    "    plt.legend()\n",
    "    plt.xlabel('Размеры гранул')\n",
    "    plt.ylabel('Количество')\n",
    "    plt.show()"
   ]
  },
  {
   "cell_type": "markdown",
   "metadata": {},
   "source": [
    "Распределения гранул сырья на тестовой и обучаюущейвыборках нормальные. На этапе флотации распределение смещено влево. Такое распределение не повлияет негативно на обучение моделей, оставим значения без изменений."
   ]
  },
  {
   "cell_type": "markdown",
   "metadata": {},
   "source": [
    "### Исследование суммарной концентрации металлов на разных стадиях"
   ]
  },
  {
   "cell_type": "code",
   "execution_count": 81,
   "metadata": {},
   "outputs": [
    {
     "data": {
      "image/png": "[encoded data removed]",
      "text/plain": [
       "<Figure size 1080x360 with 1 Axes>"
      ]
     },
     "metadata": {
      "needs_background": "light"
     },
     "output_type": "display_data"
    },
    {
     "data": {
      "image/png": "[encoded data removed]",
      "text/plain": [
       "<Figure size 1080x360 with 1 Axes>"
      ]
     },
     "metadata": {
      "needs_background": "light"
     },
     "output_type": "display_data"
    },
    {
     "data": {
      "image/png": "[encoded data removed]",
      "text/plain": [
       "<Figure size 1080x360 with 1 Axes>"
      ]
     },
     "metadata": {
      "needs_background": "light"
     },
     "output_type": "display_data"
    }
   ],
   "source": [
    "for st in stadies:\n",
    "    data_train[st+'.concentrate_metal'] = (data_train[st+'.concentrate_au']\n",
    "                                    + data_train[st+'.concentrate_ag']\n",
    "                                    + data_train[st+'.concentrate_pb'])\n",
    "    plt.figure(figsize=(15,5))\n",
    "    data_train[st+'.concentrate_metal'].hist(bins=50, label='металлы', alpha=0.7)\n",
    "    data_train[st+'.concentrate_au'].hist(bins=50, label='золото', alpha=0.7)\n",
    "    data_train[st+'.concentrate_ag'].hist(bins=50, label='серебро', alpha=0.7)\n",
    "    data_train[st+'.concentrate_pb'].hist(bins=50, label='свинец', alpha=0.7)\n",
    "    plt.title('Суммарная концентрация металлов после  '+st)\n",
    "    plt.xlabel('Концентрация')\n",
    "    plt.ylabel('Количество')\n",
    "    plt.legend()\n",
    "    plt.show()"
   ]
  },
  {
   "cell_type": "markdown",
   "metadata": {},
   "source": [
    "Как видно после прохождения каждого из этапов сумарное количество металлов увеличвается, а диапазон распределений становиться меньше."
   ]
  },
  {
   "cell_type": "markdown",
   "metadata": {},
   "source": [
    "### Вывод"
   ]
  },
  {
   "cell_type": "markdown",
   "metadata": {},
   "source": [
    "Была произведено сравнение концентрации металлов на различных этапах очистки, произведено сравнение как индвидуально для каждого элемента, так и сумарного количества металлов. Аномальные значения по концентрации элементов были удалены, для увелечения точности модели машинного обучения.\n",
    "Также были сравнены размеры гранул на тестовой и обучающей выборке, на всех можем наблюдать Гаусовское распределение."
   ]
  },
  {
   "cell_type": "markdown",
   "metadata": {},
   "source": [
    "## Модель"
   ]
  },
  {
   "cell_type": "markdown",
   "metadata": {},
   "source": [
    "### Подготовка выборок"
   ]
  },
  {
   "cell_type": "code",
   "execution_count": 82,
   "metadata": {},
   "outputs": [],
   "source": [
    "# Выравниваем признаки в обучающей и тестовой выборке\n",
    "columns=list(set(data_train.columns)-set(data_test.columns))\n",
    "data_train = data_train.drop(columns, axis=1)"
   ]
  },
  {
   "cell_type": "code",
   "execution_count": 83,
   "metadata": {},
   "outputs": [
    {
     "name": "stdout",
     "output_type": "stream",
     "text": [
      "(13982, 52) (13982, 2) (4860, 52) (4860, 2)\n"
     ]
    }
   ],
   "source": [
    "# Разделение признаков на целевые и обучающие\n",
    "features_train = data_train.drop(['rougher.output.recovery','final.output.recovery','date'], axis=1)\n",
    "target_train = data_train[['rougher.output.recovery', 'final.output.recovery']]\n",
    "features_test = data_test.drop(['rougher.output.recovery','final.output.recovery','date'], axis=1)\n",
    "target_test = data_test[['rougher.output.recovery', 'final.output.recovery']]\n",
    "#Проверка\n",
    "print(features_train.shape, target_train.shape, features_test.shape, target_test.shape)"
   ]
  },
  {
   "cell_type": "code",
   "execution_count": 84,
   "metadata": {},
   "outputs": [],
   "source": [
    "# Промасштабируем количественные признкаки\n",
    "scaler = StandardScaler()\n",
    "scaler.fit(features_train) \n",
    "\n",
    "features_train = scaler.transform(features_train)\n",
    "features_test = scaler.transform(features_test)"
   ]
  },
  {
   "cell_type": "markdown",
   "metadata": {},
   "source": [
    "### Напишим функции для вычисления итоговой sMAPE."
   ]
  },
  {
   "cell_type": "code",
   "execution_count": 85,
   "metadata": {},
   "outputs": [],
   "source": [
    "def smape(target, predict):\n",
    "    smape = (np.sum((abs(target - predict)) / ((abs(target) + abs(predict)) / 2))) * 100 / len(target)\n",
    "    return smape\n",
    "\n",
    "smape_score = make_scorer(smape, greater_is_better=False)\n",
    "\n",
    "def smape_itog(smape_rougher, smape_final):\n",
    "    smape_itog = 0.25 * smape_rougher + 0.75 * smape_final\n",
    "    return smape_itog"
   ]
  },
  {
   "cell_type": "markdown",
   "metadata": {},
   "source": [
    "### Модель дерева решений"
   ]
  },
  {
   "cell_type": "code",
   "execution_count": 86,
   "metadata": {},
   "outputs": [
    {
     "name": "stdout",
     "output_type": "stream",
     "text": [
      "Средняя оценка качества sMAPE_DTR_rougher: 6.95\n"
     ]
    }
   ],
   "source": [
    "model_rougher = DecisionTreeRegressor(random_state=12345, max_depth=4)\n",
    "model_rougher.fit(features_train, target_train['rougher.output.recovery'])\n",
    "# оценка модели с помощью кроссвалидации\n",
    "scores_rougher = cross_val_score(model_rougher,\n",
    "                                     features_train,\n",
    "                                     target_train['rougher.output.recovery'],\n",
    "                                     scoring = smape_score,\n",
    "                                     cv = 5)\n",
    "\n",
    "smape_rougher = abs(scores_rougher).mean()\n",
    "print('Средняя оценка качества sMAPE_DTR_rougher:', round(smape_rougher, 2))"
   ]
  },
  {
   "cell_type": "code",
   "execution_count": 87,
   "metadata": {},
   "outputs": [
    {
     "name": "stdout",
     "output_type": "stream",
     "text": [
      "Средняя оценка качества sMAPE_DTR_final: 10.322003834916458\n"
     ]
    }
   ],
   "source": [
    "model_final = DecisionTreeRegressor(random_state=12345, max_depth=5)\n",
    "model_final.fit(features_train, target_train['final.output.recovery'])\n",
    "# оценка модели с помощью кроссвалидации\n",
    "scores_final = cross_val_score(model_final,\n",
    "                                   features_train,\n",
    "                                   target_train['final.output.recovery'],\n",
    "                                   scoring = smape_score,\n",
    "                                   cv = 5)\n",
    "smape_final = abs(scores_final).mean()\n",
    "print('Средняя оценка качества sMAPE_DTR_final:', smape_final)"
   ]
  },
  {
   "cell_type": "code",
   "execution_count": 88,
   "metadata": {
    "scrolled": true
   },
   "outputs": [
    {
     "name": "stdout",
     "output_type": "stream",
     "text": [
      "Средняя итоговая оценка качества модели дерева решений: 9.479560469235379\n"
     ]
    }
   ],
   "source": [
    "smape_total = smape_itog(smape_rougher, smape_final)\n",
    "print('Средняя итоговая оценка качества модели дерева решений:', smape_total)"
   ]
  },
  {
   "cell_type": "markdown",
   "metadata": {},
   "source": [
    "**Проведем подбор гиперпараметров с помощью функции GridSearchCV.**"
   ]
  },
  {
   "cell_type": "code",
   "execution_count": 89,
   "metadata": {},
   "outputs": [
    {
     "name": "stdout",
     "output_type": "stream",
     "text": [
      "Абсолютное значение best_rougher: 6.6906237877769\n",
      "{'max_depth': 6}\n"
     ]
    }
   ],
   "source": [
    "# описание модели дерева решений\n",
    "model_rougher_best = DecisionTreeRegressor(random_state=12345)\n",
    "parameters = {'max_depth': [x for x in range(1, 10)]}\n",
    "# перебор гиперпараметров \n",
    "best_rougher = GridSearchCV(model_rougher_best,\n",
    "                                parameters,\n",
    "                                cv=5,\n",
    "                                scoring=smape_score)\n",
    "\n",
    "best_rougher.fit(features_train, target_train['rougher.output.recovery'])\n",
    "a=abs(best_rougher.best_score_)\n",
    "print('Абсолютное значение best_rougher:', abs(best_rougher.best_score_))\n",
    "print(best_rougher.best_params_)"
   ]
  },
  {
   "cell_type": "code",
   "execution_count": 90,
   "metadata": {},
   "outputs": [
    {
     "name": "stdout",
     "output_type": "stream",
     "text": [
      "Абсолютное значение best_final: 9.211340584742237\n",
      "{'max_depth': 3}\n"
     ]
    }
   ],
   "source": [
    "# описание модели дерева решений\n",
    "model_final_best = DecisionTreeRegressor(random_state=12345)\n",
    "parameters = {'max_depth': [x for x in range(1, 10)]}\n",
    "# перебор гиперпараметров \n",
    "best_final = GridSearchCV(model_final_best,\n",
    "                              parameters,\n",
    "                              cv=5,\n",
    "                              scoring=smape_score)\n",
    "\n",
    "best_final.fit(features_train, target_train['final.output.recovery'])\n",
    "b=abs(best_final.best_score_)\n",
    "print('Абсолютное значение best_final:', abs(best_final.best_score_))\n",
    "print(best_final.best_params_)"
   ]
  },
  {
   "cell_type": "code",
   "execution_count": 91,
   "metadata": {},
   "outputs": [
    {
     "name": "stdout",
     "output_type": "stream",
     "text": [
      "Средняя итоговая оценка качества модели дерева решений: 8.581161385500902\n"
     ]
    }
   ],
   "source": [
    "smape_best = smape_itog(a,b)\n",
    "print('Средняя итоговая оценка качества модели дерева решений:', smape_best)"
   ]
  },
  {
   "cell_type": "markdown",
   "metadata": {},
   "source": [
    "**Вывод** Была расмотрена модель дерева решений, с помощью функции GreadSearch были найдены лучшие парметры для улучшения показателя sMAPE. Для чернового концентрата sMAPE составил 6.69 при глубине дерева 6 (лучший показатель), а для финального концентрата sMAPE сотавил 9.21 при глубине дерева 3. Итоговы sMAPE для модели дерева решений составил 8.581"
   ]
  },
  {
   "cell_type": "markdown",
   "metadata": {},
   "source": [
    "### Модель случайного леса"
   ]
  },
  {
   "cell_type": "code",
   "execution_count": 92,
   "metadata": {},
   "outputs": [
    {
     "name": "stdout",
     "output_type": "stream",
     "text": [
      "Средняя оценка качества модели случайного леса: 6.570343155553324\n"
     ]
    }
   ],
   "source": [
    "model_rougher = RandomForestRegressor(random_state=12345, max_depth=5, n_estimators=25)\n",
    "# оценка модели случайного леса кроссвалидацией\n",
    "scores_rougher = cross_val_score(model_rougher,\n",
    "                                     features_train,\n",
    "                                     target_train['rougher.output.recovery'],\n",
    "                                     scoring=smape_score,\n",
    "                                     cv = 5)\n",
    "\n",
    "smape_rougher = abs(scores_rougher).mean()\n",
    "print('Средняя оценка качества модели случайного леса:', smape_rougher)"
   ]
  },
  {
   "cell_type": "code",
   "execution_count": 93,
   "metadata": {},
   "outputs": [
    {
     "name": "stdout",
     "output_type": "stream",
     "text": [
      "Средняя оценка качества модели случайного леса: 8.844189830744167\n"
     ]
    }
   ],
   "source": [
    "model_final = RandomForestRegressor(random_state=12345, max_depth=2, n_estimators=25)\n",
    "# оценка модели случайного леса кроссвалидацией\n",
    "scores_final = cross_val_score(model_final,\n",
    "                                     features_train,\n",
    "                                     target_train['final.output.recovery'],\n",
    "                                     scoring=smape_score,\n",
    "                                     cv = 5)\n",
    "\n",
    "smape_final = abs(scores_final).mean()\n",
    "print('Средняя оценка качества модели случайного леса:', smape_final)"
   ]
  },
  {
   "cell_type": "code",
   "execution_count": 94,
   "metadata": {},
   "outputs": [
    {
     "name": "stdout",
     "output_type": "stream",
     "text": [
      "Средняя итоговая оценка качества модели случайного леса: 8.275728161946457\n"
     ]
    }
   ],
   "source": [
    "smape_total = smape_itog(smape_rougher, smape_final)\n",
    "print('Средняя итоговая оценка качества модели случайного леса:', smape_total)"
   ]
  },
  {
   "cell_type": "markdown",
   "metadata": {},
   "source": [
    "**Вывод:** Была расмотрена модель случайного леса, для чернового концентрата sMAPE составил 6.57 при количестве деревьев 25 и глубине 5, а для финального концентрата sMAPE сотавил 8.84 количестве деревьев 25 и глубине 2. Итоговы sMAPE для модели дерева решений составил 8.2757"
   ]
  },
  {
   "cell_type": "markdown",
   "metadata": {},
   "source": [
    "### Линейная регрессия"
   ]
  },
  {
   "cell_type": "code",
   "execution_count": 95,
   "metadata": {},
   "outputs": [
    {
     "name": "stdout",
     "output_type": "stream",
     "text": [
      "Средняя оценка качества линейной регрессией: 7.033526267625999\n"
     ]
    }
   ],
   "source": [
    "model_reg = LinearRegression()\n",
    "# оценка модели линейной регрессии кроссвалидацией \n",
    "scores_reg_rougher = cross_val_score(model_reg,\n",
    "                                    features_train,\n",
    "                                    target_train['rougher.output.recovery'],\n",
    "                                    scoring = smape_score,\n",
    "                                    cv = 5)\n",
    "\n",
    "smape_reg_rougher  = abs(scores_reg_rougher).mean()\n",
    "print('Средняя оценка качества линейной регрессией:', smape_reg_rougher)"
   ]
  },
  {
   "cell_type": "code",
   "execution_count": 96,
   "metadata": {},
   "outputs": [
    {
     "name": "stdout",
     "output_type": "stream",
     "text": [
      "Средняя оценка качества линейной регрессией: 9.477249908910006\n"
     ]
    }
   ],
   "source": [
    "model_reg = LinearRegression()\n",
    "# оценка модели линейной регрессии кроссвалидацией \n",
    "scores_reg_final = cross_val_score(model_reg,\n",
    "                                    features_train,\n",
    "                                    target_train['final.output.recovery'],\n",
    "                                    scoring = smape_score,\n",
    "                                    cv = 5)\n",
    "\n",
    "smape_reg_final  = abs(scores_reg_final).mean()\n",
    "print('Средняя оценка качества линейной регрессией:', smape_reg_final)"
   ]
  },
  {
   "cell_type": "code",
   "execution_count": 97,
   "metadata": {},
   "outputs": [
    {
     "name": "stdout",
     "output_type": "stream",
     "text": [
      "Средняя итоговая оценка качества модели дерева линейной регрессии: 8.866318998589005\n"
     ]
    }
   ],
   "source": [
    "smape_best = smape_itog(smape_reg_rougher, smape_reg_final)\n",
    "print('Средняя итоговая оценка качества модели дерева линейной регрессии:', smape_best)"
   ]
  },
  {
   "cell_type": "markdown",
   "metadata": {},
   "source": [
    "**Вывод** Была расмотрена модель линейной регрессии, для чернового концентрата sMAPE составил 7.03, а для финального концентрата sMAPE сотавил 9.47. Итоговы sMAPE для модели дерева решений составил 8.86"
   ]
  },
  {
   "cell_type": "markdown",
   "metadata": {},
   "source": [
    "### Проверка лучшей модели"
   ]
  },
  {
   "cell_type": "markdown",
   "metadata": {},
   "source": [
    "Лучшими показателями обладает модель случайного леса со следующими показателями: для чернового концентрата sMAPE составил 6.57 при количестве деревьев 25 и глубине 5, а для финального концентрата sMAPE сотавил 8.84 количестве деревьев 25 и глубине 2. Итоговы sMAPE для модели дерева решений составил 8.2757. Проверим данную модель на тестовой выборке."
   ]
  },
  {
   "cell_type": "code",
   "execution_count": 98,
   "metadata": {},
   "outputs": [],
   "source": [
    "# прогноз модели rougher\n",
    "model_rougher= RandomForestRegressor(random_state=12345, max_depth = 5, n_estimators=25)\n",
    "model_rougher.fit(features_train, target_train['rougher.output.recovery'])\n",
    "predict_test_rougher = model_rougher.predict(features_test)\n",
    "\n",
    "# прогноз модели final\n",
    "model_final= RandomForestRegressor(random_state=12345, max_depth = 2, n_estimators=25)\n",
    "model_final.fit(features_train, target_train['final.output.recovery'])\n",
    "predict_test_final = model_final.predict(features_test)\n"
   ]
  },
  {
   "cell_type": "code",
   "execution_count": 99,
   "metadata": {},
   "outputs": [
    {
     "name": "stdout",
     "output_type": "stream",
     "text": [
      "Средняя оценка качества модели rougher 3.9694055531893375\n",
      "Средняя оценка качества модели final 8.498708715533263\n",
      "Средняя итоговая оценка качества модели DummyRegressor: 7.366382924947282\n"
     ]
    }
   ],
   "source": [
    "smape_rougher = smape(predict_test_rougher, target_test['rougher.output.recovery'])\n",
    "smape_final = smape(predict_test_final, target_test['final.output.recovery'])\n",
    "smape_dummy_itog = smape_itog(smape_rougher, smape_final)\n",
    "print('Средняя оценка качества модели rougher', smape_rougher)\n",
    "print('Средняя оценка качества модели final', smape_final)\n",
    "print('Средняя итоговая оценка качества модели DummyRegressor:', smape_dummy_itog)"
   ]
  },
  {
   "cell_type": "markdown",
   "metadata": {},
   "source": [
    "**Вывод** На лучшей модели случайного леса при тестовой выборке получили, для чернового концентрата sMAPE составил 3.96, а для финального концентрата sMAPE сотавил 8.49. Итоговы sMAPE для модели составил 7.36. Как видим модель работает вполне адекватно."
   ]
  },
  {
   "cell_type": "markdown",
   "metadata": {},
   "source": [
    "### Проверка модели на адекватность"
   ]
  },
  {
   "cell_type": "code",
   "execution_count": 100,
   "metadata": {},
   "outputs": [],
   "source": [
    "# функция для рассчета модели с DummyRegressor\n",
    "def model_dummy(features_train, target_train, features_test):\n",
    "    dummy_regr = DummyRegressor(strategy=\"mean\")\n",
    "    dummy_regr.fit(features_train, target_train)\n",
    "    dummy_test = dummy_regr.predict(features_test)\n",
    "    \n",
    "    return dummy_test"
   ]
  },
  {
   "cell_type": "code",
   "execution_count": 101,
   "metadata": {},
   "outputs": [
    {
     "name": "stdout",
     "output_type": "stream",
     "text": [
      "Средняя итоговая оценка качества модели DummyRegressor: 8.471903961218088\n"
     ]
    }
   ],
   "source": [
    "# прогноз модели rougher\n",
    "test_rougher_dummy = model_dummy(features_train, target_train['rougher.output.recovery'], features_test)\n",
    "\n",
    "# прогноз модели final\n",
    "test_final_dummy = model_dummy(features_train, target_train['final.output.recovery'], features_test)\n",
    "\n",
    "smape_dummy_rougher=smape(test_rougher_dummy, target_test['rougher.output.recovery'])\n",
    "smape_dummy_final=smape(test_final_dummy, target_test['final.output.recovery'])\n",
    "smape_dummy_itog=smape_itog(smape_dummy_rougher, smape_dummy_final)\n",
    "print('Средняя итоговая оценка качества модели DummyRegressor:', smape_dummy_itog)"
   ]
  },
  {
   "cell_type": "markdown",
   "metadata": {},
   "source": [
    "## Заключение"
   ]
  },
  {
   "cell_type": "markdown",
   "metadata": {},
   "source": [
    "В ходе иследования были изучены и проанализированы данные, был рассчитан MAE(cредняя абсолютную ошибка) между нашими расчётами и значением признака эффективности обогащения чернового концентрата. Были обработаны столбцы и заполнены пропуски для более точной работы моделей машинного обучения. \n",
    "\n",
    "Были расмотрены зависимости концентрации металлов в зависимости от стадии процесса, было выявлено, что концентрация золота в смеси после каждого этапа очистки увеличивается. Также был рассмотрен сумарный состав металлов смеси, здесь аналогично просматривается восходящая тенденция.\n",
    "\n",
    "Была создана функция sMAPE для оценки работы машинного обучения, лучшие результаты показала модель случайного леса. На выходе получили следующие показатели для чернового концентрата sMAPE составил 6.39, а для финального концентрата sMAPE сотавил 9.27. Итоговы sMAPE для модели составил 8.55. Как видим модель работает хорошо, поэтому ее можно смело использовать для предсказная расчетов предприятия."
   ]
  }
 ],
 "metadata": {
  "ExecuteTimeLog": [
   {
    "duration": 1555,
    "start_time": "2023-06-01T20:39:04.007Z"
   },
   {
    "duration": 2192,
    "start_time": "2023-06-01T20:40:37.893Z"
   },
   {
    "duration": 771,
    "start_time": "2023-06-01T20:41:59.624Z"
   },
   {
    "duration": 4,
    "start_time": "2023-06-01T20:42:23.432Z"
   },
   {
    "duration": 971,
    "start_time": "2023-06-01T20:42:36.034Z"
   },
   {
    "duration": 3,
    "start_time": "2023-06-01T20:57:03.514Z"
   },
   {
    "duration": 6,
    "start_time": "2023-06-01T20:57:56.272Z"
   },
   {
    "duration": 112,
    "start_time": "2023-06-01T20:58:17.636Z"
   },
   {
    "duration": 13,
    "start_time": "2023-06-01T20:58:33.664Z"
   },
   {
    "duration": 5,
    "start_time": "2023-06-01T21:01:18.925Z"
   },
   {
    "duration": 14,
    "start_time": "2023-06-01T21:01:25.017Z"
   },
   {
    "duration": 9,
    "start_time": "2023-06-01T21:01:36.865Z"
   },
   {
    "duration": 7,
    "start_time": "2023-06-01T21:02:37.040Z"
   },
   {
    "duration": 8,
    "start_time": "2023-06-01T21:03:45.925Z"
   },
   {
    "duration": 7,
    "start_time": "2023-06-01T21:03:54.305Z"
   },
   {
    "duration": 7,
    "start_time": "2023-06-01T21:04:21.863Z"
   },
   {
    "duration": 4,
    "start_time": "2023-06-01T21:08:59.083Z"
   },
   {
    "duration": 4,
    "start_time": "2023-06-01T21:11:09.744Z"
   },
   {
    "duration": 9,
    "start_time": "2023-06-01T21:15:58.584Z"
   },
   {
    "duration": 11,
    "start_time": "2023-06-01T21:16:04.672Z"
   },
   {
    "duration": 9,
    "start_time": "2023-06-01T21:16:09.873Z"
   },
   {
    "duration": 10,
    "start_time": "2023-06-01T21:16:14.644Z"
   },
   {
    "duration": 15,
    "start_time": "2023-06-01T21:16:20.754Z"
   },
   {
    "duration": 20,
    "start_time": "2023-06-01T21:17:08.206Z"
   },
   {
    "duration": 4,
    "start_time": "2023-06-01T21:17:27.114Z"
   },
   {
    "duration": 17,
    "start_time": "2023-06-01T21:17:28.704Z"
   },
   {
    "duration": 10,
    "start_time": "2023-06-01T21:19:06.424Z"
   },
   {
    "duration": 17,
    "start_time": "2023-06-01T21:19:55.433Z"
   },
   {
    "duration": 21,
    "start_time": "2023-06-01T21:21:19.183Z"
   },
   {
    "duration": 10,
    "start_time": "2023-06-01T21:24:06.383Z"
   },
   {
    "duration": 14,
    "start_time": "2023-06-01T21:24:19.723Z"
   },
   {
    "duration": 16,
    "start_time": "2023-06-01T21:24:35.352Z"
   },
   {
    "duration": 16,
    "start_time": "2023-06-01T21:24:38.874Z"
   },
   {
    "duration": 14,
    "start_time": "2023-06-01T21:24:41.113Z"
   },
   {
    "duration": 16,
    "start_time": "2023-06-01T21:24:41.991Z"
   },
   {
    "duration": 22,
    "start_time": "2023-06-01T21:26:18.743Z"
   },
   {
    "duration": 15,
    "start_time": "2023-06-01T21:26:19.143Z"
   },
   {
    "duration": 3,
    "start_time": "2023-06-01T21:38:06.541Z"
   },
   {
    "duration": 868,
    "start_time": "2023-06-01T21:38:06.922Z"
   },
   {
    "duration": 2235,
    "start_time": "2023-06-01T21:38:45.621Z"
   },
   {
    "duration": 2303,
    "start_time": "2023-06-01T21:39:07.690Z"
   },
   {
    "duration": 2336,
    "start_time": "2023-06-01T21:39:28.169Z"
   },
   {
    "duration": 2255,
    "start_time": "2023-06-01T21:40:49.441Z"
   },
   {
    "duration": 2248,
    "start_time": "2023-06-01T21:42:28.201Z"
   },
   {
    "duration": 2132,
    "start_time": "2023-06-01T21:42:51.621Z"
   },
   {
    "duration": 2409,
    "start_time": "2023-06-01T21:43:39.559Z"
   },
   {
    "duration": 2140,
    "start_time": "2023-06-01T21:44:40.360Z"
   },
   {
    "duration": 1492,
    "start_time": "2023-06-01T21:45:09.669Z"
   },
   {
    "duration": 1525,
    "start_time": "2023-06-01T21:47:38.629Z"
   },
   {
    "duration": 759,
    "start_time": "2023-06-01T21:50:38.491Z"
   },
   {
    "duration": 1465,
    "start_time": "2023-06-01T21:51:08.796Z"
   },
   {
    "duration": 1430,
    "start_time": "2023-06-01T21:56:53.036Z"
   },
   {
    "duration": 83,
    "start_time": "2023-06-01T22:01:22.443Z"
   },
   {
    "duration": 65,
    "start_time": "2023-06-01T22:01:31.421Z"
   },
   {
    "duration": 87,
    "start_time": "2023-06-01T22:02:03.468Z"
   },
   {
    "duration": 27,
    "start_time": "2023-06-01T22:02:18.241Z"
   },
   {
    "duration": 37,
    "start_time": "2023-06-01T22:03:10.756Z"
   },
   {
    "duration": 1571,
    "start_time": "2023-06-01T22:03:22.028Z"
   },
   {
    "duration": 38,
    "start_time": "2023-06-01T22:04:16.220Z"
   },
   {
    "duration": 4,
    "start_time": "2023-06-01T22:04:29.758Z"
   },
   {
    "duration": 824,
    "start_time": "2023-06-01T22:04:30.060Z"
   },
   {
    "duration": 5,
    "start_time": "2023-06-01T22:04:30.886Z"
   },
   {
    "duration": 1108,
    "start_time": "2023-06-01T22:04:30.893Z"
   },
   {
    "duration": 4,
    "start_time": "2023-06-01T22:04:32.003Z"
   },
   {
    "duration": 9,
    "start_time": "2023-06-01T22:04:32.156Z"
   },
   {
    "duration": 8,
    "start_time": "2023-06-01T22:04:33.140Z"
   },
   {
    "duration": 21,
    "start_time": "2023-06-01T22:04:33.581Z"
   },
   {
    "duration": 23,
    "start_time": "2023-06-01T22:04:34.263Z"
   },
   {
    "duration": 24,
    "start_time": "2023-06-01T22:04:34.828Z"
   },
   {
    "duration": 22,
    "start_time": "2023-06-01T22:04:36.021Z"
   },
   {
    "duration": 3,
    "start_time": "2023-06-01T22:04:37.510Z"
   },
   {
    "duration": 1534,
    "start_time": "2023-06-01T22:04:37.831Z"
   },
   {
    "duration": 42,
    "start_time": "2023-06-01T22:04:39.368Z"
   },
   {
    "duration": 22,
    "start_time": "2023-06-01T22:12:31.941Z"
   },
   {
    "duration": 2416,
    "start_time": "2023-06-01T22:13:04.171Z"
   },
   {
    "duration": 2366,
    "start_time": "2023-06-01T22:13:28.990Z"
   },
   {
    "duration": 2427,
    "start_time": "2023-06-01T22:13:34.060Z"
   },
   {
    "duration": 1435,
    "start_time": "2023-06-01T22:13:58.868Z"
   },
   {
    "duration": 1498,
    "start_time": "2023-06-01T22:14:12.180Z"
   },
   {
    "duration": 42,
    "start_time": "2023-06-01T22:16:01.930Z"
   },
   {
    "duration": 1511,
    "start_time": "2023-06-01T22:17:05.540Z"
   },
   {
    "duration": 1444,
    "start_time": "2023-06-01T22:17:16.866Z"
   },
   {
    "duration": 41,
    "start_time": "2023-06-01T22:17:43.927Z"
   },
   {
    "duration": 1698,
    "start_time": "2023-06-01T22:17:46.820Z"
   },
   {
    "duration": 1311,
    "start_time": "2023-06-01T22:18:10.389Z"
   },
   {
    "duration": 1526,
    "start_time": "2023-06-01T22:18:14.316Z"
   },
   {
    "duration": 1401,
    "start_time": "2023-06-01T22:18:52.650Z"
   },
   {
    "duration": 1551,
    "start_time": "2023-06-01T22:19:06.030Z"
   },
   {
    "duration": 1756,
    "start_time": "2023-06-01T22:19:13.340Z"
   },
   {
    "duration": 1693,
    "start_time": "2023-06-01T22:19:24.770Z"
   },
   {
    "duration": 712,
    "start_time": "2023-06-01T22:20:58.700Z"
   },
   {
    "duration": 1681,
    "start_time": "2023-06-01T22:21:15.918Z"
   },
   {
    "duration": 3,
    "start_time": "2023-06-01T22:22:19.541Z"
   },
   {
    "duration": 4254,
    "start_time": "2023-06-01T22:34:09.067Z"
   },
   {
    "duration": 4228,
    "start_time": "2023-06-01T22:34:32.512Z"
   },
   {
    "duration": 4288,
    "start_time": "2023-06-01T22:34:41.243Z"
   },
   {
    "duration": 4274,
    "start_time": "2023-06-01T22:34:45.772Z"
   },
   {
    "duration": 4,
    "start_time": "2023-06-01T22:35:19.404Z"
   },
   {
    "duration": 820,
    "start_time": "2023-06-01T22:35:19.624Z"
   },
   {
    "duration": 4,
    "start_time": "2023-06-01T22:35:20.446Z"
   },
   {
    "duration": 1361,
    "start_time": "2023-06-01T22:35:20.452Z"
   },
   {
    "duration": 4,
    "start_time": "2023-06-01T22:35:21.816Z"
   },
   {
    "duration": 23,
    "start_time": "2023-06-01T22:35:21.821Z"
   },
   {
    "duration": 5,
    "start_time": "2023-06-01T22:35:22.500Z"
   },
   {
    "duration": 19,
    "start_time": "2023-06-01T22:35:23.054Z"
   },
   {
    "duration": 19,
    "start_time": "2023-06-01T22:35:23.552Z"
   },
   {
    "duration": 22,
    "start_time": "2023-06-01T22:35:24.010Z"
   },
   {
    "duration": 20,
    "start_time": "2023-06-01T22:35:24.263Z"
   },
   {
    "duration": 3,
    "start_time": "2023-06-01T22:35:25.484Z"
   },
   {
    "duration": 1571,
    "start_time": "2023-06-01T22:35:25.704Z"
   },
   {
    "duration": 41,
    "start_time": "2023-06-01T22:35:28.263Z"
   },
   {
    "duration": 4163,
    "start_time": "2023-06-01T22:35:29.344Z"
   },
   {
    "duration": 3879,
    "start_time": "2023-06-01T22:36:06.464Z"
   },
   {
    "duration": 3951,
    "start_time": "2023-06-01T22:36:23.719Z"
   },
   {
    "duration": 4121,
    "start_time": "2023-06-01T22:36:36.942Z"
   },
   {
    "duration": 3767,
    "start_time": "2023-06-01T22:36:50.324Z"
   },
   {
    "duration": 4020,
    "start_time": "2023-06-01T22:37:52.904Z"
   },
   {
    "duration": 3872,
    "start_time": "2023-06-01T22:39:03.376Z"
   },
   {
    "duration": 4038,
    "start_time": "2023-06-01T22:39:54.484Z"
   },
   {
    "duration": 3836,
    "start_time": "2023-06-01T22:40:11.744Z"
   },
   {
    "duration": 4177,
    "start_time": "2023-06-01T22:40:30.543Z"
   },
   {
    "duration": 4020,
    "start_time": "2023-06-01T22:41:05.825Z"
   },
   {
    "duration": 1795,
    "start_time": "2023-06-01T22:41:09.847Z"
   },
   {
    "duration": 1163,
    "start_time": "2023-06-01T22:41:58.194Z"
   },
   {
    "duration": 686,
    "start_time": "2023-06-01T22:44:16.145Z"
   },
   {
    "duration": 4,
    "start_time": "2023-06-01T22:45:52.505Z"
   },
   {
    "duration": 771,
    "start_time": "2023-06-01T22:45:52.754Z"
   },
   {
    "duration": 4,
    "start_time": "2023-06-01T22:45:53.527Z"
   },
   {
    "duration": 1029,
    "start_time": "2023-06-01T22:45:53.533Z"
   },
   {
    "duration": 3,
    "start_time": "2023-06-01T22:45:54.565Z"
   },
   {
    "duration": 8,
    "start_time": "2023-06-01T22:45:54.965Z"
   },
   {
    "duration": 5,
    "start_time": "2023-06-01T22:45:56.145Z"
   },
   {
    "duration": 16,
    "start_time": "2023-06-01T22:45:56.825Z"
   },
   {
    "duration": 18,
    "start_time": "2023-06-01T22:45:57.445Z"
   },
   {
    "duration": 23,
    "start_time": "2023-06-01T22:45:58.006Z"
   },
   {
    "duration": 19,
    "start_time": "2023-06-01T22:45:58.265Z"
   },
   {
    "duration": 3,
    "start_time": "2023-06-01T22:45:59.614Z"
   },
   {
    "duration": 1766,
    "start_time": "2023-06-01T22:45:59.844Z"
   },
   {
    "duration": 44,
    "start_time": "2023-06-01T22:46:01.613Z"
   },
   {
    "duration": 847,
    "start_time": "2023-06-01T22:46:01.659Z"
   },
   {
    "duration": 1520,
    "start_time": "2023-06-01T22:46:02.508Z"
   },
   {
    "duration": 1664,
    "start_time": "2023-06-01T22:46:55.882Z"
   },
   {
    "duration": 773,
    "start_time": "2023-06-01T22:46:57.549Z"
   },
   {
    "duration": 0,
    "start_time": "2023-06-01T22:46:58.324Z"
   },
   {
    "duration": 0,
    "start_time": "2023-06-01T22:46:58.326Z"
   },
   {
    "duration": 40,
    "start_time": "2023-06-01T22:47:23.626Z"
   },
   {
    "duration": 827,
    "start_time": "2023-06-01T22:47:26.893Z"
   },
   {
    "duration": 700,
    "start_time": "2023-06-01T22:47:33.133Z"
   },
   {
    "duration": 1678,
    "start_time": "2023-06-01T22:47:45.253Z"
   },
   {
    "duration": 857,
    "start_time": "2023-06-01T23:00:27.305Z"
   },
   {
    "duration": 9,
    "start_time": "2023-06-01T23:01:02.194Z"
   },
   {
    "duration": 18,
    "start_time": "2023-06-01T23:02:47.406Z"
   },
   {
    "duration": 3,
    "start_time": "2023-06-01T23:03:16.745Z"
   },
   {
    "duration": 50,
    "start_time": "2023-06-01T23:03:22.437Z"
   },
   {
    "duration": 10,
    "start_time": "2023-06-01T23:06:13.715Z"
   },
   {
    "duration": 4,
    "start_time": "2023-06-01T23:11:37.897Z"
   },
   {
    "duration": 11,
    "start_time": "2023-06-01T23:11:45.437Z"
   },
   {
    "duration": 5,
    "start_time": "2023-06-01T23:11:57.995Z"
   },
   {
    "duration": 12,
    "start_time": "2023-06-01T23:12:58.307Z"
   },
   {
    "duration": 4,
    "start_time": "2023-06-01T23:13:22.515Z"
   },
   {
    "duration": 818,
    "start_time": "2023-06-01T23:13:22.685Z"
   },
   {
    "duration": 6,
    "start_time": "2023-06-01T23:13:23.505Z"
   },
   {
    "duration": 1449,
    "start_time": "2023-06-01T23:13:23.513Z"
   },
   {
    "duration": 4,
    "start_time": "2023-06-01T23:13:24.964Z"
   },
   {
    "duration": 28,
    "start_time": "2023-06-01T23:13:24.970Z"
   },
   {
    "duration": 5,
    "start_time": "2023-06-01T23:13:25.127Z"
   },
   {
    "duration": 8,
    "start_time": "2023-06-01T23:13:25.576Z"
   },
   {
    "duration": 18,
    "start_time": "2023-06-01T23:13:25.807Z"
   },
   {
    "duration": 16,
    "start_time": "2023-06-01T23:13:30.787Z"
   },
   {
    "duration": 20,
    "start_time": "2023-06-01T23:13:31.227Z"
   },
   {
    "duration": 88,
    "start_time": "2023-06-01T23:13:31.408Z"
   },
   {
    "duration": 3,
    "start_time": "2023-06-01T23:13:32.427Z"
   },
   {
    "duration": 1647,
    "start_time": "2023-06-01T23:13:32.707Z"
   },
   {
    "duration": 1064,
    "start_time": "2023-06-01T23:13:34.357Z"
   },
   {
    "duration": 0,
    "start_time": "2023-06-01T23:13:35.423Z"
   },
   {
    "duration": 0,
    "start_time": "2023-06-01T23:13:35.424Z"
   },
   {
    "duration": 0,
    "start_time": "2023-06-01T23:13:35.425Z"
   },
   {
    "duration": 0,
    "start_time": "2023-06-01T23:13:35.427Z"
   },
   {
    "duration": 12,
    "start_time": "2023-06-01T23:13:41.316Z"
   },
   {
    "duration": 916,
    "start_time": "2023-06-01T23:14:12.438Z"
   },
   {
    "duration": 5,
    "start_time": "2023-06-01T23:14:44.067Z"
   },
   {
    "duration": 739,
    "start_time": "2023-06-01T23:14:44.587Z"
   },
   {
    "duration": 5,
    "start_time": "2023-06-01T23:14:45.329Z"
   },
   {
    "duration": 1284,
    "start_time": "2023-06-01T23:14:45.343Z"
   },
   {
    "duration": 3,
    "start_time": "2023-06-01T23:14:46.630Z"
   },
   {
    "duration": 32,
    "start_time": "2023-06-01T23:14:46.635Z"
   },
   {
    "duration": 16,
    "start_time": "2023-06-01T23:14:46.668Z"
   },
   {
    "duration": 25,
    "start_time": "2023-06-01T23:14:46.686Z"
   },
   {
    "duration": 18,
    "start_time": "2023-06-01T23:14:46.713Z"
   },
   {
    "duration": 25,
    "start_time": "2023-06-01T23:14:46.733Z"
   },
   {
    "duration": 17,
    "start_time": "2023-06-01T23:14:46.761Z"
   },
   {
    "duration": 15,
    "start_time": "2023-06-01T23:14:46.780Z"
   },
   {
    "duration": 1838,
    "start_time": "2023-06-01T23:14:46.797Z"
   },
   {
    "duration": 35,
    "start_time": "2023-06-01T23:14:48.637Z"
   },
   {
    "duration": 853,
    "start_time": "2023-06-01T23:14:48.675Z"
   },
   {
    "duration": 1735,
    "start_time": "2023-06-01T23:14:49.530Z"
   },
   {
    "duration": 17,
    "start_time": "2023-06-01T23:14:51.267Z"
   },
   {
    "duration": 125,
    "start_time": "2023-06-01T23:14:51.286Z"
   },
   {
    "duration": 6,
    "start_time": "2023-06-01T23:15:29.788Z"
   },
   {
    "duration": 12,
    "start_time": "2023-06-01T23:15:30.268Z"
   },
   {
    "duration": 37,
    "start_time": "2023-06-01T23:15:30.916Z"
   },
   {
    "duration": 10,
    "start_time": "2023-06-01T23:15:43.275Z"
   },
   {
    "duration": 10,
    "start_time": "2023-06-01T23:15:43.795Z"
   },
   {
    "duration": 34,
    "start_time": "2023-06-01T23:15:44.227Z"
   },
   {
    "duration": 25,
    "start_time": "2023-06-01T23:16:49.787Z"
   },
   {
    "duration": 10,
    "start_time": "2023-06-01T23:16:52.307Z"
   },
   {
    "duration": 15,
    "start_time": "2023-06-01T23:17:31.887Z"
   },
   {
    "duration": 13,
    "start_time": "2023-06-01T23:17:34.867Z"
   },
   {
    "duration": 28,
    "start_time": "2023-06-01T23:17:35.507Z"
   },
   {
    "duration": 4,
    "start_time": "2023-06-01T23:17:41.907Z"
   },
   {
    "duration": 749,
    "start_time": "2023-06-01T23:17:42.107Z"
   },
   {
    "duration": 4,
    "start_time": "2023-06-01T23:17:42.859Z"
   },
   {
    "duration": 1072,
    "start_time": "2023-06-01T23:17:42.864Z"
   },
   {
    "duration": 4,
    "start_time": "2023-06-01T23:17:43.941Z"
   },
   {
    "duration": 13,
    "start_time": "2023-06-01T23:17:43.947Z"
   },
   {
    "duration": 4,
    "start_time": "2023-06-01T23:17:44.875Z"
   },
   {
    "duration": 15,
    "start_time": "2023-06-01T23:17:45.327Z"
   },
   {
    "duration": 16,
    "start_time": "2023-06-01T23:17:45.795Z"
   },
   {
    "duration": 21,
    "start_time": "2023-06-01T23:17:46.235Z"
   },
   {
    "duration": 17,
    "start_time": "2023-06-01T23:17:46.467Z"
   },
   {
    "duration": 4,
    "start_time": "2023-06-01T23:17:47.626Z"
   },
   {
    "duration": 1786,
    "start_time": "2023-06-01T23:17:47.837Z"
   },
   {
    "duration": 41,
    "start_time": "2023-06-01T23:17:49.626Z"
   },
   {
    "duration": 691,
    "start_time": "2023-06-01T23:17:49.847Z"
   },
   {
    "duration": 1687,
    "start_time": "2023-06-01T23:17:50.763Z"
   },
   {
    "duration": 12,
    "start_time": "2023-06-01T23:17:52.573Z"
   },
   {
    "duration": 11,
    "start_time": "2023-06-01T23:17:53.558Z"
   },
   {
    "duration": 37,
    "start_time": "2023-06-01T23:17:57.907Z"
   },
   {
    "duration": 14,
    "start_time": "2023-06-01T23:20:11.477Z"
   },
   {
    "duration": 34,
    "start_time": "2023-06-01T23:20:12.667Z"
   },
   {
    "duration": 4,
    "start_time": "2023-06-01T23:22:11.127Z"
   },
   {
    "duration": 7,
    "start_time": "2023-06-01T23:23:01.516Z"
   },
   {
    "duration": 11,
    "start_time": "2023-06-01T23:23:02.457Z"
   },
   {
    "duration": 21,
    "start_time": "2023-06-01T23:23:03.207Z"
   },
   {
    "duration": 6,
    "start_time": "2023-06-01T23:23:51.147Z"
   },
   {
    "duration": 4,
    "start_time": "2023-06-01T23:23:57.088Z"
   },
   {
    "duration": 706,
    "start_time": "2023-06-01T23:23:57.280Z"
   },
   {
    "duration": 4,
    "start_time": "2023-06-01T23:23:57.988Z"
   },
   {
    "duration": 1031,
    "start_time": "2023-06-01T23:23:57.994Z"
   },
   {
    "duration": 3,
    "start_time": "2023-06-01T23:23:59.027Z"
   },
   {
    "duration": 8,
    "start_time": "2023-06-01T23:23:59.228Z"
   },
   {
    "duration": 5,
    "start_time": "2023-06-01T23:24:00.147Z"
   },
   {
    "duration": 15,
    "start_time": "2023-06-01T23:24:00.588Z"
   },
   {
    "duration": 16,
    "start_time": "2023-06-01T23:24:00.948Z"
   },
   {
    "duration": 22,
    "start_time": "2023-06-01T23:24:01.366Z"
   },
   {
    "duration": 17,
    "start_time": "2023-06-01T23:24:01.518Z"
   },
   {
    "duration": 3,
    "start_time": "2023-06-01T23:24:02.707Z"
   },
   {
    "duration": 1657,
    "start_time": "2023-06-01T23:24:02.909Z"
   },
   {
    "duration": 30,
    "start_time": "2023-06-01T23:24:04.569Z"
   },
   {
    "duration": 669,
    "start_time": "2023-06-01T23:24:04.601Z"
   },
   {
    "duration": 1557,
    "start_time": "2023-06-01T23:24:05.272Z"
   },
   {
    "duration": 12,
    "start_time": "2023-06-01T23:24:06.841Z"
   },
   {
    "duration": 11,
    "start_time": "2023-06-01T23:24:06.854Z"
   },
   {
    "duration": 24,
    "start_time": "2023-06-01T23:24:06.869Z"
   },
   {
    "duration": 6,
    "start_time": "2023-06-01T23:35:35.748Z"
   },
   {
    "duration": 14,
    "start_time": "2023-06-02T00:00:20.466Z"
   },
   {
    "duration": 354,
    "start_time": "2023-06-02T00:00:29.266Z"
   },
   {
    "duration": 4,
    "start_time": "2023-06-02T00:01:15.785Z"
   },
   {
    "duration": 12,
    "start_time": "2023-06-02T00:01:21.474Z"
   },
   {
    "duration": 353,
    "start_time": "2023-06-02T00:01:27.506Z"
   },
   {
    "duration": 1765,
    "start_time": "2023-06-02T00:01:48.513Z"
   },
   {
    "duration": 1748,
    "start_time": "2023-06-02T00:02:49.955Z"
   },
   {
    "duration": 4,
    "start_time": "2023-06-02T00:03:46.797Z"
   },
   {
    "duration": 1720,
    "start_time": "2023-06-02T00:04:56.352Z"
   },
   {
    "duration": 1832,
    "start_time": "2023-06-02T00:05:37.737Z"
   },
   {
    "duration": 3,
    "start_time": "2023-06-02T00:06:06.066Z"
   },
   {
    "duration": 1762,
    "start_time": "2023-06-02T00:06:53.366Z"
   },
   {
    "duration": 1780,
    "start_time": "2023-06-02T00:06:55.130Z"
   },
   {
    "duration": 4,
    "start_time": "2023-06-02T00:06:56.912Z"
   },
   {
    "duration": 1430,
    "start_time": "2023-06-02T00:08:35.713Z"
   },
   {
    "duration": 1459,
    "start_time": "2023-06-02T00:08:42.506Z"
   },
   {
    "duration": 3,
    "start_time": "2023-06-02T00:08:46.386Z"
   },
   {
    "duration": 1820,
    "start_time": "2023-06-02T00:08:59.674Z"
   },
   {
    "duration": 4,
    "start_time": "2023-06-02T00:09:01.497Z"
   },
   {
    "duration": 81,
    "start_time": "2023-06-02T00:13:32.586Z"
   },
   {
    "duration": 23036,
    "start_time": "2023-06-02T00:17:24.715Z"
   },
   {
    "duration": 13289,
    "start_time": "2023-06-02T00:18:29.234Z"
   },
   {
    "duration": 12827,
    "start_time": "2023-06-02T00:20:13.036Z"
   },
   {
    "duration": 11,
    "start_time": "2023-06-02T00:20:25.865Z"
   },
   {
    "duration": 12440,
    "start_time": "2023-06-02T00:20:41.785Z"
   },
   {
    "duration": 12722,
    "start_time": "2023-06-02T00:21:05.033Z"
   },
   {
    "duration": 12596,
    "start_time": "2023-06-02T00:21:38.236Z"
   },
   {
    "duration": 12616,
    "start_time": "2023-06-02T00:21:50.834Z"
   },
   {
    "duration": 13,
    "start_time": "2023-06-02T00:22:08.671Z"
   },
   {
    "duration": 17,
    "start_time": "2023-06-02T00:22:34.846Z"
   },
   {
    "duration": 13704,
    "start_time": "2023-06-02T00:22:37.874Z"
   },
   {
    "duration": 13286,
    "start_time": "2023-06-02T00:22:51.581Z"
   },
   {
    "duration": 16,
    "start_time": "2023-06-02T00:23:04.869Z"
   },
   {
    "duration": 46,
    "start_time": "2023-06-02T00:23:41.584Z"
   },
   {
    "duration": 13228,
    "start_time": "2023-06-02T00:24:31.030Z"
   },
   {
    "duration": 14240,
    "start_time": "2023-06-02T00:24:44.260Z"
   },
   {
    "duration": 4,
    "start_time": "2023-06-02T00:25:17.074Z"
   },
   {
    "duration": 4545,
    "start_time": "2023-06-02T00:36:06.964Z"
   },
   {
    "duration": 4222,
    "start_time": "2023-06-02T00:36:26.154Z"
   },
   {
    "duration": 4124,
    "start_time": "2023-06-02T00:36:31.514Z"
   },
   {
    "duration": 929,
    "start_time": "2023-06-02T00:37:21.867Z"
   },
   {
    "duration": 4561,
    "start_time": "2023-06-02T00:37:26.999Z"
   },
   {
    "duration": 4337,
    "start_time": "2023-06-02T00:38:05.974Z"
   },
   {
    "duration": 4,
    "start_time": "2023-06-02T00:39:27.624Z"
   },
   {
    "duration": 53,
    "start_time": "2023-06-02T00:42:31.664Z"
   },
   {
    "duration": 13,
    "start_time": "2023-06-02T00:42:39.664Z"
   },
   {
    "duration": 0,
    "start_time": "2023-06-02T01:14:26.688Z"
   },
   {
    "duration": 0,
    "start_time": "2023-06-02T01:14:26.698Z"
   },
   {
    "duration": 0,
    "start_time": "2023-06-02T01:14:26.707Z"
   },
   {
    "duration": 0,
    "start_time": "2023-06-02T01:14:26.755Z"
   },
   {
    "duration": 0,
    "start_time": "2023-06-02T01:14:26.760Z"
   },
   {
    "duration": 0,
    "start_time": "2023-06-02T01:14:26.761Z"
   },
   {
    "duration": 4,
    "start_time": "2023-06-02T03:20:06.783Z"
   },
   {
    "duration": 722,
    "start_time": "2023-06-02T03:20:07.621Z"
   },
   {
    "duration": 6,
    "start_time": "2023-06-02T03:20:08.346Z"
   },
   {
    "duration": 965,
    "start_time": "2023-06-02T03:20:08.789Z"
   },
   {
    "duration": 3,
    "start_time": "2023-06-02T03:20:11.942Z"
   },
   {
    "duration": 8,
    "start_time": "2023-06-02T03:20:12.522Z"
   },
   {
    "duration": 5,
    "start_time": "2023-06-02T03:20:15.181Z"
   },
   {
    "duration": 17,
    "start_time": "2023-06-02T03:20:15.910Z"
   },
   {
    "duration": 17,
    "start_time": "2023-06-02T03:20:16.641Z"
   },
   {
    "duration": 21,
    "start_time": "2023-06-02T03:20:17.501Z"
   },
   {
    "duration": 15,
    "start_time": "2023-06-02T03:20:17.832Z"
   },
   {
    "duration": 3,
    "start_time": "2023-06-02T03:20:19.581Z"
   },
   {
    "duration": 1544,
    "start_time": "2023-06-02T03:20:19.832Z"
   },
   {
    "duration": 41,
    "start_time": "2023-06-02T03:20:21.378Z"
   },
   {
    "duration": 785,
    "start_time": "2023-06-02T03:20:27.110Z"
   },
   {
    "duration": 1665,
    "start_time": "2023-06-02T03:20:28.241Z"
   },
   {
    "duration": 14,
    "start_time": "2023-06-02T03:20:31.269Z"
   },
   {
    "duration": 11,
    "start_time": "2023-06-02T03:20:32.301Z"
   },
   {
    "duration": 21,
    "start_time": "2023-06-02T03:20:33.892Z"
   },
   {
    "duration": 4,
    "start_time": "2023-06-02T03:20:36.390Z"
   },
   {
    "duration": 1380,
    "start_time": "2023-06-02T03:20:39.550Z"
   },
   {
    "duration": 1663,
    "start_time": "2023-06-02T03:20:42.061Z"
   },
   {
    "duration": 3,
    "start_time": "2023-06-02T03:20:44.982Z"
   },
   {
    "duration": 11987,
    "start_time": "2023-06-02T03:20:46.842Z"
   },
   {
    "duration": 12286,
    "start_time": "2023-06-02T03:20:58.832Z"
   },
   {
    "duration": 3,
    "start_time": "2023-06-02T03:21:11.121Z"
   },
   {
    "duration": 4046,
    "start_time": "2023-06-02T03:21:11.126Z"
   },
   {
    "duration": 4017,
    "start_time": "2023-06-02T03:21:23.621Z"
   },
   {
    "duration": 4,
    "start_time": "2023-06-02T03:21:30.261Z"
   },
   {
    "duration": 4069,
    "start_time": "2023-06-02T03:21:36.350Z"
   },
   {
    "duration": 4,
    "start_time": "2023-06-02T03:21:42.130Z"
   },
   {
    "duration": 1493,
    "start_time": "2023-06-02T04:50:41.222Z"
   },
   {
    "duration": 3377,
    "start_time": "2023-06-02T04:50:42.717Z"
   },
   {
    "duration": 4,
    "start_time": "2023-06-02T04:50:46.096Z"
   },
   {
    "duration": 984,
    "start_time": "2023-06-02T04:50:46.102Z"
   },
   {
    "duration": 3,
    "start_time": "2023-06-02T04:50:51.051Z"
   },
   {
    "duration": 7,
    "start_time": "2023-06-02T04:50:52.025Z"
   },
   {
    "duration": 3,
    "start_time": "2023-06-02T04:50:53.495Z"
   },
   {
    "duration": 13,
    "start_time": "2023-06-02T04:50:53.964Z"
   },
   {
    "duration": 13,
    "start_time": "2023-06-02T04:50:54.445Z"
   },
   {
    "duration": 22,
    "start_time": "2023-06-02T04:50:54.889Z"
   },
   {
    "duration": 15,
    "start_time": "2023-06-02T04:50:55.124Z"
   },
   {
    "duration": 2,
    "start_time": "2023-06-02T04:50:56.346Z"
   },
   {
    "duration": 1588,
    "start_time": "2023-06-02T04:50:56.564Z"
   },
   {
    "duration": 35,
    "start_time": "2023-06-02T04:50:58.246Z"
   },
   {
    "duration": 633,
    "start_time": "2023-06-02T04:50:58.945Z"
   },
   {
    "duration": 1515,
    "start_time": "2023-06-02T04:50:59.890Z"
   },
   {
    "duration": 120,
    "start_time": "2023-06-02T04:53:07.695Z"
   },
   {
    "duration": 4,
    "start_time": "2023-06-02T04:53:15.424Z"
   },
   {
    "duration": 785,
    "start_time": "2023-06-02T04:53:15.745Z"
   },
   {
    "duration": 4,
    "start_time": "2023-06-02T04:53:16.532Z"
   },
   {
    "duration": 980,
    "start_time": "2023-06-02T04:53:16.537Z"
   },
   {
    "duration": 3,
    "start_time": "2023-06-02T04:53:17.623Z"
   },
   {
    "duration": 7,
    "start_time": "2023-06-02T04:53:17.904Z"
   },
   {
    "duration": 5,
    "start_time": "2023-06-02T04:53:18.985Z"
   },
   {
    "duration": 14,
    "start_time": "2023-06-02T04:53:19.464Z"
   },
   {
    "duration": 15,
    "start_time": "2023-06-02T04:53:19.954Z"
   },
   {
    "duration": 25,
    "start_time": "2023-06-02T04:53:20.445Z"
   },
   {
    "duration": 16,
    "start_time": "2023-06-02T04:53:20.705Z"
   },
   {
    "duration": 3,
    "start_time": "2023-06-02T04:53:22.064Z"
   },
   {
    "duration": 1446,
    "start_time": "2023-06-02T04:53:22.304Z"
   },
   {
    "duration": 35,
    "start_time": "2023-06-02T04:53:23.752Z"
   },
   {
    "duration": 829,
    "start_time": "2023-06-02T04:53:23.788Z"
   },
   {
    "duration": 1436,
    "start_time": "2023-06-02T04:53:24.620Z"
   },
   {
    "duration": 10,
    "start_time": "2023-06-02T04:53:26.784Z"
   },
   {
    "duration": 13,
    "start_time": "2023-06-02T04:53:27.286Z"
   },
   {
    "duration": 19,
    "start_time": "2023-06-02T04:53:28.224Z"
   },
   {
    "duration": 4,
    "start_time": "2023-06-02T04:53:29.004Z"
   },
   {
    "duration": 1265,
    "start_time": "2023-06-02T04:53:29.685Z"
   },
   {
    "duration": 1518,
    "start_time": "2023-06-02T04:53:31.784Z"
   },
   {
    "duration": 4,
    "start_time": "2023-06-02T04:53:34.680Z"
   },
   {
    "duration": 11608,
    "start_time": "2023-06-02T04:53:36.693Z"
   },
   {
    "duration": 11546,
    "start_time": "2023-06-02T04:53:48.303Z"
   },
   {
    "duration": 3,
    "start_time": "2023-06-02T04:54:02.505Z"
   },
   {
    "duration": 3716,
    "start_time": "2023-06-02T04:54:06.264Z"
   },
   {
    "duration": 3776,
    "start_time": "2023-06-02T04:54:09.982Z"
   },
   {
    "duration": 4,
    "start_time": "2023-06-02T04:54:13.760Z"
   },
   {
    "duration": 1517,
    "start_time": "2023-06-02T04:54:19.865Z"
   },
   {
    "duration": 1507,
    "start_time": "2023-06-02T04:54:23.672Z"
   },
   {
    "duration": 18950,
    "start_time": "2023-06-02T04:58:06.904Z"
   },
   {
    "duration": 8846,
    "start_time": "2023-06-02T04:58:29.366Z"
   },
   {
    "duration": 4,
    "start_time": "2023-06-02T04:58:40.645Z"
   },
   {
    "duration": 1537,
    "start_time": "2023-06-02T04:59:38.045Z"
   },
   {
    "duration": 1506,
    "start_time": "2023-06-02T04:59:39.584Z"
   },
   {
    "duration": 88,
    "start_time": "2023-06-02T04:59:41.092Z"
   },
   {
    "duration": 1522,
    "start_time": "2023-06-02T05:00:09.072Z"
   },
   {
    "duration": 5,
    "start_time": "2023-06-02T05:00:12.725Z"
   },
   {
    "duration": 3,
    "start_time": "2023-06-02T05:00:21.246Z"
   },
   {
    "duration": 4,
    "start_time": "2023-06-02T05:00:44.705Z"
   },
   {
    "duration": 6117,
    "start_time": "2023-06-02T05:05:53.153Z"
   },
   {
    "duration": 6062,
    "start_time": "2023-06-02T05:06:07.954Z"
   },
   {
    "duration": 2881,
    "start_time": "2023-06-02T05:06:35.505Z"
   },
   {
    "duration": 3,
    "start_time": "2023-06-02T05:06:45.341Z"
   },
   {
    "duration": 4,
    "start_time": "2023-06-02T05:11:59.503Z"
   },
   {
    "duration": 731,
    "start_time": "2023-06-02T05:11:59.790Z"
   },
   {
    "duration": 4,
    "start_time": "2023-06-02T05:12:00.523Z"
   },
   {
    "duration": 1125,
    "start_time": "2023-06-02T05:12:00.529Z"
   },
   {
    "duration": 3,
    "start_time": "2023-06-02T05:12:01.655Z"
   },
   {
    "duration": 6,
    "start_time": "2023-06-02T05:12:01.773Z"
   },
   {
    "duration": 4,
    "start_time": "2023-06-02T05:12:02.794Z"
   },
   {
    "duration": 19,
    "start_time": "2023-06-02T05:12:03.263Z"
   },
   {
    "duration": 17,
    "start_time": "2023-06-02T05:12:03.745Z"
   },
   {
    "duration": 23,
    "start_time": "2023-06-02T05:12:04.225Z"
   },
   {
    "duration": 18,
    "start_time": "2023-06-02T05:12:04.495Z"
   },
   {
    "duration": 3,
    "start_time": "2023-06-02T05:12:05.695Z"
   },
   {
    "duration": 1520,
    "start_time": "2023-06-02T05:12:05.952Z"
   },
   {
    "duration": 43,
    "start_time": "2023-06-02T05:12:07.477Z"
   },
   {
    "duration": 799,
    "start_time": "2023-06-02T05:12:07.523Z"
   },
   {
    "duration": 1622,
    "start_time": "2023-06-02T05:12:08.324Z"
   },
   {
    "duration": 11,
    "start_time": "2023-06-02T05:12:10.496Z"
   },
   {
    "duration": 9,
    "start_time": "2023-06-02T05:12:12.465Z"
   },
   {
    "duration": 19,
    "start_time": "2023-06-02T05:12:12.825Z"
   },
   {
    "duration": 5,
    "start_time": "2023-06-02T05:12:13.487Z"
   },
   {
    "duration": 1338,
    "start_time": "2023-06-02T05:12:14.154Z"
   },
   {
    "duration": 1734,
    "start_time": "2023-06-02T05:12:15.494Z"
   },
   {
    "duration": 4,
    "start_time": "2023-06-02T05:12:17.230Z"
   },
   {
    "duration": 12072,
    "start_time": "2023-06-02T05:12:18.425Z"
   },
   {
    "duration": 12191,
    "start_time": "2023-06-02T05:12:31.553Z"
   },
   {
    "duration": 3,
    "start_time": "2023-06-02T05:12:45.105Z"
   },
   {
    "duration": 20181,
    "start_time": "2023-06-02T05:12:47.925Z"
   },
   {
    "duration": 8794,
    "start_time": "2023-06-02T05:13:09.888Z"
   },
   {
    "duration": 5,
    "start_time": "2023-06-02T05:13:23.514Z"
   },
   {
    "duration": 1285,
    "start_time": "2023-06-02T05:13:25.498Z"
   },
   {
    "duration": 2101,
    "start_time": "2023-06-02T05:13:26.790Z"
   },
   {
    "duration": 3,
    "start_time": "2023-06-02T05:13:29.795Z"
   },
   {
    "duration": 6258,
    "start_time": "2023-06-02T05:13:33.395Z"
   },
   {
    "duration": 2795,
    "start_time": "2023-06-02T05:13:41.443Z"
   },
   {
    "duration": 4,
    "start_time": "2023-06-02T05:13:45.415Z"
   },
   {
    "duration": 60,
    "start_time": "2023-06-02T09:56:39.711Z"
   },
   {
    "duration": 44,
    "start_time": "2023-06-02T09:56:50.491Z"
   },
   {
    "duration": 1696,
    "start_time": "2023-06-02T09:56:58.972Z"
   },
   {
    "duration": 2264,
    "start_time": "2023-06-02T09:57:00.670Z"
   },
   {
    "duration": 5,
    "start_time": "2023-06-02T09:57:02.936Z"
   },
   {
    "duration": 1105,
    "start_time": "2023-06-02T09:57:02.943Z"
   },
   {
    "duration": 4,
    "start_time": "2023-06-02T09:57:04.050Z"
   },
   {
    "duration": 63,
    "start_time": "2023-06-02T09:57:04.056Z"
   },
   {
    "duration": 11,
    "start_time": "2023-06-02T09:57:04.121Z"
   },
   {
    "duration": 40,
    "start_time": "2023-06-02T09:57:04.135Z"
   },
   {
    "duration": 41,
    "start_time": "2023-06-02T09:57:04.178Z"
   },
   {
    "duration": 49,
    "start_time": "2023-06-02T09:57:04.221Z"
   },
   {
    "duration": 17,
    "start_time": "2023-06-02T09:57:04.378Z"
   },
   {
    "duration": 3,
    "start_time": "2023-06-02T09:57:05.593Z"
   },
   {
    "duration": 1655,
    "start_time": "2023-06-02T09:57:05.773Z"
   },
   {
    "duration": 46,
    "start_time": "2023-06-02T09:57:07.431Z"
   },
   {
    "duration": 695,
    "start_time": "2023-06-02T09:57:07.479Z"
   },
   {
    "duration": 1658,
    "start_time": "2023-06-02T09:57:08.269Z"
   },
   {
    "duration": 64,
    "start_time": "2023-06-02T10:02:05.557Z"
   },
   {
    "duration": 4,
    "start_time": "2023-06-02T10:06:54.565Z"
   },
   {
    "duration": 5,
    "start_time": "2023-06-02T11:01:42.053Z"
   },
   {
    "duration": 780,
    "start_time": "2023-06-02T11:01:42.500Z"
   },
   {
    "duration": 4,
    "start_time": "2023-06-02T11:01:43.282Z"
   },
   {
    "duration": 1087,
    "start_time": "2023-06-02T11:01:43.431Z"
   },
   {
    "duration": 4,
    "start_time": "2023-06-02T11:01:45.553Z"
   },
   {
    "duration": 7,
    "start_time": "2023-06-02T11:01:46.094Z"
   },
   {
    "duration": 5,
    "start_time": "2023-06-02T11:01:47.269Z"
   },
   {
    "duration": 23,
    "start_time": "2023-06-02T11:01:48.101Z"
   },
   {
    "duration": 17,
    "start_time": "2023-06-02T11:01:48.865Z"
   },
   {
    "duration": 22,
    "start_time": "2023-06-02T11:01:49.420Z"
   },
   {
    "duration": 26,
    "start_time": "2023-06-02T11:01:49.915Z"
   },
   {
    "duration": 4,
    "start_time": "2023-06-02T11:01:51.510Z"
   },
   {
    "duration": 1796,
    "start_time": "2023-06-02T11:01:51.862Z"
   },
   {
    "duration": 38,
    "start_time": "2023-06-02T11:01:53.660Z"
   },
   {
    "duration": 831,
    "start_time": "2023-06-02T11:01:54.592Z"
   },
   {
    "duration": 1567,
    "start_time": "2023-06-02T11:01:55.857Z"
   },
   {
    "duration": 12,
    "start_time": "2023-06-02T11:04:01.274Z"
   },
   {
    "duration": 13,
    "start_time": "2023-06-02T11:04:01.583Z"
   },
   {
    "duration": 411,
    "start_time": "2023-06-02T11:04:01.989Z"
   },
   {
    "duration": 7,
    "start_time": "2023-06-02T11:04:03.468Z"
   },
   {
    "duration": 1571,
    "start_time": "2023-06-02T11:04:38.268Z"
   },
   {
    "duration": 1834,
    "start_time": "2023-06-02T11:04:39.841Z"
   },
   {
    "duration": 5,
    "start_time": "2023-06-02T11:04:42.982Z"
   },
   {
    "duration": 13558,
    "start_time": "2023-06-02T11:04:45.314Z"
   },
   {
    "duration": 13185,
    "start_time": "2023-06-02T11:05:02.564Z"
   },
   {
    "duration": 4,
    "start_time": "2023-06-02T11:05:17.423Z"
   },
   {
    "duration": 21235,
    "start_time": "2023-06-02T11:05:20.221Z"
   },
   {
    "duration": 9711,
    "start_time": "2023-06-02T11:05:41.458Z"
   },
   {
    "duration": 5,
    "start_time": "2023-06-02T11:05:51.172Z"
   },
   {
    "duration": 97,
    "start_time": "2023-06-02T11:11:41.860Z"
   },
   {
    "duration": 4,
    "start_time": "2023-06-02T11:12:07.061Z"
   },
   {
    "duration": 11,
    "start_time": "2023-06-02T11:12:12.857Z"
   },
   {
    "duration": 11,
    "start_time": "2023-06-02T11:13:11.382Z"
   },
   {
    "duration": 87,
    "start_time": "2023-06-02T11:15:31.822Z"
   },
   {
    "duration": 11,
    "start_time": "2023-06-02T11:20:38.863Z"
   },
   {
    "duration": 13,
    "start_time": "2023-06-02T11:33:59.142Z"
   },
   {
    "duration": 5038,
    "start_time": "2023-06-02T11:34:26.591Z"
   },
   {
    "duration": 5150,
    "start_time": "2023-06-02T11:34:44.461Z"
   },
   {
    "duration": 123,
    "start_time": "2023-06-02T11:36:23.560Z"
   },
   {
    "duration": 7345,
    "start_time": "2023-06-02T11:36:27.751Z"
   },
   {
    "duration": 15,
    "start_time": "2023-06-02T11:37:46.272Z"
   },
   {
    "duration": 7232,
    "start_time": "2023-06-02T11:37:51.194Z"
   },
   {
    "duration": 15,
    "start_time": "2023-06-02T11:37:58.429Z"
   },
   {
    "duration": 9,
    "start_time": "2023-06-02T11:39:54.953Z"
   },
   {
    "duration": 1192,
    "start_time": "2023-06-02T11:43:04.092Z"
   },
   {
    "duration": 4,
    "start_time": "2023-06-02T11:48:27.192Z"
   },
   {
    "duration": 777,
    "start_time": "2023-06-02T11:48:27.691Z"
   },
   {
    "duration": 4,
    "start_time": "2023-06-02T11:48:28.471Z"
   },
   {
    "duration": 988,
    "start_time": "2023-06-02T11:48:28.476Z"
   },
   {
    "duration": 3,
    "start_time": "2023-06-02T11:48:30.042Z"
   },
   {
    "duration": 7,
    "start_time": "2023-06-02T11:48:30.545Z"
   },
   {
    "duration": 4,
    "start_time": "2023-06-02T11:48:31.592Z"
   },
   {
    "duration": 20,
    "start_time": "2023-06-02T11:48:32.268Z"
   },
   {
    "duration": 18,
    "start_time": "2023-06-02T11:48:32.972Z"
   },
   {
    "duration": 21,
    "start_time": "2023-06-02T11:48:33.392Z"
   },
   {
    "duration": 16,
    "start_time": "2023-06-02T11:48:33.825Z"
   },
   {
    "duration": 3,
    "start_time": "2023-06-02T11:48:35.059Z"
   },
   {
    "duration": 1695,
    "start_time": "2023-06-02T11:48:35.280Z"
   },
   {
    "duration": 32,
    "start_time": "2023-06-02T11:48:36.978Z"
   },
   {
    "duration": 1138,
    "start_time": "2023-06-02T11:48:37.011Z"
   },
   {
    "duration": 1631,
    "start_time": "2023-06-02T11:48:38.152Z"
   },
   {
    "duration": 14,
    "start_time": "2023-06-02T11:48:39.785Z"
   },
   {
    "duration": 10,
    "start_time": "2023-06-02T11:48:39.801Z"
   },
   {
    "duration": 44,
    "start_time": "2023-06-02T11:48:39.813Z"
   },
   {
    "duration": 4,
    "start_time": "2023-06-02T11:48:40.640Z"
   },
   {
    "duration": 1458,
    "start_time": "2023-06-02T11:48:45.979Z"
   },
   {
    "duration": 1733,
    "start_time": "2023-06-02T11:48:48.799Z"
   },
   {
    "duration": 3,
    "start_time": "2023-06-02T11:48:52.638Z"
   },
   {
    "duration": 12544,
    "start_time": "2023-06-02T11:48:55.800Z"
   },
   {
    "duration": 12354,
    "start_time": "2023-06-02T11:49:10.471Z"
   },
   {
    "duration": 4,
    "start_time": "2023-06-02T11:49:22.827Z"
   },
   {
    "duration": 20090,
    "start_time": "2023-06-02T11:49:25.180Z"
   },
   {
    "duration": 9196,
    "start_time": "2023-06-02T11:49:46.445Z"
   },
   {
    "duration": 3,
    "start_time": "2023-06-02T11:49:57.150Z"
   },
   {
    "duration": 1605,
    "start_time": "2023-06-02T11:50:04.537Z"
   },
   {
    "duration": 1068,
    "start_time": "2023-06-02T11:50:06.875Z"
   },
   {
    "duration": 5,
    "start_time": "2023-06-02T11:50:08.751Z"
   },
   {
    "duration": 7397,
    "start_time": "2023-06-02T11:50:13.944Z"
   },
   {
    "duration": 9,
    "start_time": "2023-06-02T11:50:21.344Z"
   },
   {
    "duration": 4,
    "start_time": "2023-06-02T11:50:25.525Z"
   },
   {
    "duration": 10,
    "start_time": "2023-06-02T11:50:26.902Z"
   }
  ],
  "kernelspec": {
   "display_name": "Python 3 (ipykernel)",
   "language": "python",
   "name": "python3"
  },
  "language_info": {
   "codemirror_mode": {
    "name": "ipython",
    "version": 3
   },
   "file_extension": ".py",
   "mimetype": "text/x-python",
   "name": "python",
   "nbconvert_exporter": "python",
   "pygments_lexer": "ipython3",
   "version": "3.9.5"
  },
  "toc": {
   "base_numbering": 1,
   "nav_menu": {},
   "number_sections": true,
   "sideBar": true,
   "skip_h1_title": true,
   "title_cell": "Содержание",
   "title_sidebar": "Contents",
   "toc_cell": true,
   "toc_position": {},
   "toc_section_display": true,
   "toc_window_display": true
  }
 },
 "nbformat": 4,
 "nbformat_minor": 2
}
