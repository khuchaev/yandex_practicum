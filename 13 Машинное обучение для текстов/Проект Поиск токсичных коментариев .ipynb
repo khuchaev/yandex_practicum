{
 "cells": [
  {
   "cell_type": "markdown",
   "metadata": {
    "toc": true
   },
   "source": [
    "<h1>Содержание<span class=\"tocSkip\"></span></h1>\n",
    "<div class=\"toc\"><ul class=\"toc-item\"><li><span><a href=\"#Анализ-данных\" data-toc-modified-id=\"Анализ-данных-1\"><span class=\"toc-item-num\">1&nbsp;&nbsp;</span>Анализ данных</a></span><ul class=\"toc-item\"><li><span><a href=\"#Подготовка-текста\" data-toc-modified-id=\"Подготовка-текста-1.1\"><span class=\"toc-item-num\">1.1&nbsp;&nbsp;</span>Подготовка текста</a></span></li></ul></li><li><span><a href=\"#Обучение\" data-toc-modified-id=\"Обучение-2\"><span class=\"toc-item-num\">2&nbsp;&nbsp;</span>Обучение</a></span><ul class=\"toc-item\"><li><span><a href=\"#Борьба-с-дисбалансом-и-разделение-на-выборки\" data-toc-modified-id=\"Борьба-с-дисбалансом-и-разделение-на-выборки-2.1\"><span class=\"toc-item-num\">2.1&nbsp;&nbsp;</span>Борьба с дисбалансом и разделение на выборки</a></span></li><li><span><a href=\"#Векторизация-слов-методом-TF-IDF\" data-toc-modified-id=\"Векторизация-слов-методом-TF-IDF-2.2\"><span class=\"toc-item-num\">2.2&nbsp;&nbsp;</span>Векторизация слов методом TF-IDF</a></span></li><li><span><a href=\"#Модель-LogisticRegression\" data-toc-modified-id=\"Модель-LogisticRegression-2.3\"><span class=\"toc-item-num\">2.3&nbsp;&nbsp;</span>Модель LogisticRegression</a></span></li><li><span><a href=\"#Модель-RandomForestClassifier\" data-toc-modified-id=\"Модель-RandomForestClassifier-2.4\"><span class=\"toc-item-num\">2.4&nbsp;&nbsp;</span>Модель RandomForestClassifier</a></span></li><li><span><a href=\"#Модель-DecisionTreeClassifier\" data-toc-modified-id=\"Модель-DecisionTreeClassifier-2.5\"><span class=\"toc-item-num\">2.5&nbsp;&nbsp;</span>Модель DecisionTreeClassifier</a></span></li></ul></li><li><span><a href=\"#Вывод-и-проверка-модели-на-тестовой-выборке\" data-toc-modified-id=\"Вывод-и-проверка-модели-на-тестовой-выборке-3\"><span class=\"toc-item-num\">3&nbsp;&nbsp;</span>Вывод и проверка модели на тестовой выборке</a></span></li><li><span><a href=\"#Чек-лист-проверки\" data-toc-modified-id=\"Чек-лист-проверки-4\"><span class=\"toc-item-num\">4&nbsp;&nbsp;</span>Чек-лист проверки</a></span></li></ul></div>"
   ]
  },
  {
   "cell_type": "markdown",
   "metadata": {},
   "source": [
    "# Проект для «Викишоп»"
   ]
  },
  {
   "cell_type": "markdown",
   "metadata": {},
   "source": [
    "Интернет-магазин «Викишоп» запускает новый сервис. Теперь пользователи могут редактировать и дополнять описания товаров, как в вики-сообществах. То есть клиенты предлагают свои правки и комментируют изменения других. Магазину нужен инструмент, который будет искать токсичные комментарии и отправлять их на модерацию. \n",
    "\n",
    "Обучите модель классифицировать комментарии на позитивные и негативные. В вашем распоряжении набор данных с разметкой о токсичности правок.\n",
    "\n",
    "Постройте модель со значением метрики качества *F1* не меньше 0.75. \n",
    "\n",
    "**Инструкция по выполнению проекта**\n",
    "\n",
    "1. Загрузите и подготовьте данные.\n",
    "2. Обучите разные модели. \n",
    "3. Сделайте выводы.\n",
    "\n",
    "Для выполнения проекта применять *BERT* необязательно, но вы можете попробовать.\n",
    "\n",
    "**Описание данных**\n",
    "\n",
    "Данные находятся в файле `toxic_comments.csv`. Столбец *text* в нём содержит текст комментария, а *toxic* — целевой признак."
   ]
  },
  {
   "cell_type": "markdown",
   "metadata": {},
   "source": [
    "## Анализ данных"
   ]
  },
  {
   "cell_type": "code",
   "execution_count": 1,
   "metadata": {},
   "outputs": [
    {
     "name": "stderr",
     "output_type": "stream",
     "text": [
      "[nltk_data] Downloading package wordnet to /home/jovyan/nltk_data...\n",
      "[nltk_data]   Package wordnet is already up-to-date!\n",
      "[nltk_data] Downloading package stopwords to /home/jovyan/nltk_data...\n",
      "[nltk_data]   Package stopwords is already up-to-date!\n",
      "[nltk_data] Downloading package punkt to /home/jovyan/nltk_data...\n",
      "[nltk_data]   Package punkt is already up-to-date!\n",
      "[nltk_data] Downloading package averaged_perceptron_tagger to\n",
      "[nltk_data]     /home/jovyan/nltk_data...\n",
      "[nltk_data]   Unzipping taggers/averaged_perceptron_tagger.zip.\n"
     ]
    }
   ],
   "source": [
    "# для анализа и работы с данными\n",
    "import numpy as np\n",
    "import pandas as pd\n",
    "import matplotlib.pyplot as plt\n",
    "\n",
    "# модели ML\n",
    "from sklearn.tree import DecisionTreeClassifier\n",
    "from sklearn.ensemble import RandomForestClassifier\n",
    "from sklearn.linear_model import LogisticRegression\n",
    "from sklearn.utils import shuffle\n",
    "from sklearn.model_selection import (train_test_split,\n",
    "                                     GridSearchCV,\n",
    "                                     cross_val_score)\n",
    "# метрики для алгоритмов ML\n",
    "from sklearn.metrics import f1_score\n",
    "\n",
    "import warnings\n",
    "warnings.filterwarnings(\"ignore\")\n",
    "                       \n",
    "import nltk\n",
    "from nltk.stem import WordNetLemmatizer\n",
    "from nltk.corpus import (stopwords,\n",
    "                         wordnet)\n",
    "\n",
    "# библиотеки для обработи текста\n",
    "nltk.download('wordnet')\n",
    "nltk.download('stopwords')\n",
    "nltk.download('punkt')\n",
    "nltk.download('averaged_perceptron_tagger')\n",
    "\n",
    "from sklearn.feature_extraction.text import (TfidfVectorizer,\n",
    "                                             CountVectorizer)\n",
    "import re\n",
    "\n",
    "# константы \n",
    "RANDOM_STATE = 12345\n",
    "STOP_WORDS = set(stopwords.words('english'))\n",
    "lemmatizer = WordNetLemmatizer()\n"
   ]
  },
  {
   "cell_type": "code",
   "execution_count": 2,
   "metadata": {},
   "outputs": [],
   "source": [
    "data = pd.read_csv('/datasets/toxic_comments.csv')"
   ]
  },
  {
   "cell_type": "markdown",
   "metadata": {},
   "source": [
    "Создадим функцию для анализа данных."
   ]
  },
  {
   "cell_type": "code",
   "execution_count": 3,
   "metadata": {},
   "outputs": [],
   "source": [
    "# Созадим функцию для анализа таблиц\n",
    "def analysis(data):\n",
    "    print(100*'-')\n",
    "    print('Общая информамия:')\n",
    "    print(data.info())\n",
    "    \n",
    "    print(100*'-')\n",
    "    print('Первые 5 строк')\n",
    "    display(data.head(5))\n",
    "    \n",
    "    print(100*'-')\n",
    "    print('Количество пропусков')\n",
    "    print(data.isnull().sum())\n",
    "    \n",
    "    print(100*'-')\n",
    "    print('Количество дубликатов:')\n",
    "    display(data.duplicated().sum())\n",
    "    \n",
    "    print(100*'-')\n",
    "    print('Статистические данные')\n",
    "    display(data.describe())\n",
    "    \n",
    "    print(100*'-')\n",
    "    print('Общиегистограммы')\n",
    "    data.hist(figsize = (10, 5))"
   ]
  },
  {
   "cell_type": "code",
   "execution_count": 4,
   "metadata": {},
   "outputs": [
    {
     "name": "stdout",
     "output_type": "stream",
     "text": [
      "----------------------------------------------------------------------------------------------------\n",
      "Общая информамия:\n",
      "<class 'pandas.core.frame.DataFrame'>\n",
      "RangeIndex: 159292 entries, 0 to 159291\n",
      "Data columns (total 3 columns):\n",
      " #   Column      Non-Null Count   Dtype \n",
      "---  ------      --------------   ----- \n",
      " 0   Unnamed: 0  159292 non-null  int64 \n",
      " 1   text        159292 non-null  object\n",
      " 2   toxic       159292 non-null  int64 \n",
      "dtypes: int64(2), object(1)\n",
      "memory usage: 3.6+ MB\n",
      "None\n",
      "----------------------------------------------------------------------------------------------------\n",
      "Первые 5 строк\n"
     ]
    },
    {
     "data": {
      "text/html": [
       "<div>\n",
       "<style scoped>\n",
       "    .dataframe tbody tr th:only-of-type {\n",
       "        vertical-align: middle;\n",
       "    }\n",
       "\n",
       "    .dataframe tbody tr th {\n",
       "        vertical-align: top;\n",
       "    }\n",
       "\n",
       "    .dataframe thead th {\n",
       "        text-align: right;\n",
       "    }\n",
       "</style>\n",
       "<table border=\"1\" class=\"dataframe\">\n",
       "  <thead>\n",
       "    <tr style=\"text-align: right;\">\n",
       "      <th></th>\n",
       "      <th>Unnamed: 0</th>\n",
       "      <th>text</th>\n",
       "      <th>toxic</th>\n",
       "    </tr>\n",
       "  </thead>\n",
       "  <tbody>\n",
       "    <tr>\n",
       "      <th>0</th>\n",
       "      <td>0</td>\n",
       "      <td>Explanation\\nWhy the edits made under my usern...</td>\n",
       "      <td>0</td>\n",
       "    </tr>\n",
       "    <tr>\n",
       "      <th>1</th>\n",
       "      <td>1</td>\n",
       "      <td>D'aww! He matches this background colour I'm s...</td>\n",
       "      <td>0</td>\n",
       "    </tr>\n",
       "    <tr>\n",
       "      <th>2</th>\n",
       "      <td>2</td>\n",
       "      <td>Hey man, I'm really not trying to edit war. It...</td>\n",
       "      <td>0</td>\n",
       "    </tr>\n",
       "    <tr>\n",
       "      <th>3</th>\n",
       "      <td>3</td>\n",
       "      <td>\"\\nMore\\nI can't make any real suggestions on ...</td>\n",
       "      <td>0</td>\n",
       "    </tr>\n",
       "    <tr>\n",
       "      <th>4</th>\n",
       "      <td>4</td>\n",
       "      <td>You, sir, are my hero. Any chance you remember...</td>\n",
       "      <td>0</td>\n",
       "    </tr>\n",
       "  </tbody>\n",
       "</table>\n",
       "</div>"
      ],
      "text/plain": [
       "   Unnamed: 0                                               text  toxic\n",
       "0           0  Explanation\\nWhy the edits made under my usern...      0\n",
       "1           1  D'aww! He matches this background colour I'm s...      0\n",
       "2           2  Hey man, I'm really not trying to edit war. It...      0\n",
       "3           3  \"\\nMore\\nI can't make any real suggestions on ...      0\n",
       "4           4  You, sir, are my hero. Any chance you remember...      0"
      ]
     },
     "metadata": {},
     "output_type": "display_data"
    },
    {
     "name": "stdout",
     "output_type": "stream",
     "text": [
      "----------------------------------------------------------------------------------------------------\n",
      "Количество пропусков\n",
      "Unnamed: 0    0\n",
      "text          0\n",
      "toxic         0\n",
      "dtype: int64\n",
      "----------------------------------------------------------------------------------------------------\n",
      "Количество дубликатов:\n"
     ]
    },
    {
     "data": {
      "text/plain": [
       "0"
      ]
     },
     "metadata": {},
     "output_type": "display_data"
    },
    {
     "name": "stdout",
     "output_type": "stream",
     "text": [
      "----------------------------------------------------------------------------------------------------\n",
      "Статистические данные\n"
     ]
    },
    {
     "data": {
      "text/html": [
       "<div>\n",
       "<style scoped>\n",
       "    .dataframe tbody tr th:only-of-type {\n",
       "        vertical-align: middle;\n",
       "    }\n",
       "\n",
       "    .dataframe tbody tr th {\n",
       "        vertical-align: top;\n",
       "    }\n",
       "\n",
       "    .dataframe thead th {\n",
       "        text-align: right;\n",
       "    }\n",
       "</style>\n",
       "<table border=\"1\" class=\"dataframe\">\n",
       "  <thead>\n",
       "    <tr style=\"text-align: right;\">\n",
       "      <th></th>\n",
       "      <th>Unnamed: 0</th>\n",
       "      <th>toxic</th>\n",
       "    </tr>\n",
       "  </thead>\n",
       "  <tbody>\n",
       "    <tr>\n",
       "      <th>count</th>\n",
       "      <td>159292.000000</td>\n",
       "      <td>159292.000000</td>\n",
       "    </tr>\n",
       "    <tr>\n",
       "      <th>mean</th>\n",
       "      <td>79725.697242</td>\n",
       "      <td>0.101612</td>\n",
       "    </tr>\n",
       "    <tr>\n",
       "      <th>std</th>\n",
       "      <td>46028.837471</td>\n",
       "      <td>0.302139</td>\n",
       "    </tr>\n",
       "    <tr>\n",
       "      <th>min</th>\n",
       "      <td>0.000000</td>\n",
       "      <td>0.000000</td>\n",
       "    </tr>\n",
       "    <tr>\n",
       "      <th>25%</th>\n",
       "      <td>39872.750000</td>\n",
       "      <td>0.000000</td>\n",
       "    </tr>\n",
       "    <tr>\n",
       "      <th>50%</th>\n",
       "      <td>79721.500000</td>\n",
       "      <td>0.000000</td>\n",
       "    </tr>\n",
       "    <tr>\n",
       "      <th>75%</th>\n",
       "      <td>119573.250000</td>\n",
       "      <td>0.000000</td>\n",
       "    </tr>\n",
       "    <tr>\n",
       "      <th>max</th>\n",
       "      <td>159450.000000</td>\n",
       "      <td>1.000000</td>\n",
       "    </tr>\n",
       "  </tbody>\n",
       "</table>\n",
       "</div>"
      ],
      "text/plain": [
       "          Unnamed: 0          toxic\n",
       "count  159292.000000  159292.000000\n",
       "mean    79725.697242       0.101612\n",
       "std     46028.837471       0.302139\n",
       "min         0.000000       0.000000\n",
       "25%     39872.750000       0.000000\n",
       "50%     79721.500000       0.000000\n",
       "75%    119573.250000       0.000000\n",
       "max    159450.000000       1.000000"
      ]
     },
     "metadata": {},
     "output_type": "display_data"
    },
    {
     "name": "stdout",
     "output_type": "stream",
     "text": [
      "----------------------------------------------------------------------------------------------------\n",
      "Общиегистограммы\n"
     ]
    },
    {
     "data": {
      "image/png": "[encoded data removed]",
      "text/plain": [
       "<Figure size 720x360 with 2 Axes>"
      ]
     },
     "metadata": {
      "needs_background": "light"
     },
     "output_type": "display_data"
    }
   ],
   "source": [
    "analysis(data)"
   ]
  },
  {
   "cell_type": "markdown",
   "metadata": {},
   "source": [
    "При анализе данных видно, что у нас имеется 3 столбца и порядка 159000 наблюдений. Пропуски и дубликаты отсутствуют. Для задач машинного обучения можно убрать столбец unnamed, т.к. он не несет важной информации. Также надо обратить внимание на соотношения целевого признака, тут у нас имеется дизбаланс классов по нему также надо будет провести проверку.\n",
    "Т.к. стоит задача обработки текста, а я ядро на плафторме не может обрабатывать большое количество наблюдений снизим количество исследуемых наблюдений до 50000 . Хоть и большое количество наблюдений хорошо влияет на итоговую точность модели, но для задач данного кейса этого набора данных вполне должно хватить."
   ]
  },
  {
   "cell_type": "code",
   "execution_count": 5,
   "metadata": {
    "scrolled": true
   },
   "outputs": [
    {
     "name": "stdout",
     "output_type": "stream",
     "text": [
      "<class 'pandas.core.frame.DataFrame'>\n",
      "RangeIndex: 159292 entries, 0 to 159291\n",
      "Data columns (total 2 columns):\n",
      " #   Column  Non-Null Count   Dtype \n",
      "---  ------  --------------   ----- \n",
      " 0   text    159292 non-null  object\n",
      " 1   toxic   159292 non-null  int64 \n",
      "dtypes: int64(1), object(1)\n",
      "memory usage: 2.4+ MB\n"
     ]
    }
   ],
   "source": [
    "# удаление признака Unnamed\n",
    "data = data.drop(['Unnamed: 0'], axis=1)\n",
    "data.info()"
   ]
  },
  {
   "cell_type": "code",
   "execution_count": 6,
   "metadata": {},
   "outputs": [
    {
     "data": {
      "image/png": "[encoded data removed]",
      "text/plain": [
       "<Figure size 1440x360 with 1 Axes>"
      ]
     },
     "metadata": {
      "needs_background": "light"
     },
     "output_type": "display_data"
    }
   ],
   "source": [
    "# длинна комментариев\n",
    "text_len = data['text'].str.len()\n",
    "# график зависимости количества комментариев от их длинны\n",
    "plt.figure(figsize = (20, 5))\n",
    "text_len.hist(bins=100);\n",
    "plt.title('Зависимость количества отзывов от длинны')\n",
    "plt.xlabel('Длина отзывов')\n",
    "plt.ylabel('Rоличество')\n",
    "plt.show()"
   ]
  },
  {
   "cell_type": "code",
   "execution_count": 7,
   "metadata": {},
   "outputs": [
    {
     "name": "stdout",
     "output_type": "stream",
     "text": [
      "<class 'pandas.core.frame.DataFrame'>\n",
      "Int64Index: 50000 entries, 109486 to 105721\n",
      "Data columns (total 2 columns):\n",
      " #   Column  Non-Null Count  Dtype \n",
      "---  ------  --------------  ----- \n",
      " 0   text    50000 non-null  object\n",
      " 1   toxic   50000 non-null  int64 \n",
      "dtypes: int64(1), object(1)\n",
      "memory usage: 1.1+ MB\n"
     ]
    }
   ],
   "source": [
    "data = data.sample(n = 50000, random_state=RANDOM_STATE)\n",
    "data.info()"
   ]
  },
  {
   "cell_type": "markdown",
   "metadata": {},
   "source": [
    "**Для решения данного кейса будем использовать векторное представление к задаче анализа текстов, задача решается по следующему порядку:**\n",
    "- Прежде чем перейти к векторному представлению слов, проводится знакомая вам предобработка текста:\n",
    "- Выполняют токенизацию каждого текста, то есть его разбивают на слова;\n",
    "- Слова лемматизируют: приводят к начальной словарной форме (более сложные модели, например, BERT, этого не требуют: они сами понимают формы слов);\n",
    "- Текст очищают от стоп-слов и ненужных символов;\n",
    "- Для корректной работы алгоритма добавляют маркеры начала и конца предложения (они приравниваются к токенам).\n",
    "- На выходе у каждого исходного текста образуется свой список токенов.\n",
    "-Затем токены передают модели, которая переводит их в векторные представления. Для этого модель обращается к составленному заранее словарю токенов. На выходе для каждого текста образуются векторы заданной длины.\n",
    "- На финальном этапе модели передают признаки (векторы). И она прогнозирует эмоциональную окраску текста — 0 («отрицательная») или 1 («положительная»)."
   ]
  },
  {
   "cell_type": "markdown",
   "metadata": {},
   "source": [
    "### Подготовка текста"
   ]
  },
  {
   "cell_type": "markdown",
   "metadata": {},
   "source": [
    "Проведем лемитизацию слов на нашей выборке и создадим функции очистки и лемитизации."
   ]
  },
  {
   "cell_type": "code",
   "execution_count": 8,
   "metadata": {},
   "outputs": [],
   "source": [
    "# Создание корпуса слов\n",
    "corpus = list(data['text'])"
   ]
  },
  {
   "cell_type": "code",
   "execution_count": 9,
   "metadata": {},
   "outputs": [],
   "source": [
    "# функция, которая оставит в тексте только кириллические символы и пробелы \n",
    "def text_clear(text):\n",
    "    clear = re.sub(r\"[^'a-zA-Z ]\", ' ', text) \n",
    "    clear = \" \".join(clear.split())\n",
    "    return clear\n",
    "\n",
    "# функция для лемматизации текста\n",
    "def text_lemmatize(text):\n",
    "    w = []\n",
    "    for i in nltk.word_tokenize(text):\n",
    "        y = lemmatizer.lemmatize(i, word_pos(i))\n",
    "        w.append(y)\n",
    "    return ' '.join(w) \n",
    "\n",
    "\n",
    "# функция для создания списка кортежей, где каждый кортеж содержит слово и его часть речи\n",
    "def word_pos(word):\n",
    "   \n",
    "    tag = nltk.pos_tag([word])[0][1][0].lower()\n",
    "    dic = {\"J\": wordnet.ADJ,\n",
    "                \"N\": wordnet.NOUN,\n",
    "                \"V\": wordnet.VERB,\n",
    "                \"R\": wordnet.ADV}\n",
    "    return dic.get(tag, wordnet.NOUN)"
   ]
  },
  {
   "cell_type": "code",
   "execution_count": 10,
   "metadata": {},
   "outputs": [],
   "source": [
    "text_ready = []\n",
    "for i in range(len(corpus)):\n",
    "    \n",
    "    text_ready.append(text_lemmatize(text_clear(corpus[i])))\n",
    "\n",
    "data['text_lemm'] = pd.Series(text_ready, index = data.index)"
   ]
  },
  {
   "cell_type": "code",
   "execution_count": 11,
   "metadata": {},
   "outputs": [
    {
     "data": {
      "text/html": [
       "<div>\n",
       "<style scoped>\n",
       "    .dataframe tbody tr th:only-of-type {\n",
       "        vertical-align: middle;\n",
       "    }\n",
       "\n",
       "    .dataframe tbody tr th {\n",
       "        vertical-align: top;\n",
       "    }\n",
       "\n",
       "    .dataframe thead th {\n",
       "        text-align: right;\n",
       "    }\n",
       "</style>\n",
       "<table border=\"1\" class=\"dataframe\">\n",
       "  <thead>\n",
       "    <tr style=\"text-align: right;\">\n",
       "      <th></th>\n",
       "      <th>text</th>\n",
       "      <th>toxic</th>\n",
       "      <th>text_lemm</th>\n",
       "    </tr>\n",
       "  </thead>\n",
       "  <tbody>\n",
       "    <tr>\n",
       "      <th>109486</th>\n",
       "      <td>Expert Categorizers  \\n\\nWhy is there no menti...</td>\n",
       "      <td>0</td>\n",
       "      <td>Expert Categorizers Why is there no mention of...</td>\n",
       "    </tr>\n",
       "    <tr>\n",
       "      <th>104980</th>\n",
       "      <td>\"\\n\\n Noise \\n\\nfart*  talk. \"</td>\n",
       "      <td>1</td>\n",
       "      <td>Noise fart talk</td>\n",
       "    </tr>\n",
       "    <tr>\n",
       "      <th>82166</th>\n",
       "      <td>An indefinite block is appropriate, even for a...</td>\n",
       "      <td>0</td>\n",
       "      <td>An indefinite block is appropriate even for a ...</td>\n",
       "    </tr>\n",
       "    <tr>\n",
       "      <th>18721</th>\n",
       "      <td>I don't understand why we have a screenshot of...</td>\n",
       "      <td>0</td>\n",
       "      <td>I do n't understand why we have a screenshot o...</td>\n",
       "    </tr>\n",
       "    <tr>\n",
       "      <th>128178</th>\n",
       "      <td>Hello! Some of the people, places or things yo...</td>\n",
       "      <td>0</td>\n",
       "      <td>Hello Some of the people place or thing you ha...</td>\n",
       "    </tr>\n",
       "    <tr>\n",
       "      <th>108309</th>\n",
       "      <td>\"::::::::::::::If you read carefully, my comme...</td>\n",
       "      <td>1</td>\n",
       "      <td>If you read carefully my comment wa overall a ...</td>\n",
       "    </tr>\n",
       "    <tr>\n",
       "      <th>25259</th>\n",
       "      <td>\"\\nDid you make it at WP:AE? ofShalott \"</td>\n",
       "      <td>0</td>\n",
       "      <td>Did you make it at WP AE ofShalott</td>\n",
       "    </tr>\n",
       "    <tr>\n",
       "      <th>32655</th>\n",
       "      <td>know as much as he thinks.</td>\n",
       "      <td>0</td>\n",
       "      <td>know a much a he think</td>\n",
       "    </tr>\n",
       "    <tr>\n",
       "      <th>31896</th>\n",
       "      <td>Thank you for your comment and willingness to ...</td>\n",
       "      <td>0</td>\n",
       "      <td>Thank you for your comment and willingness to ...</td>\n",
       "    </tr>\n",
       "    <tr>\n",
       "      <th>20224</th>\n",
       "      <td>UPDATE 3-12-06\\n\\nHEY YALL IM GOING TO BE GONE...</td>\n",
       "      <td>0</td>\n",
       "      <td>UPDATE HEY YALL IM GOING TO BE GONE A WEEK SO ...</td>\n",
       "    </tr>\n",
       "  </tbody>\n",
       "</table>\n",
       "</div>"
      ],
      "text/plain": [
       "                                                     text  toxic  \\\n",
       "109486  Expert Categorizers  \\n\\nWhy is there no menti...      0   \n",
       "104980                     \"\\n\\n Noise \\n\\nfart*  talk. \"      1   \n",
       "82166   An indefinite block is appropriate, even for a...      0   \n",
       "18721   I don't understand why we have a screenshot of...      0   \n",
       "128178  Hello! Some of the people, places or things yo...      0   \n",
       "108309  \"::::::::::::::If you read carefully, my comme...      1   \n",
       "25259            \"\\nDid you make it at WP:AE? ofShalott \"      0   \n",
       "32655                          know as much as he thinks.      0   \n",
       "31896   Thank you for your comment and willingness to ...      0   \n",
       "20224   UPDATE 3-12-06\\n\\nHEY YALL IM GOING TO BE GONE...      0   \n",
       "\n",
       "                                                text_lemm  \n",
       "109486  Expert Categorizers Why is there no mention of...  \n",
       "104980                                    Noise fart talk  \n",
       "82166   An indefinite block is appropriate even for a ...  \n",
       "18721   I do n't understand why we have a screenshot o...  \n",
       "128178  Hello Some of the people place or thing you ha...  \n",
       "108309  If you read carefully my comment wa overall a ...  \n",
       "25259                  Did you make it at WP AE ofShalott  \n",
       "32655                              know a much a he think  \n",
       "31896   Thank you for your comment and willingness to ...  \n",
       "20224   UPDATE HEY YALL IM GOING TO BE GONE A WEEK SO ...  "
      ]
     },
     "execution_count": 11,
     "metadata": {},
     "output_type": "execute_result"
    }
   ],
   "source": [
    "# ПРоверка\n",
    "data.head(10)"
   ]
  },
  {
   "cell_type": "markdown",
   "metadata": {},
   "source": [
    "**Вывод:** Произведен анализ и подготовка данных, удалены ненужные признаки и произведена полная подготовка текста для задач машинного обучения. Необходимо в следующем этапе решить проблему борьбы классов, а также произвести разделения на выборки для обучения модели."
   ]
  },
  {
   "cell_type": "markdown",
   "metadata": {},
   "source": [
    "## Обучение"
   ]
  },
  {
   "cell_type": "markdown",
   "metadata": {},
   "source": [
    "### Борьба с дисбалансом и разделение на выборки"
   ]
  },
  {
   "cell_type": "code",
   "execution_count": 12,
   "metadata": {},
   "outputs": [],
   "source": [
    "features = data['text_lemm']\n",
    "target = data['toxic']"
   ]
  },
  {
   "cell_type": "code",
   "execution_count": 13,
   "metadata": {},
   "outputs": [
    {
     "name": "stdout",
     "output_type": "stream",
     "text": [
      "Размер features_train: (40000,)\n",
      "Размер features_test: (10000,)\n",
      "Размер target_train: (40000,)\n",
      "Размер target_test: (10000,)\n"
     ]
    }
   ],
   "source": [
    "# Разделение на выборки\n",
    "features_train, features_test, target_train, target_test = train_test_split(features, target, test_size = 0.2, random_state = RANDOM_STATE, stratify = target) \n",
    "\n",
    "print(\"Размер features_train:\", features_train.shape)\n",
    "print(\"Размер features_test:\", features_test.shape)\n",
    "print(\"Размер target_train:\", target_train.shape)\n",
    "print(\"Размер target_test:\", target_test.shape)"
   ]
  },
  {
   "cell_type": "markdown",
   "metadata": {},
   "source": [
    "### Векторизация слов методом TF-IDF"
   ]
  },
  {
   "cell_type": "code",
   "execution_count": 14,
   "metadata": {},
   "outputs": [],
   "source": [
    "count_tf = TfidfVectorizer(stop_words = STOP_WORDS, analyzer = 'word') \n",
    "tf_train = count_tf.fit_transform(features_train)\n",
    "tf_test = count_tf.transform(features_test)"
   ]
  },
  {
   "cell_type": "markdown",
   "metadata": {},
   "source": [
    "Произвели корректировку классов, а также разделили данные на выборки. Произведена оценка важности слов методом TF-IDF. Можно приступать к обучению моделей."
   ]
  },
  {
   "cell_type": "markdown",
   "metadata": {},
   "source": [
    "### Модель LogisticRegression"
   ]
  },
  {
   "cell_type": "code",
   "execution_count": 15,
   "metadata": {},
   "outputs": [
    {
     "name": "stdout",
     "output_type": "stream",
     "text": [
      "F1 наилучшей модели  LogisticRegression: 0.7446470222237579\n",
      "----------------------------------------------------------------------------------------------------\n",
      " Параметры лучшей модели LogisticRegression {'C': 10, 'max_iter': 50}\n"
     ]
    }
   ],
   "source": [
    "model_LR = LogisticRegression(random_state = RANDOM_STATE,\n",
    "                            solver='sag',\n",
    "                            class_weight = 'balanced')\n",
    "                            \n",
    "parametrs_LR = { 'C': range (1, 20),\n",
    "              'max_iter': range (10, 100, 10),\n",
    "              }\n",
    "\n",
    "grid_LR = GridSearchCV(model_LR, parametrs_LR, cv=3, scoring='f1')\n",
    "\n",
    "grid_LR.fit(tf_train, target_train)\n",
    "grid_LR.best_params_\n",
    "\n",
    "print(\"F1 наилучшей модели  LogisticRegression:\", grid_LR.best_score_)\n",
    "print(100*'-')\n",
    "print(' Параметры лучшей модели LogisticRegression', grid_LR.best_params_)"
   ]
  },
  {
   "cell_type": "markdown",
   "metadata": {},
   "source": [
    "### Модель RandomForestClassifier"
   ]
  },
  {
   "cell_type": "code",
   "execution_count": 77,
   "metadata": {},
   "outputs": [
    {
     "name": "stdout",
     "output_type": "stream",
     "text": [
      "F1 наилучшей модели  RandomForestClassifier: 0.6492221029610982\n",
      "----------------------------------------------------------------------------------------------------\n",
      " Параметры лучшей модели RandomForestClassifier {'n_estimators': 13}\n"
     ]
    }
   ],
   "source": [
    "model_RF = RandomForestClassifier()\n",
    "\n",
    "# набор параметров \n",
    "parametrs_RF = {'n_estimators': [1, 5, 9, 13]}\n",
    "\n",
    "# подбор оптимальных параметров с помощью GridSearchCV \n",
    "grid_RF = GridSearchCV(model_RF, parametrs_RF, scoring='f1', cv=3)\n",
    "\n",
    "grid_RF.fit(tf_train, target_train)\n",
    "grid_RF.best_params_\n",
    "\n",
    "print(\"F1 наилучшей модели  RandomForestClassifier:\", grid_RF.best_score_)\n",
    "print(100*'-')\n",
    "print(' Параметры лучшей модели RandomForestClassifier', grid_RF.best_params_)"
   ]
  },
  {
   "cell_type": "markdown",
   "metadata": {},
   "source": [
    "### Модель DecisionTreeClassifier "
   ]
  },
  {
   "cell_type": "code",
   "execution_count": 78,
   "metadata": {},
   "outputs": [
    {
     "name": "stdout",
     "output_type": "stream",
     "text": [
      "F1 наилучшей модели  DecisionTreeClassifier: 0.5747593483061865\n",
      "----------------------------------------------------------------------------------------------------\n",
      " Глубина depth лучшей модели DecisionTreeClassifier 22\n"
     ]
    }
   ],
   "source": [
    "best_model_DT = None\n",
    "best_result_DT = 0\n",
    "best_depth_DT = 0\n",
    "\n",
    "for depth in range(1, 25, 3):\n",
    "    model_DT = DecisionTreeClassifier(random_state = RANDOM_STATE,\n",
    "                                      max_depth = depth,\n",
    "                                      class_weight = 'balanced') \n",
    "    scores = cross_val_score(model_DT, tf_train, target_train, cv=5, scoring='f1')\n",
    "    result_DT = np.mean(scores)\n",
    "    if result_DT > best_result_DT:\n",
    "        best_model_DT = model_DT\n",
    "        best_result_DT = result_DT\n",
    "        best_depth_DT = depth\n",
    "        \n",
    "print(\"F1 наилучшей модели  DecisionTreeClassifier:\", best_result_DT)\n",
    "print(100*'-')\n",
    "print(' Глубина depth лучшей модели DecisionTreeClassifier', best_depth_DT)"
   ]
  },
  {
   "cell_type": "markdown",
   "metadata": {},
   "source": [
    "**Соберем результаты всех моделей в одном месте**"
   ]
  },
  {
   "cell_type": "code",
   "execution_count": 88,
   "metadata": {},
   "outputs": [
    {
     "name": "stdout",
     "output_type": "stream",
     "text": [
      "F1 наилучшей модели  LogisticRegression: 0.7446470222237579\n",
      "----------------------------------------------------------------------------------------------------\n",
      "F1 наилучшей модели  RandomForestClassifier: 0.6492221029610982\n",
      "----------------------------------------------------------------------------------------------------\n",
      "F1 наилучшей модели  DecisionTreeClassifier: 0.5747593483061865\n"
     ]
    }
   ],
   "source": [
    "print(\"F1 наилучшей модели  LogisticRegression:\", grid_LR.best_score_)\n",
    "print(100*'-')\n",
    "print(\"F1 наилучшей модели  RandomForestClassifier:\", grid_RF.best_score_)\n",
    "print(100*'-')\n",
    "print(\"F1 наилучшей модели  DecisionTreeClassifier:\", best_result_DT)"
   ]
  },
  {
   "cell_type": "markdown",
   "metadata": {},
   "source": [
    "**Вывод:** Самый маленький показатель метрики f1 у модели DecisionTreeClassifier, затем идет модель RandomForestClassifier и возглавляет тройку модель LogisticRegression с показателем метрике f1 - 0.75. Данная метрика соответствует нашему заданию, поэтому данную модель будем использовать для проверки на тестовой выборке."
   ]
  },
  {
   "cell_type": "markdown",
   "metadata": {},
   "source": [
    "## Вывод и проверка модели на тестовой выборке"
   ]
  },
  {
   "cell_type": "code",
   "execution_count": 87,
   "metadata": {},
   "outputs": [
    {
     "name": "stdout",
     "output_type": "stream",
     "text": [
      "F1 модели RandomForestClassifier на тестовой выборке 0.7521448999046711\n"
     ]
    }
   ],
   "source": [
    "# Проверка лучшей модели LogisticRegression\n",
    "predictions_LR= grid_LR.predict(tf_test)\n",
    "print('F1 модели RandomForestClassifier на тестовой выборке', f1_score(target_test, predictions_LR))"
   ]
  },
  {
   "cell_type": "markdown",
   "metadata": {},
   "source": [
    "Как видно на тестовой выборке модель показала результат метрики F1 необходимый нам по заданию, по этому для данного кейса можно использовать модель LogisticRegression"
   ]
  },
  {
   "cell_type": "markdown",
   "metadata": {},
   "source": [
    "**Общий вывод:** Была произведен анализ и обработка данных, текста были обработаны для задач машинного обучения. Были рассмотрены три модели и сравнивался показатель метрики F1. Лучший показатель показала модель LogisticRegression с параметрами {'C': 10, 'max_iter': 50}. Итоговая метрика F1 на тестовой выборке составила 0.7521, что входит в диапазон нашего задания, поэтому можно сделать вывод, что задачи данного кейса достигнуты."
   ]
  }
 ],
 "metadata": {
  "ExecuteTimeLog": [
   {
    "duration": 2144,
    "start_time": "2023-07-30T11:21:55.968Z"
   },
   {
    "duration": 2189,
    "start_time": "2023-07-30T11:22:33.976Z"
   },
   {
    "duration": 3331,
    "start_time": "2023-07-30T15:29:21.347Z"
   },
   {
    "duration": 2800,
    "start_time": "2023-07-30T15:29:24.680Z"
   },
   {
    "duration": 7,
    "start_time": "2023-07-30T15:30:36.240Z"
   },
   {
    "duration": 871,
    "start_time": "2023-07-30T15:30:42.114Z"
   },
   {
    "duration": 695,
    "start_time": "2023-07-30T15:30:48.844Z"
   },
   {
    "duration": 5,
    "start_time": "2023-07-30T15:31:22.248Z"
   },
   {
    "duration": 442,
    "start_time": "2023-07-30T15:31:22.756Z"
   },
   {
    "duration": 5,
    "start_time": "2023-07-30T15:31:56.862Z"
   },
   {
    "duration": 311,
    "start_time": "2023-07-30T15:31:57.259Z"
   },
   {
    "duration": 5,
    "start_time": "2023-07-30T15:32:13.502Z"
   },
   {
    "duration": 2049,
    "start_time": "2023-07-30T15:34:50.255Z"
   },
   {
    "duration": 2896,
    "start_time": "2023-07-30T15:34:52.307Z"
   },
   {
    "duration": 4,
    "start_time": "2023-07-30T15:34:57.010Z"
   },
   {
    "duration": 1954,
    "start_time": "2023-07-30T15:39:07.552Z"
   },
   {
    "duration": 2649,
    "start_time": "2023-07-30T15:39:09.508Z"
   },
   {
    "duration": 4,
    "start_time": "2023-07-30T15:39:18.051Z"
   },
   {
    "duration": 1668,
    "start_time": "2023-07-30T15:39:19.350Z"
   },
   {
    "duration": 5,
    "start_time": "2023-07-30T15:39:35.473Z"
   },
   {
    "duration": 610,
    "start_time": "2023-07-30T15:39:36.794Z"
   },
   {
    "duration": 4,
    "start_time": "2023-07-30T15:39:45.870Z"
   },
   {
    "duration": 534,
    "start_time": "2023-07-30T15:39:46.418Z"
   },
   {
    "duration": 5,
    "start_time": "2023-07-30T15:39:53.982Z"
   },
   {
    "duration": 586,
    "start_time": "2023-07-30T15:39:54.490Z"
   },
   {
    "duration": 13,
    "start_time": "2023-07-30T15:44:30.877Z"
   },
   {
    "duration": 26,
    "start_time": "2023-07-30T15:44:35.009Z"
   },
   {
    "duration": 5,
    "start_time": "2023-07-30T15:44:50.794Z"
   },
   {
    "duration": 408,
    "start_time": "2023-07-30T15:44:51.238Z"
   },
   {
    "duration": 15,
    "start_time": "2023-07-30T15:44:52.571Z"
   },
   {
    "duration": 13,
    "start_time": "2023-07-30T15:45:00.267Z"
   },
   {
    "duration": 10,
    "start_time": "2023-07-30T15:45:48.595Z"
   },
   {
    "duration": 827,
    "start_time": "2023-07-30T15:45:50.098Z"
   },
   {
    "duration": 6,
    "start_time": "2023-07-30T15:45:52.392Z"
   },
   {
    "duration": 625,
    "start_time": "2023-07-30T15:45:55.076Z"
   },
   {
    "duration": 12,
    "start_time": "2023-07-30T15:45:58.050Z"
   },
   {
    "duration": 30,
    "start_time": "2023-07-30T15:46:24.270Z"
   },
   {
    "duration": 106,
    "start_time": "2023-07-30T15:48:08.135Z"
   },
   {
    "duration": 235,
    "start_time": "2023-07-30T15:48:20.468Z"
   },
   {
    "duration": 367,
    "start_time": "2023-07-30T15:48:28.041Z"
   },
   {
    "duration": 319,
    "start_time": "2023-07-30T15:48:34.280Z"
   },
   {
    "duration": 319,
    "start_time": "2023-07-30T15:48:52.414Z"
   },
   {
    "duration": 346,
    "start_time": "2023-07-30T15:49:20.635Z"
   },
   {
    "duration": 16,
    "start_time": "2023-07-30T15:49:58.570Z"
   },
   {
    "duration": 10,
    "start_time": "2023-07-30T15:50:02.677Z"
   },
   {
    "duration": 18,
    "start_time": "2023-07-30T15:50:10.379Z"
   },
   {
    "duration": 23,
    "start_time": "2023-07-30T15:50:24.416Z"
   },
   {
    "duration": 17,
    "start_time": "2023-07-30T15:55:44.071Z"
   },
   {
    "duration": 3,
    "start_time": "2023-07-30T15:58:56.386Z"
   },
   {
    "duration": 9,
    "start_time": "2023-07-30T15:59:45.916Z"
   },
   {
    "duration": 17,
    "start_time": "2023-07-30T16:01:13.369Z"
   },
   {
    "duration": 34,
    "start_time": "2023-07-30T16:01:38.818Z"
   },
   {
    "duration": 9,
    "start_time": "2023-07-30T16:03:40.382Z"
   },
   {
    "duration": 16,
    "start_time": "2023-07-30T16:03:41.100Z"
   },
   {
    "duration": 6,
    "start_time": "2023-07-30T16:03:53.926Z"
   },
   {
    "duration": 1570,
    "start_time": "2023-07-30T16:03:54.367Z"
   },
   {
    "duration": 5,
    "start_time": "2023-07-30T16:04:06.702Z"
   },
   {
    "duration": 366502,
    "start_time": "2023-07-30T16:04:07.182Z"
   },
   {
    "duration": 9,
    "start_time": "2023-07-30T16:10:41.401Z"
   },
   {
    "duration": 10,
    "start_time": "2023-07-30T16:10:51.073Z"
   },
   {
    "duration": 14,
    "start_time": "2023-07-30T16:16:58.019Z"
   },
   {
    "duration": 31,
    "start_time": "2023-07-30T16:17:21.596Z"
   },
   {
    "duration": 15,
    "start_time": "2023-07-30T16:17:24.543Z"
   },
   {
    "duration": 6,
    "start_time": "2023-07-30T16:17:25.031Z"
   },
   {
    "duration": 353853,
    "start_time": "2023-07-30T16:17:28.880Z"
   },
   {
    "duration": 1176,
    "start_time": "2023-07-30T16:23:35.820Z"
   },
   {
    "duration": 20,
    "start_time": "2023-07-30T16:23:56.497Z"
   },
   {
    "duration": 21,
    "start_time": "2023-07-30T16:24:37.643Z"
   },
   {
    "duration": 10,
    "start_time": "2023-07-30T16:29:01.968Z"
   },
   {
    "duration": 27,
    "start_time": "2023-07-30T16:30:03.009Z"
   },
   {
    "duration": 19,
    "start_time": "2023-07-30T16:32:43.537Z"
   },
   {
    "duration": 16,
    "start_time": "2023-07-30T16:33:20.516Z"
   },
   {
    "duration": 22,
    "start_time": "2023-07-30T16:33:52.340Z"
   },
   {
    "duration": 16,
    "start_time": "2023-07-30T16:33:53.067Z"
   },
   {
    "duration": 23,
    "start_time": "2023-07-30T16:34:47.317Z"
   },
   {
    "duration": 15,
    "start_time": "2023-07-30T16:34:47.703Z"
   },
   {
    "duration": 4,
    "start_time": "2023-07-30T16:35:15.162Z"
   },
   {
    "duration": 10,
    "start_time": "2023-07-30T16:35:29.719Z"
   },
   {
    "duration": 5,
    "start_time": "2023-07-30T16:35:34.894Z"
   },
   {
    "duration": 31,
    "start_time": "2023-07-30T16:35:59.938Z"
   },
   {
    "duration": 140,
    "start_time": "2023-07-30T16:36:43.635Z"
   },
   {
    "duration": 126,
    "start_time": "2023-07-30T16:36:56.739Z"
   },
   {
    "duration": 20,
    "start_time": "2023-07-30T16:37:03.984Z"
   },
   {
    "duration": 150,
    "start_time": "2023-07-30T16:37:04.411Z"
   },
   {
    "duration": 22,
    "start_time": "2023-07-30T16:37:09.467Z"
   },
   {
    "duration": 1892,
    "start_time": "2023-07-30T16:39:18.214Z"
   },
   {
    "duration": 16092,
    "start_time": "2023-07-30T16:43:09.502Z"
   },
   {
    "duration": 15534,
    "start_time": "2023-07-30T16:44:14.217Z"
   },
   {
    "duration": 15967,
    "start_time": "2023-07-30T16:47:49.795Z"
   },
   {
    "duration": 15067,
    "start_time": "2023-07-30T16:50:10.268Z"
   },
   {
    "duration": 10,
    "start_time": "2023-07-30T16:50:36.881Z"
   },
   {
    "duration": 265,
    "start_time": "2023-07-30T16:50:47.080Z"
   },
   {
    "duration": 11,
    "start_time": "2023-07-30T16:50:52.780Z"
   },
   {
    "duration": 13,
    "start_time": "2023-07-30T16:51:21.859Z"
   },
   {
    "duration": 16,
    "start_time": "2023-07-30T16:51:49.471Z"
   },
   {
    "duration": 12,
    "start_time": "2023-07-30T16:51:55.967Z"
   },
   {
    "duration": 82817,
    "start_time": "2023-07-30T16:52:02.040Z"
   },
   {
    "duration": 5446,
    "start_time": "2023-07-30T16:59:28.937Z"
   },
   {
    "duration": 93019,
    "start_time": "2023-07-30T16:59:51.261Z"
   },
   {
    "duration": 91945,
    "start_time": "2023-07-30T17:02:13.300Z"
   },
   {
    "duration": 8,
    "start_time": "2023-07-30T17:05:31.037Z"
   },
   {
    "duration": 13,
    "start_time": "2023-07-30T17:11:22.694Z"
   },
   {
    "duration": 111,
    "start_time": "2023-07-30T17:12:08.447Z"
   },
   {
    "duration": 117,
    "start_time": "2023-07-30T17:13:35.087Z"
   },
   {
    "duration": 7,
    "start_time": "2023-07-30T17:18:09.144Z"
   },
   {
    "duration": 771,
    "start_time": "2023-07-30T17:18:10.443Z"
   },
   {
    "duration": 4,
    "start_time": "2023-07-30T17:18:12.344Z"
   },
   {
    "duration": 562,
    "start_time": "2023-07-30T17:18:13.603Z"
   },
   {
    "duration": 28,
    "start_time": "2023-07-30T17:18:15.581Z"
   },
   {
    "duration": 344,
    "start_time": "2023-07-30T17:18:16.590Z"
   },
   {
    "duration": 26,
    "start_time": "2023-07-30T17:18:17.609Z"
   },
   {
    "duration": 15,
    "start_time": "2023-07-30T17:18:19.898Z"
   },
   {
    "duration": 5,
    "start_time": "2023-07-30T17:18:20.662Z"
   },
   {
    "duration": 332723,
    "start_time": "2023-07-30T17:18:21.786Z"
   },
   {
    "duration": 7,
    "start_time": "2023-07-30T17:23:59.140Z"
   },
   {
    "duration": 25,
    "start_time": "2023-07-30T17:24:01.772Z"
   },
   {
    "duration": 287,
    "start_time": "2023-07-30T17:24:02.939Z"
   },
   {
    "duration": 28,
    "start_time": "2023-07-30T17:24:03.901Z"
   },
   {
    "duration": 1924,
    "start_time": "2023-07-30T17:24:05.606Z"
   },
   {
    "duration": 16177,
    "start_time": "2023-07-30T17:24:10.010Z"
   },
   {
    "duration": 83092,
    "start_time": "2023-07-30T17:24:29.900Z"
   },
   {
    "duration": 89341,
    "start_time": "2023-07-30T17:25:56.593Z"
   },
   {
    "duration": 5,
    "start_time": "2023-07-30T17:27:25.936Z"
   },
   {
    "duration": 120,
    "start_time": "2023-07-30T17:27:41.632Z"
   },
   {
    "duration": 60,
    "start_time": "2023-07-31T07:08:23.201Z"
   },
   {
    "duration": 2902,
    "start_time": "2023-07-31T07:08:30.764Z"
   },
   {
    "duration": 3039,
    "start_time": "2023-07-31T07:08:33.668Z"
   },
   {
    "duration": 4,
    "start_time": "2023-07-31T07:08:38.355Z"
   },
   {
    "duration": 622,
    "start_time": "2023-07-31T07:08:39.168Z"
   },
   {
    "duration": 41,
    "start_time": "2023-07-31T07:08:41.110Z"
   },
   {
    "duration": 350,
    "start_time": "2023-07-31T07:08:41.495Z"
   },
   {
    "duration": 30,
    "start_time": "2023-07-31T07:08:41.855Z"
   },
   {
    "duration": 15,
    "start_time": "2023-07-31T07:08:43.040Z"
   },
   {
    "duration": 10,
    "start_time": "2023-07-31T07:08:43.333Z"
   },
   {
    "duration": 376814,
    "start_time": "2023-07-31T07:08:43.671Z"
   },
   {
    "duration": 8,
    "start_time": "2023-07-31T07:15:00.487Z"
   },
   {
    "duration": 4,
    "start_time": "2023-07-31T07:15:08.853Z"
   },
   {
    "duration": 129,
    "start_time": "2023-07-31T07:15:13.211Z"
   },
   {
    "duration": 11,
    "start_time": "2023-07-31T07:16:03.750Z"
   },
   {
    "duration": 21,
    "start_time": "2023-07-31T07:16:13.996Z"
   },
   {
    "duration": 2129,
    "start_time": "2023-07-31T07:16:15.679Z"
   },
   {
    "duration": 16604,
    "start_time": "2023-07-31T07:16:20.511Z"
   },
   {
    "duration": 112947,
    "start_time": "2023-07-31T07:16:40.919Z"
   },
   {
    "duration": 128320,
    "start_time": "2023-07-31T07:18:41.946Z"
   },
   {
    "duration": 5,
    "start_time": "2023-07-31T07:20:54.579Z"
   },
   {
    "duration": 24,
    "start_time": "2023-07-31T07:52:34.651Z"
   },
   {
    "duration": 2158,
    "start_time": "2023-07-31T07:52:53.444Z"
   },
   {
    "duration": 26,
    "start_time": "2023-07-31T07:53:28.852Z"
   },
   {
    "duration": 2035,
    "start_time": "2023-07-31T07:53:39.566Z"
   },
   {
    "duration": 16802,
    "start_time": "2023-07-31T07:54:11.423Z"
   },
   {
    "duration": 92560,
    "start_time": "2023-07-31T07:56:18.737Z"
   },
   {
    "duration": 18,
    "start_time": "2023-07-31T07:57:55.798Z"
   },
   {
    "duration": 102106,
    "start_time": "2023-07-31T07:58:07.906Z"
   },
   {
    "duration": 6,
    "start_time": "2023-07-31T08:00:02.777Z"
   },
   {
    "duration": 2496,
    "start_time": "2023-07-31T08:01:34.185Z"
   },
   {
    "duration": 21,
    "start_time": "2023-07-31T08:02:54.655Z"
   },
   {
    "duration": 2186,
    "start_time": "2023-07-31T08:02:58.414Z"
   },
   {
    "duration": 18688,
    "start_time": "2023-07-31T08:03:03.212Z"
   },
   {
    "duration": 19279,
    "start_time": "2023-07-31T08:03:51.721Z"
   },
   {
    "duration": 87261,
    "start_time": "2023-07-31T08:04:13.072Z"
   },
   {
    "duration": 96578,
    "start_time": "2023-07-31T08:05:56.764Z"
   },
   {
    "duration": 2415,
    "start_time": "2023-07-31T10:12:38.883Z"
   },
   {
    "duration": 3385,
    "start_time": "2023-07-31T10:12:45.995Z"
   },
   {
    "duration": 5,
    "start_time": "2023-07-31T10:12:52.246Z"
   },
   {
    "duration": 816,
    "start_time": "2023-07-31T10:12:53.496Z"
   },
   {
    "duration": 41,
    "start_time": "2023-07-31T10:12:55.762Z"
   },
   {
    "duration": 396,
    "start_time": "2023-07-31T10:12:56.218Z"
   },
   {
    "duration": 29,
    "start_time": "2023-07-31T10:12:56.616Z"
   },
   {
    "duration": 20,
    "start_time": "2023-07-31T10:12:58.616Z"
   },
   {
    "duration": 5,
    "start_time": "2023-07-31T10:12:59.384Z"
   },
   {
    "duration": 350302,
    "start_time": "2023-07-31T10:13:01.492Z"
   },
   {
    "duration": 8,
    "start_time": "2023-07-31T10:18:56.449Z"
   },
   {
    "duration": 4,
    "start_time": "2023-07-31T10:19:04.054Z"
   },
   {
    "duration": 24,
    "start_time": "2023-07-31T10:19:07.474Z"
   },
   {
    "duration": 21,
    "start_time": "2023-07-31T10:19:08.570Z"
   },
   {
    "duration": 2239,
    "start_time": "2023-07-31T10:19:10.557Z"
   },
   {
    "duration": 19029,
    "start_time": "2023-07-31T10:19:15.855Z"
   },
   {
    "duration": 81709,
    "start_time": "2023-07-31T10:19:52.950Z"
   },
   {
    "duration": 87534,
    "start_time": "2023-07-31T10:21:31.392Z"
   },
   {
    "duration": 87136,
    "start_time": "2023-07-31T10:24:19.289Z"
   },
   {
    "duration": 100,
    "start_time": "2023-07-31T10:26:27.088Z"
   },
   {
    "duration": 20035,
    "start_time": "2023-07-31T10:26:48.860Z"
   },
   {
    "duration": 28,
    "start_time": "2023-07-31T10:30:07.250Z"
   },
   {
    "duration": 22,
    "start_time": "2023-07-31T10:30:14.389Z"
   },
   {
    "duration": 2320,
    "start_time": "2023-07-31T10:30:23.870Z"
   },
   {
    "duration": 20433,
    "start_time": "2023-07-31T10:30:33.713Z"
   },
   {
    "duration": 131,
    "start_time": "2023-07-31T10:31:38.355Z"
   },
   {
    "duration": 103695,
    "start_time": "2023-07-31T10:31:42.653Z"
   },
   {
    "duration": 113659,
    "start_time": "2023-07-31T10:33:33.314Z"
   },
   {
    "duration": 5,
    "start_time": "2023-07-31T10:35:32.506Z"
   },
   {
    "duration": 175,
    "start_time": "2023-07-31T10:35:34.720Z"
   },
   {
    "duration": 22,
    "start_time": "2023-07-31T10:36:21.005Z"
   },
   {
    "duration": 1951,
    "start_time": "2023-07-31T10:36:44.297Z"
   },
   {
    "duration": 16136,
    "start_time": "2023-07-31T10:37:32.446Z"
   },
   {
    "duration": 129,
    "start_time": "2023-07-31T10:39:07.694Z"
   },
   {
    "duration": 22,
    "start_time": "2023-07-31T10:39:13.907Z"
   },
   {
    "duration": 127,
    "start_time": "2023-07-31T10:39:14.411Z"
   },
   {
    "duration": 22,
    "start_time": "2023-07-31T10:39:33.803Z"
   },
   {
    "duration": 160,
    "start_time": "2023-07-31T10:39:34.758Z"
   },
   {
    "duration": 30,
    "start_time": "2023-07-31T10:39:42.183Z"
   },
   {
    "duration": 140,
    "start_time": "2023-07-31T10:39:42.683Z"
   },
   {
    "duration": 1677,
    "start_time": "2023-07-31T10:39:50.172Z"
   },
   {
    "duration": 13694,
    "start_time": "2023-07-31T10:39:52.865Z"
   },
   {
    "duration": 30,
    "start_time": "2023-07-31T10:41:15.087Z"
   },
   {
    "duration": 21,
    "start_time": "2023-07-31T10:41:16.919Z"
   },
   {
    "duration": 141,
    "start_time": "2023-07-31T10:41:17.558Z"
   },
   {
    "duration": 2210,
    "start_time": "2023-07-31T10:41:20.783Z"
   },
   {
    "duration": 20197,
    "start_time": "2023-07-31T10:41:34.853Z"
   },
   {
    "duration": 19812,
    "start_time": "2023-07-31T10:42:19.421Z"
   },
   {
    "duration": 38486,
    "start_time": "2023-07-31T10:42:50.487Z"
   },
   {
    "duration": 104682,
    "start_time": "2023-07-31T10:44:10.123Z"
   },
   {
    "duration": 112498,
    "start_time": "2023-07-31T11:04:51.416Z"
   },
   {
    "duration": 5,
    "start_time": "2023-07-31T11:07:05.595Z"
   },
   {
    "duration": 170,
    "start_time": "2023-07-31T11:07:12.272Z"
   },
   {
    "duration": 60926,
    "start_time": "2023-07-31T11:07:36.691Z"
   },
   {
    "duration": 224005,
    "start_time": "2023-07-31T11:09:16.381Z"
   },
   {
    "duration": 373,
    "start_time": "2023-07-31T11:38:07.571Z"
   },
   {
    "duration": 783,
    "start_time": "2023-07-31T11:48:15.647Z"
   },
   {
    "duration": 6,
    "start_time": "2023-07-31T11:48:18.142Z"
   },
   {
    "duration": 783,
    "start_time": "2023-07-31T11:48:22.062Z"
   },
   {
    "duration": 48,
    "start_time": "2023-07-31T11:48:22.847Z"
   },
   {
    "duration": 399,
    "start_time": "2023-07-31T11:48:23.315Z"
   },
   {
    "duration": 29,
    "start_time": "2023-07-31T11:48:23.717Z"
   },
   {
    "duration": 17,
    "start_time": "2023-07-31T11:48:25.020Z"
   },
   {
    "duration": 5,
    "start_time": "2023-07-31T11:48:25.766Z"
   },
   {
    "duration": 345260,
    "start_time": "2023-07-31T11:48:26.300Z"
   },
   {
    "duration": 8,
    "start_time": "2023-07-31T11:54:20.746Z"
   },
   {
    "duration": 3,
    "start_time": "2023-07-31T11:54:25.974Z"
   },
   {
    "duration": 27,
    "start_time": "2023-07-31T11:54:29.142Z"
   },
   {
    "duration": 21,
    "start_time": "2023-07-31T11:54:32.745Z"
   },
   {
    "duration": 152,
    "start_time": "2023-07-31T11:54:33.311Z"
   },
   {
    "duration": 2090,
    "start_time": "2023-07-31T11:54:37.018Z"
   },
   {
    "duration": 110805,
    "start_time": "2023-07-31T11:54:57.110Z"
   },
   {
    "duration": 241605,
    "start_time": "2023-07-31T11:58:54.854Z"
   },
   {
    "duration": 101437,
    "start_time": "2023-07-31T12:03:19.916Z"
   },
   {
    "duration": 108579,
    "start_time": "2023-07-31T12:05:50.363Z"
   },
   {
    "duration": 5,
    "start_time": "2023-07-31T12:07:55.776Z"
   },
   {
    "duration": 178,
    "start_time": "2023-07-31T12:07:59.248Z"
   },
   {
    "duration": 144907,
    "start_time": "2023-07-31T12:08:53.660Z"
   },
   {
    "duration": 167,
    "start_time": "2023-07-31T12:12:03.264Z"
   },
   {
    "duration": 469430,
    "start_time": "2023-07-31T12:12:24.200Z"
   },
   {
    "duration": 174,
    "start_time": "2023-07-31T12:37:39.849Z"
   },
   {
    "duration": 4,
    "start_time": "2023-07-31T12:40:23.003Z"
   },
   {
    "duration": 185,
    "start_time": "2023-07-31T12:43:19.953Z"
   },
   {
    "duration": 10,
    "start_time": "2023-07-31T12:43:29.262Z"
   },
   {
    "duration": 4,
    "start_time": "2023-07-31T12:45:29.899Z"
   },
   {
    "duration": 3078,
    "start_time": "2023-07-31T20:23:35.899Z"
   },
   {
    "duration": 2180,
    "start_time": "2023-07-31T20:23:39.626Z"
   },
   {
    "duration": 5,
    "start_time": "2023-07-31T20:23:41.808Z"
   },
   {
    "duration": 588,
    "start_time": "2023-07-31T20:23:41.814Z"
   },
   {
    "duration": 27,
    "start_time": "2023-07-31T20:23:42.403Z"
   },
   {
    "duration": 285,
    "start_time": "2023-07-31T20:23:42.549Z"
   },
   {
    "duration": 22,
    "start_time": "2023-07-31T20:23:43.007Z"
   },
   {
    "duration": 13,
    "start_time": "2023-07-31T20:23:44.521Z"
   },
   {
    "duration": 4,
    "start_time": "2023-07-31T20:23:45.625Z"
   },
   {
    "duration": 326742,
    "start_time": "2023-07-31T20:23:50.068Z"
   },
   {
    "duration": 8,
    "start_time": "2023-07-31T20:29:16.812Z"
   },
   {
    "duration": 26,
    "start_time": "2023-07-31T20:29:16.821Z"
   },
   {
    "duration": 44,
    "start_time": "2023-07-31T20:29:16.848Z"
   },
   {
    "duration": 2130,
    "start_time": "2023-07-31T20:29:16.893Z"
   },
   {
    "duration": 345455,
    "start_time": "2023-07-31T20:29:19.024Z"
   },
   {
    "duration": 1178522,
    "start_time": "2023-07-31T20:35:04.481Z"
   }
  ],
  "kernelspec": {
   "display_name": "Python 3 (ipykernel)",
   "language": "python",
   "name": "python3"
  },
  "language_info": {
   "codemirror_mode": {
    "name": "ipython",
    "version": 3
   },
   "file_extension": ".py",
   "mimetype": "text/x-python",
   "name": "python",
   "nbconvert_exporter": "python",
   "pygments_lexer": "ipython3",
   "version": "3.9.5"
  },
  "toc": {
   "base_numbering": 1,
   "nav_menu": {},
   "number_sections": true,
   "sideBar": true,
   "skip_h1_title": true,
   "title_cell": "Содержание",
   "title_sidebar": "Contents",
   "toc_cell": true,
   "toc_position": {
    "height": "calc(100% - 180px)",
    "left": "10px",
    "top": "150px",
    "width": "302.391px"
   },
   "toc_section_display": true,
   "toc_window_display": false
  }
 },
 "nbformat": 4,
 "nbformat_minor": 2
}
