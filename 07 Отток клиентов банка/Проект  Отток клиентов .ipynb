{
 "cells": [
  {
   "cell_type": "markdown",
   "metadata": {
    "toc": true
   },
   "source": [
    "<h1>Содержание<span class=\"tocSkip\"></span></h1>\n",
    "<div class=\"toc\"><ul class=\"toc-item\"><li><span><a href=\"#Подготовка-данных\" data-toc-modified-id=\"Подготовка-данных-1\"><span class=\"toc-item-num\">1&nbsp;&nbsp;</span>Подготовка данных</a></span></li><li><span><a href=\"#Исследование-задачи\" data-toc-modified-id=\"Исследование-задачи-2\"><span class=\"toc-item-num\">2&nbsp;&nbsp;</span>Исследование задачи</a></span><ul class=\"toc-item\"><li><span><a href=\"#1-Разбивка-на-выборки\" data-toc-modified-id=\"1-Разбивка-на-выборки-2.1\"><span class=\"toc-item-num\">2.1&nbsp;&nbsp;</span>1 Разбивка на выборки</a></span></li><li><span><a href=\"#2.1-Модель-дерева-решений\" data-toc-modified-id=\"2.1-Модель-дерева-решений-2.2\"><span class=\"toc-item-num\">2.2&nbsp;&nbsp;</span>2.1 Модель дерева решений</a></span></li><li><span><a href=\"#2.2-Модель-случайного-леса\" data-toc-modified-id=\"2.2-Модель-случайного-леса-2.3\"><span class=\"toc-item-num\">2.3&nbsp;&nbsp;</span>2.2 Модель случайного леса</a></span></li><li><span><a href=\"#2.3-Логистическая-регрессия\" data-toc-modified-id=\"2.3-Логистическая-регрессия-2.4\"><span class=\"toc-item-num\">2.4&nbsp;&nbsp;</span>2.3 Логистическая регрессия</a></span></li><li><span><a href=\"#3-Общий-вывод\" data-toc-modified-id=\"3-Общий-вывод-2.5\"><span class=\"toc-item-num\">2.5&nbsp;&nbsp;</span>3 Общий вывод</a></span></li></ul></li><li><span><a href=\"#Борьба-с-дисбалансом\" data-toc-modified-id=\"Борьба-с-дисбалансом-3\"><span class=\"toc-item-num\">3&nbsp;&nbsp;</span>Борьба с дисбалансом</a></span><ul class=\"toc-item\"><li><span><a href=\"#1.1-Модель-дерева-решений-upsampling\" data-toc-modified-id=\"1.1-Модель-дерева-решений-upsampling-3.1\"><span class=\"toc-item-num\">3.1&nbsp;&nbsp;</span>1.1 Модель дерева решений upsampling</a></span></li><li><span><a href=\"#1.2-Модель-дерева-решений-downsampling\" data-toc-modified-id=\"1.2-Модель-дерева-решений-downsampling-3.2\"><span class=\"toc-item-num\">3.2&nbsp;&nbsp;</span>1.2 Модель дерева решений downsampling</a></span></li><li><span><a href=\"#2.1-Модель-случайного-леса-upsampling\" data-toc-modified-id=\"2.1-Модель-случайного-леса-upsampling-3.3\"><span class=\"toc-item-num\">3.3&nbsp;&nbsp;</span>2.1 Модель случайного леса upsampling</a></span></li><li><span><a href=\"#2.1-Модель-случайного-леса-downsampling\" data-toc-modified-id=\"2.1-Модель-случайного-леса-downsampling-3.4\"><span class=\"toc-item-num\">3.4&nbsp;&nbsp;</span>2.1 Модель случайного леса downsampling</a></span></li><li><span><a href=\"#3.1-Модель-логистической-регрессии-upsampling\" data-toc-modified-id=\"3.1-Модель-логистической-регрессии-upsampling-3.5\"><span class=\"toc-item-num\">3.5&nbsp;&nbsp;</span>3.1 Модель логистической регрессии upsampling</a></span></li><li><span><a href=\"#3.2-Модель-логистической-регрессии-downsampling\" data-toc-modified-id=\"3.2-Модель-логистической-регрессии-downsampling-3.6\"><span class=\"toc-item-num\">3.6&nbsp;&nbsp;</span>3.2 Модель логистической регрессии downsampling</a></span></li><li><span><a href=\"#4-Общий-вывод\" data-toc-modified-id=\"4-Общий-вывод-3.7\"><span class=\"toc-item-num\">3.7&nbsp;&nbsp;</span>4 Общий вывод</a></span></li></ul></li><li><span><a href=\"#Тестирование-модели\" data-toc-modified-id=\"Тестирование-модели-4\"><span class=\"toc-item-num\">4&nbsp;&nbsp;</span>Тестирование модели</a></span></li><li><span><a href=\"#Заключение\" data-toc-modified-id=\"Заключение-5\"><span class=\"toc-item-num\">5&nbsp;&nbsp;</span>Заключение</a></span></li><li><span><a href=\"#Чек-лист-готовности-проекта\" data-toc-modified-id=\"Чек-лист-готовности-проекта-6\"><span class=\"toc-item-num\">6&nbsp;&nbsp;</span>Чек-лист готовности проекта</a></span></li></ul></div>"
   ]
  },
  {
   "cell_type": "markdown",
   "metadata": {},
   "source": [
    "# Отток клиентов"
   ]
  },
  {
   "cell_type": "markdown",
   "metadata": {},
   "source": [
    "Из «Бета-Банка» стали уходить клиенты. Каждый месяц. Немного, но заметно. Банковские маркетологи посчитали: сохранять текущих клиентов дешевле, чем привлекать новых.\n",
    "\n",
    "Нужно спрогнозировать, уйдёт клиент из банка в ближайшее время или нет. Вам предоставлены исторические данные о поведении клиентов и расторжении договоров с банком. \n",
    "\n",
    "Постройте модель с предельно большим значением *F1*-меры. Чтобы сдать проект успешно, нужно довести метрику до 0.59. Проверьте *F1*-меру на тестовой выборке самостоятельно.\n",
    "\n",
    "Дополнительно измеряйте *AUC-ROC*, сравнивайте её значение с *F1*-мерой.\n",
    "\n",
    "Источник данных: [https://www.kaggle.com/barelydedicated/bank-customer-churn-modeling](https://www.kaggle.com/barelydedicated/bank-customer-churn-modeling)"
   ]
  },
  {
   "cell_type": "markdown",
   "metadata": {},
   "source": [
    "## Подготовка данных"
   ]
  },
  {
   "cell_type": "code",
   "execution_count": 1,
   "metadata": {},
   "outputs": [
    {
     "data": {
      "text/html": [
       "<div>\n",
       "<style scoped>\n",
       "    .dataframe tbody tr th:only-of-type {\n",
       "        vertical-align: middle;\n",
       "    }\n",
       "\n",
       "    .dataframe tbody tr th {\n",
       "        vertical-align: top;\n",
       "    }\n",
       "\n",
       "    .dataframe thead th {\n",
       "        text-align: right;\n",
       "    }\n",
       "</style>\n",
       "<table border=\"1\" class=\"dataframe\">\n",
       "  <thead>\n",
       "    <tr style=\"text-align: right;\">\n",
       "      <th></th>\n",
       "      <th>RowNumber</th>\n",
       "      <th>CustomerId</th>\n",
       "      <th>Surname</th>\n",
       "      <th>CreditScore</th>\n",
       "      <th>Geography</th>\n",
       "      <th>Gender</th>\n",
       "      <th>Age</th>\n",
       "      <th>Tenure</th>\n",
       "      <th>Balance</th>\n",
       "      <th>NumOfProducts</th>\n",
       "      <th>HasCrCard</th>\n",
       "      <th>IsActiveMember</th>\n",
       "      <th>EstimatedSalary</th>\n",
       "      <th>Exited</th>\n",
       "    </tr>\n",
       "  </thead>\n",
       "  <tbody>\n",
       "    <tr>\n",
       "      <th>0</th>\n",
       "      <td>1</td>\n",
       "      <td>15634602</td>\n",
       "      <td>Hargrave</td>\n",
       "      <td>619</td>\n",
       "      <td>France</td>\n",
       "      <td>Female</td>\n",
       "      <td>42</td>\n",
       "      <td>2.0</td>\n",
       "      <td>0.00</td>\n",
       "      <td>1</td>\n",
       "      <td>1</td>\n",
       "      <td>1</td>\n",
       "      <td>101348.88</td>\n",
       "      <td>1</td>\n",
       "    </tr>\n",
       "    <tr>\n",
       "      <th>1</th>\n",
       "      <td>2</td>\n",
       "      <td>15647311</td>\n",
       "      <td>Hill</td>\n",
       "      <td>608</td>\n",
       "      <td>Spain</td>\n",
       "      <td>Female</td>\n",
       "      <td>41</td>\n",
       "      <td>1.0</td>\n",
       "      <td>83807.86</td>\n",
       "      <td>1</td>\n",
       "      <td>0</td>\n",
       "      <td>1</td>\n",
       "      <td>112542.58</td>\n",
       "      <td>0</td>\n",
       "    </tr>\n",
       "    <tr>\n",
       "      <th>2</th>\n",
       "      <td>3</td>\n",
       "      <td>15619304</td>\n",
       "      <td>Onio</td>\n",
       "      <td>502</td>\n",
       "      <td>France</td>\n",
       "      <td>Female</td>\n",
       "      <td>42</td>\n",
       "      <td>8.0</td>\n",
       "      <td>159660.80</td>\n",
       "      <td>3</td>\n",
       "      <td>1</td>\n",
       "      <td>0</td>\n",
       "      <td>113931.57</td>\n",
       "      <td>1</td>\n",
       "    </tr>\n",
       "    <tr>\n",
       "      <th>3</th>\n",
       "      <td>4</td>\n",
       "      <td>15701354</td>\n",
       "      <td>Boni</td>\n",
       "      <td>699</td>\n",
       "      <td>France</td>\n",
       "      <td>Female</td>\n",
       "      <td>39</td>\n",
       "      <td>1.0</td>\n",
       "      <td>0.00</td>\n",
       "      <td>2</td>\n",
       "      <td>0</td>\n",
       "      <td>0</td>\n",
       "      <td>93826.63</td>\n",
       "      <td>0</td>\n",
       "    </tr>\n",
       "    <tr>\n",
       "      <th>4</th>\n",
       "      <td>5</td>\n",
       "      <td>15737888</td>\n",
       "      <td>Mitchell</td>\n",
       "      <td>850</td>\n",
       "      <td>Spain</td>\n",
       "      <td>Female</td>\n",
       "      <td>43</td>\n",
       "      <td>2.0</td>\n",
       "      <td>125510.82</td>\n",
       "      <td>1</td>\n",
       "      <td>1</td>\n",
       "      <td>1</td>\n",
       "      <td>79084.10</td>\n",
       "      <td>0</td>\n",
       "    </tr>\n",
       "    <tr>\n",
       "      <th>5</th>\n",
       "      <td>6</td>\n",
       "      <td>15574012</td>\n",
       "      <td>Chu</td>\n",
       "      <td>645</td>\n",
       "      <td>Spain</td>\n",
       "      <td>Male</td>\n",
       "      <td>44</td>\n",
       "      <td>8.0</td>\n",
       "      <td>113755.78</td>\n",
       "      <td>2</td>\n",
       "      <td>1</td>\n",
       "      <td>0</td>\n",
       "      <td>149756.71</td>\n",
       "      <td>1</td>\n",
       "    </tr>\n",
       "    <tr>\n",
       "      <th>6</th>\n",
       "      <td>7</td>\n",
       "      <td>15592531</td>\n",
       "      <td>Bartlett</td>\n",
       "      <td>822</td>\n",
       "      <td>France</td>\n",
       "      <td>Male</td>\n",
       "      <td>50</td>\n",
       "      <td>7.0</td>\n",
       "      <td>0.00</td>\n",
       "      <td>2</td>\n",
       "      <td>1</td>\n",
       "      <td>1</td>\n",
       "      <td>10062.80</td>\n",
       "      <td>0</td>\n",
       "    </tr>\n",
       "    <tr>\n",
       "      <th>7</th>\n",
       "      <td>8</td>\n",
       "      <td>15656148</td>\n",
       "      <td>Obinna</td>\n",
       "      <td>376</td>\n",
       "      <td>Germany</td>\n",
       "      <td>Female</td>\n",
       "      <td>29</td>\n",
       "      <td>4.0</td>\n",
       "      <td>115046.74</td>\n",
       "      <td>4</td>\n",
       "      <td>1</td>\n",
       "      <td>0</td>\n",
       "      <td>119346.88</td>\n",
       "      <td>1</td>\n",
       "    </tr>\n",
       "    <tr>\n",
       "      <th>8</th>\n",
       "      <td>9</td>\n",
       "      <td>15792365</td>\n",
       "      <td>He</td>\n",
       "      <td>501</td>\n",
       "      <td>France</td>\n",
       "      <td>Male</td>\n",
       "      <td>44</td>\n",
       "      <td>4.0</td>\n",
       "      <td>142051.07</td>\n",
       "      <td>2</td>\n",
       "      <td>0</td>\n",
       "      <td>1</td>\n",
       "      <td>74940.50</td>\n",
       "      <td>0</td>\n",
       "    </tr>\n",
       "    <tr>\n",
       "      <th>9</th>\n",
       "      <td>10</td>\n",
       "      <td>15592389</td>\n",
       "      <td>H?</td>\n",
       "      <td>684</td>\n",
       "      <td>France</td>\n",
       "      <td>Male</td>\n",
       "      <td>27</td>\n",
       "      <td>2.0</td>\n",
       "      <td>134603.88</td>\n",
       "      <td>1</td>\n",
       "      <td>1</td>\n",
       "      <td>1</td>\n",
       "      <td>71725.73</td>\n",
       "      <td>0</td>\n",
       "    </tr>\n",
       "  </tbody>\n",
       "</table>\n",
       "</div>"
      ],
      "text/plain": [
       "   RowNumber  CustomerId   Surname  CreditScore Geography  Gender  Age  \\\n",
       "0          1    15634602  Hargrave          619    France  Female   42   \n",
       "1          2    15647311      Hill          608     Spain  Female   41   \n",
       "2          3    15619304      Onio          502    France  Female   42   \n",
       "3          4    15701354      Boni          699    France  Female   39   \n",
       "4          5    15737888  Mitchell          850     Spain  Female   43   \n",
       "5          6    15574012       Chu          645     Spain    Male   44   \n",
       "6          7    15592531  Bartlett          822    France    Male   50   \n",
       "7          8    15656148    Obinna          376   Germany  Female   29   \n",
       "8          9    15792365        He          501    France    Male   44   \n",
       "9         10    15592389        H?          684    France    Male   27   \n",
       "\n",
       "   Tenure    Balance  NumOfProducts  HasCrCard  IsActiveMember  \\\n",
       "0     2.0       0.00              1          1               1   \n",
       "1     1.0   83807.86              1          0               1   \n",
       "2     8.0  159660.80              3          1               0   \n",
       "3     1.0       0.00              2          0               0   \n",
       "4     2.0  125510.82              1          1               1   \n",
       "5     8.0  113755.78              2          1               0   \n",
       "6     7.0       0.00              2          1               1   \n",
       "7     4.0  115046.74              4          1               0   \n",
       "8     4.0  142051.07              2          0               1   \n",
       "9     2.0  134603.88              1          1               1   \n",
       "\n",
       "   EstimatedSalary  Exited  \n",
       "0        101348.88       1  \n",
       "1        112542.58       0  \n",
       "2        113931.57       1  \n",
       "3         93826.63       0  \n",
       "4         79084.10       0  \n",
       "5        149756.71       1  \n",
       "6         10062.80       0  \n",
       "7        119346.88       1  \n",
       "8         74940.50       0  \n",
       "9         71725.73       0  "
      ]
     },
     "execution_count": 1,
     "metadata": {},
     "output_type": "execute_result"
    }
   ],
   "source": [
    "import pandas as pd\n",
    "data = pd.read_csv('/datasets/Churn.csv')\n",
    "data.head(10)"
   ]
  },
  {
   "cell_type": "markdown",
   "metadata": {},
   "source": [
    "**Признаки**\n",
    "\n",
    "RowNumber — индекс строки в данных\n",
    "\n",
    "CustomerId — уникальный идентификатор клиента\n",
    "\n",
    "Surname — фамилия\n",
    "\n",
    "CreditScore — кредитный рейтинг\n",
    "\n",
    "Geography — страна проживания\n",
    "\n",
    "\n",
    "Gender — пол\n",
    "\n",
    "Age — возраст\n",
    "\n",
    "Tenure — сколько лет человек является клиентом банка\n",
    "\n",
    "Balance — баланс на счёте\n",
    "\n",
    "NumOfProducts — количество продуктов банка, используемых клиентом\n",
    "\n",
    "HasCrCard — наличие кредитной карты\n",
    "\n",
    "IsActiveMember — активность клиента\n",
    "\n",
    "EstimatedSalary — предполагаемая зарплата\n",
    "\n",
    "**Целевой признак**\n",
    "\n",
    "Exited — факт ухода клиента"
   ]
  },
  {
   "cell_type": "code",
   "execution_count": 2,
   "metadata": {
    "scrolled": true
   },
   "outputs": [
    {
     "name": "stdout",
     "output_type": "stream",
     "text": [
      "<class 'pandas.core.frame.DataFrame'>\n",
      "RangeIndex: 10000 entries, 0 to 9999\n",
      "Data columns (total 14 columns):\n",
      " #   Column           Non-Null Count  Dtype  \n",
      "---  ------           --------------  -----  \n",
      " 0   RowNumber        10000 non-null  int64  \n",
      " 1   CustomerId       10000 non-null  int64  \n",
      " 2   Surname          10000 non-null  object \n",
      " 3   CreditScore      10000 non-null  int64  \n",
      " 4   Geography        10000 non-null  object \n",
      " 5   Gender           10000 non-null  object \n",
      " 6   Age              10000 non-null  int64  \n",
      " 7   Tenure           9091 non-null   float64\n",
      " 8   Balance          10000 non-null  float64\n",
      " 9   NumOfProducts    10000 non-null  int64  \n",
      " 10  HasCrCard        10000 non-null  int64  \n",
      " 11  IsActiveMember   10000 non-null  int64  \n",
      " 12  EstimatedSalary  10000 non-null  float64\n",
      " 13  Exited           10000 non-null  int64  \n",
      "dtypes: float64(3), int64(8), object(3)\n",
      "memory usage: 1.1+ MB\n"
     ]
    }
   ],
   "source": [
    "#Общая информамия о датафрейме\n",
    "data.info()"
   ]
  },
  {
   "cell_type": "code",
   "execution_count": 3,
   "metadata": {},
   "outputs": [
    {
     "data": {
      "text/html": [
       "<div>\n",
       "<style scoped>\n",
       "    .dataframe tbody tr th:only-of-type {\n",
       "        vertical-align: middle;\n",
       "    }\n",
       "\n",
       "    .dataframe tbody tr th {\n",
       "        vertical-align: top;\n",
       "    }\n",
       "\n",
       "    .dataframe thead th {\n",
       "        text-align: right;\n",
       "    }\n",
       "</style>\n",
       "<table border=\"1\" class=\"dataframe\">\n",
       "  <thead>\n",
       "    <tr style=\"text-align: right;\">\n",
       "      <th></th>\n",
       "      <th>RowNumber</th>\n",
       "      <th>CustomerId</th>\n",
       "      <th>CreditScore</th>\n",
       "      <th>Age</th>\n",
       "      <th>Tenure</th>\n",
       "      <th>Balance</th>\n",
       "      <th>NumOfProducts</th>\n",
       "      <th>HasCrCard</th>\n",
       "      <th>IsActiveMember</th>\n",
       "      <th>EstimatedSalary</th>\n",
       "      <th>Exited</th>\n",
       "    </tr>\n",
       "  </thead>\n",
       "  <tbody>\n",
       "    <tr>\n",
       "      <th>count</th>\n",
       "      <td>10000.00000</td>\n",
       "      <td>1.000000e+04</td>\n",
       "      <td>10000.000000</td>\n",
       "      <td>10000.000000</td>\n",
       "      <td>9091.000000</td>\n",
       "      <td>10000.000000</td>\n",
       "      <td>10000.000000</td>\n",
       "      <td>10000.00000</td>\n",
       "      <td>10000.000000</td>\n",
       "      <td>10000.000000</td>\n",
       "      <td>10000.000000</td>\n",
       "    </tr>\n",
       "    <tr>\n",
       "      <th>mean</th>\n",
       "      <td>5000.50000</td>\n",
       "      <td>1.569094e+07</td>\n",
       "      <td>650.528800</td>\n",
       "      <td>38.921800</td>\n",
       "      <td>4.997690</td>\n",
       "      <td>76485.889288</td>\n",
       "      <td>1.530200</td>\n",
       "      <td>0.70550</td>\n",
       "      <td>0.515100</td>\n",
       "      <td>100090.239881</td>\n",
       "      <td>0.203700</td>\n",
       "    </tr>\n",
       "    <tr>\n",
       "      <th>std</th>\n",
       "      <td>2886.89568</td>\n",
       "      <td>7.193619e+04</td>\n",
       "      <td>96.653299</td>\n",
       "      <td>10.487806</td>\n",
       "      <td>2.894723</td>\n",
       "      <td>62397.405202</td>\n",
       "      <td>0.581654</td>\n",
       "      <td>0.45584</td>\n",
       "      <td>0.499797</td>\n",
       "      <td>57510.492818</td>\n",
       "      <td>0.402769</td>\n",
       "    </tr>\n",
       "    <tr>\n",
       "      <th>min</th>\n",
       "      <td>1.00000</td>\n",
       "      <td>1.556570e+07</td>\n",
       "      <td>350.000000</td>\n",
       "      <td>18.000000</td>\n",
       "      <td>0.000000</td>\n",
       "      <td>0.000000</td>\n",
       "      <td>1.000000</td>\n",
       "      <td>0.00000</td>\n",
       "      <td>0.000000</td>\n",
       "      <td>11.580000</td>\n",
       "      <td>0.000000</td>\n",
       "    </tr>\n",
       "    <tr>\n",
       "      <th>25%</th>\n",
       "      <td>2500.75000</td>\n",
       "      <td>1.562853e+07</td>\n",
       "      <td>584.000000</td>\n",
       "      <td>32.000000</td>\n",
       "      <td>2.000000</td>\n",
       "      <td>0.000000</td>\n",
       "      <td>1.000000</td>\n",
       "      <td>0.00000</td>\n",
       "      <td>0.000000</td>\n",
       "      <td>51002.110000</td>\n",
       "      <td>0.000000</td>\n",
       "    </tr>\n",
       "    <tr>\n",
       "      <th>50%</th>\n",
       "      <td>5000.50000</td>\n",
       "      <td>1.569074e+07</td>\n",
       "      <td>652.000000</td>\n",
       "      <td>37.000000</td>\n",
       "      <td>5.000000</td>\n",
       "      <td>97198.540000</td>\n",
       "      <td>1.000000</td>\n",
       "      <td>1.00000</td>\n",
       "      <td>1.000000</td>\n",
       "      <td>100193.915000</td>\n",
       "      <td>0.000000</td>\n",
       "    </tr>\n",
       "    <tr>\n",
       "      <th>75%</th>\n",
       "      <td>7500.25000</td>\n",
       "      <td>1.575323e+07</td>\n",
       "      <td>718.000000</td>\n",
       "      <td>44.000000</td>\n",
       "      <td>7.000000</td>\n",
       "      <td>127644.240000</td>\n",
       "      <td>2.000000</td>\n",
       "      <td>1.00000</td>\n",
       "      <td>1.000000</td>\n",
       "      <td>149388.247500</td>\n",
       "      <td>0.000000</td>\n",
       "    </tr>\n",
       "    <tr>\n",
       "      <th>max</th>\n",
       "      <td>10000.00000</td>\n",
       "      <td>1.581569e+07</td>\n",
       "      <td>850.000000</td>\n",
       "      <td>92.000000</td>\n",
       "      <td>10.000000</td>\n",
       "      <td>250898.090000</td>\n",
       "      <td>4.000000</td>\n",
       "      <td>1.00000</td>\n",
       "      <td>1.000000</td>\n",
       "      <td>199992.480000</td>\n",
       "      <td>1.000000</td>\n",
       "    </tr>\n",
       "  </tbody>\n",
       "</table>\n",
       "</div>"
      ],
      "text/plain": [
       "         RowNumber    CustomerId   CreditScore           Age       Tenure  \\\n",
       "count  10000.00000  1.000000e+04  10000.000000  10000.000000  9091.000000   \n",
       "mean    5000.50000  1.569094e+07    650.528800     38.921800     4.997690   \n",
       "std     2886.89568  7.193619e+04     96.653299     10.487806     2.894723   \n",
       "min        1.00000  1.556570e+07    350.000000     18.000000     0.000000   \n",
       "25%     2500.75000  1.562853e+07    584.000000     32.000000     2.000000   \n",
       "50%     5000.50000  1.569074e+07    652.000000     37.000000     5.000000   \n",
       "75%     7500.25000  1.575323e+07    718.000000     44.000000     7.000000   \n",
       "max    10000.00000  1.581569e+07    850.000000     92.000000    10.000000   \n",
       "\n",
       "             Balance  NumOfProducts    HasCrCard  IsActiveMember  \\\n",
       "count   10000.000000   10000.000000  10000.00000    10000.000000   \n",
       "mean    76485.889288       1.530200      0.70550        0.515100   \n",
       "std     62397.405202       0.581654      0.45584        0.499797   \n",
       "min         0.000000       1.000000      0.00000        0.000000   \n",
       "25%         0.000000       1.000000      0.00000        0.000000   \n",
       "50%     97198.540000       1.000000      1.00000        1.000000   \n",
       "75%    127644.240000       2.000000      1.00000        1.000000   \n",
       "max    250898.090000       4.000000      1.00000        1.000000   \n",
       "\n",
       "       EstimatedSalary        Exited  \n",
       "count     10000.000000  10000.000000  \n",
       "mean     100090.239881      0.203700  \n",
       "std       57510.492818      0.402769  \n",
       "min          11.580000      0.000000  \n",
       "25%       51002.110000      0.000000  \n",
       "50%      100193.915000      0.000000  \n",
       "75%      149388.247500      0.000000  \n",
       "max      199992.480000      1.000000  "
      ]
     },
     "execution_count": 3,
     "metadata": {},
     "output_type": "execute_result"
    }
   ],
   "source": [
    "#Статические данные \n",
    "data.describe()"
   ]
  },
  {
   "cell_type": "code",
   "execution_count": 4,
   "metadata": {},
   "outputs": [
    {
     "data": {
      "text/plain": [
       "RowNumber            0\n",
       "CustomerId           0\n",
       "Surname              0\n",
       "CreditScore          0\n",
       "Geography            0\n",
       "Gender               0\n",
       "Age                  0\n",
       "Tenure             909\n",
       "Balance              0\n",
       "NumOfProducts        0\n",
       "HasCrCard            0\n",
       "IsActiveMember       0\n",
       "EstimatedSalary      0\n",
       "Exited               0\n",
       "dtype: int64"
      ]
     },
     "execution_count": 4,
     "metadata": {},
     "output_type": "execute_result"
    }
   ],
   "source": [
    "# Найдем количество пропусков\n",
    "data.isnull().sum()"
   ]
  },
  {
   "cell_type": "code",
   "execution_count": 5,
   "metadata": {},
   "outputs": [
    {
     "data": {
      "text/plain": [
       "0"
      ]
     },
     "execution_count": 5,
     "metadata": {},
     "output_type": "execute_result"
    }
   ],
   "source": [
    "# Поиск дубликатов\n",
    "data.duplicated().sum()"
   ]
  },
  {
   "cell_type": "code",
   "execution_count": 6,
   "metadata": {},
   "outputs": [
    {
     "data": {
      "text/plain": [
       "array([[<AxesSubplot:title={'center':'RowNumber'}>,\n",
       "        <AxesSubplot:title={'center':'CustomerId'}>,\n",
       "        <AxesSubplot:title={'center':'CreditScore'}>],\n",
       "       [<AxesSubplot:title={'center':'Age'}>,\n",
       "        <AxesSubplot:title={'center':'Tenure'}>,\n",
       "        <AxesSubplot:title={'center':'Balance'}>],\n",
       "       [<AxesSubplot:title={'center':'NumOfProducts'}>,\n",
       "        <AxesSubplot:title={'center':'HasCrCard'}>,\n",
       "        <AxesSubplot:title={'center':'IsActiveMember'}>],\n",
       "       [<AxesSubplot:title={'center':'EstimatedSalary'}>,\n",
       "        <AxesSubplot:title={'center':'Exited'}>, <AxesSubplot:>]],\n",
       "      dtype=object)"
      ]
     },
     "execution_count": 6,
     "metadata": {},
     "output_type": "execute_result"
    },
    {
     "data": {
      "image/png": "[encoded data removed]",
      "text/plain": [
       "<Figure size 1080x1080 with 12 Axes>"
      ]
     },
     "metadata": {
      "needs_background": "light"
     },
     "output_type": "display_data"
    }
   ],
   "source": [
    "# Гистограммы датафрейма\n",
    "data.hist(figsize=(15,15))"
   ]
  },
  {
   "cell_type": "code",
   "execution_count": 7,
   "metadata": {},
   "outputs": [
    {
     "data": {
      "text/html": [
       "<div>\n",
       "<style scoped>\n",
       "    .dataframe tbody tr th:only-of-type {\n",
       "        vertical-align: middle;\n",
       "    }\n",
       "\n",
       "    .dataframe tbody tr th {\n",
       "        vertical-align: top;\n",
       "    }\n",
       "\n",
       "    .dataframe thead th {\n",
       "        text-align: right;\n",
       "    }\n",
       "</style>\n",
       "<table border=\"1\" class=\"dataframe\">\n",
       "  <thead>\n",
       "    <tr style=\"text-align: right;\">\n",
       "      <th></th>\n",
       "      <th>RowNumber</th>\n",
       "      <th>CustomerId</th>\n",
       "      <th>CreditScore</th>\n",
       "      <th>Age</th>\n",
       "      <th>Tenure</th>\n",
       "      <th>Balance</th>\n",
       "      <th>NumOfProducts</th>\n",
       "      <th>HasCrCard</th>\n",
       "      <th>IsActiveMember</th>\n",
       "      <th>EstimatedSalary</th>\n",
       "      <th>Exited</th>\n",
       "    </tr>\n",
       "  </thead>\n",
       "  <tbody>\n",
       "    <tr>\n",
       "      <th>RowNumber</th>\n",
       "      <td>1.000000</td>\n",
       "      <td>0.004202</td>\n",
       "      <td>0.005840</td>\n",
       "      <td>0.000783</td>\n",
       "      <td>-0.007322</td>\n",
       "      <td>-0.009067</td>\n",
       "      <td>0.007246</td>\n",
       "      <td>0.000599</td>\n",
       "      <td>0.012044</td>\n",
       "      <td>-0.005988</td>\n",
       "      <td>-0.016571</td>\n",
       "    </tr>\n",
       "    <tr>\n",
       "      <th>CustomerId</th>\n",
       "      <td>0.004202</td>\n",
       "      <td>1.000000</td>\n",
       "      <td>0.005308</td>\n",
       "      <td>0.009497</td>\n",
       "      <td>-0.021418</td>\n",
       "      <td>-0.012419</td>\n",
       "      <td>0.016972</td>\n",
       "      <td>-0.014025</td>\n",
       "      <td>0.001665</td>\n",
       "      <td>0.015271</td>\n",
       "      <td>-0.006248</td>\n",
       "    </tr>\n",
       "    <tr>\n",
       "      <th>CreditScore</th>\n",
       "      <td>0.005840</td>\n",
       "      <td>0.005308</td>\n",
       "      <td>1.000000</td>\n",
       "      <td>-0.003965</td>\n",
       "      <td>-0.000062</td>\n",
       "      <td>0.006268</td>\n",
       "      <td>0.012238</td>\n",
       "      <td>-0.005458</td>\n",
       "      <td>0.025651</td>\n",
       "      <td>-0.001384</td>\n",
       "      <td>-0.027094</td>\n",
       "    </tr>\n",
       "    <tr>\n",
       "      <th>Age</th>\n",
       "      <td>0.000783</td>\n",
       "      <td>0.009497</td>\n",
       "      <td>-0.003965</td>\n",
       "      <td>1.000000</td>\n",
       "      <td>-0.013134</td>\n",
       "      <td>0.028308</td>\n",
       "      <td>-0.030680</td>\n",
       "      <td>-0.011721</td>\n",
       "      <td>0.085472</td>\n",
       "      <td>-0.007201</td>\n",
       "      <td>0.285323</td>\n",
       "    </tr>\n",
       "    <tr>\n",
       "      <th>Tenure</th>\n",
       "      <td>-0.007322</td>\n",
       "      <td>-0.021418</td>\n",
       "      <td>-0.000062</td>\n",
       "      <td>-0.013134</td>\n",
       "      <td>1.000000</td>\n",
       "      <td>-0.007911</td>\n",
       "      <td>0.011979</td>\n",
       "      <td>0.027232</td>\n",
       "      <td>-0.032178</td>\n",
       "      <td>0.010520</td>\n",
       "      <td>-0.016761</td>\n",
       "    </tr>\n",
       "    <tr>\n",
       "      <th>Balance</th>\n",
       "      <td>-0.009067</td>\n",
       "      <td>-0.012419</td>\n",
       "      <td>0.006268</td>\n",
       "      <td>0.028308</td>\n",
       "      <td>-0.007911</td>\n",
       "      <td>1.000000</td>\n",
       "      <td>-0.304180</td>\n",
       "      <td>-0.014858</td>\n",
       "      <td>-0.010084</td>\n",
       "      <td>0.012797</td>\n",
       "      <td>0.118533</td>\n",
       "    </tr>\n",
       "    <tr>\n",
       "      <th>NumOfProducts</th>\n",
       "      <td>0.007246</td>\n",
       "      <td>0.016972</td>\n",
       "      <td>0.012238</td>\n",
       "      <td>-0.030680</td>\n",
       "      <td>0.011979</td>\n",
       "      <td>-0.304180</td>\n",
       "      <td>1.000000</td>\n",
       "      <td>0.003183</td>\n",
       "      <td>0.009612</td>\n",
       "      <td>0.014204</td>\n",
       "      <td>-0.047820</td>\n",
       "    </tr>\n",
       "    <tr>\n",
       "      <th>HasCrCard</th>\n",
       "      <td>0.000599</td>\n",
       "      <td>-0.014025</td>\n",
       "      <td>-0.005458</td>\n",
       "      <td>-0.011721</td>\n",
       "      <td>0.027232</td>\n",
       "      <td>-0.014858</td>\n",
       "      <td>0.003183</td>\n",
       "      <td>1.000000</td>\n",
       "      <td>-0.011866</td>\n",
       "      <td>-0.009933</td>\n",
       "      <td>-0.007138</td>\n",
       "    </tr>\n",
       "    <tr>\n",
       "      <th>IsActiveMember</th>\n",
       "      <td>0.012044</td>\n",
       "      <td>0.001665</td>\n",
       "      <td>0.025651</td>\n",
       "      <td>0.085472</td>\n",
       "      <td>-0.032178</td>\n",
       "      <td>-0.010084</td>\n",
       "      <td>0.009612</td>\n",
       "      <td>-0.011866</td>\n",
       "      <td>1.000000</td>\n",
       "      <td>-0.011421</td>\n",
       "      <td>-0.156128</td>\n",
       "    </tr>\n",
       "    <tr>\n",
       "      <th>EstimatedSalary</th>\n",
       "      <td>-0.005988</td>\n",
       "      <td>0.015271</td>\n",
       "      <td>-0.001384</td>\n",
       "      <td>-0.007201</td>\n",
       "      <td>0.010520</td>\n",
       "      <td>0.012797</td>\n",
       "      <td>0.014204</td>\n",
       "      <td>-0.009933</td>\n",
       "      <td>-0.011421</td>\n",
       "      <td>1.000000</td>\n",
       "      <td>0.012097</td>\n",
       "    </tr>\n",
       "    <tr>\n",
       "      <th>Exited</th>\n",
       "      <td>-0.016571</td>\n",
       "      <td>-0.006248</td>\n",
       "      <td>-0.027094</td>\n",
       "      <td>0.285323</td>\n",
       "      <td>-0.016761</td>\n",
       "      <td>0.118533</td>\n",
       "      <td>-0.047820</td>\n",
       "      <td>-0.007138</td>\n",
       "      <td>-0.156128</td>\n",
       "      <td>0.012097</td>\n",
       "      <td>1.000000</td>\n",
       "    </tr>\n",
       "  </tbody>\n",
       "</table>\n",
       "</div>"
      ],
      "text/plain": [
       "                 RowNumber  CustomerId  CreditScore       Age    Tenure  \\\n",
       "RowNumber         1.000000    0.004202     0.005840  0.000783 -0.007322   \n",
       "CustomerId        0.004202    1.000000     0.005308  0.009497 -0.021418   \n",
       "CreditScore       0.005840    0.005308     1.000000 -0.003965 -0.000062   \n",
       "Age               0.000783    0.009497    -0.003965  1.000000 -0.013134   \n",
       "Tenure           -0.007322   -0.021418    -0.000062 -0.013134  1.000000   \n",
       "Balance          -0.009067   -0.012419     0.006268  0.028308 -0.007911   \n",
       "NumOfProducts     0.007246    0.016972     0.012238 -0.030680  0.011979   \n",
       "HasCrCard         0.000599   -0.014025    -0.005458 -0.011721  0.027232   \n",
       "IsActiveMember    0.012044    0.001665     0.025651  0.085472 -0.032178   \n",
       "EstimatedSalary  -0.005988    0.015271    -0.001384 -0.007201  0.010520   \n",
       "Exited           -0.016571   -0.006248    -0.027094  0.285323 -0.016761   \n",
       "\n",
       "                  Balance  NumOfProducts  HasCrCard  IsActiveMember  \\\n",
       "RowNumber       -0.009067       0.007246   0.000599        0.012044   \n",
       "CustomerId      -0.012419       0.016972  -0.014025        0.001665   \n",
       "CreditScore      0.006268       0.012238  -0.005458        0.025651   \n",
       "Age              0.028308      -0.030680  -0.011721        0.085472   \n",
       "Tenure          -0.007911       0.011979   0.027232       -0.032178   \n",
       "Balance          1.000000      -0.304180  -0.014858       -0.010084   \n",
       "NumOfProducts   -0.304180       1.000000   0.003183        0.009612   \n",
       "HasCrCard       -0.014858       0.003183   1.000000       -0.011866   \n",
       "IsActiveMember  -0.010084       0.009612  -0.011866        1.000000   \n",
       "EstimatedSalary  0.012797       0.014204  -0.009933       -0.011421   \n",
       "Exited           0.118533      -0.047820  -0.007138       -0.156128   \n",
       "\n",
       "                 EstimatedSalary    Exited  \n",
       "RowNumber              -0.005988 -0.016571  \n",
       "CustomerId              0.015271 -0.006248  \n",
       "CreditScore            -0.001384 -0.027094  \n",
       "Age                    -0.007201  0.285323  \n",
       "Tenure                  0.010520 -0.016761  \n",
       "Balance                 0.012797  0.118533  \n",
       "NumOfProducts           0.014204 -0.047820  \n",
       "HasCrCard              -0.009933 -0.007138  \n",
       "IsActiveMember         -0.011421 -0.156128  \n",
       "EstimatedSalary         1.000000  0.012097  \n",
       "Exited                  0.012097  1.000000  "
      ]
     },
     "execution_count": 7,
     "metadata": {},
     "output_type": "execute_result"
    }
   ],
   "source": [
    "# Коэффициенты корреляции\n",
    "data.corr()"
   ]
  },
  {
   "cell_type": "markdown",
   "metadata": {},
   "source": [
    "При изучении данных, видно что датафрейм состоит из 14 столбцов и 10000 строчек. Явные дубликаты в данном дататасете отсуствуют, и пропущены значение только в столбце tenure. Столбец tenure несет в себе информацию сколько лет человек является клиентом банка, т.к. данные данные будут сильно влиять на модель машинного обучения, а заменить их не предоставляется возможным, то лучшим исходои будет удаление пропущенных значений. Также имеются столбцы, которые никак не способствуют обучению модели: RowNumber, CustomerId, Surname - данные строки также удалим из датасета. \n",
    "\n",
    "Необходимо также привести к змеиному регистру название столбцов для дальнейшего удобства."
   ]
  },
  {
   "cell_type": "code",
   "execution_count": 8,
   "metadata": {},
   "outputs": [],
   "source": [
    "# Приведение к нижнему регистру (взято команда из интернета)\n",
    "data.columns = data.columns.str.lower()\n",
    "# Удаленеи строк RowNumber, CustomerId, Surname\n",
    "data.drop(columns = ['rownumber','customerid','surname'], inplace = True)\n",
    "# Удаление пропусков в столбце tenure\n",
    "data.dropna(subset=['tenure'], inplace=True)\n",
    "data['tenure'] = data['tenure'].astype(int)"
   ]
  },
  {
   "cell_type": "code",
   "execution_count": 9,
   "metadata": {},
   "outputs": [
    {
     "name": "stdout",
     "output_type": "stream",
     "text": [
      "<class 'pandas.core.frame.DataFrame'>\n",
      "Int64Index: 9091 entries, 0 to 9998\n",
      "Data columns (total 11 columns):\n",
      " #   Column           Non-Null Count  Dtype  \n",
      "---  ------           --------------  -----  \n",
      " 0   creditscore      9091 non-null   int64  \n",
      " 1   geography        9091 non-null   object \n",
      " 2   gender           9091 non-null   object \n",
      " 3   age              9091 non-null   int64  \n",
      " 4   tenure           9091 non-null   int64  \n",
      " 5   balance          9091 non-null   float64\n",
      " 6   numofproducts    9091 non-null   int64  \n",
      " 7   hascrcard        9091 non-null   int64  \n",
      " 8   isactivemember   9091 non-null   int64  \n",
      " 9   estimatedsalary  9091 non-null   float64\n",
      " 10  exited           9091 non-null   int64  \n",
      "dtypes: float64(2), int64(7), object(2)\n",
      "memory usage: 852.3+ KB\n",
      "None\n",
      "Количетсво пропусков в столбце tenure 0\n"
     ]
    }
   ],
   "source": [
    "# Проверка\n",
    "print(data.info())\n",
    "print('Количетсво пропусков в столбце tenure', data['tenure'].isnull().sum())"
   ]
  },
  {
   "cell_type": "markdown",
   "metadata": {},
   "source": [
    "Т.к. у нас в столбцах gender и geography являются категориальными признаками для обучения модели воспользуемся функцией OHE (One hot encoder) с  учетом дамми ловушки."
   ]
  },
  {
   "cell_type": "code",
   "execution_count": 10,
   "metadata": {
    "scrolled": true
   },
   "outputs": [
    {
     "data": {
      "text/html": [
       "<div>\n",
       "<style scoped>\n",
       "    .dataframe tbody tr th:only-of-type {\n",
       "        vertical-align: middle;\n",
       "    }\n",
       "\n",
       "    .dataframe tbody tr th {\n",
       "        vertical-align: top;\n",
       "    }\n",
       "\n",
       "    .dataframe thead th {\n",
       "        text-align: right;\n",
       "    }\n",
       "</style>\n",
       "<table border=\"1\" class=\"dataframe\">\n",
       "  <thead>\n",
       "    <tr style=\"text-align: right;\">\n",
       "      <th></th>\n",
       "      <th>creditscore</th>\n",
       "      <th>age</th>\n",
       "      <th>tenure</th>\n",
       "      <th>balance</th>\n",
       "      <th>numofproducts</th>\n",
       "      <th>hascrcard</th>\n",
       "      <th>isactivemember</th>\n",
       "      <th>estimatedsalary</th>\n",
       "      <th>exited</th>\n",
       "      <th>geography_Germany</th>\n",
       "      <th>geography_Spain</th>\n",
       "      <th>gender_Male</th>\n",
       "    </tr>\n",
       "  </thead>\n",
       "  <tbody>\n",
       "    <tr>\n",
       "      <th>0</th>\n",
       "      <td>619</td>\n",
       "      <td>42</td>\n",
       "      <td>2</td>\n",
       "      <td>0.00</td>\n",
       "      <td>1</td>\n",
       "      <td>1</td>\n",
       "      <td>1</td>\n",
       "      <td>101348.88</td>\n",
       "      <td>1</td>\n",
       "      <td>0</td>\n",
       "      <td>0</td>\n",
       "      <td>0</td>\n",
       "    </tr>\n",
       "    <tr>\n",
       "      <th>1</th>\n",
       "      <td>608</td>\n",
       "      <td>41</td>\n",
       "      <td>1</td>\n",
       "      <td>83807.86</td>\n",
       "      <td>1</td>\n",
       "      <td>0</td>\n",
       "      <td>1</td>\n",
       "      <td>112542.58</td>\n",
       "      <td>0</td>\n",
       "      <td>0</td>\n",
       "      <td>1</td>\n",
       "      <td>0</td>\n",
       "    </tr>\n",
       "    <tr>\n",
       "      <th>2</th>\n",
       "      <td>502</td>\n",
       "      <td>42</td>\n",
       "      <td>8</td>\n",
       "      <td>159660.80</td>\n",
       "      <td>3</td>\n",
       "      <td>1</td>\n",
       "      <td>0</td>\n",
       "      <td>113931.57</td>\n",
       "      <td>1</td>\n",
       "      <td>0</td>\n",
       "      <td>0</td>\n",
       "      <td>0</td>\n",
       "    </tr>\n",
       "    <tr>\n",
       "      <th>3</th>\n",
       "      <td>699</td>\n",
       "      <td>39</td>\n",
       "      <td>1</td>\n",
       "      <td>0.00</td>\n",
       "      <td>2</td>\n",
       "      <td>0</td>\n",
       "      <td>0</td>\n",
       "      <td>93826.63</td>\n",
       "      <td>0</td>\n",
       "      <td>0</td>\n",
       "      <td>0</td>\n",
       "      <td>0</td>\n",
       "    </tr>\n",
       "    <tr>\n",
       "      <th>4</th>\n",
       "      <td>850</td>\n",
       "      <td>43</td>\n",
       "      <td>2</td>\n",
       "      <td>125510.82</td>\n",
       "      <td>1</td>\n",
       "      <td>1</td>\n",
       "      <td>1</td>\n",
       "      <td>79084.10</td>\n",
       "      <td>0</td>\n",
       "      <td>0</td>\n",
       "      <td>1</td>\n",
       "      <td>0</td>\n",
       "    </tr>\n",
       "    <tr>\n",
       "      <th>5</th>\n",
       "      <td>645</td>\n",
       "      <td>44</td>\n",
       "      <td>8</td>\n",
       "      <td>113755.78</td>\n",
       "      <td>2</td>\n",
       "      <td>1</td>\n",
       "      <td>0</td>\n",
       "      <td>149756.71</td>\n",
       "      <td>1</td>\n",
       "      <td>0</td>\n",
       "      <td>1</td>\n",
       "      <td>1</td>\n",
       "    </tr>\n",
       "    <tr>\n",
       "      <th>6</th>\n",
       "      <td>822</td>\n",
       "      <td>50</td>\n",
       "      <td>7</td>\n",
       "      <td>0.00</td>\n",
       "      <td>2</td>\n",
       "      <td>1</td>\n",
       "      <td>1</td>\n",
       "      <td>10062.80</td>\n",
       "      <td>0</td>\n",
       "      <td>0</td>\n",
       "      <td>0</td>\n",
       "      <td>1</td>\n",
       "    </tr>\n",
       "    <tr>\n",
       "      <th>7</th>\n",
       "      <td>376</td>\n",
       "      <td>29</td>\n",
       "      <td>4</td>\n",
       "      <td>115046.74</td>\n",
       "      <td>4</td>\n",
       "      <td>1</td>\n",
       "      <td>0</td>\n",
       "      <td>119346.88</td>\n",
       "      <td>1</td>\n",
       "      <td>1</td>\n",
       "      <td>0</td>\n",
       "      <td>0</td>\n",
       "    </tr>\n",
       "    <tr>\n",
       "      <th>8</th>\n",
       "      <td>501</td>\n",
       "      <td>44</td>\n",
       "      <td>4</td>\n",
       "      <td>142051.07</td>\n",
       "      <td>2</td>\n",
       "      <td>0</td>\n",
       "      <td>1</td>\n",
       "      <td>74940.50</td>\n",
       "      <td>0</td>\n",
       "      <td>0</td>\n",
       "      <td>0</td>\n",
       "      <td>1</td>\n",
       "    </tr>\n",
       "    <tr>\n",
       "      <th>9</th>\n",
       "      <td>684</td>\n",
       "      <td>27</td>\n",
       "      <td>2</td>\n",
       "      <td>134603.88</td>\n",
       "      <td>1</td>\n",
       "      <td>1</td>\n",
       "      <td>1</td>\n",
       "      <td>71725.73</td>\n",
       "      <td>0</td>\n",
       "      <td>0</td>\n",
       "      <td>0</td>\n",
       "      <td>1</td>\n",
       "    </tr>\n",
       "  </tbody>\n",
       "</table>\n",
       "</div>"
      ],
      "text/plain": [
       "   creditscore  age  tenure    balance  numofproducts  hascrcard  \\\n",
       "0          619   42       2       0.00              1          1   \n",
       "1          608   41       1   83807.86              1          0   \n",
       "2          502   42       8  159660.80              3          1   \n",
       "3          699   39       1       0.00              2          0   \n",
       "4          850   43       2  125510.82              1          1   \n",
       "5          645   44       8  113755.78              2          1   \n",
       "6          822   50       7       0.00              2          1   \n",
       "7          376   29       4  115046.74              4          1   \n",
       "8          501   44       4  142051.07              2          0   \n",
       "9          684   27       2  134603.88              1          1   \n",
       "\n",
       "   isactivemember  estimatedsalary  exited  geography_Germany  \\\n",
       "0               1        101348.88       1                  0   \n",
       "1               1        112542.58       0                  0   \n",
       "2               0        113931.57       1                  0   \n",
       "3               0         93826.63       0                  0   \n",
       "4               1         79084.10       0                  0   \n",
       "5               0        149756.71       1                  0   \n",
       "6               1         10062.80       0                  0   \n",
       "7               0        119346.88       1                  1   \n",
       "8               1         74940.50       0                  0   \n",
       "9               1         71725.73       0                  0   \n",
       "\n",
       "   geography_Spain  gender_Male  \n",
       "0                0            0  \n",
       "1                1            0  \n",
       "2                0            0  \n",
       "3                0            0  \n",
       "4                1            0  \n",
       "5                1            1  \n",
       "6                0            1  \n",
       "7                0            0  \n",
       "8                0            1  \n",
       "9                0            1  "
      ]
     },
     "execution_count": 10,
     "metadata": {},
     "output_type": "execute_result"
    }
   ],
   "source": [
    "data = pd.get_dummies(data, drop_first=True)\n",
    "data.head(10)"
   ]
  },
  {
   "cell_type": "markdown",
   "metadata": {},
   "source": [
    "**Вывод:** \n",
    "В результате анализа и предобработки данных была произвидена чистка датасета от ненужной информации, которая не будет использоваться в обучении модели, были также устранены пропуски в данных. Категориальные признаки были привидены в необходимый формат, название столбцов также приведены к необходимому регистру.\n",
    "Целевым признаком у нас является столбец exited, который у нас отображает факт ухода клиента из банка. По гистограмме видно, что один класс значений больше другого почти в 4 раза, поэтому для более правильного обучения модели необходимо будет провести борьбу с дисбалансом."
   ]
  },
  {
   "cell_type": "markdown",
   "metadata": {},
   "source": [
    "## Исследование задачи"
   ]
  },
  {
   "cell_type": "markdown",
   "metadata": {},
   "source": [
    "### 1 Разбивка на выборки"
   ]
  },
  {
   "cell_type": "markdown",
   "metadata": {},
   "source": [
    "Разделим исходные данные на обучающую, валидационную и тестовую выборки. Т.к. нельзя сразу разделить на три отдельные выборки, разделим исходной датасет на обучающую (60%) и оставшуюся 40% разделим повторно между валидационной и тестовой выборкой."
   ]
  },
  {
   "cell_type": "code",
   "execution_count": 11,
   "metadata": {},
   "outputs": [],
   "source": [
    "from sklearn.model_selection import train_test_split \n",
    "data_train, data_ost = train_test_split(data, test_size=0.4, random_state=12345) # Делим на обучающую и остаток\n",
    "data_test, data_valid = train_test_split(data_ost, test_size=0.5, random_state=12345)  # Делим на тестовую и валидационную"
   ]
  },
  {
   "cell_type": "code",
   "execution_count": 12,
   "metadata": {},
   "outputs": [
    {
     "name": "stdout",
     "output_type": "stream",
     "text": [
      "(5454, 12) (1818, 12) (1819, 12)\n"
     ]
    }
   ],
   "source": [
    "# Проверим размер датасетов\n",
    "print(data_train.shape, data_test.shape, data_valid.shape)"
   ]
  },
  {
   "cell_type": "code",
   "execution_count": 13,
   "metadata": {},
   "outputs": [],
   "source": [
    "# Разделим признаки на целевой и признаки для обучения модели\n",
    "features_train = data_train.drop(['exited'], axis=1)\n",
    "target_train = data_train['exited']\n",
    "features_test = data_test.drop(['exited'], axis=1)\n",
    "target_test = data_test['exited']\n",
    "features_valid = data_valid.drop(['exited'], axis=1)\n",
    "target_valid = data_valid['exited']"
   ]
  },
  {
   "cell_type": "markdown",
   "metadata": {},
   "source": [
    "Для лучшего обучения модели необходимо также промасштабировать числовые признаки."
   ]
  },
  {
   "cell_type": "code",
   "execution_count": 14,
   "metadata": {},
   "outputs": [],
   "source": [
    "from sklearn.preprocessing import StandardScaler\n",
    "\n",
    "# Выбираем стобцы с числовыми признаками\n",
    "numeric = ['creditscore', 'age', 'tenure', 'balance', 'numofproducts', 'estimatedsalary']\n",
    "\n",
    "scaler = StandardScaler()\n",
    "\n",
    "scaler.fit(features_train[numeric])\n",
    "\n",
    "features_train[numeric] = scaler.transform(features_train[numeric])\n",
    "features_valid[numeric] = scaler.transform(features_valid[numeric])\n",
    "features_test[numeric] = scaler.transform(features_test[numeric])"
   ]
  },
  {
   "cell_type": "markdown",
   "metadata": {},
   "source": [
    "Перед началом обучения модели импортируем все необходимые функции"
   ]
  },
  {
   "cell_type": "code",
   "execution_count": 16,
   "metadata": {},
   "outputs": [],
   "source": [
    "from sklearn.tree import DecisionTreeClassifier\n",
    "from sklearn.ensemble import RandomForestClassifier\n",
    "from sklearn.linear_model import LogisticRegression\n",
    "from sklearn.dummy import DummyClassifier\n",
    "from sklearn.utils import shuffle\n",
    "from sklearn.metrics import (roc_curve, auc,\n",
    "                             roc_auc_score,\n",
    "                             f1_score)\n",
    "import matplotlib.pyplot as plt"
   ]
  },
  {
   "cell_type": "markdown",
   "metadata": {},
   "source": [
    "###  2.1 Модель дерева решений"
   ]
  },
  {
   "cell_type": "code",
   "execution_count": 202,
   "metadata": {
    "scrolled": true
   },
   "outputs": [
    {
     "name": "stdout",
     "output_type": "stream",
     "text": [
      "F1 наилучшей модели на валидационной выборке: 0.5534804753820034\n",
      "Max_depth наилучшей модели на валидационной выборке: 7\n",
      "AUC-ROC равен:  0.8280166825807154\n"
     ]
    }
   ],
   "source": [
    "best_model = None\n",
    "best_f1 = 0\n",
    "best_depth = 0\n",
    "best_auc_roc=0\n",
    "for depth in range(1,10):\n",
    "    model = DecisionTreeClassifier(random_state=12345, max_depth=depth)\n",
    "    model.fit(features_train, target_train) \n",
    "    predict_valid = model.predict(features_valid)\n",
    "    result = f1_score(target_valid, predict_valid)\n",
    "    prob_valid = model.predict_proba(features_valid)\n",
    "    prob_valid_one = prob_valid[:, 1]\n",
    "    auc_roc = roc_auc_score(target_valid, prob_valid_one)\n",
    "    if result > best_f1:\n",
    "        best_model = model # сохранение наилучшей модели\n",
    "        best_f1 = result\n",
    "        best_depth = depth\n",
    "        best_auc_roc= auc_roc\n",
    "        \n",
    "print(\"F1 наилучшей модели на валидационной выборке:\", best_f1)\n",
    "print(\"Max_depth наилучшей модели на валидационной выборке:\",best_depth)\n",
    "print(\"AUC-ROC равен: \",best_auc_roc)"
   ]
  },
  {
   "cell_type": "code",
   "execution_count": 203,
   "metadata": {
    "scrolled": true
   },
   "outputs": [
    {
     "data": {
      "image/png": "[encoded data removed]",
      "text/plain": [
       "<Figure size 288x288 with 1 Axes>"
      ]
     },
     "metadata": {
      "needs_background": "light"
     },
     "output_type": "display_data"
    }
   ],
   "source": [
    "fpr, tpr, thresholds = roc_curve(target_valid, prob_valid_one)\n",
    "plt.figure(figsize=(4, 4))\n",
    "plt.plot([0, 1], [0, 1])\n",
    "plt.plot(fpr, tpr)\n",
    "plt.xlim([0.0, 1.0])\n",
    "plt.ylim([0.0, 1.0])\n",
    "plt.xlabel('FPR')\n",
    "plt.ylabel('TPR')\n",
    "plt.title('ROC-кривая для решающего дерева')\n",
    "plt.show()"
   ]
  },
  {
   "cell_type": "markdown",
   "metadata": {},
   "source": [
    "**Вывод:** Была построена модель решающего дерева с учетом перебора глубины решающего дерева. В итоге лучшая модель соответсвует max_depth=7 при этом значении метрика f1 составила 0.5534, а AUC_ROC=0.828. Также была построена ROC-кривая для данной модели. К сожалению данной модель не дотягивает до целевого значения метрики f1 =0.59."
   ]
  },
  {
   "cell_type": "markdown",
   "metadata": {},
   "source": [
    "###  2.2 Модель случайного леса"
   ]
  },
  {
   "cell_type": "code",
   "execution_count": 204,
   "metadata": {
    "scrolled": true
   },
   "outputs": [
    {
     "name": "stdout",
     "output_type": "stream",
     "text": [
      "F1 наилучшей модели на валидационной выборке: 0.5939597315436241\n",
      "Best_est наилучшей модели на валидационной выборке: 13\n",
      "AUC-ROC равен:  0.826308833461422\n"
     ]
    }
   ],
   "source": [
    "best_model = None\n",
    "best_f1 = 0\n",
    "best_est=0\n",
    "best_auc_roc=0\n",
    "for est in range(1, 20):\n",
    "    model = RandomForestClassifier(random_state=12345, n_estimators=est) # обучим модель с заданным количеством деревьев через цикл\n",
    "    model.fit(features_train, target_train) \n",
    "    predict_valid = model.predict(features_valid)\n",
    "    result = f1_score(target_valid, predict_valid)\n",
    "    prob_valid = model.predict_proba(features_valid)\n",
    "    prob_valid_one = prob_valid[:, 1]\n",
    "    auc_roc = roc_auc_score(target_valid, prob_valid_one)\n",
    "    if result > best_f1:\n",
    "        best_model = model # сохранение наилучшей модели\n",
    "        best_f1 = result\n",
    "        best_est=est\n",
    "        best_depth=depth\n",
    "        best_auc_roc= auc_roc\n",
    "print(\"F1 наилучшей модели на валидационной выборке:\", best_f1)\n",
    "print(\"Best_est наилучшей модели на валидационной выборке:\", best_est)\n",
    "print(\"AUC-ROC равен: \",best_auc_roc)"
   ]
  },
  {
   "cell_type": "code",
   "execution_count": 205,
   "metadata": {
    "scrolled": true
   },
   "outputs": [
    {
     "data": {
      "image/png": "[encoded data removed]",
      "text/plain": [
       "<Figure size 288x288 with 1 Axes>"
      ]
     },
     "metadata": {
      "needs_background": "light"
     },
     "output_type": "display_data"
    }
   ],
   "source": [
    "fpr, tpr, thresholds = roc_curve(target_valid, prob_valid_one)\n",
    "plt.figure(figsize=(4, 4))\n",
    "plt.plot([0, 1], [0, 1])\n",
    "plt.plot(fpr, tpr)\n",
    "plt.xlim([0.0, 1.0])\n",
    "plt.ylim([0.0, 1.0])\n",
    "plt.xlabel('FPR')\n",
    "plt.ylabel('TPR')\n",
    "plt.title('ROC-кривая для случайного леса')\n",
    "plt.show()"
   ]
  },
  {
   "cell_type": "markdown",
   "metadata": {},
   "source": [
    "**Вывод:** Была построена модель случайного леса с учетом перебора количества деревьев. В итоге лучшая модель соответсвует n_estimators=13 при этом значении метрика f1 составила 0.5939, а AUC_ROC=0.826. Также была построена ROC-кривая для данной модели. С помощью данной модели удалось достичь целевого значения метрики f1 =0.59."
   ]
  },
  {
   "cell_type": "markdown",
   "metadata": {},
   "source": [
    "###  2.3 Логистическая регрессия"
   ]
  },
  {
   "cell_type": "code",
   "execution_count": 206,
   "metadata": {},
   "outputs": [
    {
     "name": "stdout",
     "output_type": "stream",
     "text": [
      "F1 модели логистической регрессии 0.3175965665236052\n",
      "AUC-ROC равен: 0.780939239386106\n"
     ]
    }
   ],
   "source": [
    "model = LogisticRegression(random_state=12345, solver='liblinear')\n",
    "model.fit(features_train, target_train)\n",
    "\n",
    "predict_valid = model.predict(features_valid)\n",
    "\n",
    "proba_valid = model.predict_proba(features_valid)\n",
    "proba_valid_one = proba_valid[:, 1]\n",
    "\n",
    "f1 = f1_score(target_valid, predict_valid)\n",
    "auc_roc = roc_auc_score(target_valid, proba_valid_one)\n",
    "print(\"F1 модели логистической регрессии\", f1)\n",
    "print(\"AUC-ROC равен:\", auc_roc)"
   ]
  },
  {
   "cell_type": "code",
   "execution_count": 207,
   "metadata": {
    "scrolled": true
   },
   "outputs": [
    {
     "data": {
      "image/png": "[encoded data removed]",
      "text/plain": [
       "<Figure size 288x288 with 1 Axes>"
      ]
     },
     "metadata": {
      "needs_background": "light"
     },
     "output_type": "display_data"
    }
   ],
   "source": [
    "fpr, tpr, thresholds = roc_curve(target_valid, prob_valid_one)\n",
    "plt.figure(figsize=(4, 4))\n",
    "plt.plot([0, 1], [0, 1])\n",
    "plt.plot(fpr, tpr)\n",
    "plt.xlim([0.0, 1.0])\n",
    "plt.ylim([0.0, 1.0])\n",
    "plt.xlabel('FPR')\n",
    "plt.ylabel('TPR')\n",
    "plt.title('ROC-кривая для логистической регрессии')\n",
    "plt.show()"
   ]
  },
  {
   "cell_type": "markdown",
   "metadata": {},
   "source": [
    "**Вывод:** Была построена модель логистической регрессии. В итоге  модель показала значение метрики f1  0.3175, а AUC_ROC=0.7809. Также была построена ROC-кривая для данной модели. К сожалению данной модель не дотягивает до целевого значения метрики f1 =0.59 "
   ]
  },
  {
   "cell_type": "markdown",
   "metadata": {},
   "source": [
    "### 3 Общий вывод"
   ]
  },
  {
   "cell_type": "markdown",
   "metadata": {},
   "source": [
    "Была произведена разбивка датасета на обучающую, валидационную и тестовую выборку, также было произведено масштабирование количественных признаков и разделенеи выборок на целевые и обучающие. Для обучения модели мы использовали обучающую и валидационную выборку. При изучени разных моделей с перебором гиперпараметров наилушее значение метрики f1=0.5939 показала модель случайного леса с количетсвом деревьев 13, второе место занимает модель решающего дерева у которой метрика составила 0.5534. Наихудший результат показала модель логистической регрессии ее метрика f1 составила 0.3175.\n",
    "\n",
    "Т.к. в целевом значении существует дисбаланс классов, то плохие показатели модели можно этим аргументировать. Хоть мы и попали в необхоимое значение метрики f1, но все же попробуем настроить баланс и улучшить наши имеющиеся модели."
   ]
  },
  {
   "cell_type": "markdown",
   "metadata": {},
   "source": [
    "## Борьба с дисбалансом"
   ]
  },
  {
   "cell_type": "markdown",
   "metadata": {},
   "source": [
    "Для борьбы с дисбалансом мы воспользуемся двумя методами: downsampling (от англ. down — «вниз»; sampling — «выборка») и upsampling (от англ. up, «вверх»; sampling, «выборка»).\n"
   ]
  },
  {
   "cell_type": "code",
   "execution_count": 17,
   "metadata": {
    "scrolled": true
   },
   "outputs": [],
   "source": [
    "# Создадим функцию upsample\n",
    "def upsample(features, target, repeat):\n",
    "    features_zeros = features_train[target == 0]\n",
    "    features_ones = features_train[target == 1]\n",
    "    target_zeros = target_train[target == 0]\n",
    "    target_ones = target_train[target == 1]\n",
    "\n",
    "    features_upsampled = pd.concat([features_zeros] + [features_ones] * repeat)\n",
    "    target_upsampled = pd.concat([target_zeros] + [target_ones] * repeat)\n",
    "    \n",
    "    features_upsampled, target_upsampled = shuffle(features_upsampled, target_upsampled, random_state=12345)\n",
    "    \n",
    "    return features_upsampled, target_upsampled\n",
    "\n",
    "features_up, target_up = upsample(features_train, target_train, 4)"
   ]
  },
  {
   "cell_type": "code",
   "execution_count": 209,
   "metadata": {},
   "outputs": [],
   "source": [
    "# Создадим функцию downsample\n",
    "def downsample(features, target, fraction):\n",
    "    features_zeros = features_train[target == 0]\n",
    "    features_ones = features_train[target == 1]\n",
    "    target_zeros = target_train[target == 0]\n",
    "    target_ones = target_train[target == 1]\n",
    "\n",
    "    features_downsampled = pd.concat(\n",
    "        [features_zeros.sample(frac=fraction, random_state=12345)] + [features_ones])\n",
    "    target_downsampled = pd.concat(\n",
    "        [target_zeros.sample(frac=fraction, random_state=12345)] + [target_ones])\n",
    "    \n",
    "    features_downsampled, target_downsampled = shuffle(\n",
    "        features_downsampled, target_downsampled, random_state=12345)\n",
    "    \n",
    "    return features_downsampled, target_downsampled\n",
    "\n",
    "features_dw, target_dw = downsample(features_train, target_train, 0.25)\n"
   ]
  },
  {
   "cell_type": "code",
   "execution_count": 210,
   "metadata": {},
   "outputs": [
    {
     "name": "stdout",
     "output_type": "stream",
     "text": [
      "(8832, 11) (8832,) (2208, 11) (2208,)\n"
     ]
    }
   ],
   "source": [
    "# Проверка\n",
    "print(features_up.shape, target_up.shape, features_dw.shape, target_dw.shape)"
   ]
  },
  {
   "cell_type": "markdown",
   "metadata": {},
   "source": [
    "###  1.1 Модель дерева решений upsampling"
   ]
  },
  {
   "cell_type": "code",
   "execution_count": 211,
   "metadata": {},
   "outputs": [
    {
     "name": "stdout",
     "output_type": "stream",
     "text": [
      "F1 наилучшей модели на валидационной выборке: 0.5653631284916201\n",
      "Max_depth наилучшей модели на валидационной выборке: 5\n",
      "AUC-ROC равен:  0.8374962155616106\n"
     ]
    }
   ],
   "source": [
    "best_model = None\n",
    "best_f1 = 0\n",
    "best_depth = 0\n",
    "best_auc_roc=0\n",
    "for depth in range(1,10):\n",
    "    model = DecisionTreeClassifier(random_state=12345, max_depth=depth)\n",
    "    model.fit(features_up, target_up) \n",
    "    predict_valid = model.predict(features_valid)\n",
    "    result = f1_score(target_valid, predict_valid)\n",
    "    prob_valid = model.predict_proba(features_valid)\n",
    "    prob_valid_one = prob_valid[:, 1]\n",
    "    auc_roc = roc_auc_score(target_valid, prob_valid_one)\n",
    "    if result > best_f1:\n",
    "        best_model = model # сохранение наилучшей модели\n",
    "        best_f1 = result\n",
    "        best_depth = depth\n",
    "        best_auc_roc= auc_roc\n",
    "        \n",
    "print(\"F1 наилучшей модели на валидационной выборке:\", best_f1)\n",
    "print(\"Max_depth наилучшей модели на валидационной выборке:\",best_depth)\n",
    "print(\"AUC-ROC равен: \",best_auc_roc)"
   ]
  },
  {
   "cell_type": "markdown",
   "metadata": {},
   "source": [
    "###  1.2 Модель дерева решений downsampling"
   ]
  },
  {
   "cell_type": "code",
   "execution_count": 212,
   "metadata": {},
   "outputs": [
    {
     "name": "stdout",
     "output_type": "stream",
     "text": [
      "F1 наилучшей модели на валидационной выборке: 0.5485148514851486\n",
      "Max_depth наилучшей модели на валидационной выборке: 6\n",
      "AUC-ROC равен:  0.8290210143071178\n"
     ]
    }
   ],
   "source": [
    "best_model = None\n",
    "best_f1 = 0\n",
    "best_depth = 0\n",
    "best_auc_roc=0\n",
    "for depth in range(1,10):\n",
    "    model = DecisionTreeClassifier(random_state=12345, max_depth=depth)\n",
    "    model.fit(features_dw, target_dw) \n",
    "    predict_valid = model.predict(features_valid)\n",
    "    result = f1_score(target_valid, predict_valid)\n",
    "    prob_valid = model.predict_proba(features_valid)\n",
    "    prob_valid_one = prob_valid[:, 1]\n",
    "    auc_roc = roc_auc_score(target_valid, prob_valid_one)\n",
    "    if result > best_f1:\n",
    "        best_model = model # сохранение наилучшей модели\n",
    "        best_f1 = result\n",
    "        best_depth = depth\n",
    "        best_auc_roc= auc_roc\n",
    "        \n",
    "print(\"F1 наилучшей модели на валидационной выборке:\", best_f1)\n",
    "print(\"Max_depth наилучшей модели на валидационной выборке:\",best_depth)\n",
    "print(\"AUC-ROC равен: \",best_auc_roc)"
   ]
  },
  {
   "cell_type": "markdown",
   "metadata": {},
   "source": [
    "###  2.1 Модель случайного леса upsampling"
   ]
  },
  {
   "cell_type": "code",
   "execution_count": 213,
   "metadata": {},
   "outputs": [
    {
     "name": "stdout",
     "output_type": "stream",
     "text": [
      "F1 наилучшей модели на валидационной выборке: 0.6048632218844984\n",
      "Best_est наилучшей модели на валидационной выборке: 25\n",
      "AUC-ROC равен:  0.8365306985879193\n"
     ]
    }
   ],
   "source": [
    "best_model = None\n",
    "best_f1 = 0\n",
    "best_est=0\n",
    "best_auc_roc=0\n",
    "for est in range(1, 30):\n",
    "    model = RandomForestClassifier(random_state=12345, n_estimators=est) # обучим модель с заданным количеством деревьев через цикл\n",
    "    model.fit(features_up, target_up) \n",
    "    predict_valid = model.predict(features_valid)\n",
    "    result = f1_score(target_valid, predict_valid)\n",
    "    prob_valid = model.predict_proba(features_valid)\n",
    "    prob_valid_one = prob_valid[:, 1]\n",
    "    auc_roc = roc_auc_score(target_valid, prob_valid_one)\n",
    "    if result > best_f1:\n",
    "        best_model = model # сохранение наилучшей модели\n",
    "        best_f1 = result\n",
    "        best_est=est\n",
    "        best_depth=depth\n",
    "        best_auc_roc= auc_roc\n",
    "print(\"F1 наилучшей модели на валидационной выборке:\", best_f1)\n",
    "print(\"Best_est наилучшей модели на валидационной выборке:\", best_est)\n",
    "print(\"AUC-ROC равен: \",best_auc_roc)"
   ]
  },
  {
   "cell_type": "markdown",
   "metadata": {},
   "source": [
    "###  2.1 Модель случайного леса downsampling"
   ]
  },
  {
   "cell_type": "code",
   "execution_count": 214,
   "metadata": {},
   "outputs": [
    {
     "name": "stdout",
     "output_type": "stream",
     "text": [
      "F1 наилучшей модели на валидационной выборке: 0.551063829787234\n",
      "Best_est наилучшей модели на валидационной выборке: 16\n",
      "AUC-ROC равен:  0.8375689932229442\n"
     ]
    }
   ],
   "source": [
    "best_model = None\n",
    "best_f1 = 0\n",
    "best_est=0\n",
    "best_auc_roc=0\n",
    "for est in range(1, 30):\n",
    "    model = RandomForestClassifier(random_state=12345, n_estimators=est) # обучим модель с заданным количеством деревьев через цикл\n",
    "    model.fit(features_dw, target_dw) \n",
    "    predict_valid = model.predict(features_valid)\n",
    "    result = f1_score(target_valid, predict_valid)\n",
    "    prob_valid = model.predict_proba(features_valid)\n",
    "    prob_valid_one = prob_valid[:, 1]\n",
    "    auc_roc = roc_auc_score(target_valid, prob_valid_one)\n",
    "    if result > best_f1:\n",
    "        best_model = model # сохранение наилучшей модели\n",
    "        best_f1 = result\n",
    "        best_est=est\n",
    "        best_depth=depth\n",
    "        best_auc_roc= auc_roc\n",
    "print(\"F1 наилучшей модели на валидационной выборке:\", best_f1)\n",
    "print(\"Best_est наилучшей модели на валидационной выборке:\", best_est)\n",
    "print(\"AUC-ROC равен: \",best_auc_roc)"
   ]
  },
  {
   "cell_type": "markdown",
   "metadata": {},
   "source": [
    "###  3.1 Модель логистической регрессии upsampling"
   ]
  },
  {
   "cell_type": "code",
   "execution_count": 215,
   "metadata": {},
   "outputs": [
    {
     "name": "stdout",
     "output_type": "stream",
     "text": [
      "F1 модели логистической регрессии 0.49653808110781406\n",
      "AUC-ROC равен: 0.7817349418166857\n"
     ]
    }
   ],
   "source": [
    "model = LogisticRegression(random_state=12345, solver='liblinear')\n",
    "model.fit(features_up, target_up)\n",
    "\n",
    "predict_valid = model.predict(features_valid)\n",
    "\n",
    "proba_valid = model.predict_proba(features_valid)\n",
    "proba_valid_one = proba_valid[:, 1]\n",
    "\n",
    "f1 = f1_score(target_valid, predict_valid)\n",
    "auc_roc = roc_auc_score(target_valid, proba_valid_one)\n",
    "print(\"F1 модели логистической регрессии\", f1)\n",
    "print(\"AUC-ROC равен:\", auc_roc)"
   ]
  },
  {
   "cell_type": "markdown",
   "metadata": {},
   "source": [
    "###  3.2 Модель логистической регрессии downsampling"
   ]
  },
  {
   "cell_type": "code",
   "execution_count": 216,
   "metadata": {},
   "outputs": [
    {
     "name": "stdout",
     "output_type": "stream",
     "text": [
      "F1 модели логистической регрессии 0.4911591355599214\n",
      "AUC-ROC равен: 0.7806655953794919\n"
     ]
    }
   ],
   "source": [
    "model = LogisticRegression(random_state=12345, solver='liblinear')\n",
    "model.fit(features_dw, target_dw)\n",
    "\n",
    "predict_valid = model.predict(features_valid)\n",
    "\n",
    "proba_valid = model.predict_proba(features_valid)\n",
    "proba_valid_one = proba_valid[:, 1]\n",
    "\n",
    "f1 = f1_score(target_valid, predict_valid)\n",
    "auc_roc = roc_auc_score(target_valid, proba_valid_one)\n",
    "print(\"F1 модели логистической регрессии\", f1)\n",
    "print(\"AUC-ROC равен:\", auc_roc)"
   ]
  },
  {
   "cell_type": "markdown",
   "metadata": {},
   "source": [
    "### 4 Общий вывод"
   ]
  },
  {
   "cell_type": "markdown",
   "metadata": {},
   "source": [
    "Была проведена борьба с дисбалансом с помощью увелечения и уменьшения целевых выборок, для общего выравнивания класса. Как видно по данным после применение методов upsampling и downsampling удалось достичь улучшение показателей метрик моделей. Можно заметить, что метод upsampling повышает качество модели, а downsampling в некоторых случаях наоборот влияет негативно, что и логично, чем больше данных идет на обучение на модель, то тем лучше она будет себя показывать на тестах. Для логистической регресси этот показетель для обоих методов остается на одном месте. \n",
    "Лучшей стала модель случайного леса с 25 деревьями, данные которой были обработаны методом upsampling - метрика f1 составила 0.6048"
   ]
  },
  {
   "cell_type": "markdown",
   "metadata": {},
   "source": [
    "## Тестирование модели"
   ]
  },
  {
   "cell_type": "markdown",
   "metadata": {},
   "source": [
    "После выравнивания баланса классов удалость улучшить показатели метрик моделей, лучшей метрикой обладает модель случайного дерева с количетсвом деревьев 25 с параметрами тестовой выборки upsampling, по этой причиние тестовую выборку будем прогонять по этой модели."
   ]
  },
  {
   "cell_type": "code",
   "execution_count": 217,
   "metadata": {},
   "outputs": [
    {
     "name": "stdout",
     "output_type": "stream",
     "text": [
      "F1 на тестовой выборке лучшей модели случайного леса 0.6017441860465117\n",
      "AUC-ROC равен:  0.8455132653605936\n"
     ]
    }
   ],
   "source": [
    "model = RandomForestClassifier(random_state=12345, n_estimators=25) \n",
    "model.fit(features_up, target_up) \n",
    "predict_test = model.predict(features_test)\n",
    "result = f1_score(target_test, predict_test)\n",
    "prob_test = model.predict_proba(features_test)\n",
    "prob_test_one = prob_test[:, 1]\n",
    "auc_roc = roc_auc_score(target_test, prob_test_one)\n",
    "    \n",
    "print(\"F1 на тестовой выборке лучшей модели случайного леса\", result)\n",
    "print(\"AUC-ROC равен: \", auc_roc)"
   ]
  },
  {
   "cell_type": "code",
   "execution_count": 218,
   "metadata": {
    "scrolled": true
   },
   "outputs": [
    {
     "data": {
      "image/png": "[encoded data removed]",
      "text/plain": [
       "<Figure size 288x288 with 1 Axes>"
      ]
     },
     "metadata": {
      "needs_background": "light"
     },
     "output_type": "display_data"
    }
   ],
   "source": [
    "fpr, tpr, thresholds = roc_curve(target_test, prob_test_one)\n",
    "plt.figure(figsize=(4, 4))\n",
    "plt.plot([0, 1], [0, 1])\n",
    "plt.plot(fpr, tpr)\n",
    "plt.xlim([0.0, 1.0])\n",
    "plt.ylim([0.0, 1.0])\n",
    "plt.xlabel('FPR')\n",
    "plt.ylabel('TPR')\n",
    "plt.title('ROC модели случайного леса')\n",
    "plt.show()"
   ]
  },
  {
   "cell_type": "markdown",
   "metadata": {},
   "source": [
    "**Вывод:** На тестовой выборке метрика f1 составила 0.6017, что входит в небходимый диапазон > 0.59. AUC_ROC составил 0.8455.\n",
    "Можно сделать вывод, что данная модель отвечает необходимым требованиям заказчика и может быть использована для предсказания целевых признаков"
   ]
  },
  {
   "cell_type": "markdown",
   "metadata": {},
   "source": [
    "## Заключение"
   ]
  },
  {
   "cell_type": "markdown",
   "metadata": {},
   "source": [
    "В результате исследования был произведен анализ и предобработка данных. Была произведена чистка данных, масштабирование количественных признаков, а также перевод категориальных признаков в необходимый формат. Были расмотрены различные модели машинного обучения, производился подбор гиперпараметров для достижения максимальной обучаемости моделей, а также рассчитывались метрики моделей для сравнения их между собой.\n",
    "Также во время исследования был выявлен дисбаланс классов, который отрицательно влиял на обучение моделей. Были применены два методва upsampling и downsampling для выравнивания целевого признака. После балансирования признаков все модели были заново обучены на новые данные.\n",
    "\n",
    "После проведения всех рассчетов была выявлена лучшая модель случайного леса, данные которые были выравнены с помощью метода upsampling. Метрика F1 для данной модели составила 0.6017 на тестовой выборке, AUC_ROC 0.8455. Был достигнут необходимый уровень метрики F1, по этой причине можно считать, что задание выполнено успешно."
   ]
  },
  {
   "cell_type": "code",
   "execution_count": null,
   "metadata": {},
   "outputs": [],
   "source": []
  }
 ],
 "metadata": {
  "ExecuteTimeLog": [
   {
    "duration": 72,
    "start_time": "2023-05-18T20:45:15.813Z"
   },
   {
    "duration": 531,
    "start_time": "2023-05-18T20:45:26.702Z"
   },
   {
    "duration": 53,
    "start_time": "2023-05-29T17:51:23.002Z"
   },
   {
    "duration": 618,
    "start_time": "2023-05-29T17:51:26.308Z"
   },
   {
    "duration": 13,
    "start_time": "2023-05-29T17:51:26.928Z"
   },
   {
    "duration": 12,
    "start_time": "2023-05-29T17:51:56.975Z"
   },
   {
    "duration": 13,
    "start_time": "2023-05-29T17:52:20.586Z"
   },
   {
    "duration": 39,
    "start_time": "2023-05-29T17:52:46.262Z"
   },
   {
    "duration": 39,
    "start_time": "2023-05-29T17:53:18.967Z"
   },
   {
    "duration": 7,
    "start_time": "2023-05-29T17:53:59.552Z"
   },
   {
    "duration": 14,
    "start_time": "2023-05-29T17:56:48.481Z"
   },
   {
    "duration": 11,
    "start_time": "2023-05-29T17:57:02.738Z"
   },
   {
    "duration": 1315,
    "start_time": "2023-05-29T17:57:29.193Z"
   },
   {
    "duration": 1193,
    "start_time": "2023-05-29T17:57:44.010Z"
   },
   {
    "duration": 1333,
    "start_time": "2023-05-29T17:57:50.542Z"
   },
   {
    "duration": 1297,
    "start_time": "2023-05-29T17:58:20.873Z"
   },
   {
    "duration": 1294,
    "start_time": "2023-05-29T17:58:29.931Z"
   },
   {
    "duration": 1417,
    "start_time": "2023-05-29T17:58:41.933Z"
   },
   {
    "duration": 4,
    "start_time": "2023-05-29T18:01:22.819Z"
   },
   {
    "duration": 31,
    "start_time": "2023-05-29T18:09:02.761Z"
   },
   {
    "duration": 4,
    "start_time": "2023-05-29T18:10:23.369Z"
   },
   {
    "duration": 59,
    "start_time": "2023-05-29T18:12:51.808Z"
   },
   {
    "duration": 13,
    "start_time": "2023-05-29T18:13:13.294Z"
   },
   {
    "duration": 12,
    "start_time": "2023-05-29T18:13:20.860Z"
   },
   {
    "duration": 12,
    "start_time": "2023-05-29T18:13:42.036Z"
   },
   {
    "duration": 56,
    "start_time": "2023-05-29T18:13:50.437Z"
   },
   {
    "duration": 14,
    "start_time": "2023-05-29T18:13:50.914Z"
   },
   {
    "duration": 41,
    "start_time": "2023-05-29T18:13:51.075Z"
   },
   {
    "duration": 7,
    "start_time": "2023-05-29T18:13:51.295Z"
   },
   {
    "duration": 10,
    "start_time": "2023-05-29T18:13:51.439Z"
   },
   {
    "duration": 1505,
    "start_time": "2023-05-29T18:13:51.695Z"
   },
   {
    "duration": 20,
    "start_time": "2023-05-29T18:13:53.202Z"
   },
   {
    "duration": 11,
    "start_time": "2023-05-29T18:13:53.318Z"
   },
   {
    "duration": 13,
    "start_time": "2023-05-29T18:14:04.709Z"
   },
   {
    "duration": 12,
    "start_time": "2023-05-29T18:14:33.264Z"
   },
   {
    "duration": 11,
    "start_time": "2023-05-29T18:14:37.061Z"
   },
   {
    "duration": 13,
    "start_time": "2023-05-29T18:14:51.346Z"
   },
   {
    "duration": 8,
    "start_time": "2023-05-29T18:15:16.988Z"
   },
   {
    "duration": 20,
    "start_time": "2023-05-29T18:15:24.071Z"
   },
   {
    "duration": 12,
    "start_time": "2023-05-29T18:16:21.381Z"
   },
   {
    "duration": 18,
    "start_time": "2023-05-29T18:17:54.812Z"
   },
   {
    "duration": 11,
    "start_time": "2023-05-29T18:18:20.056Z"
   },
   {
    "duration": 11,
    "start_time": "2023-05-29T18:20:46.863Z"
   },
   {
    "duration": 19,
    "start_time": "2023-05-29T18:20:50.751Z"
   },
   {
    "duration": 4,
    "start_time": "2023-05-29T18:20:58.898Z"
   },
   {
    "duration": 12,
    "start_time": "2023-05-29T18:21:06.803Z"
   },
   {
    "duration": 13,
    "start_time": "2023-05-29T18:22:08.430Z"
   },
   {
    "duration": 49,
    "start_time": "2023-05-29T18:22:12.727Z"
   },
   {
    "duration": 13,
    "start_time": "2023-05-29T18:22:13.082Z"
   },
   {
    "duration": 40,
    "start_time": "2023-05-29T18:22:13.203Z"
   },
   {
    "duration": 8,
    "start_time": "2023-05-29T18:22:13.403Z"
   },
   {
    "duration": 11,
    "start_time": "2023-05-29T18:22:13.601Z"
   },
   {
    "duration": 1473,
    "start_time": "2023-05-29T18:22:13.730Z"
   },
   {
    "duration": 22,
    "start_time": "2023-05-29T18:22:15.205Z"
   },
   {
    "duration": 26,
    "start_time": "2023-05-29T18:22:15.228Z"
   },
   {
    "duration": 12,
    "start_time": "2023-05-29T18:22:35.128Z"
   },
   {
    "duration": 15,
    "start_time": "2023-05-29T18:23:33.500Z"
   },
   {
    "duration": 14,
    "start_time": "2023-05-29T18:23:49.648Z"
   },
   {
    "duration": 12,
    "start_time": "2023-05-29T18:24:03.607Z"
   },
   {
    "duration": 8,
    "start_time": "2023-05-29T18:25:37.201Z"
   },
   {
    "duration": 21,
    "start_time": "2023-05-29T18:25:41.539Z"
   },
   {
    "duration": 759,
    "start_time": "2023-05-29T18:41:11.796Z"
   },
   {
    "duration": 3,
    "start_time": "2023-05-29T18:41:19.160Z"
   },
   {
    "duration": 43,
    "start_time": "2023-05-29T18:47:14.227Z"
   },
   {
    "duration": 8,
    "start_time": "2023-05-29T18:47:31.056Z"
   },
   {
    "duration": 7,
    "start_time": "2023-05-29T18:48:39.932Z"
   },
   {
    "duration": 13,
    "start_time": "2023-05-29T18:48:43.703Z"
   },
   {
    "duration": 13,
    "start_time": "2023-05-29T18:49:29.873Z"
   },
   {
    "duration": 7,
    "start_time": "2023-05-29T18:50:17.440Z"
   },
   {
    "duration": 4,
    "start_time": "2023-05-29T18:50:17.810Z"
   },
   {
    "duration": 8,
    "start_time": "2023-05-29T18:50:18.039Z"
   },
   {
    "duration": 13,
    "start_time": "2023-05-29T18:50:18.806Z"
   },
   {
    "duration": 12,
    "start_time": "2023-05-29T18:50:42.054Z"
   },
   {
    "duration": 25,
    "start_time": "2023-05-29T18:54:00.597Z"
   },
   {
    "duration": 49,
    "start_time": "2023-05-29T18:59:18.127Z"
   },
   {
    "duration": 29,
    "start_time": "2023-05-29T19:06:48.326Z"
   },
   {
    "duration": 22,
    "start_time": "2023-05-29T19:07:10.312Z"
   },
   {
    "duration": 150,
    "start_time": "2023-05-29T19:07:18.612Z"
   },
   {
    "duration": 170,
    "start_time": "2023-05-29T19:07:40.604Z"
   },
   {
    "duration": 138,
    "start_time": "2023-05-29T19:08:42.547Z"
   },
   {
    "duration": 187,
    "start_time": "2023-05-29T19:14:12.402Z"
   },
   {
    "duration": 4,
    "start_time": "2023-05-29T19:16:45.024Z"
   },
   {
    "duration": 163,
    "start_time": "2023-05-29T19:16:45.711Z"
   },
   {
    "duration": 120,
    "start_time": "2023-05-29T19:16:46.893Z"
   },
   {
    "duration": 133,
    "start_time": "2023-05-29T19:17:02.320Z"
   },
   {
    "duration": 135,
    "start_time": "2023-05-29T19:17:45.363Z"
   },
   {
    "duration": 138,
    "start_time": "2023-05-29T19:17:50.810Z"
   },
   {
    "duration": 121,
    "start_time": "2023-05-29T19:17:57.884Z"
   },
   {
    "duration": 129,
    "start_time": "2023-05-29T19:18:22.795Z"
   },
   {
    "duration": 505,
    "start_time": "2023-05-29T19:22:29.687Z"
   },
   {
    "duration": 95,
    "start_time": "2023-05-29T19:26:02.690Z"
   },
   {
    "duration": 1619,
    "start_time": "2023-05-29T19:26:18.918Z"
   },
   {
    "duration": 2864,
    "start_time": "2023-05-29T19:26:34.515Z"
   },
   {
    "duration": 466,
    "start_time": "2023-05-29T19:27:22.429Z"
   },
   {
    "duration": 521,
    "start_time": "2023-05-29T19:27:32.423Z"
   },
   {
    "duration": 179,
    "start_time": "2023-05-29T19:27:51.796Z"
   },
   {
    "duration": 121,
    "start_time": "2023-05-29T19:28:15.207Z"
   },
   {
    "duration": 156,
    "start_time": "2023-05-29T19:28:21.306Z"
   },
   {
    "duration": 134,
    "start_time": "2023-05-29T19:28:27.093Z"
   },
   {
    "duration": 131,
    "start_time": "2023-05-29T19:28:44.887Z"
   },
   {
    "duration": 496,
    "start_time": "2023-05-29T19:28:45.541Z"
   },
   {
    "duration": 144,
    "start_time": "2023-05-29T19:28:46.038Z"
   },
   {
    "duration": 59,
    "start_time": "2023-05-29T19:33:06.603Z"
   },
   {
    "duration": 133,
    "start_time": "2023-05-29T19:33:40.014Z"
   },
   {
    "duration": 143,
    "start_time": "2023-05-29T19:33:53.296Z"
   },
   {
    "duration": 38,
    "start_time": "2023-05-29T19:33:54.013Z"
   },
   {
    "duration": 187,
    "start_time": "2023-05-29T19:33:54.399Z"
   },
   {
    "duration": 69,
    "start_time": "2023-05-29T19:35:51.062Z"
   },
   {
    "duration": 3,
    "start_time": "2023-05-29T19:36:26.787Z"
   },
   {
    "duration": 166,
    "start_time": "2023-05-29T19:36:27.402Z"
   },
   {
    "duration": 143,
    "start_time": "2023-05-29T19:36:27.570Z"
   },
   {
    "duration": 530,
    "start_time": "2023-05-29T19:36:28.133Z"
   },
   {
    "duration": 128,
    "start_time": "2023-05-29T19:36:28.665Z"
   },
   {
    "duration": 26,
    "start_time": "2023-05-29T19:36:29.087Z"
   },
   {
    "duration": 128,
    "start_time": "2023-05-29T19:36:29.286Z"
   },
   {
    "duration": 115,
    "start_time": "2023-05-29T19:37:57.806Z"
   },
   {
    "duration": 119,
    "start_time": "2023-05-29T19:38:03.903Z"
   },
   {
    "duration": 125,
    "start_time": "2023-05-29T19:38:08.943Z"
   },
   {
    "duration": 1557,
    "start_time": "2023-05-29T19:42:46.087Z"
   },
   {
    "duration": 120,
    "start_time": "2023-05-29T19:42:59.197Z"
   },
   {
    "duration": 10,
    "start_time": "2023-05-29T20:04:34.864Z"
   },
   {
    "duration": 15,
    "start_time": "2023-05-29T20:05:11.733Z"
   },
   {
    "duration": 14,
    "start_time": "2023-05-29T20:05:33.489Z"
   },
   {
    "duration": 17,
    "start_time": "2023-05-29T20:06:17.589Z"
   },
   {
    "duration": 13,
    "start_time": "2023-05-29T20:06:29.420Z"
   },
   {
    "duration": 14,
    "start_time": "2023-05-29T20:06:39.520Z"
   },
   {
    "duration": 14,
    "start_time": "2023-05-29T20:07:10.392Z"
   },
   {
    "duration": 13,
    "start_time": "2023-05-29T20:07:20.109Z"
   },
   {
    "duration": 12,
    "start_time": "2023-05-29T20:08:58.393Z"
   },
   {
    "duration": 49,
    "start_time": "2023-05-29T20:09:05.751Z"
   },
   {
    "duration": 13,
    "start_time": "2023-05-29T20:09:06.298Z"
   },
   {
    "duration": 43,
    "start_time": "2023-05-29T20:09:06.461Z"
   },
   {
    "duration": 7,
    "start_time": "2023-05-29T20:09:06.642Z"
   },
   {
    "duration": 11,
    "start_time": "2023-05-29T20:09:06.824Z"
   },
   {
    "duration": 1573,
    "start_time": "2023-05-29T20:09:06.944Z"
   },
   {
    "duration": 32,
    "start_time": "2023-05-29T20:09:08.519Z"
   },
   {
    "duration": 9,
    "start_time": "2023-05-29T20:09:08.552Z"
   },
   {
    "duration": 12,
    "start_time": "2023-05-29T20:09:08.563Z"
   },
   {
    "duration": 18,
    "start_time": "2023-05-29T20:09:08.576Z"
   },
   {
    "duration": 9,
    "start_time": "2023-05-29T20:09:09.089Z"
   },
   {
    "duration": 4,
    "start_time": "2023-05-29T20:09:09.189Z"
   },
   {
    "duration": 7,
    "start_time": "2023-05-29T20:09:09.356Z"
   },
   {
    "duration": 25,
    "start_time": "2023-05-29T20:09:09.663Z"
   },
   {
    "duration": 3,
    "start_time": "2023-05-29T20:09:10.155Z"
   },
   {
    "duration": 151,
    "start_time": "2023-05-29T20:09:10.719Z"
   },
   {
    "duration": 111,
    "start_time": "2023-05-29T20:09:10.872Z"
   },
   {
    "duration": 1435,
    "start_time": "2023-05-29T20:09:11.367Z"
   },
   {
    "duration": 115,
    "start_time": "2023-05-29T20:09:12.804Z"
   },
   {
    "duration": 36,
    "start_time": "2023-05-29T20:09:12.921Z"
   },
   {
    "duration": 293,
    "start_time": "2023-05-29T20:09:12.959Z"
   },
   {
    "duration": 13,
    "start_time": "2023-05-29T20:09:13.560Z"
   },
   {
    "duration": 19,
    "start_time": "2023-05-29T20:09:14.021Z"
   },
   {
    "duration": 14,
    "start_time": "2023-05-29T20:10:42.552Z"
   },
   {
    "duration": 10,
    "start_time": "2023-05-29T20:12:26.745Z"
   },
   {
    "duration": 14,
    "start_time": "2023-05-29T20:12:33.413Z"
   },
   {
    "duration": 10,
    "start_time": "2023-05-29T20:12:40.793Z"
   },
   {
    "duration": 11,
    "start_time": "2023-05-29T20:12:48.925Z"
   },
   {
    "duration": 11,
    "start_time": "2023-05-29T20:12:50.345Z"
   },
   {
    "duration": 11,
    "start_time": "2023-05-29T20:13:19.809Z"
   },
   {
    "duration": 12,
    "start_time": "2023-05-29T20:13:20.190Z"
   },
   {
    "duration": 4,
    "start_time": "2023-05-29T20:14:33.389Z"
   },
   {
    "duration": 13,
    "start_time": "2023-05-29T20:14:49.793Z"
   },
   {
    "duration": 4,
    "start_time": "2023-05-29T20:14:51.433Z"
   },
   {
    "duration": 12,
    "start_time": "2023-05-29T20:15:42.516Z"
   },
   {
    "duration": 3,
    "start_time": "2023-05-29T20:15:43.446Z"
   },
   {
    "duration": 182,
    "start_time": "2023-05-29T20:18:26.055Z"
   },
   {
    "duration": 179,
    "start_time": "2023-05-29T20:18:39.193Z"
   },
   {
    "duration": 180,
    "start_time": "2023-05-29T20:18:54.590Z"
   },
   {
    "duration": 109,
    "start_time": "2023-05-29T20:19:48.147Z"
   },
   {
    "duration": 186,
    "start_time": "2023-05-29T20:20:04.599Z"
   },
   {
    "duration": 105,
    "start_time": "2023-05-29T20:20:05.802Z"
   },
   {
    "duration": 184,
    "start_time": "2023-05-29T20:21:31.322Z"
   },
   {
    "duration": 112,
    "start_time": "2023-05-29T20:21:31.786Z"
   },
   {
    "duration": 1849,
    "start_time": "2023-05-29T20:22:26.517Z"
   },
   {
    "duration": 853,
    "start_time": "2023-05-29T20:22:44.749Z"
   },
   {
    "duration": 64,
    "start_time": "2023-05-29T20:23:49.786Z"
   },
   {
    "duration": 42,
    "start_time": "2023-05-29T20:24:02.609Z"
   },
   {
    "duration": 18,
    "start_time": "2023-05-29T20:24:14.789Z"
   },
   {
    "duration": 3934,
    "start_time": "2023-05-29T20:27:26.238Z"
   },
   {
    "duration": 1774,
    "start_time": "2023-05-29T20:27:44.871Z"
   },
   {
    "duration": 220,
    "start_time": "2023-05-29T20:29:27.846Z"
   },
   {
    "duration": 217,
    "start_time": "2023-05-29T20:30:56.226Z"
   },
   {
    "duration": 214,
    "start_time": "2023-05-29T20:31:04.959Z"
   },
   {
    "duration": 230,
    "start_time": "2023-05-29T20:31:09.718Z"
   },
   {
    "duration": 122,
    "start_time": "2023-05-29T20:33:18.339Z"
   },
   {
    "duration": 107,
    "start_time": "2023-05-29T20:33:40.301Z"
   },
   {
    "duration": 222,
    "start_time": "2023-05-29T20:35:33.694Z"
   },
   {
    "duration": 118,
    "start_time": "2023-05-29T20:35:34.180Z"
   },
   {
    "duration": 46,
    "start_time": "2023-05-29T20:46:20.404Z"
   },
   {
    "duration": 12,
    "start_time": "2023-05-29T20:46:20.754Z"
   },
   {
    "duration": 39,
    "start_time": "2023-05-29T20:46:20.925Z"
   },
   {
    "duration": 8,
    "start_time": "2023-05-29T20:46:21.099Z"
   },
   {
    "duration": 10,
    "start_time": "2023-05-29T20:46:21.290Z"
   },
   {
    "duration": 1287,
    "start_time": "2023-05-29T20:46:21.456Z"
   },
   {
    "duration": 21,
    "start_time": "2023-05-29T20:46:22.745Z"
   },
   {
    "duration": 8,
    "start_time": "2023-05-29T20:46:22.768Z"
   },
   {
    "duration": 19,
    "start_time": "2023-05-29T20:46:22.777Z"
   },
   {
    "duration": 18,
    "start_time": "2023-05-29T20:46:22.798Z"
   },
   {
    "duration": 7,
    "start_time": "2023-05-29T20:46:23.528Z"
   },
   {
    "duration": 4,
    "start_time": "2023-05-29T20:46:23.705Z"
   },
   {
    "duration": 6,
    "start_time": "2023-05-29T20:46:23.916Z"
   },
   {
    "duration": 24,
    "start_time": "2023-05-29T20:46:24.597Z"
   },
   {
    "duration": 3,
    "start_time": "2023-05-29T20:46:24.713Z"
   },
   {
    "duration": 152,
    "start_time": "2023-05-29T20:46:24.837Z"
   },
   {
    "duration": 119,
    "start_time": "2023-05-29T20:46:24.991Z"
   },
   {
    "duration": 1421,
    "start_time": "2023-05-29T20:46:25.111Z"
   },
   {
    "duration": 137,
    "start_time": "2023-05-29T20:46:26.533Z"
   },
   {
    "duration": 79,
    "start_time": "2023-05-29T20:46:26.673Z"
   },
   {
    "duration": 203,
    "start_time": "2023-05-29T20:46:26.755Z"
   },
   {
    "duration": 11,
    "start_time": "2023-05-29T20:46:26.960Z"
   },
   {
    "duration": 10,
    "start_time": "2023-05-29T20:46:26.973Z"
   },
   {
    "duration": 3,
    "start_time": "2023-05-29T20:46:26.985Z"
   },
   {
    "duration": 211,
    "start_time": "2023-05-29T20:46:26.990Z"
   },
   {
    "duration": 110,
    "start_time": "2023-05-29T20:46:27.202Z"
   },
   {
    "duration": 4012,
    "start_time": "2023-05-29T20:46:27.314Z"
   },
   {
    "duration": 1832,
    "start_time": "2023-05-29T20:46:31.328Z"
   },
   {
    "duration": 90,
    "start_time": "2023-05-29T20:46:33.161Z"
   },
   {
    "duration": 108,
    "start_time": "2023-05-29T20:46:33.253Z"
   },
   {
    "duration": 404,
    "start_time": "2023-05-29T20:46:33.363Z"
   },
   {
    "duration": 109,
    "start_time": "2023-05-29T20:46:33.768Z"
   },
   {
    "duration": 448,
    "start_time": "2023-05-29T21:58:47.344Z"
   },
   {
    "duration": 12,
    "start_time": "2023-05-29T21:58:49.021Z"
   },
   {
    "duration": 38,
    "start_time": "2023-05-29T21:58:52.222Z"
   },
   {
    "duration": 8,
    "start_time": "2023-05-29T21:58:55.126Z"
   },
   {
    "duration": 16,
    "start_time": "2023-05-29T21:58:55.697Z"
   },
   {
    "duration": 1899,
    "start_time": "2023-05-29T21:58:57.150Z"
   },
   {
    "duration": 21,
    "start_time": "2023-05-29T21:58:59.051Z"
   },
   {
    "duration": 10,
    "start_time": "2023-05-29T21:59:36.234Z"
   },
   {
    "duration": 14,
    "start_time": "2023-05-29T21:59:49.730Z"
   },
   {
    "duration": 20,
    "start_time": "2023-05-29T21:59:56.305Z"
   },
   {
    "duration": 1522,
    "start_time": "2023-05-29T22:01:19.692Z"
   },
   {
    "duration": 3,
    "start_time": "2023-05-29T22:01:21.216Z"
   },
   {
    "duration": 7,
    "start_time": "2023-05-29T22:01:44.159Z"
   },
   {
    "duration": 24,
    "start_time": "2023-05-29T22:01:55.343Z"
   },
   {
    "duration": 25,
    "start_time": "2023-05-29T22:01:59.225Z"
   },
   {
    "duration": 48,
    "start_time": "2023-05-29T22:02:15.082Z"
   },
   {
    "duration": 16,
    "start_time": "2023-05-29T22:08:04.438Z"
   }
  ],
  "kernelspec": {
   "display_name": "Python 3 (ipykernel)",
   "language": "python",
   "name": "python3"
  },
  "language_info": {
   "codemirror_mode": {
    "name": "ipython",
    "version": 3
   },
   "file_extension": ".py",
   "mimetype": "text/x-python",
   "name": "python",
   "nbconvert_exporter": "python",
   "pygments_lexer": "ipython3",
   "version": "3.9.5"
  },
  "toc": {
   "base_numbering": 1,
   "nav_menu": {},
   "number_sections": true,
   "sideBar": true,
   "skip_h1_title": true,
   "title_cell": "Содержание",
   "title_sidebar": "Contents",
   "toc_cell": true,
   "toc_position": {},
   "toc_section_display": true,
   "toc_window_display": true
  }
 },
 "nbformat": 4,
 "nbformat_minor": 2
}
