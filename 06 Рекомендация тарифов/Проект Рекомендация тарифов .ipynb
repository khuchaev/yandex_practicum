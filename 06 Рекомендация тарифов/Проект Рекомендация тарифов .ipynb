{
 "cells": [
  {
   "cell_type": "markdown",
   "metadata": {},
   "source": [
    "# Рекомендация тарифов"
   ]
  },
  {
   "cell_type": "markdown",
   "metadata": {},
   "source": [
    "В вашем распоряжении данные о поведении клиентов, которые уже перешли на эти тарифы (из проекта курса «Статистический анализ данных»). Нужно построить модель для задачи классификации, которая выберет подходящий тариф. Предобработка данных не понадобится — вы её уже сделали.\n",
    "\n",
    "Постройте модель с максимально большим значением *accuracy*. Чтобы сдать проект успешно, нужно довести долю правильных ответов по крайней мере до 0.75. Проверьте *accuracy* на тестовой выборке самостоятельно."
   ]
  },
  {
   "cell_type": "markdown",
   "metadata": {},
   "source": [
    "## Откройте и изучите файл"
   ]
  },
  {
   "cell_type": "code",
   "execution_count": 132,
   "metadata": {},
   "outputs": [
    {
     "data": {
      "text/html": [
       "<div>\n",
       "<style scoped>\n",
       "    .dataframe tbody tr th:only-of-type {\n",
       "        vertical-align: middle;\n",
       "    }\n",
       "\n",
       "    .dataframe tbody tr th {\n",
       "        vertical-align: top;\n",
       "    }\n",
       "\n",
       "    .dataframe thead th {\n",
       "        text-align: right;\n",
       "    }\n",
       "</style>\n",
       "<table border=\"1\" class=\"dataframe\">\n",
       "  <thead>\n",
       "    <tr style=\"text-align: right;\">\n",
       "      <th></th>\n",
       "      <th>calls</th>\n",
       "      <th>minutes</th>\n",
       "      <th>messages</th>\n",
       "      <th>mb_used</th>\n",
       "      <th>is_ultra</th>\n",
       "    </tr>\n",
       "  </thead>\n",
       "  <tbody>\n",
       "    <tr>\n",
       "      <th>0</th>\n",
       "      <td>40.0</td>\n",
       "      <td>311.90</td>\n",
       "      <td>83.0</td>\n",
       "      <td>19915.42</td>\n",
       "      <td>0</td>\n",
       "    </tr>\n",
       "    <tr>\n",
       "      <th>1</th>\n",
       "      <td>85.0</td>\n",
       "      <td>516.75</td>\n",
       "      <td>56.0</td>\n",
       "      <td>22696.96</td>\n",
       "      <td>0</td>\n",
       "    </tr>\n",
       "    <tr>\n",
       "      <th>2</th>\n",
       "      <td>77.0</td>\n",
       "      <td>467.66</td>\n",
       "      <td>86.0</td>\n",
       "      <td>21060.45</td>\n",
       "      <td>0</td>\n",
       "    </tr>\n",
       "    <tr>\n",
       "      <th>3</th>\n",
       "      <td>106.0</td>\n",
       "      <td>745.53</td>\n",
       "      <td>81.0</td>\n",
       "      <td>8437.39</td>\n",
       "      <td>1</td>\n",
       "    </tr>\n",
       "    <tr>\n",
       "      <th>4</th>\n",
       "      <td>66.0</td>\n",
       "      <td>418.74</td>\n",
       "      <td>1.0</td>\n",
       "      <td>14502.75</td>\n",
       "      <td>0</td>\n",
       "    </tr>\n",
       "    <tr>\n",
       "      <th>5</th>\n",
       "      <td>58.0</td>\n",
       "      <td>344.56</td>\n",
       "      <td>21.0</td>\n",
       "      <td>15823.37</td>\n",
       "      <td>0</td>\n",
       "    </tr>\n",
       "    <tr>\n",
       "      <th>6</th>\n",
       "      <td>57.0</td>\n",
       "      <td>431.64</td>\n",
       "      <td>20.0</td>\n",
       "      <td>3738.90</td>\n",
       "      <td>1</td>\n",
       "    </tr>\n",
       "    <tr>\n",
       "      <th>7</th>\n",
       "      <td>15.0</td>\n",
       "      <td>132.40</td>\n",
       "      <td>6.0</td>\n",
       "      <td>21911.60</td>\n",
       "      <td>0</td>\n",
       "    </tr>\n",
       "    <tr>\n",
       "      <th>8</th>\n",
       "      <td>7.0</td>\n",
       "      <td>43.39</td>\n",
       "      <td>3.0</td>\n",
       "      <td>2538.67</td>\n",
       "      <td>1</td>\n",
       "    </tr>\n",
       "    <tr>\n",
       "      <th>9</th>\n",
       "      <td>90.0</td>\n",
       "      <td>665.41</td>\n",
       "      <td>38.0</td>\n",
       "      <td>17358.61</td>\n",
       "      <td>0</td>\n",
       "    </tr>\n",
       "  </tbody>\n",
       "</table>\n",
       "</div>"
      ],
      "text/plain": [
       "   calls  minutes  messages   mb_used  is_ultra\n",
       "0   40.0   311.90      83.0  19915.42         0\n",
       "1   85.0   516.75      56.0  22696.96         0\n",
       "2   77.0   467.66      86.0  21060.45         0\n",
       "3  106.0   745.53      81.0   8437.39         1\n",
       "4   66.0   418.74       1.0  14502.75         0\n",
       "5   58.0   344.56      21.0  15823.37         0\n",
       "6   57.0   431.64      20.0   3738.90         1\n",
       "7   15.0   132.40       6.0  21911.60         0\n",
       "8    7.0    43.39       3.0   2538.67         1\n",
       "9   90.0   665.41      38.0  17358.61         0"
      ]
     },
     "execution_count": 132,
     "metadata": {},
     "output_type": "execute_result"
    }
   ],
   "source": [
    "import pandas as pd\n",
    "data = pd.read_csv('/datasets/users_behavior.csv')\n",
    "data.head(10)"
   ]
  },
  {
   "cell_type": "code",
   "execution_count": 133,
   "metadata": {},
   "outputs": [
    {
     "name": "stdout",
     "output_type": "stream",
     "text": [
      "<class 'pandas.core.frame.DataFrame'>\n",
      "RangeIndex: 3214 entries, 0 to 3213\n",
      "Data columns (total 5 columns):\n",
      " #   Column    Non-Null Count  Dtype  \n",
      "---  ------    --------------  -----  \n",
      " 0   calls     3214 non-null   float64\n",
      " 1   minutes   3214 non-null   float64\n",
      " 2   messages  3214 non-null   float64\n",
      " 3   mb_used   3214 non-null   float64\n",
      " 4   is_ultra  3214 non-null   int64  \n",
      "dtypes: float64(4), int64(1)\n",
      "memory usage: 125.7 KB\n"
     ]
    }
   ],
   "source": [
    "# Проверка общих значений датасета\n",
    "data.info()"
   ]
  },
  {
   "cell_type": "code",
   "execution_count": 134,
   "metadata": {},
   "outputs": [
    {
     "data": {
      "text/plain": [
       "0"
      ]
     },
     "execution_count": 134,
     "metadata": {},
     "output_type": "execute_result"
    }
   ],
   "source": [
    "# Проверка на наличие дубликатов\n",
    "data.duplicated().sum()"
   ]
  },
  {
   "cell_type": "markdown",
   "metadata": {},
   "source": [
    "Каждый объект в наборе данных — это информация о поведении одного пользователя за месяц.\n",
    "\n",
    "\n",
    "сalls — количество звонков,\n",
    "\n",
    "minutes — суммарная длительность звонков в минутах,\n",
    "\n",
    "messages — количество sms-сообщений,\n",
    "\n",
    "mb_used — израсходованный интернет-трафик в Мб,\n",
    "\n",
    "is_ultra — каким тарифом пользовался в течение месяца («Ультра» — 1, «Смарт» — 0)."
   ]
  },
  {
   "cell_type": "markdown",
   "metadata": {},
   "source": [
    "## Разбейте данные на выборки"
   ]
  },
  {
   "cell_type": "markdown",
   "metadata": {},
   "source": [
    "Разделим исходные данные на обучающую, валидационную и тестовую выборки. Т.к. нельзя сразу разделить на три отдельные выборки, разделим исходной датасет на обучающую (60%) и оставшуюся 40% разделим повторно между валидационной и тестовой выборкой."
   ]
  },
  {
   "cell_type": "code",
   "execution_count": 135,
   "metadata": {},
   "outputs": [],
   "source": [
    "from sklearn.model_selection import train_test_split \n",
    "data_train, data_ost = train_test_split(data, test_size=0.4, random_state=12345) # Делим на обучающую и остаток\n",
    "data_test, data_valid = train_test_split(data_ost, test_size=0.5, random_state=12345)  # Делим на тестовую и валидационную"
   ]
  },
  {
   "cell_type": "code",
   "execution_count": 136,
   "metadata": {},
   "outputs": [
    {
     "name": "stdout",
     "output_type": "stream",
     "text": [
      "(1928, 5) (643, 5) (643, 5)\n"
     ]
    }
   ],
   "source": [
    "# Проверим размер датасетов\n",
    "print(data_train.shape, data_test.shape, data_valid.shape)"
   ]
  },
  {
   "cell_type": "markdown",
   "metadata": {},
   "source": [
    "## Исследуйте модели"
   ]
  },
  {
   "cell_type": "markdown",
   "metadata": {},
   "source": [
    "Целевым признаком у нас является значения в столбце is_ultra, которое определяет на каком тарифе находится пользователь. Все остальные столбцы являются признаками, которые мы будем давать модели для ее обучения. Данная задача является задачей классификацией, поэтому для оценки модели будем пользоваться метрикой accuary."
   ]
  },
  {
   "cell_type": "markdown",
   "metadata": {},
   "source": [
    "### Модель решающего дерева"
   ]
  },
  {
   "cell_type": "markdown",
   "metadata": {},
   "source": [
    "Деревья принятия решений (DTS) - это непараметрический метод контролируемого обучения, используемый для классификации и регрессии. Цель состоит в том, чтобы создать модель, которая предсказывает значение целевой переменной путем изучения простых правил принятия решений, выведенных из объектов данных. Дерево можно рассматривать как кусочно-постоянное приближение."
   ]
  },
  {
   "cell_type": "code",
   "execution_count": 137,
   "metadata": {},
   "outputs": [
    {
     "name": "stdout",
     "output_type": "stream",
     "text": [
      "Accuracy наилучшей модели на валидационной выборке: 0.7993779160186625\n",
      "Max_depth наилучшей модели на валидационной выборке: 7\n"
     ]
    }
   ],
   "source": [
    "from sklearn.tree import DecisionTreeClassifier\n",
    "from sklearn.metrics import accuracy_score\n",
    "\n",
    "features_train = data_train.drop(['is_ultra'], axis=1) # Сохранение признаков модели\n",
    "target_train = data_train['is_ultra'] # Сохранение целевого признака\n",
    "features_valid = data_valid.drop(['is_ultra'], axis=1)\n",
    "target_valid = data_valid['is_ultra']\n",
    "\n",
    "best_model = None\n",
    "best_result = 0\n",
    "best_depth = 0\n",
    "for depth in range(1,10):\n",
    "    model = DecisionTreeClassifier(random_state=12345, max_depth=depth)\n",
    "    model.fit(features_train, target_train) \n",
    "    result = model.score(features_valid, target_valid) \n",
    "    if result > best_result:\n",
    "        best_model = model # сохранение наилучшей модели\n",
    "        best_result = result\n",
    "        best_depth = depth\n",
    "        \n",
    "print(\"Accuracy наилучшей модели на валидационной выборке:\", best_result)\n",
    "print(\"Max_depth наилучшей модели на валидационной выборке:\",best_depth)"
   ]
  },
  {
   "cell_type": "markdown",
   "metadata": {},
   "source": [
    "\n",
    "**Min_samples_leaf (от англ. «минимальное количество объектов в листе»). Листья — это нижние узлы с ответами. А гиперпараметр не разрешает создавать лист, в котором слишком мало объектов обучающей выборки. Создадим цикл по количетству объектов в узле и узнаем какой из них дает лучшие показатели модели** "
   ]
  },
  {
   "cell_type": "code",
   "execution_count": 138,
   "metadata": {},
   "outputs": [
    {
     "name": "stdout",
     "output_type": "stream",
     "text": [
      "Accuracy наилучшей модели на валидационной выборке: 0.8009331259720062\n",
      "Min_samples_leaf наилучшей модели на валидационной выборке: 3\n"
     ]
    }
   ],
   "source": [
    "from sklearn.tree import DecisionTreeClassifier\n",
    "from sklearn.metrics import accuracy_score\n",
    "\n",
    "features_train = data_train.drop(['is_ultra'], axis=1) # Сохранение признаков модели\n",
    "target_train = data_train['is_ultra'] # Сохранение целевого признака\n",
    "features_valid = data_valid.drop(['is_ultra'], axis=1)\n",
    "target_valid = data_valid['is_ultra'] \n",
    "best_model = None\n",
    "best_result = 0\n",
    "best_leath = 0\n",
    "for leaf in range(1,10):\n",
    "    model = DecisionTreeClassifier(random_state=12345, max_depth=7, min_samples_leaf = leaf)\n",
    "    model.fit(features_train, target_train) \n",
    "    result = model.score(features_valid, target_valid) \n",
    "    if result > best_result:\n",
    "        best_model = model # сохранение наилучшей модели\n",
    "        best_result = result\n",
    "        best_leaf = leaf\n",
    "        \n",
    "print(\"Accuracy наилучшей модели на валидационной выборке:\", best_result)\n",
    "print(\"Min_samples_leaf наилучшей модели на валидационной выборке:\",best_leaf)"
   ]
  },
  {
   "cell_type": "markdown",
   "metadata": {},
   "source": [
    "**Сriterion='gini' — критерий Джини, который показывает меру сходства двух наборов данных. Обучаясь, дерево в каждом узле (на каждой развилке) из возможных вопросов задаёт наилучший. Сейчас оно выбирает тот вопрос, для которого критерий Джини показывает, что отнесённые к левой ветке данные меньше всего похожи на те, что в правой. Изменим критерий на 'entropy' и узнаем какой из них дает лучший результат** "
   ]
  },
  {
   "cell_type": "code",
   "execution_count": 139,
   "metadata": {},
   "outputs": [
    {
     "name": "stdout",
     "output_type": "stream",
     "text": [
      "Accuracy наилучшей модели на валидационной выборке: 0.8009331259720062\n",
      "Criterion наилучшей модели на валидационной выборке: gini\n"
     ]
    }
   ],
   "source": [
    "from sklearn.tree import DecisionTreeClassifier\n",
    "from sklearn.metrics import accuracy_score\n",
    "\n",
    "features_train = data_train.drop(['is_ultra'], axis=1) # Сохранение признаков модели\n",
    "target_train = data_train['is_ultra'] # Сохранение целевого признака\n",
    "features_valid = data_valid.drop(['is_ultra'], axis=1)\n",
    "target_valid = data_valid['is_ultra']\n",
    "\n",
    "best_model = None\n",
    "best_result = 0\n",
    "criterions = ['gini', 'entropy']\n",
    "for crit in criterions:\n",
    "    model = DecisionTreeClassifier(random_state=12345, criterion=crit,  max_depth=7, min_samples_leaf = 3)\n",
    "    model.fit(features_train, target_train) \n",
    "    result = model.score(features_valid, target_valid) \n",
    "    if result > best_result:\n",
    "        best_model = model # сохранение наилучшей модели\n",
    "        best_result = result\n",
    "        best_crit = crit\n",
    "        \n",
    "print(\"Accuracy наилучшей модели на валидационной выборке:\", best_result)\n",
    "print(\"Criterion наилучшей модели на валидационной выборке:\",best_crit)"
   ]
  },
  {
   "cell_type": "markdown",
   "metadata": {},
   "source": [
    "**Вывод:** Метод решающего дерева показал хороший результат на валидационной выборке, мы изменили 3 гиперпараметра для данной модели max_depth, criterion, min_samples_leaf и нам удалость достичь метрику accuracy 0.8009."
   ]
  },
  {
   "cell_type": "markdown",
   "metadata": {},
   "source": [
    "###  Модель \"Случайный лес\""
   ]
  },
  {
   "cell_type": "markdown",
   "metadata": {},
   "source": [
    "Попробуем новый алгоритм классификации — случайный лес (англ. random forest). Алгоритм обучает большое количество независимых друг от друга деревьев, а потом принимает решение на основе голосования. Случайный лес помогает улучшить результат предсказания и избежать переобучения."
   ]
  },
  {
   "cell_type": "code",
   "execution_count": 140,
   "metadata": {},
   "outputs": [
    {
     "name": "stdout",
     "output_type": "stream",
     "text": [
      "Accuracy наилучшей модели на валидационной выборке: 0.7869362363919129\n",
      "Best_est наилучшей модели на валидационной выборке: 8\n"
     ]
    }
   ],
   "source": [
    "from sklearn.ensemble import RandomForestClassifier\n",
    "\n",
    "features_train = data_train.drop(['is_ultra'], axis=1)\n",
    "target_train = data_train['is_ultra']\n",
    "features_valid = data_valid.drop(['is_ultra'], axis=1)\n",
    "target_valid = data_valid['is_ultra']\n",
    "\n",
    "best_model = None\n",
    "best_result = 0\n",
    "best_est=0\n",
    "for est in range(1, 11):\n",
    "    model = RandomForestClassifier(random_state=12345, n_estimators=est) # обучим модель с заданным количеством деревьев через цикл\n",
    "    model.fit(features_train, target_train) \n",
    "    result = model.score(features_valid, target_valid) \n",
    "    if result > best_result:\n",
    "        best_model = model # сохранение наилучшей модели\n",
    "        best_result = result\n",
    "        best_est=est\n",
    "print(\"Accuracy наилучшей модели на валидационной выборке:\", best_result)\n",
    "print(\"Best_est наилучшей модели на валидационной выборке:\", best_est)"
   ]
  },
  {
   "cell_type": "markdown",
   "metadata": {},
   "source": [
    "**Вывод:** В данном примере мы иследовали модель 'Случайный лес' изменняя гиперпараметр количества деревьев нам удалось достичь accuracy 0.7869, при этом показатель n_estimators составил 8."
   ]
  },
  {
   "cell_type": "markdown",
   "metadata": {},
   "source": [
    "### Логистическая регрессия"
   ]
  },
  {
   "cell_type": "code",
   "execution_count": 141,
   "metadata": {},
   "outputs": [
    {
     "name": "stdout",
     "output_type": "stream",
     "text": [
      "Accuracy модели логистической регрессии: 0.6842923794712286\n"
     ]
    }
   ],
   "source": [
    "from sklearn.linear_model import LogisticRegression \n",
    "\n",
    "features_train = data_train.drop(['is_ultra'], axis=1)\n",
    "target_train = data_train['is_ultra']\n",
    "features_valid = data_valid.drop(['is_ultra'], axis=1)\n",
    "target_valid = data_valid['is_ultra']\n",
    "\n",
    "model = LogisticRegression(random_state=12345, solver='lbfgs', max_iter=1000)\n",
    "model.fit(features_train, target_train)\n",
    "predictions_valid = model.predict(features_valid)\n",
    "        \n",
    "print(\"Accuracy модели логистической регрессии:\", accuracy_score(target_valid, predictions_valid)) "
   ]
  },
  {
   "cell_type": "markdown",
   "metadata": {},
   "source": [
    "**Вывод:** При логистической регрессии accuracy составило 0.6842, при этом измення число итераций не удается добиться болшей точности модели."
   ]
  },
  {
   "cell_type": "markdown",
   "metadata": {},
   "source": [
    "### Обший вывод"
   ]
  },
  {
   "cell_type": "markdown",
   "metadata": {},
   "source": [
    "Среди всех трех расмотренных моделей наилучший показатель показала модель DecisionTreeClassifier, на втором месте идет RandomForestClassifier и замыкает тройку LogisticRegression. Можно также заметить, что на параметрах по умолчанию модель решающего дерева дает показатели на валидационной выборке лучше, чем остальные. Изменив гиперпараметры модели удалось достичь максимального accuracy 0.8009. Также можно отметить, что скорость модели решающего дерева также обладает хорошим преимуществом."
   ]
  },
  {
   "cell_type": "markdown",
   "metadata": {},
   "source": [
    "## Проверьте модель на тестовой выборке"
   ]
  },
  {
   "cell_type": "markdown",
   "metadata": {},
   "source": [
    "Т.к. наилучший показатель показало решающее дерево, то проверим модель на тестовой выборке и убедимся в том, что модель работает хорошо.\n"
   ]
  },
  {
   "cell_type": "code",
   "execution_count": 142,
   "metadata": {},
   "outputs": [
    {
     "name": "stdout",
     "output_type": "stream",
     "text": [
      "Accuracy модели на тестовой выборке: 0.7791601866251944\n"
     ]
    }
   ],
   "source": [
    "from sklearn.tree import DecisionTreeClassifier\n",
    "from sklearn.metrics import accuracy_score\n",
    "\n",
    "features_train = data_train.drop(['is_ultra'], axis=1) # Сохранение признаков модели\n",
    "target_train = data_train['is_ultra'] # Сохранение целевого признака\n",
    "features_test = data_test.drop(['is_ultra'], axis=1)\n",
    "target_test = data_test['is_ultra']\n",
    "\n",
    "model = DecisionTreeClassifier(random_state=12345, criterion='gini',  max_depth=7, min_samples_leaf = 3)\n",
    "model.fit(features_train, target_train) \n",
    "result = model.score(features_test, target_test) \n",
    "    \n",
    "print(\"Accuracy модели на тестовой выборке:\", result)"
   ]
  },
  {
   "cell_type": "markdown",
   "metadata": {},
   "source": [
    "**Вывод:** Как мы видим на тестовой выборке решающее дерево показало accuracy 0.7791, что выходит из нижнего предел нашего задания. По этой причине, можно считать модель отвечает нашим требованиям и может использоваться компанией для рекомендации тарифа пользователю на основании его данных"
   ]
  }
 ],
 "metadata": {
  "ExecuteTimeLog": [
   {
    "duration": 141,
    "start_time": "2023-05-12T12:26:22.928Z"
   },
   {
    "duration": 640,
    "start_time": "2023-05-12T12:26:58.239Z"
   },
   {
    "duration": 48,
    "start_time": "2023-05-12T12:28:09.741Z"
   },
   {
    "duration": 17,
    "start_time": "2023-05-12T12:28:33.813Z"
   },
   {
    "duration": 27,
    "start_time": "2023-05-12T12:28:48.762Z"
   },
   {
    "duration": 8,
    "start_time": "2023-05-12T12:29:22.013Z"
   },
   {
    "duration": 977,
    "start_time": "2023-05-16T09:57:57.762Z"
   },
   {
    "duration": 281,
    "start_time": "2023-05-16T09:58:01.762Z"
   },
   {
    "duration": 12,
    "start_time": "2023-05-16T09:58:02.160Z"
   },
   {
    "duration": 5,
    "start_time": "2023-05-16T09:58:03.760Z"
   },
   {
    "duration": 8,
    "start_time": "2023-05-16T09:59:03.968Z"
   },
   {
    "duration": 4,
    "start_time": "2023-05-16T09:59:22.357Z"
   },
   {
    "duration": 24,
    "start_time": "2023-05-16T09:59:48.112Z"
   },
   {
    "duration": 6,
    "start_time": "2023-05-16T09:59:50.628Z"
   },
   {
    "duration": 4,
    "start_time": "2023-05-16T09:59:50.991Z"
   },
   {
    "duration": 4,
    "start_time": "2023-05-16T09:59:56.991Z"
   },
   {
    "duration": 7,
    "start_time": "2023-05-16T10:00:53.292Z"
   },
   {
    "duration": 2,
    "start_time": "2023-05-16T10:01:17.494Z"
   },
   {
    "duration": 4,
    "start_time": "2023-05-16T10:01:29.413Z"
   },
   {
    "duration": 4,
    "start_time": "2023-05-16T10:01:43.959Z"
   },
   {
    "duration": 3,
    "start_time": "2023-05-16T10:01:58.951Z"
   },
   {
    "duration": 10,
    "start_time": "2023-05-16T10:25:36.310Z"
   },
   {
    "duration": 7,
    "start_time": "2023-05-16T10:27:08.146Z"
   },
   {
    "duration": 11,
    "start_time": "2023-05-16T10:27:44.282Z"
   },
   {
    "duration": 6,
    "start_time": "2023-05-16T10:28:00.308Z"
   },
   {
    "duration": 47,
    "start_time": "2023-05-16T10:32:51.013Z"
   },
   {
    "duration": 35,
    "start_time": "2023-05-16T10:33:42.414Z"
   },
   {
    "duration": 90,
    "start_time": "2023-05-16T10:33:59.792Z"
   },
   {
    "duration": 274,
    "start_time": "2023-05-16T10:36:29.002Z"
   },
   {
    "duration": 16,
    "start_time": "2023-05-16T10:38:22.899Z"
   },
   {
    "duration": 10,
    "start_time": "2023-05-16T10:40:14.951Z"
   },
   {
    "duration": 55,
    "start_time": "2023-05-16T10:44:48.958Z"
   },
   {
    "duration": 26,
    "start_time": "2023-05-16T10:45:40.958Z"
   },
   {
    "duration": 25,
    "start_time": "2023-05-16T10:45:44.526Z"
   },
   {
    "duration": 25,
    "start_time": "2023-05-16T10:46:16.698Z"
   },
   {
    "duration": 27,
    "start_time": "2023-05-16T10:46:26.726Z"
   },
   {
    "duration": 70,
    "start_time": "2023-05-16T10:47:09.864Z"
   },
   {
    "duration": 68,
    "start_time": "2023-05-16T10:47:14.690Z"
   },
   {
    "duration": 118,
    "start_time": "2023-05-16T10:47:18.505Z"
   },
   {
    "duration": 37,
    "start_time": "2023-05-16T10:47:23.006Z"
   },
   {
    "duration": 42,
    "start_time": "2023-05-16T10:48:10.159Z"
   },
   {
    "duration": 67,
    "start_time": "2023-05-16T10:48:28.655Z"
   },
   {
    "duration": 264,
    "start_time": "2023-05-16T10:48:29.164Z"
   },
   {
    "duration": 27,
    "start_time": "2023-05-16T10:48:31.126Z"
   },
   {
    "duration": 31,
    "start_time": "2023-05-16T10:49:34.656Z"
   },
   {
    "duration": 286,
    "start_time": "2023-05-16T10:50:03.010Z"
   },
   {
    "duration": 0,
    "start_time": "2023-05-16T10:54:17.933Z"
   },
   {
    "duration": 0,
    "start_time": "2023-05-16T10:54:17.935Z"
   },
   {
    "duration": 0,
    "start_time": "2023-05-16T10:54:17.937Z"
   },
   {
    "duration": 0,
    "start_time": "2023-05-16T10:54:17.938Z"
   },
   {
    "duration": 0,
    "start_time": "2023-05-16T10:54:17.939Z"
   },
   {
    "duration": 0,
    "start_time": "2023-05-16T10:54:17.940Z"
   },
   {
    "duration": 0,
    "start_time": "2023-05-16T10:54:17.941Z"
   },
   {
    "duration": 0,
    "start_time": "2023-05-16T10:54:17.942Z"
   },
   {
    "duration": 3,
    "start_time": "2023-05-16T10:54:46.674Z"
   },
   {
    "duration": 44,
    "start_time": "2023-05-16T10:54:49.990Z"
   },
   {
    "duration": 10,
    "start_time": "2023-05-16T10:54:50.455Z"
   },
   {
    "duration": 6,
    "start_time": "2023-05-16T10:54:50.714Z"
   },
   {
    "duration": 6,
    "start_time": "2023-05-16T10:54:51.418Z"
   },
   {
    "duration": 3,
    "start_time": "2023-05-16T10:54:51.558Z"
   },
   {
    "duration": 71,
    "start_time": "2023-05-16T10:54:52.282Z"
   },
   {
    "duration": 271,
    "start_time": "2023-05-16T10:54:53.154Z"
   },
   {
    "duration": 0,
    "start_time": "2023-05-16T10:56:31.501Z"
   },
   {
    "duration": 0,
    "start_time": "2023-05-16T10:56:31.503Z"
   },
   {
    "duration": 0,
    "start_time": "2023-05-16T10:56:31.504Z"
   },
   {
    "duration": 103,
    "start_time": "2023-05-16T10:59:11.323Z"
   },
   {
    "duration": 385,
    "start_time": "2023-05-16T10:59:12.902Z"
   },
   {
    "duration": 37,
    "start_time": "2023-05-16T11:01:04.631Z"
   },
   {
    "duration": 11,
    "start_time": "2023-05-16T11:01:04.701Z"
   },
   {
    "duration": 6,
    "start_time": "2023-05-16T11:01:04.764Z"
   },
   {
    "duration": 17,
    "start_time": "2023-05-16T11:01:04.772Z"
   },
   {
    "duration": 24,
    "start_time": "2023-05-16T11:01:04.790Z"
   },
   {
    "duration": 90,
    "start_time": "2023-05-16T11:01:04.816Z"
   },
   {
    "duration": 319,
    "start_time": "2023-05-16T11:01:04.908Z"
   },
   {
    "duration": 30,
    "start_time": "2023-05-16T11:01:05.229Z"
   },
   {
    "duration": 29,
    "start_time": "2023-05-16T11:01:21.991Z"
   },
   {
    "duration": 30,
    "start_time": "2023-05-16T11:01:26.613Z"
   },
   {
    "duration": 30,
    "start_time": "2023-05-16T11:01:29.886Z"
   },
   {
    "duration": 32,
    "start_time": "2023-05-16T11:02:17.108Z"
   },
   {
    "duration": 27,
    "start_time": "2023-05-16T11:02:21.787Z"
   },
   {
    "duration": 67,
    "start_time": "2023-05-16T11:06:58.612Z"
   },
   {
    "duration": 74,
    "start_time": "2023-05-16T11:07:10.002Z"
   },
   {
    "duration": 271,
    "start_time": "2023-05-16T11:07:11.858Z"
   },
   {
    "duration": 29,
    "start_time": "2023-05-16T11:07:14.994Z"
   },
   {
    "duration": 70,
    "start_time": "2023-05-16T11:16:17.890Z"
   },
   {
    "duration": 71,
    "start_time": "2023-05-16T11:16:36.102Z"
   },
   {
    "duration": 70,
    "start_time": "2023-05-16T11:16:52.414Z"
   },
   {
    "duration": 78,
    "start_time": "2023-05-16T11:16:55.752Z"
   },
   {
    "duration": 78,
    "start_time": "2023-05-16T11:17:52.313Z"
   },
   {
    "duration": 14,
    "start_time": "2023-05-16T11:19:20.602Z"
   },
   {
    "duration": 19,
    "start_time": "2023-05-16T11:19:30.927Z"
   },
   {
    "duration": 21,
    "start_time": "2023-05-16T11:20:24.840Z"
   },
   {
    "duration": 40,
    "start_time": "2023-05-16T11:20:32.017Z"
   },
   {
    "duration": 70,
    "start_time": "2023-05-16T11:20:40.159Z"
   },
   {
    "duration": 103,
    "start_time": "2023-05-16T11:22:12.859Z"
   },
   {
    "duration": 31,
    "start_time": "2023-05-16T11:24:37.047Z"
   },
   {
    "duration": 45,
    "start_time": "2023-05-16T11:25:05.211Z"
   },
   {
    "duration": 24,
    "start_time": "2023-05-16T11:25:16.762Z"
   },
   {
    "duration": 104,
    "start_time": "2023-05-16T11:25:59.498Z"
   },
   {
    "duration": 88,
    "start_time": "2023-05-16T11:26:07.307Z"
   },
   {
    "duration": 76,
    "start_time": "2023-05-16T11:26:26.856Z"
   },
   {
    "duration": 37,
    "start_time": "2023-05-16T11:27:41.656Z"
   },
   {
    "duration": 15,
    "start_time": "2023-05-16T11:27:41.821Z"
   },
   {
    "duration": 7,
    "start_time": "2023-05-16T11:27:42.019Z"
   },
   {
    "duration": 8,
    "start_time": "2023-05-16T11:27:42.756Z"
   },
   {
    "duration": 4,
    "start_time": "2023-05-16T11:27:42.955Z"
   },
   {
    "duration": 65,
    "start_time": "2023-05-16T11:27:43.794Z"
   },
   {
    "duration": 74,
    "start_time": "2023-05-16T11:27:44.223Z"
   },
   {
    "duration": 25,
    "start_time": "2023-05-16T11:27:44.648Z"
   },
   {
    "duration": 271,
    "start_time": "2023-05-16T11:27:45.350Z"
   },
   {
    "duration": 29,
    "start_time": "2023-05-16T11:27:45.915Z"
   },
   {
    "duration": 75,
    "start_time": "2023-05-16T11:28:21.595Z"
   },
   {
    "duration": 75,
    "start_time": "2023-05-16T11:28:36.583Z"
   },
   {
    "duration": 37,
    "start_time": "2023-05-16T11:28:46.666Z"
   },
   {
    "duration": 10,
    "start_time": "2023-05-16T11:28:46.954Z"
   },
   {
    "duration": 6,
    "start_time": "2023-05-16T11:28:47.215Z"
   },
   {
    "duration": 6,
    "start_time": "2023-05-16T11:28:48.459Z"
   },
   {
    "duration": 3,
    "start_time": "2023-05-16T11:28:48.746Z"
   },
   {
    "duration": 62,
    "start_time": "2023-05-16T11:28:50.691Z"
   },
   {
    "duration": 69,
    "start_time": "2023-05-16T11:28:51.120Z"
   },
   {
    "duration": 25,
    "start_time": "2023-05-16T11:28:51.556Z"
   },
   {
    "duration": 273,
    "start_time": "2023-05-16T11:28:52.608Z"
   },
   {
    "duration": 26,
    "start_time": "2023-05-16T11:28:52.884Z"
   },
   {
    "duration": 24,
    "start_time": "2023-05-16T11:35:43.811Z"
   },
   {
    "duration": 267,
    "start_time": "2023-05-16T11:39:50.170Z"
   },
   {
    "duration": 41,
    "start_time": "2023-05-16T11:43:31.772Z"
   },
   {
    "duration": 31,
    "start_time": "2023-05-16T11:43:37.884Z"
   },
   {
    "duration": 27,
    "start_time": "2023-05-16T11:43:41.197Z"
   },
   {
    "duration": 39,
    "start_time": "2023-05-16T11:48:55.163Z"
   },
   {
    "duration": 14,
    "start_time": "2023-05-16T11:48:55.399Z"
   },
   {
    "duration": 8,
    "start_time": "2023-05-16T11:48:55.604Z"
   },
   {
    "duration": 8,
    "start_time": "2023-05-16T11:48:56.499Z"
   },
   {
    "duration": 3,
    "start_time": "2023-05-16T11:48:56.700Z"
   },
   {
    "duration": 81,
    "start_time": "2023-05-16T11:48:57.612Z"
   },
   {
    "duration": 74,
    "start_time": "2023-05-16T11:48:58.067Z"
   },
   {
    "duration": 24,
    "start_time": "2023-05-16T11:48:58.453Z"
   },
   {
    "duration": 262,
    "start_time": "2023-05-16T11:48:59.083Z"
   },
   {
    "duration": 40,
    "start_time": "2023-05-16T11:48:59.611Z"
   },
   {
    "duration": 18,
    "start_time": "2023-05-16T11:52:39.055Z"
   },
   {
    "duration": 18,
    "start_time": "2023-05-16T11:53:03.754Z"
   },
   {
    "duration": 39,
    "start_time": "2023-05-16T12:01:50.312Z"
   },
   {
    "duration": 11,
    "start_time": "2023-05-16T12:01:50.507Z"
   },
   {
    "duration": 6,
    "start_time": "2023-05-16T12:01:50.738Z"
   },
   {
    "duration": 6,
    "start_time": "2023-05-16T12:01:51.724Z"
   },
   {
    "duration": 3,
    "start_time": "2023-05-16T12:01:51.904Z"
   },
   {
    "duration": 62,
    "start_time": "2023-05-16T12:01:53.188Z"
   },
   {
    "duration": 70,
    "start_time": "2023-05-16T12:01:53.596Z"
   },
   {
    "duration": 32,
    "start_time": "2023-05-16T12:01:53.968Z"
   },
   {
    "duration": 298,
    "start_time": "2023-05-16T12:01:54.989Z"
   },
   {
    "duration": 29,
    "start_time": "2023-05-16T12:01:55.668Z"
   },
   {
    "duration": 16,
    "start_time": "2023-05-16T12:01:57.220Z"
   }
  ],
  "kernelspec": {
   "display_name": "Python 3 (ipykernel)",
   "language": "python",
   "name": "python3"
  },
  "language_info": {
   "codemirror_mode": {
    "name": "ipython",
    "version": 3
   },
   "file_extension": ".py",
   "mimetype": "text/x-python",
   "name": "python",
   "nbconvert_exporter": "python",
   "pygments_lexer": "ipython3",
   "version": "3.9.5"
  },
  "toc": {
   "base_numbering": 1,
   "nav_menu": {},
   "number_sections": true,
   "sideBar": true,
   "skip_h1_title": true,
   "title_cell": "Table of Contents",
   "title_sidebar": "Contents",
   "toc_cell": false,
   "toc_position": {},
   "toc_section_display": true,
   "toc_window_display": false
  }
 },
 "nbformat": 4,
 "nbformat_minor": 2
}
