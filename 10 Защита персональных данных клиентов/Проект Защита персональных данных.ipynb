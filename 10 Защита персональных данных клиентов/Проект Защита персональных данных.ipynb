{
 "cells": [
  {
   "cell_type": "markdown",
   "metadata": {
    "toc": true
   },
   "source": [
    "<h1>Содержание<span class=\"tocSkip\"></span></h1>\n",
    "<div class=\"toc\"><ul class=\"toc-item\"><li><span><a href=\"#Загрузка-данных\" data-toc-modified-id=\"Загрузка-данных-1\"><span class=\"toc-item-num\">1&nbsp;&nbsp;</span>Загрузка данных</a></span></li><li><span><a href=\"#Умножение-матриц\" data-toc-modified-id=\"Умножение-матриц-2\"><span class=\"toc-item-num\">2&nbsp;&nbsp;</span>Умножение матриц</a></span></li><li><span><a href=\"#Алгоритм-преобразования\" data-toc-modified-id=\"Алгоритм-преобразования-3\"><span class=\"toc-item-num\">3&nbsp;&nbsp;</span>Алгоритм преобразования</a></span></li><li><span><a href=\"#Проверка-алгоритма\" data-toc-modified-id=\"Проверка-алгоритма-4\"><span class=\"toc-item-num\">4&nbsp;&nbsp;</span>Проверка алгоритма</a></span></li><li><span><a href=\"#Заключение\" data-toc-modified-id=\"Заключение-5\"><span class=\"toc-item-num\">5&nbsp;&nbsp;</span>Заключение</a></span></li><li><span><a href=\"#Чек-лист-проверки\" data-toc-modified-id=\"Чек-лист-проверки-6\"><span class=\"toc-item-num\">6&nbsp;&nbsp;</span>Чек-лист проверки</a></span></li></ul></div>"
   ]
  },
  {
   "cell_type": "markdown",
   "metadata": {},
   "source": [
    "# Защита персональных данных клиентов"
   ]
  },
  {
   "cell_type": "markdown",
   "metadata": {},
   "source": [
    "Вам нужно защитить данные клиентов страховой компании «Хоть потоп». Разработайте такой метод преобразования данных, чтобы по ним было сложно восстановить персональную информацию. Обоснуйте корректность его работы.\n",
    "\n",
    "Нужно защитить данные, чтобы при преобразовании качество моделей машинного обучения не ухудшилось. Подбирать наилучшую модель не требуется."
   ]
  },
  {
   "cell_type": "markdown",
   "metadata": {},
   "source": [
    "## Загрузка данных"
   ]
  },
  {
   "cell_type": "code",
   "execution_count": 1,
   "metadata": {},
   "outputs": [],
   "source": [
    "# для анализа данных\n",
    "import numpy as np\n",
    "import pandas as pd\n",
    "import matplotlib.pyplot as plt\n",
    "\n",
    "#машинное обучение\n",
    "from sklearn.linear_model import LinearRegression\n",
    "from sklearn.model_selection import train_test_split\n",
    "\n",
    "# метрики\n",
    "from sklearn.metrics import r2_score"
   ]
  },
  {
   "cell_type": "code",
   "execution_count": 2,
   "metadata": {},
   "outputs": [],
   "source": [
    "# Загрузка данных\n",
    "data = pd.read_csv('/datasets/insurance.csv')"
   ]
  },
  {
   "cell_type": "code",
   "execution_count": 3,
   "metadata": {},
   "outputs": [],
   "source": [
    "# Созадим функцию для анализа \n",
    "def analysis(data):\n",
    "    print(100*'-')\n",
    "    print('Общая информамия:')\n",
    "    print(data.info())\n",
    "    \n",
    "    print(100*'-')\n",
    "    print('Первые 5 строк')\n",
    "    display(data.head(5))\n",
    "    \n",
    "    print(100*'-')\n",
    "    print('Количество пропусков')\n",
    "    print(data.isnull().sum())\n",
    "    \n",
    "    print(100*'-')\n",
    "    print('Количество дубликатов:')\n",
    "    display(data.duplicated().sum())\n",
    "    \n",
    "    print(100*'-')\n",
    "    print('Статистические данные')\n",
    "    display(data.describe())\n",
    "    \n",
    "    print(100*'-')\n",
    "    print('Общиегистограммы')\n",
    "    data.hist(figsize = (10, 10))\n",
    "    plt.show()"
   ]
  },
  {
   "cell_type": "code",
   "execution_count": 4,
   "metadata": {},
   "outputs": [
    {
     "name": "stdout",
     "output_type": "stream",
     "text": [
      "----------------------------------------------------------------------------------------------------\n",
      "Общая информамия:\n",
      "<class 'pandas.core.frame.DataFrame'>\n",
      "RangeIndex: 5000 entries, 0 to 4999\n",
      "Data columns (total 5 columns):\n",
      " #   Column             Non-Null Count  Dtype  \n",
      "---  ------             --------------  -----  \n",
      " 0   Пол                5000 non-null   int64  \n",
      " 1   Возраст            5000 non-null   float64\n",
      " 2   Зарплата           5000 non-null   float64\n",
      " 3   Члены семьи        5000 non-null   int64  \n",
      " 4   Страховые выплаты  5000 non-null   int64  \n",
      "dtypes: float64(2), int64(3)\n",
      "memory usage: 195.4 KB\n",
      "None\n",
      "----------------------------------------------------------------------------------------------------\n",
      "Первые 5 строк\n"
     ]
    },
    {
     "data": {
      "text/html": [
       "<div>\n",
       "<style scoped>\n",
       "    .dataframe tbody tr th:only-of-type {\n",
       "        vertical-align: middle;\n",
       "    }\n",
       "\n",
       "    .dataframe tbody tr th {\n",
       "        vertical-align: top;\n",
       "    }\n",
       "\n",
       "    .dataframe thead th {\n",
       "        text-align: right;\n",
       "    }\n",
       "</style>\n",
       "<table border=\"1\" class=\"dataframe\">\n",
       "  <thead>\n",
       "    <tr style=\"text-align: right;\">\n",
       "      <th></th>\n",
       "      <th>Пол</th>\n",
       "      <th>Возраст</th>\n",
       "      <th>Зарплата</th>\n",
       "      <th>Члены семьи</th>\n",
       "      <th>Страховые выплаты</th>\n",
       "    </tr>\n",
       "  </thead>\n",
       "  <tbody>\n",
       "    <tr>\n",
       "      <th>0</th>\n",
       "      <td>1</td>\n",
       "      <td>41.0</td>\n",
       "      <td>49600.0</td>\n",
       "      <td>1</td>\n",
       "      <td>0</td>\n",
       "    </tr>\n",
       "    <tr>\n",
       "      <th>1</th>\n",
       "      <td>0</td>\n",
       "      <td>46.0</td>\n",
       "      <td>38000.0</td>\n",
       "      <td>1</td>\n",
       "      <td>1</td>\n",
       "    </tr>\n",
       "    <tr>\n",
       "      <th>2</th>\n",
       "      <td>0</td>\n",
       "      <td>29.0</td>\n",
       "      <td>21000.0</td>\n",
       "      <td>0</td>\n",
       "      <td>0</td>\n",
       "    </tr>\n",
       "    <tr>\n",
       "      <th>3</th>\n",
       "      <td>0</td>\n",
       "      <td>21.0</td>\n",
       "      <td>41700.0</td>\n",
       "      <td>2</td>\n",
       "      <td>0</td>\n",
       "    </tr>\n",
       "    <tr>\n",
       "      <th>4</th>\n",
       "      <td>1</td>\n",
       "      <td>28.0</td>\n",
       "      <td>26100.0</td>\n",
       "      <td>0</td>\n",
       "      <td>0</td>\n",
       "    </tr>\n",
       "  </tbody>\n",
       "</table>\n",
       "</div>"
      ],
      "text/plain": [
       "   Пол  Возраст  Зарплата  Члены семьи  Страховые выплаты\n",
       "0    1     41.0   49600.0            1                  0\n",
       "1    0     46.0   38000.0            1                  1\n",
       "2    0     29.0   21000.0            0                  0\n",
       "3    0     21.0   41700.0            2                  0\n",
       "4    1     28.0   26100.0            0                  0"
      ]
     },
     "metadata": {},
     "output_type": "display_data"
    },
    {
     "name": "stdout",
     "output_type": "stream",
     "text": [
      "----------------------------------------------------------------------------------------------------\n",
      "Количество пропусков\n",
      "Пол                  0\n",
      "Возраст              0\n",
      "Зарплата             0\n",
      "Члены семьи          0\n",
      "Страховые выплаты    0\n",
      "dtype: int64\n",
      "----------------------------------------------------------------------------------------------------\n",
      "Количество дубликатов:\n"
     ]
    },
    {
     "data": {
      "text/plain": [
       "153"
      ]
     },
     "metadata": {},
     "output_type": "display_data"
    },
    {
     "name": "stdout",
     "output_type": "stream",
     "text": [
      "----------------------------------------------------------------------------------------------------\n",
      "Статистические данные\n"
     ]
    },
    {
     "data": {
      "text/html": [
       "<div>\n",
       "<style scoped>\n",
       "    .dataframe tbody tr th:only-of-type {\n",
       "        vertical-align: middle;\n",
       "    }\n",
       "\n",
       "    .dataframe tbody tr th {\n",
       "        vertical-align: top;\n",
       "    }\n",
       "\n",
       "    .dataframe thead th {\n",
       "        text-align: right;\n",
       "    }\n",
       "</style>\n",
       "<table border=\"1\" class=\"dataframe\">\n",
       "  <thead>\n",
       "    <tr style=\"text-align: right;\">\n",
       "      <th></th>\n",
       "      <th>Пол</th>\n",
       "      <th>Возраст</th>\n",
       "      <th>Зарплата</th>\n",
       "      <th>Члены семьи</th>\n",
       "      <th>Страховые выплаты</th>\n",
       "    </tr>\n",
       "  </thead>\n",
       "  <tbody>\n",
       "    <tr>\n",
       "      <th>count</th>\n",
       "      <td>5000.000000</td>\n",
       "      <td>5000.000000</td>\n",
       "      <td>5000.000000</td>\n",
       "      <td>5000.000000</td>\n",
       "      <td>5000.000000</td>\n",
       "    </tr>\n",
       "    <tr>\n",
       "      <th>mean</th>\n",
       "      <td>0.499000</td>\n",
       "      <td>30.952800</td>\n",
       "      <td>39916.360000</td>\n",
       "      <td>1.194200</td>\n",
       "      <td>0.148000</td>\n",
       "    </tr>\n",
       "    <tr>\n",
       "      <th>std</th>\n",
       "      <td>0.500049</td>\n",
       "      <td>8.440807</td>\n",
       "      <td>9900.083569</td>\n",
       "      <td>1.091387</td>\n",
       "      <td>0.463183</td>\n",
       "    </tr>\n",
       "    <tr>\n",
       "      <th>min</th>\n",
       "      <td>0.000000</td>\n",
       "      <td>18.000000</td>\n",
       "      <td>5300.000000</td>\n",
       "      <td>0.000000</td>\n",
       "      <td>0.000000</td>\n",
       "    </tr>\n",
       "    <tr>\n",
       "      <th>25%</th>\n",
       "      <td>0.000000</td>\n",
       "      <td>24.000000</td>\n",
       "      <td>33300.000000</td>\n",
       "      <td>0.000000</td>\n",
       "      <td>0.000000</td>\n",
       "    </tr>\n",
       "    <tr>\n",
       "      <th>50%</th>\n",
       "      <td>0.000000</td>\n",
       "      <td>30.000000</td>\n",
       "      <td>40200.000000</td>\n",
       "      <td>1.000000</td>\n",
       "      <td>0.000000</td>\n",
       "    </tr>\n",
       "    <tr>\n",
       "      <th>75%</th>\n",
       "      <td>1.000000</td>\n",
       "      <td>37.000000</td>\n",
       "      <td>46600.000000</td>\n",
       "      <td>2.000000</td>\n",
       "      <td>0.000000</td>\n",
       "    </tr>\n",
       "    <tr>\n",
       "      <th>max</th>\n",
       "      <td>1.000000</td>\n",
       "      <td>65.000000</td>\n",
       "      <td>79000.000000</td>\n",
       "      <td>6.000000</td>\n",
       "      <td>5.000000</td>\n",
       "    </tr>\n",
       "  </tbody>\n",
       "</table>\n",
       "</div>"
      ],
      "text/plain": [
       "               Пол      Возраст      Зарплата  Члены семьи  Страховые выплаты\n",
       "count  5000.000000  5000.000000   5000.000000  5000.000000        5000.000000\n",
       "mean      0.499000    30.952800  39916.360000     1.194200           0.148000\n",
       "std       0.500049     8.440807   9900.083569     1.091387           0.463183\n",
       "min       0.000000    18.000000   5300.000000     0.000000           0.000000\n",
       "25%       0.000000    24.000000  33300.000000     0.000000           0.000000\n",
       "50%       0.000000    30.000000  40200.000000     1.000000           0.000000\n",
       "75%       1.000000    37.000000  46600.000000     2.000000           0.000000\n",
       "max       1.000000    65.000000  79000.000000     6.000000           5.000000"
      ]
     },
     "metadata": {},
     "output_type": "display_data"
    },
    {
     "name": "stdout",
     "output_type": "stream",
     "text": [
      "----------------------------------------------------------------------------------------------------\n",
      "Общиегистограммы\n"
     ]
    },
    {
     "data": {
      "image/png": "[encoded data removed]",
      "text/plain": [
       "<Figure size 720x720 with 6 Axes>"
      ]
     },
     "metadata": {
      "needs_background": "light"
     },
     "output_type": "display_data"
    }
   ],
   "source": [
    "analysis(data)"
   ]
  },
  {
   "cell_type": "markdown",
   "metadata": {},
   "source": [
    "Наш датасет состоит из 5 столбцов и 5000 строчек: \n",
    "- Признаки: пол, возраст и зарплата застрахованного, количество членов его семьи\n",
    "- Целевой признак: количество страховых выплат клиенту\n",
    "\n",
    "Как видим из данных у нас отсутствуют пропуска, но при этом имеется 153 явных дубликата. В целом данные на первый взгляд адекватные, для решения задач проект удалим дубликаты и поменяем формат ячеек на int."
   ]
  },
  {
   "cell_type": "code",
   "execution_count": 5,
   "metadata": {},
   "outputs": [
    {
     "data": {
      "text/plain": [
       "0"
      ]
     },
     "execution_count": 5,
     "metadata": {},
     "output_type": "execute_result"
    }
   ],
   "source": [
    "# Изменение формата\n",
    "data['Возраст'] = data['Возраст'].astype(int)\n",
    "data['Зарплата'] = data['Зарплата'].astype(int)\n",
    "# удаление дубликатов \n",
    "data.drop_duplicates(inplace=True)\n",
    "\n",
    "# проверка\n",
    "data.duplicated().sum()"
   ]
  },
  {
   "cell_type": "markdown",
   "metadata": {},
   "source": [
    "## Умножение матриц"
   ]
  },
  {
   "cell_type": "markdown",
   "metadata": {},
   "source": [
    "Обозначения:\n",
    "\n",
    "- $X$ — матрица признаков (нулевой столбец состоит из единиц)\n",
    "\n",
    "- $y$ — вектор целевого признака\n",
    "\n",
    "- $P$ — матрица, на которую умножаются признаки\n",
    "\n",
    "- $w$ — вектор весов линейной регрессии (нулевой элемент равен сдвигу)"
   ]
  },
  {
   "cell_type": "markdown",
   "metadata": {},
   "source": [
    "Предсказания:\n",
    "\n",
    "$$\n",
    "a = Xw\n",
    "$$\n",
    "\n",
    "Задача обучения:\n",
    "\n",
    "$$\n",
    "w = \\arg\\min_w MSE(Xw, y)\n",
    "$$\n",
    "\n",
    "Формула обучения:\n",
    "\n",
    "$$\n",
    "w = (X^T X)^{-1} X^T y\n",
    "$$"
   ]
  },
  {
   "cell_type": "markdown",
   "metadata": {},
   "source": [
    "**Доказательство** :\n",
    "\n",
    "Шифрование обратимой матрицей P\n",
    "\n",
    "$$\n",
    "a' = XPw'\n",
    "$$\n",
    "Формула для нового вектора весов линейной регрессии\n",
    "\n",
    "$$\n",
    "w' = ((XP)^T XP)^{-1} (XP)^T y\n",
    "$$\n",
    "\n",
    "Т.к. матрица P квадратная обратимая матрица размер которой равен ширине признаков Х:\n",
    "\n",
    "$$\n",
    "X' = XP\n",
    "$$\n",
    "\n",
    "Вынесем $P^{-1}$ за скобки:\n",
    "\n",
    "\n",
    "$$\n",
    "w' = P^{-1}((XP)^T X)^{-1} (XP)^T y\n",
    "$$\n",
    "\n",
    "Раскроем скобки:\n",
    "\n",
    "$$\n",
    "w' = P^{-1}(P^{T}X^{T} X)^{-1} P^{T} X^{T} y\n",
    "$$\n",
    "\n",
    "Вынесем $(P^{T})^{-1}$ за скобки:\n",
    "\n",
    "$$\n",
    "w' = P^{-1}(X^{T} X)^{-1} (P^{T})^{-1} P^{T} X^{T} y\n",
    "$$\n",
    "\n",
    "Сократим выражение:\n",
    "\n",
    "$$\n",
    "w' = P^{-1} (X^{T} X)^{-1} X^{T} y\n",
    "$$\n",
    "\n",
    "Заметим, что левая часть формулы равняется w\n",
    "\n",
    "$$\n",
    "w' = P^{-1} w\n",
    "$$\n",
    "\n",
    "Подставим ее в новое предсказание: \n",
    "\n",
    "$$\n",
    "a' = XP P^{-1} w\n",
    "$$\n",
    "\n",
    "Сократим выражение \n",
    "\n",
    "$$\n",
    "a' = X w\n",
    "$$\n",
    "\n",
    "Отсюда следует, что: \n",
    "$$\n",
    "a' = a\n",
    "$$\n"
   ]
  },
  {
   "cell_type": "markdown",
   "metadata": {},
   "source": [
    "**Ответ:** Если признаки умножить на обратимую матрицу, то качество линейной регрессии не измненится.\n"
   ]
  },
  {
   "cell_type": "markdown",
   "metadata": {},
   "source": [
    "## Алгоритм преобразования"
   ]
  },
  {
   "cell_type": "markdown",
   "metadata": {},
   "source": [
    "**Алгоритм**\n",
    "\n",
    "Для начала разделим исходную датасает на обучающую и тестовую выборку и определим полученное значени метрики R2."
   ]
  },
  {
   "cell_type": "code",
   "execution_count": 6,
   "metadata": {},
   "outputs": [
    {
     "name": "stdout",
     "output_type": "stream",
     "text": [
      "Метрика R2 для нешифрованной матрицы: 0.42307727615837565\n"
     ]
    }
   ],
   "source": [
    "# выделим признаки и целевое значение\n",
    "features = data.drop('Страховые выплаты',axis=1)\n",
    "target = data['Страховые выплаты']\n",
    "\n",
    "# деление на выборки\n",
    "features_train, features_test, target_train, target_test = train_test_split(\n",
    "    features, target, test_size=0.25, random_state=12345)\n",
    "\n",
    "model = LinearRegression()\n",
    "model.fit(features_train, target_train)\n",
    "predictions = model.predict(features_test)\n",
    "\n",
    "r2_source = r2_score(target_test, predictions)\n",
    "print('Метрика R2 для нешифрованной матрицы:', r2_source)"
   ]
  },
  {
   "cell_type": "markdown",
   "metadata": {},
   "source": [
    "Далее необходимо написать функцию, которая будет генерировать обратимую матрицу и скалярно умножать признаки на данное значение. Необходимо также проводить проверку сгенерированной матрицы на обратимость (определитель не должен быть ноль).\n"
   ]
  },
  {
   "cell_type": "code",
   "execution_count": 7,
   "metadata": {},
   "outputs": [],
   "source": [
    "def crypt_matrix(features):\n",
    "    det = 0\n",
    "    while det == 0:\n",
    "        matrix = np.random.randint(1, 10, (features.shape[1], features.shape[1]))\n",
    "        det = np.linalg.det(matrix)\n",
    "        features_cript = features @ matrix\n",
    "    return matrix, features_cript"
   ]
  },
  {
   "cell_type": "code",
   "execution_count": 8,
   "metadata": {
    "scrolled": true
   },
   "outputs": [
    {
     "name": "stdout",
     "output_type": "stream",
     "text": [
      "Полученная обратимая матрица для шифрования\n",
      "[[9 6 5 5]\n",
      " [3 8 1 6]\n",
      " [7 4 1 2]\n",
      " [6 9 2 2]]\n",
      "Полученные признаки шифрования\n",
      "           0       1      2       3\n",
      "0     347338  198743  49648   99453\n",
      "1     266144  152377  38048   76278\n",
      "2     147087   84232  21029   42174\n",
      "3     291975  166986  41725   83530\n",
      "4     182793  104630  26133   52373\n",
      "...      ...     ...    ...     ...\n",
      "4995  249996  143042  35732   71572\n",
      "4996  366908  209881  52436  105006\n",
      "4997  237372  135778  33924   67924\n",
      "4998  228993  131009  32733   65543\n",
      "4999  284299  162639  40635   81375\n",
      "\n",
      "[4847 rows x 4 columns]\n"
     ]
    }
   ],
   "source": [
    "matrix, features_cript = crypt_matrix(features)\n",
    "print('Полученная обратимая матрица для шифрования')\n",
    "print(matrix)\n",
    "\n",
    "print('Полученные признаки шифрования')\n",
    "print(features_cript)"
   ]
  },
  {
   "cell_type": "markdown",
   "metadata": {},
   "source": [
    "Рассчитаем метрику R2 score на шифрованных данных:"
   ]
  },
  {
   "cell_type": "code",
   "execution_count": 9,
   "metadata": {},
   "outputs": [
    {
     "name": "stdout",
     "output_type": "stream",
     "text": [
      "Метрика R2 для нешифрованной матрицы: 0.42307727615837565\n"
     ]
    }
   ],
   "source": [
    "features_train_cript, features_test_cript, target_train_cript, target_test_cript = train_test_split(\n",
    "    features_cript, target, test_size=0.25, random_state=12345)\n",
    "\n",
    "model_cript = LinearRegression()\n",
    "model_cript.fit(features_train_cript, target_train_cript)\n",
    "predictions_cript = model_cript.predict(features_test_cript)\n",
    "\n",
    "r2_source_cript = r2_score(target_test_cript, predictions_cript)\n",
    "print('Метрика R2 для нешифрованной матрицы:', r2_source_cript)"
   ]
  },
  {
   "cell_type": "markdown",
   "metadata": {},
   "source": [
    "Рассчитаем разницу метрик R2:"
   ]
  },
  {
   "cell_type": "code",
   "execution_count": 10,
   "metadata": {},
   "outputs": [
    {
     "data": {
      "text/plain": [
       "0.0"
      ]
     },
     "execution_count": 10,
     "metadata": {},
     "output_type": "execute_result"
    }
   ],
   "source": [
    "np.abs(r2_source_cript-r2_source)"
   ]
  },
  {
   "cell_type": "markdown",
   "metadata": {},
   "source": [
    "**Вывод**\n",
    "\n",
    "Мы создали алгоритм преобразования таблиц для защиты персональных данных. Как видно даже после обучения на шифрованных данных заметно почти точь в точь одинаковая метрика R2 , поэтому можно считать, что данный алгоритм рабочий."
   ]
  },
  {
   "cell_type": "markdown",
   "metadata": {},
   "source": [
    "## Проверка алгоритма"
   ]
  },
  {
   "cell_type": "markdown",
   "metadata": {},
   "source": [
    "Попробуем восстановить наши шифрованные данные умножением их на обртаную матрицу."
   ]
  },
  {
   "cell_type": "code",
   "execution_count": 11,
   "metadata": {},
   "outputs": [
    {
     "data": {
      "text/html": [
       "<div>\n",
       "<style scoped>\n",
       "    .dataframe tbody tr th:only-of-type {\n",
       "        vertical-align: middle;\n",
       "    }\n",
       "\n",
       "    .dataframe tbody tr th {\n",
       "        vertical-align: top;\n",
       "    }\n",
       "\n",
       "    .dataframe thead th {\n",
       "        text-align: right;\n",
       "    }\n",
       "</style>\n",
       "<table border=\"1\" class=\"dataframe\">\n",
       "  <thead>\n",
       "    <tr style=\"text-align: right;\">\n",
       "      <th></th>\n",
       "      <th>0</th>\n",
       "      <th>1</th>\n",
       "      <th>2</th>\n",
       "      <th>3</th>\n",
       "    </tr>\n",
       "  </thead>\n",
       "  <tbody>\n",
       "    <tr>\n",
       "      <th>0</th>\n",
       "      <td>0</td>\n",
       "      <td>40</td>\n",
       "      <td>49600</td>\n",
       "      <td>0</td>\n",
       "    </tr>\n",
       "    <tr>\n",
       "      <th>1</th>\n",
       "      <td>0</td>\n",
       "      <td>45</td>\n",
       "      <td>38000</td>\n",
       "      <td>0</td>\n",
       "    </tr>\n",
       "    <tr>\n",
       "      <th>2</th>\n",
       "      <td>0</td>\n",
       "      <td>28</td>\n",
       "      <td>21000</td>\n",
       "      <td>0</td>\n",
       "    </tr>\n",
       "    <tr>\n",
       "      <th>3</th>\n",
       "      <td>0</td>\n",
       "      <td>20</td>\n",
       "      <td>41700</td>\n",
       "      <td>1</td>\n",
       "    </tr>\n",
       "    <tr>\n",
       "      <th>4</th>\n",
       "      <td>1</td>\n",
       "      <td>28</td>\n",
       "      <td>26100</td>\n",
       "      <td>0</td>\n",
       "    </tr>\n",
       "    <tr>\n",
       "      <th>5</th>\n",
       "      <td>1</td>\n",
       "      <td>42</td>\n",
       "      <td>41000</td>\n",
       "      <td>1</td>\n",
       "    </tr>\n",
       "    <tr>\n",
       "      <th>6</th>\n",
       "      <td>1</td>\n",
       "      <td>38</td>\n",
       "      <td>39700</td>\n",
       "      <td>1</td>\n",
       "    </tr>\n",
       "    <tr>\n",
       "      <th>7</th>\n",
       "      <td>1</td>\n",
       "      <td>24</td>\n",
       "      <td>38600</td>\n",
       "      <td>3</td>\n",
       "    </tr>\n",
       "    <tr>\n",
       "      <th>8</th>\n",
       "      <td>1</td>\n",
       "      <td>36</td>\n",
       "      <td>49700</td>\n",
       "      <td>0</td>\n",
       "    </tr>\n",
       "    <tr>\n",
       "      <th>9</th>\n",
       "      <td>1</td>\n",
       "      <td>32</td>\n",
       "      <td>51700</td>\n",
       "      <td>0</td>\n",
       "    </tr>\n",
       "  </tbody>\n",
       "</table>\n",
       "</div>"
      ],
      "text/plain": [
       "   0   1      2  3\n",
       "0  0  40  49600  0\n",
       "1  0  45  38000  0\n",
       "2  0  28  21000  0\n",
       "3  0  20  41700  1\n",
       "4  1  28  26100  0\n",
       "5  1  42  41000  1\n",
       "6  1  38  39700  1\n",
       "7  1  24  38600  3\n",
       "8  1  36  49700  0\n",
       "9  1  32  51700  0"
      ]
     },
     "execution_count": 11,
     "metadata": {},
     "output_type": "execute_result"
    }
   ],
   "source": [
    "features_back= features_cript @ np.linalg.inv(matrix)\n",
    "features_back = features_back.astype(int)\n",
    "features_back.head(10)"
   ]
  },
  {
   "cell_type": "code",
   "execution_count": 12,
   "metadata": {
    "scrolled": true
   },
   "outputs": [
    {
     "data": {
      "text/html": [
       "<div>\n",
       "<style scoped>\n",
       "    .dataframe tbody tr th:only-of-type {\n",
       "        vertical-align: middle;\n",
       "    }\n",
       "\n",
       "    .dataframe tbody tr th {\n",
       "        vertical-align: top;\n",
       "    }\n",
       "\n",
       "    .dataframe thead th {\n",
       "        text-align: right;\n",
       "    }\n",
       "</style>\n",
       "<table border=\"1\" class=\"dataframe\">\n",
       "  <thead>\n",
       "    <tr style=\"text-align: right;\">\n",
       "      <th></th>\n",
       "      <th>Пол</th>\n",
       "      <th>Возраст</th>\n",
       "      <th>Зарплата</th>\n",
       "      <th>Члены семьи</th>\n",
       "    </tr>\n",
       "  </thead>\n",
       "  <tbody>\n",
       "    <tr>\n",
       "      <th>0</th>\n",
       "      <td>1</td>\n",
       "      <td>41</td>\n",
       "      <td>49600</td>\n",
       "      <td>1</td>\n",
       "    </tr>\n",
       "    <tr>\n",
       "      <th>1</th>\n",
       "      <td>0</td>\n",
       "      <td>46</td>\n",
       "      <td>38000</td>\n",
       "      <td>1</td>\n",
       "    </tr>\n",
       "    <tr>\n",
       "      <th>2</th>\n",
       "      <td>0</td>\n",
       "      <td>29</td>\n",
       "      <td>21000</td>\n",
       "      <td>0</td>\n",
       "    </tr>\n",
       "    <tr>\n",
       "      <th>3</th>\n",
       "      <td>0</td>\n",
       "      <td>21</td>\n",
       "      <td>41700</td>\n",
       "      <td>2</td>\n",
       "    </tr>\n",
       "    <tr>\n",
       "      <th>4</th>\n",
       "      <td>1</td>\n",
       "      <td>28</td>\n",
       "      <td>26100</td>\n",
       "      <td>0</td>\n",
       "    </tr>\n",
       "    <tr>\n",
       "      <th>5</th>\n",
       "      <td>1</td>\n",
       "      <td>43</td>\n",
       "      <td>41000</td>\n",
       "      <td>2</td>\n",
       "    </tr>\n",
       "    <tr>\n",
       "      <th>6</th>\n",
       "      <td>1</td>\n",
       "      <td>39</td>\n",
       "      <td>39700</td>\n",
       "      <td>2</td>\n",
       "    </tr>\n",
       "    <tr>\n",
       "      <th>7</th>\n",
       "      <td>1</td>\n",
       "      <td>25</td>\n",
       "      <td>38600</td>\n",
       "      <td>4</td>\n",
       "    </tr>\n",
       "    <tr>\n",
       "      <th>8</th>\n",
       "      <td>1</td>\n",
       "      <td>36</td>\n",
       "      <td>49700</td>\n",
       "      <td>1</td>\n",
       "    </tr>\n",
       "    <tr>\n",
       "      <th>9</th>\n",
       "      <td>1</td>\n",
       "      <td>32</td>\n",
       "      <td>51700</td>\n",
       "      <td>1</td>\n",
       "    </tr>\n",
       "  </tbody>\n",
       "</table>\n",
       "</div>"
      ],
      "text/plain": [
       "   Пол  Возраст  Зарплата  Члены семьи\n",
       "0    1       41     49600            1\n",
       "1    0       46     38000            1\n",
       "2    0       29     21000            0\n",
       "3    0       21     41700            2\n",
       "4    1       28     26100            0\n",
       "5    1       43     41000            2\n",
       "6    1       39     39700            2\n",
       "7    1       25     38600            4\n",
       "8    1       36     49700            1\n",
       "9    1       32     51700            1"
      ]
     },
     "execution_count": 12,
     "metadata": {},
     "output_type": "execute_result"
    }
   ],
   "source": [
    "features.head(10)"
   ]
  },
  {
   "cell_type": "markdown",
   "metadata": {},
   "source": [
    "**Вывод:** Как видно при сравнении таблиц значения после дешефрования возвращаются в читаемый вид, и совпадают с исходными данными. "
   ]
  },
  {
   "cell_type": "markdown",
   "metadata": {},
   "source": [
    "## Заключение"
   ]
  },
  {
   "cell_type": "markdown",
   "metadata": {},
   "source": [
    "В данном проекте был предложен алгоритм защиты личных данных путем умножения признаков на обратимую матрицу, также была изучена возможность проведения операций машинного обучения на зашифрованных данных. При сравнение метрик мы убедились, что на шифрованных данных достигается такая же метрика R2. Данные также легко возвращаются к первоначальному виду умножением на обратную матрицу.\n",
    "Данный метод может быть использован для защиты персональных данных"
   ]
  }
 ],
 "metadata": {
  "ExecuteTimeLog": [
   {
    "duration": 1928,
    "start_time": "2023-07-05T13:51:15.355Z"
   },
   {
    "duration": 94,
    "start_time": "2023-07-05T13:52:15.628Z"
   },
   {
    "duration": 29,
    "start_time": "2023-07-05T13:53:28.266Z"
   },
   {
    "duration": 143,
    "start_time": "2023-07-05T13:53:45.225Z"
   },
   {
    "duration": 5,
    "start_time": "2023-07-05T13:53:49.684Z"
   },
   {
    "duration": 835,
    "start_time": "2023-07-05T13:53:50.082Z"
   },
   {
    "duration": 7,
    "start_time": "2023-07-05T13:54:21.035Z"
   },
   {
    "duration": 957,
    "start_time": "2023-07-05T13:54:21.455Z"
   },
   {
    "duration": 22,
    "start_time": "2023-07-05T14:01:21.328Z"
   },
   {
    "duration": 13,
    "start_time": "2023-07-05T14:01:27.636Z"
   },
   {
    "duration": 20,
    "start_time": "2023-07-05T14:38:23.929Z"
   },
   {
    "duration": 22,
    "start_time": "2023-07-05T14:39:13.924Z"
   },
   {
    "duration": 4,
    "start_time": "2023-07-05T14:43:30.196Z"
   },
   {
    "duration": 12,
    "start_time": "2023-07-05T14:43:41.464Z"
   },
   {
    "duration": 10,
    "start_time": "2023-07-05T14:43:45.635Z"
   },
   {
    "duration": 73,
    "start_time": "2023-07-05T14:44:21.312Z"
   },
   {
    "duration": 20,
    "start_time": "2023-07-05T14:44:24.914Z"
   },
   {
    "duration": 12,
    "start_time": "2023-07-05T14:44:27.330Z"
   },
   {
    "duration": 17,
    "start_time": "2023-07-05T14:44:29.324Z"
   },
   {
    "duration": 12,
    "start_time": "2023-07-05T14:44:31.783Z"
   },
   {
    "duration": 10,
    "start_time": "2023-07-05T14:44:35.124Z"
   },
   {
    "duration": 66,
    "start_time": "2023-07-05T14:44:52.743Z"
   },
   {
    "duration": 90,
    "start_time": "2023-07-05T14:45:01.753Z"
   },
   {
    "duration": 4,
    "start_time": "2023-07-05T14:45:06.695Z"
   },
   {
    "duration": 5,
    "start_time": "2023-07-05T14:45:11.191Z"
   },
   {
    "duration": 6,
    "start_time": "2023-07-05T14:48:06.031Z"
   },
   {
    "duration": 13,
    "start_time": "2023-07-05T14:48:56.183Z"
   },
   {
    "duration": 5,
    "start_time": "2023-07-05T14:48:59.449Z"
   },
   {
    "duration": 34,
    "start_time": "2023-07-05T14:48:59.884Z"
   },
   {
    "duration": 12,
    "start_time": "2023-07-05T14:49:37.652Z"
   },
   {
    "duration": 17,
    "start_time": "2023-07-05T14:50:34.134Z"
   },
   {
    "duration": 13,
    "start_time": "2023-07-05T14:50:38.100Z"
   },
   {
    "duration": 12,
    "start_time": "2023-07-05T14:53:21.919Z"
   },
   {
    "duration": 16,
    "start_time": "2023-07-05T14:53:38.558Z"
   },
   {
    "duration": 14,
    "start_time": "2023-07-05T14:53:40.097Z"
   },
   {
    "duration": 16,
    "start_time": "2023-07-05T14:53:54.220Z"
   },
   {
    "duration": 16,
    "start_time": "2023-07-05T14:54:13.161Z"
   },
   {
    "duration": 5,
    "start_time": "2023-07-05T14:54:14.062Z"
   },
   {
    "duration": 20,
    "start_time": "2023-07-05T14:54:14.495Z"
   },
   {
    "duration": 18,
    "start_time": "2023-07-05T14:54:15.383Z"
   },
   {
    "duration": 12,
    "start_time": "2023-07-05T14:54:33.823Z"
   },
   {
    "duration": 3,
    "start_time": "2023-07-05T14:54:34.463Z"
   },
   {
    "duration": 11,
    "start_time": "2023-07-05T14:54:34.740Z"
   },
   {
    "duration": 14,
    "start_time": "2023-07-05T14:54:35.878Z"
   },
   {
    "duration": 14,
    "start_time": "2023-07-05T14:55:10.323Z"
   },
   {
    "duration": 5,
    "start_time": "2023-07-05T14:55:11.494Z"
   },
   {
    "duration": 13,
    "start_time": "2023-07-05T14:55:12.768Z"
   },
   {
    "duration": 17,
    "start_time": "2023-07-05T14:55:16.444Z"
   },
   {
    "duration": 17,
    "start_time": "2023-07-05T14:56:20.908Z"
   },
   {
    "duration": 7,
    "start_time": "2023-07-05T14:56:21.799Z"
   },
   {
    "duration": 10,
    "start_time": "2023-07-05T14:56:22.235Z"
   },
   {
    "duration": 17,
    "start_time": "2023-07-05T14:56:23.365Z"
   },
   {
    "duration": 5,
    "start_time": "2023-07-05T14:57:02.975Z"
   },
   {
    "duration": 15,
    "start_time": "2023-07-05T14:57:05.333Z"
   },
   {
    "duration": 5,
    "start_time": "2023-07-05T14:57:32.785Z"
   },
   {
    "duration": 9,
    "start_time": "2023-07-05T14:57:33.237Z"
   },
   {
    "duration": 12,
    "start_time": "2023-07-05T14:57:36.655Z"
   },
   {
    "duration": 10,
    "start_time": "2023-07-05T15:01:11.911Z"
   },
   {
    "duration": 6,
    "start_time": "2023-07-05T15:01:12.434Z"
   },
   {
    "duration": 17,
    "start_time": "2023-07-05T15:01:14.318Z"
   },
   {
    "duration": 5,
    "start_time": "2023-07-05T15:01:33.250Z"
   },
   {
    "duration": 11,
    "start_time": "2023-07-05T15:01:38.962Z"
   },
   {
    "duration": 4,
    "start_time": "2023-07-05T15:01:48.720Z"
   },
   {
    "duration": 12,
    "start_time": "2023-07-05T15:01:49.110Z"
   },
   {
    "duration": 10,
    "start_time": "2023-07-05T15:01:53.666Z"
   },
   {
    "duration": 10,
    "start_time": "2023-07-05T15:07:53.639Z"
   },
   {
    "duration": 96,
    "start_time": "2023-07-05T15:08:29.928Z"
   },
   {
    "duration": 4,
    "start_time": "2023-07-05T15:08:50.879Z"
   },
   {
    "duration": 5,
    "start_time": "2023-07-05T15:09:05.737Z"
   },
   {
    "duration": 13,
    "start_time": "2023-07-05T15:09:27.265Z"
   },
   {
    "duration": 8,
    "start_time": "2023-07-05T15:09:28.098Z"
   },
   {
    "duration": 8,
    "start_time": "2023-07-05T15:09:28.621Z"
   },
   {
    "duration": 8,
    "start_time": "2023-07-05T15:09:31.757Z"
   },
   {
    "duration": 5,
    "start_time": "2023-07-05T15:09:34.265Z"
   },
   {
    "duration": 5,
    "start_time": "2023-07-05T15:11:51.058Z"
   },
   {
    "duration": 10,
    "start_time": "2023-07-05T15:11:51.555Z"
   },
   {
    "duration": 5,
    "start_time": "2023-07-05T15:11:52.395Z"
   },
   {
    "duration": 44,
    "start_time": "2023-07-05T15:13:11.693Z"
   },
   {
    "duration": 11,
    "start_time": "2023-07-05T15:13:20.480Z"
   },
   {
    "duration": 13,
    "start_time": "2023-07-05T15:13:30.127Z"
   },
   {
    "duration": 7,
    "start_time": "2023-07-05T15:13:48.977Z"
   },
   {
    "duration": 4,
    "start_time": "2023-07-05T15:14:29.481Z"
   },
   {
    "duration": 7,
    "start_time": "2023-07-05T15:14:29.886Z"
   },
   {
    "duration": 19,
    "start_time": "2023-07-05T15:14:30.399Z"
   },
   {
    "duration": 11,
    "start_time": "2023-07-05T15:14:30.905Z"
   },
   {
    "duration": 23,
    "start_time": "2023-07-05T15:14:32.452Z"
   },
   {
    "duration": 26,
    "start_time": "2023-07-05T15:14:40.899Z"
   },
   {
    "duration": 9,
    "start_time": "2023-07-05T15:15:25.634Z"
   },
   {
    "duration": 10,
    "start_time": "2023-07-05T15:15:39.260Z"
   },
   {
    "duration": 11,
    "start_time": "2023-07-05T15:15:42.868Z"
   },
   {
    "duration": 18,
    "start_time": "2023-07-05T15:17:31.342Z"
   },
   {
    "duration": 11,
    "start_time": "2023-07-05T15:17:35.638Z"
   },
   {
    "duration": 8,
    "start_time": "2023-07-05T15:18:57.771Z"
   },
   {
    "duration": 11,
    "start_time": "2023-07-05T15:20:28.947Z"
   },
   {
    "duration": 12,
    "start_time": "2023-07-05T15:22:34.526Z"
   },
   {
    "duration": 10,
    "start_time": "2023-07-05T15:22:35.166Z"
   },
   {
    "duration": 18,
    "start_time": "2023-07-05T15:22:43.006Z"
   },
   {
    "duration": 8,
    "start_time": "2023-07-05T15:22:43.447Z"
   },
   {
    "duration": 9,
    "start_time": "2023-07-05T15:23:03.423Z"
   },
   {
    "duration": 21,
    "start_time": "2023-07-05T15:23:37.224Z"
   },
   {
    "duration": 20,
    "start_time": "2023-07-05T15:23:44.696Z"
   },
   {
    "duration": 7,
    "start_time": "2023-07-05T15:23:53.436Z"
   },
   {
    "duration": 17,
    "start_time": "2023-07-05T15:23:58.949Z"
   },
   {
    "duration": 20,
    "start_time": "2023-07-05T15:24:16.424Z"
   },
   {
    "duration": 21,
    "start_time": "2023-07-05T15:24:19.271Z"
   },
   {
    "duration": 15,
    "start_time": "2023-07-05T15:24:24.224Z"
   },
   {
    "duration": 19,
    "start_time": "2023-07-05T15:24:51.587Z"
   },
   {
    "duration": 19,
    "start_time": "2023-07-05T15:24:54.398Z"
   },
   {
    "duration": 11,
    "start_time": "2023-07-05T15:25:30.219Z"
   },
   {
    "duration": 10,
    "start_time": "2023-07-05T15:25:58.362Z"
   },
   {
    "duration": 4,
    "start_time": "2023-07-05T15:31:47.980Z"
   },
   {
    "duration": 43,
    "start_time": "2023-07-05T15:31:48.182Z"
   },
   {
    "duration": 5,
    "start_time": "2023-07-05T15:31:48.338Z"
   },
   {
    "duration": 718,
    "start_time": "2023-07-05T15:31:48.524Z"
   },
   {
    "duration": 12,
    "start_time": "2023-07-05T15:31:49.244Z"
   },
   {
    "duration": 13,
    "start_time": "2023-07-05T15:31:50.258Z"
   },
   {
    "duration": 5,
    "start_time": "2023-07-05T15:31:50.590Z"
   },
   {
    "duration": 8,
    "start_time": "2023-07-05T15:31:50.785Z"
   },
   {
    "duration": 16,
    "start_time": "2023-07-05T15:31:51.139Z"
   },
   {
    "duration": 6,
    "start_time": "2023-07-05T15:31:51.799Z"
   },
   {
    "duration": 18,
    "start_time": "2023-07-05T15:31:53.058Z"
   },
   {
    "duration": 36,
    "start_time": "2023-07-05T15:31:53.294Z"
   },
   {
    "duration": 4032,
    "start_time": "2023-07-06T04:34:19.686Z"
   },
   {
    "duration": 92,
    "start_time": "2023-07-06T04:34:23.720Z"
   },
   {
    "duration": 6,
    "start_time": "2023-07-06T04:34:23.822Z"
   },
   {
    "duration": 707,
    "start_time": "2023-07-06T04:34:23.830Z"
   },
   {
    "duration": 10,
    "start_time": "2023-07-06T04:34:24.540Z"
   },
   {
    "duration": 33,
    "start_time": "2023-07-06T04:34:24.552Z"
   },
   {
    "duration": 8,
    "start_time": "2023-07-06T04:34:24.588Z"
   },
   {
    "duration": 40,
    "start_time": "2023-07-06T04:34:24.598Z"
   },
   {
    "duration": 11,
    "start_time": "2023-07-06T04:34:24.640Z"
   },
   {
    "duration": 19,
    "start_time": "2023-07-06T04:34:24.653Z"
   },
   {
    "duration": 40,
    "start_time": "2023-07-06T04:34:24.674Z"
   },
   {
    "duration": 14,
    "start_time": "2023-07-06T04:34:24.717Z"
   },
   {
    "duration": 96,
    "start_time": "2023-07-06T06:28:23.710Z"
   }
  ],
  "kernelspec": {
   "display_name": "Python 3 (ipykernel)",
   "language": "python",
   "name": "python3"
  },
  "language_info": {
   "codemirror_mode": {
    "name": "ipython",
    "version": 3
   },
   "file_extension": ".py",
   "mimetype": "text/x-python",
   "name": "python",
   "nbconvert_exporter": "python",
   "pygments_lexer": "ipython3",
   "version": "3.9.5"
  },
  "toc": {
   "base_numbering": 1,
   "nav_menu": {},
   "number_sections": true,
   "sideBar": true,
   "skip_h1_title": true,
   "title_cell": "Содержание",
   "title_sidebar": "Contents",
   "toc_cell": true,
   "toc_position": {},
   "toc_section_display": true,
   "toc_window_display": false
  }
 },
 "nbformat": 4,
 "nbformat_minor": 2
}
